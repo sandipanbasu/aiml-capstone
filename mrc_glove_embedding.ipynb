{
  "nbformat": 4,
  "nbformat_minor": 0,
  "metadata": {
    "colab": {
      "name": "mrc_glove_embedding.ipynb",
      "provenance": [],
      "collapsed_sections": [],
      "toc_visible": true,
      "include_colab_link": true
    },
    "kernelspec": {
      "name": "python3",
      "display_name": "Python 3"
    },
    "accelerator": "GPU"
  },
  "cells": [
    {
      "cell_type": "markdown",
      "metadata": {
        "id": "view-in-github",
        "colab_type": "text"
      },
      "source": [
        "<a href=\"https://colab.research.google.com/github/sandipanbasu/aiml-capstone/blob/master/mrc_glove_embedding.ipynb\" target=\"_parent\"><img src=\"https://colab.research.google.com/assets/colab-badge.svg\" alt=\"Open In Colab\"/></a>"
      ]
    },
    {
      "cell_type": "markdown",
      "metadata": {
        "id": "879mz4G6-lRH",
        "colab_type": "text"
      },
      "source": [
        "## 1. Import Libraries, setting Google Drive"
      ]
    },
    {
      "cell_type": "code",
      "metadata": {
        "id": "DA8sHlEbfYnn",
        "colab_type": "code",
        "outputId": "2b26d87f-4f8e-4ec1-aa41-abe5c811bc2a",
        "colab": {
          "base_uri": "https://localhost:8080/",
          "height": 124
        }
      },
      "source": [
        "from google.colab import drive\n",
        "drive.mount('/content/drive')"
      ],
      "execution_count": 1,
      "outputs": [
        {
          "output_type": "stream",
          "text": [
            "Go to this URL in a browser: https://accounts.google.com/o/oauth2/auth?client_id=947318989803-6bn6qk8qdgf4n4g3pfee6491hc0brc4i.apps.googleusercontent.com&redirect_uri=urn%3aietf%3awg%3aoauth%3a2.0%3aoob&response_type=code&scope=email%20https%3a%2f%2fwww.googleapis.com%2fauth%2fdocs.test%20https%3a%2f%2fwww.googleapis.com%2fauth%2fdrive%20https%3a%2f%2fwww.googleapis.com%2fauth%2fdrive.photos.readonly%20https%3a%2f%2fwww.googleapis.com%2fauth%2fpeopleapi.readonly\n",
            "\n",
            "Enter your authorization code:\n",
            "··········\n",
            "Mounted at /content/drive\n"
          ],
          "name": "stdout"
        }
      ]
    },
    {
      "cell_type": "code",
      "metadata": {
        "id": "u_po1L9T-V5d",
        "colab_type": "code",
        "outputId": "90b2b0d7-f1bf-4b8d-a227-da52b73a23d9",
        "colab": {
          "base_uri": "https://localhost:8080/",
          "height": 34
        }
      },
      "source": [
        "import tensorflow as tf\n",
        "tf.__version__"
      ],
      "execution_count": 2,
      "outputs": [
        {
          "output_type": "execute_result",
          "data": {
            "text/plain": [
              "'2.2.0'"
            ]
          },
          "metadata": {
            "tags": []
          },
          "execution_count": 2
        }
      ]
    },
    {
      "cell_type": "code",
      "metadata": {
        "id": "yTDFtsEtV7dY",
        "colab_type": "code",
        "outputId": "6bd76293-f839-4b2a-ceea-c77444eb68a1",
        "colab": {
          "base_uri": "https://localhost:8080/",
          "height": 138
        }
      },
      "source": [
        "import warnings\n",
        "import pickle\n",
        "\n",
        "import numpy as np\n",
        "import pandas as pd\n",
        "import json\n",
        "\n",
        "import pprint\n",
        "\n",
        "from numpy import array\n",
        "import nltk\n",
        "import re\n",
        "from nltk.tokenize import RegexpTokenizer\n",
        "from nltk.stem import WordNetLemmatizer,PorterStemmer\n",
        "from nltk.corpus import stopwords\n",
        "from nltk.tokenize import word_tokenize \n",
        "nltk.download('stopwords')\n",
        "nltk.download('punkt')\n",
        "nltk.download('wordnet')"
      ],
      "execution_count": 3,
      "outputs": [
        {
          "output_type": "stream",
          "text": [
            "[nltk_data] Downloading package stopwords to /root/nltk_data...\n",
            "[nltk_data]   Unzipping corpora/stopwords.zip.\n",
            "[nltk_data] Downloading package punkt to /root/nltk_data...\n",
            "[nltk_data]   Unzipping tokenizers/punkt.zip.\n",
            "[nltk_data] Downloading package wordnet to /root/nltk_data...\n",
            "[nltk_data]   Unzipping corpora/wordnet.zip.\n"
          ],
          "name": "stdout"
        },
        {
          "output_type": "execute_result",
          "data": {
            "text/plain": [
              "True"
            ]
          },
          "metadata": {
            "tags": []
          },
          "execution_count": 3
        }
      ]
    },
    {
      "cell_type": "code",
      "metadata": {
        "id": "uPD8_fgd8PhR",
        "colab_type": "code",
        "colab": {}
      },
      "source": [
        "# we will store the params as we go along in this object\n",
        "params = {}\n",
        "project_path = \"/content/drive/My Drive/AIML-MRC-Capstone/datasets/Squad2.0/TrainingDataset/\"\n",
        "model_path = \"/content/drive/My Drive/AIML-MRC-Capstone/models/\"\n",
        "tensorboard_logpath  = \"/content/drive/My Drive/AIML-MRC-Capstone/models/tensorboard-logs/\"\n",
        "token_file = \"tokenizer.pkl\""
      ],
      "execution_count": 0,
      "outputs": []
    },
    {
      "cell_type": "markdown",
      "metadata": {
        "id": "Y6dcPCGiJrz1",
        "colab_type": "text"
      },
      "source": [
        "### 2.3 Load Tokenizer"
      ]
    },
    {
      "cell_type": "code",
      "metadata": {
        "id": "0Y_15g9LXoi9",
        "colab_type": "code",
        "colab": {
          "base_uri": "https://localhost:8080/",
          "height": 34
        },
        "outputId": "4b1e5c25-660e-498c-cd2b-c9a8f72a0f87"
      },
      "source": [
        "tfile = model_path + token_file\n",
        "print(tfile)"
      ],
      "execution_count": 5,
      "outputs": [
        {
          "output_type": "stream",
          "text": [
            "/content/drive/My Drive/AIML-MRC-Capstone/models/tokenizer.pkl\n"
          ],
          "name": "stdout"
        }
      ]
    },
    {
      "cell_type": "code",
      "metadata": {
        "id": "qswj4L9KXGz4",
        "colab_type": "code",
        "colab": {}
      },
      "source": [
        "with open(tfile,\"rb\") as infile:\n",
        "    tknizer = pickle.load(infile)\n",
        "\n"
      ],
      "execution_count": 0,
      "outputs": []
    },
    {
      "cell_type": "code",
      "metadata": {
        "id": "QU-bolTIYLkL",
        "colab_type": "code",
        "colab": {
          "base_uri": "https://localhost:8080/",
          "height": 34
        },
        "outputId": "ee71d90d-8c25-41c5-927f-9d75b624dce9"
      },
      "source": [
        "tknizer.word_index['how']"
      ],
      "execution_count": 7,
      "outputs": [
        {
          "output_type": "execute_result",
          "data": {
            "text/plain": [
              "39"
            ]
          },
          "metadata": {
            "tags": []
          },
          "execution_count": 7
        }
      ]
    },
    {
      "cell_type": "code",
      "metadata": {
        "id": "JUMY-xEOjyuu",
        "colab_type": "code",
        "colab": {}
      },
      "source": [
        "# total tokenizer words\n",
        "params['vocab_size'] = len(tknizer.word_index)"
      ],
      "execution_count": 0,
      "outputs": []
    },
    {
      "cell_type": "markdown",
      "metadata": {
        "id": "E11YzPIGR16t",
        "colab_type": "text"
      },
      "source": [
        "### Download Glove Model"
      ]
    },
    {
      "cell_type": "code",
      "metadata": {
        "id": "hqUITyYRSGRg",
        "colab_type": "code",
        "colab": {
          "base_uri": "https://localhost:8080/",
          "height": 364
        },
        "outputId": "043efdc0-512a-48fd-814e-f6b68d56e73a"
      },
      "source": [
        "!wget http://nlp.stanford.edu/data/glove.42B.300d.zip"
      ],
      "execution_count": 9,
      "outputs": [
        {
          "output_type": "stream",
          "text": [
            "--2020-06-10 08:05:41--  http://nlp.stanford.edu/data/glove.42B.300d.zip\n",
            "Resolving nlp.stanford.edu (nlp.stanford.edu)... 171.64.67.140\n",
            "Connecting to nlp.stanford.edu (nlp.stanford.edu)|171.64.67.140|:80... connected.\n",
            "HTTP request sent, awaiting response... 302 Found\n",
            "Location: https://nlp.stanford.edu/data/glove.42B.300d.zip [following]\n",
            "--2020-06-10 08:05:41--  https://nlp.stanford.edu/data/glove.42B.300d.zip\n",
            "Connecting to nlp.stanford.edu (nlp.stanford.edu)|171.64.67.140|:443... connected.\n",
            "HTTP request sent, awaiting response... 301 Moved Permanently\n",
            "Location: http://downloads.cs.stanford.edu/nlp/data/glove.42B.300d.zip [following]\n",
            "--2020-06-10 08:05:41--  http://downloads.cs.stanford.edu/nlp/data/glove.42B.300d.zip\n",
            "Resolving downloads.cs.stanford.edu (downloads.cs.stanford.edu)... 171.64.64.22\n",
            "Connecting to downloads.cs.stanford.edu (downloads.cs.stanford.edu)|171.64.64.22|:80... connected.\n",
            "HTTP request sent, awaiting response... 200 OK\n",
            "Length: 1877800501 (1.7G) [application/zip]\n",
            "Saving to: ‘glove.42B.300d.zip’\n",
            "\n",
            "glove.42B.300d.zip  100%[===================>]   1.75G  2.03MB/s    in 14m 33s \n",
            "\n",
            "2020-06-10 08:20:15 (2.05 MB/s) - ‘glove.42B.300d.zip’ saved [1877800501/1877800501]\n",
            "\n"
          ],
          "name": "stdout"
        }
      ]
    },
    {
      "cell_type": "code",
      "metadata": {
        "id": "asgeDr3AUROG",
        "colab_type": "code",
        "colab": {
          "base_uri": "https://localhost:8080/",
          "height": 86
        },
        "outputId": "b93399ba-9730-4f6a-9748-2e4d6b55c8bc"
      },
      "source": [
        "#Check if embeddings have been downloaded\n",
        "!ls -l"
      ],
      "execution_count": 10,
      "outputs": [
        {
          "output_type": "stream",
          "text": [
            "total 1833804\n",
            "drwx------ 4 root root       4096 Jun 10 08:03 drive\n",
            "-rw-r--r-- 1 root root 1877800501 Oct 25  2015 glove.42B.300d.zip\n",
            "drwxr-xr-x 1 root root       4096 May 29 18:19 sample_data\n"
          ],
          "name": "stdout"
        }
      ]
    },
    {
      "cell_type": "code",
      "metadata": {
        "id": "hdmg66HjcnTr",
        "colab_type": "code",
        "colab": {
          "base_uri": "https://localhost:8080/",
          "height": 52
        },
        "outputId": "78c2bd02-85a2-4394-e044-4caf65f71ab0"
      },
      "source": [
        "#unzip the file, we get multiple embedding files. We can use either one of them\n",
        "!unzip glove.42B.300d.zip"
      ],
      "execution_count": 11,
      "outputs": [
        {
          "output_type": "stream",
          "text": [
            "Archive:  glove.42B.300d.zip\n",
            "  inflating: glove.42B.300d.txt      \n"
          ],
          "name": "stdout"
        }
      ]
    },
    {
      "cell_type": "code",
      "metadata": {
        "id": "kRfeFP5QdVrx",
        "colab_type": "code",
        "colab": {
          "base_uri": "https://localhost:8080/",
          "height": 104
        },
        "outputId": "0a672f39-4722-421b-f4a1-5e002f464e36"
      },
      "source": [
        "!ls -l"
      ],
      "execution_count": 12,
      "outputs": [
        {
          "output_type": "stream",
          "text": [
            "total 6741064\n",
            "drwx------ 4 root root       4096 Jun 10 08:03 drive\n",
            "-rw-rw-r-- 1 root root 5025028820 Oct 24  2015 glove.42B.300d.txt\n",
            "-rw-r--r-- 1 root root 1877800501 Oct 25  2015 glove.42B.300d.zip\n",
            "drwxr-xr-x 1 root root       4096 May 29 18:19 sample_data\n"
          ],
          "name": "stdout"
        }
      ]
    },
    {
      "cell_type": "markdown",
      "metadata": {
        "id": "nsYO97xwdgdk",
        "colab_type": "text"
      },
      "source": [
        "### Saving Embedding Matrix"
      ]
    },
    {
      "cell_type": "code",
      "metadata": {
        "id": "Lb7cUNJpVQqs",
        "colab_type": "code",
        "colab": {}
      },
      "source": [
        "#Install Gensim\n",
        "!pip install gensim --quiet"
      ],
      "execution_count": 0,
      "outputs": []
    },
    {
      "cell_type": "code",
      "metadata": {
        "id": "-_BOcobBeGHi",
        "colab_type": "code",
        "colab": {}
      },
      "source": [
        "import csv\n",
        "glovewords = pd.read_csv(\"/content/glove.42B.300d.txt\", sep=\" \", index_col=0, header=None, quoting=csv.QUOTE_NONE)"
      ],
      "execution_count": 0,
      "outputs": []
    },
    {
      "cell_type": "code",
      "metadata": {
        "id": "kM17Ib-CghRY",
        "colab_type": "code",
        "colab": {
          "base_uri": "https://localhost:8080/",
          "height": 1000
        },
        "outputId": "91f1cf1a-824c-4d56-c3d0-1cc9b460131f"
      },
      "source": [
        "glovewords.loc['using'].values"
      ],
      "execution_count": 15,
      "outputs": [
        {
          "output_type": "execute_result",
          "data": {
            "text/plain": [
              "array([-4.8024e-01, -3.1791e-01, -1.3066e-01, -3.7725e-01,  1.4999e-01,\n",
              "       -8.3056e-02, -3.9617e+00,  1.0422e+00,  1.6753e-01, -4.4412e-01,\n",
              "        2.5729e-01, -6.9419e-02, -1.6633e-01, -1.6982e-01,  2.5493e-01,\n",
              "       -2.2274e-01, -5.2021e-01,  2.5322e-02,  3.6309e-02, -1.0757e-01,\n",
              "        2.9680e-02, -2.1614e-01,  2.0985e-01, -1.3535e-01,  4.6872e-01,\n",
              "       -6.1247e-01,  1.0688e-01, -5.1693e-01, -6.1304e-01, -4.8695e-01,\n",
              "        6.4884e-02, -3.7728e-01, -2.7324e-01, -1.5761e-01,  2.3469e-01,\n",
              "       -3.4595e-01, -7.5058e-02,  2.0815e-02,  1.1814e-01,  8.6750e-02,\n",
              "       -5.2511e-02, -3.5294e-01, -2.4328e-02, -1.7673e-01,  1.7192e-01,\n",
              "        2.4108e-01,  2.1050e-01, -2.4947e-01,  4.1514e-01,  5.9159e-02,\n",
              "        3.4335e-01, -6.9559e-01, -1.5854e-02, -5.2379e-01,  1.7853e-01,\n",
              "        4.5934e-01, -3.1204e-01,  4.3102e-01, -1.0625e-01, -4.7017e-02,\n",
              "       -9.7047e-02,  2.7452e-01, -4.8079e-01,  8.0425e-02, -5.2430e-02,\n",
              "       -1.0408e-01, -3.6195e-01,  1.2116e-02,  7.8531e-02, -4.1309e-02,\n",
              "        4.2927e-01, -2.5468e-01,  1.3141e-01,  1.3795e-02, -3.8101e-01,\n",
              "        3.4016e-01,  3.4239e-01,  5.3799e-01,  9.6182e-02,  4.5918e-02,\n",
              "       -1.1178e-01, -2.6672e-01,  1.1684e-01, -2.3030e-01, -2.0064e-02,\n",
              "        3.4305e-01, -3.0759e-01,  7.5950e-02, -2.3852e-01,  2.1213e-01,\n",
              "        9.6863e-02, -4.4724e-01, -8.2950e-02, -4.0479e-01, -4.4582e-02,\n",
              "       -7.5340e-01, -2.4331e+00,  2.9770e-01, -8.9566e-02,  6.2276e-02,\n",
              "        9.5403e-02, -4.4679e-03,  5.3659e-01,  7.1111e-02,  1.5978e-01,\n",
              "       -2.0980e-01,  7.2029e-02,  4.4160e-01, -8.7440e-02, -6.1779e-03,\n",
              "       -1.3649e-01,  5.0491e-01,  2.3849e-01,  5.6380e-01, -3.6543e-01,\n",
              "       -1.9417e-02,  6.6269e-01, -1.1032e-01,  9.6363e-03, -1.4877e-01,\n",
              "       -5.7243e-03,  3.5992e-02,  1.5478e-01, -1.0383e-03,  3.0884e-01,\n",
              "       -4.4657e-01, -1.7983e-01, -1.3095e-01,  2.2931e-01,  3.8369e-01,\n",
              "        1.1415e-02,  3.6189e-01, -3.0328e-01, -4.6972e-01,  1.0562e-01,\n",
              "        3.5061e-01,  3.8391e-01, -4.3894e-02,  1.4981e-01,  2.9265e-01,\n",
              "        1.3962e-01,  4.0006e-01, -2.2801e-01,  2.4442e-01,  7.9918e-02,\n",
              "        9.0288e-02,  8.6327e-01, -5.0268e-02,  4.3327e-01,  4.1300e-01,\n",
              "        2.0153e-01, -7.3387e-02,  1.0824e-01, -2.3708e-01,  2.4068e-01,\n",
              "       -1.7929e-01,  3.3878e-01,  2.4627e-01, -1.8838e-01, -3.7111e-01,\n",
              "        6.0170e-02, -2.6354e-01,  5.1539e-01,  2.5698e-01, -3.7726e-01,\n",
              "       -1.5376e-01, -2.5227e-01,  1.8975e-01, -7.3095e-02, -2.9573e-01,\n",
              "       -1.7053e-01, -4.1685e-01,  2.5166e-01, -3.9454e-02,  4.0945e-02,\n",
              "       -2.8396e-02, -2.9973e-01,  6.9034e-02, -3.6033e-02,  1.7264e-01,\n",
              "        4.0881e-02,  5.2022e-01, -3.2082e-01,  1.4500e-01,  2.4079e-01,\n",
              "       -2.1223e-01,  2.2382e-01,  3.8337e-01,  2.6316e-01,  1.6311e-01,\n",
              "        3.2426e-02,  3.1037e-01, -1.8456e-02, -9.0893e-02, -2.0762e-01,\n",
              "       -5.0711e-01,  3.5694e-01,  3.3583e-02,  3.9479e-01,  4.4366e-02,\n",
              "        2.4619e-01, -4.5563e-02, -1.9814e-01,  5.9500e-02,  2.8711e-01,\n",
              "       -1.1712e-01, -1.8198e-01, -6.0856e-01,  2.8902e-01, -6.9345e-01,\n",
              "        1.3749e-01,  1.7231e-01,  1.2122e-01,  2.5611e-02,  1.1543e-01,\n",
              "        2.9642e-02, -2.6326e-01, -4.5310e-01, -1.1716e-01, -4.0173e-01,\n",
              "        1.0346e-01, -3.2399e-02, -2.1074e-02,  1.6360e-01, -2.2126e+00,\n",
              "       -5.6870e-03,  3.1262e-01, -1.9492e-01,  1.5205e-01,  2.9377e-01,\n",
              "        1.2776e-01, -2.1237e-01,  5.7620e-01, -1.9188e-01,  1.6588e-01,\n",
              "       -5.4803e-01,  1.2958e-01,  1.3831e-01, -3.3291e-01, -1.3294e-01,\n",
              "       -1.1188e-01,  8.9574e-02,  7.4580e-02, -6.7542e-01,  2.2090e-02,\n",
              "       -7.4843e-02, -3.5534e-01, -1.5652e-01, -3.7113e-01,  3.0714e-02,\n",
              "       -9.7426e-02,  7.3872e-02, -5.7888e-02, -1.4994e-01,  4.2970e-01,\n",
              "       -2.0827e-01, -8.8710e-02, -1.1820e-01,  1.4966e-01, -3.2836e-01,\n",
              "        2.9511e-01,  2.9202e-01,  4.2441e-01,  1.8067e-01,  3.4157e-01,\n",
              "       -6.8867e-01, -3.5796e-01,  2.3708e-01,  3.2942e-01, -1.2053e-01,\n",
              "        2.0009e-01,  3.1799e-01,  1.2313e-01,  1.0635e-01,  3.3181e-02,\n",
              "       -1.0240e-01,  3.9953e-01,  4.7050e-01, -2.3995e-01,  1.4323e-01,\n",
              "        2.0020e-01, -3.7897e-01, -2.0215e-01,  1.1907e-01,  2.3722e-01,\n",
              "       -2.7435e-01,  1.7452e-01, -9.8967e-02, -5.7368e-02,  8.7522e-02,\n",
              "       -1.5602e-01, -6.2476e-02, -4.4189e-01, -2.3374e-01, -6.5030e-01,\n",
              "       -1.2359e-01, -4.0724e-01,  5.4188e-02,  5.4762e-01,  4.6059e-01])"
            ]
          },
          "metadata": {
            "tags": []
          },
          "execution_count": 15
        }
      ]
    },
    {
      "cell_type": "code",
      "metadata": {
        "id": "HKFqs49lVEAf",
        "colab_type": "code",
        "colab": {}
      },
      "source": [
        ""
      ],
      "execution_count": 0,
      "outputs": []
    },
    {
      "cell_type": "code",
      "metadata": {
        "id": "kxYIV9OGd4ii",
        "colab_type": "code",
        "colab": {
          "base_uri": "https://localhost:8080/",
          "height": 34
        },
        "outputId": "47c6e395-32a2-4367-cac9-4378cdbb5bba"
      },
      "source": [
        "# +1 for zero embedding\n",
        "#glovewords.loc['using'].values\n",
        "\n",
        "GLOVE = 300\n",
        "word_array = glovewords.index.values\n",
        "\n",
        "embedding_matrix = np.zeros((params['vocab_size'] + 1,GLOVE))\n",
        "\n",
        "print(\"Embedding matrix shape is \",embedding_matrix.shape)\n",
        "len(embedding_matrix)\n",
        "\n",
        "for word, i in tknizer.word_index.items():\n",
        "    if i > (params['vocab_size'] + 1):\n",
        "        break\n",
        "    if word in word_array:\n",
        "        embedding_matrix[i] = glovewords.loc[word].values\n",
        "        \n",
        "print(\"Saving the embedding matrix for future use...\")\n",
        "\n",
        "with open(model_path + \"glove300dembedmatrix.pkl\",\"wb\") as f:\n",
        "    pickle.dump(embedding_matrix,f)\n",
        "\n",
        "\n",
        "    "
      ],
      "execution_count": 0,
      "outputs": [
        {
          "output_type": "stream",
          "text": [
            "Embedding matrix shape is  (100851, 300)\n"
          ],
          "name": "stdout"
        }
      ]
    },
    {
      "cell_type": "markdown",
      "metadata": {
        "id": "vlR2BYOT66Lk",
        "colab_type": "text"
      },
      "source": [
        "# **<font color=\"GREEN\">END OF THE NOTEBOOK </font>**"
      ]
    },
    {
      "cell_type": "code",
      "metadata": {
        "id": "6u50QkJn6-om",
        "colab_type": "code",
        "colab": {}
      },
      "source": [
        ""
      ],
      "execution_count": 0,
      "outputs": []
    }
  ]
}
