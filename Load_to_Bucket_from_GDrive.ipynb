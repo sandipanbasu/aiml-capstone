{
  "nbformat": 4,
  "nbformat_minor": 0,
  "metadata": {
    "colab": {
      "name": "Load to Bucket from GDrive.ipynb",
      "provenance": [],
      "authorship_tag": "ABX9TyMmyuxA9oFPxlbToSlnNjAb",
      "include_colab_link": true
    },
    "kernelspec": {
      "name": "python3",
      "display_name": "Python 3"
    }
  },
  "cells": [
    {
      "cell_type": "markdown",
      "metadata": {
        "id": "view-in-github",
        "colab_type": "text"
      },
      "source": [
        "<a href=\"https://colab.research.google.com/github/sandipanbasu/aiml-capstone/blob/master/Load_to_Bucket_from_GDrive.ipynb\" target=\"_parent\"><img src=\"https://colab.research.google.com/assets/colab-badge.svg\" alt=\"Open In Colab\"/></a>"
      ]
    },
    {
      "cell_type": "code",
      "metadata": {
        "id": "uScqfxUFSpJ8",
        "colab_type": "code",
        "colab": {
          "base_uri": "https://localhost:8080/",
          "height": 122
        },
        "outputId": "08b7cdcc-1507-4334-d066-08245960ce0b"
      },
      "source": [
        "from google.colab import drive\n",
        "drive.mount('/content/drive')"
      ],
      "execution_count": 1,
      "outputs": [
        {
          "output_type": "stream",
          "text": [
            "Go to this URL in a browser: https://accounts.google.com/o/oauth2/auth?client_id=947318989803-6bn6qk8qdgf4n4g3pfee6491hc0brc4i.apps.googleusercontent.com&redirect_uri=urn%3aietf%3awg%3aoauth%3a2.0%3aoob&response_type=code&scope=email%20https%3a%2f%2fwww.googleapis.com%2fauth%2fdocs.test%20https%3a%2f%2fwww.googleapis.com%2fauth%2fdrive%20https%3a%2f%2fwww.googleapis.com%2fauth%2fdrive.photos.readonly%20https%3a%2f%2fwww.googleapis.com%2fauth%2fpeopleapi.readonly\n",
            "\n",
            "Enter your authorization code:\n",
            "··········\n",
            "Mounted at /content/drive\n"
          ],
          "name": "stdout"
        }
      ]
    },
    {
      "cell_type": "code",
      "metadata": {
        "id": "E7N5BPYgSvql",
        "colab_type": "code",
        "colab": {}
      },
      "source": [
        "# we will store the params as we go along in this object\n",
        "project_path = \"/content/drive/My Drive/AIML-MRC-Capstone/datasets/Squad2.0/TrainingDataset/\"\n",
        "model_path = \"/content/drive/My\\ Drive/AIML-MRC-Capstone/models/\""
      ],
      "execution_count": 7,
      "outputs": []
    },
    {
      "cell_type": "code",
      "metadata": {
        "id": "aDXZEvMZS6cp",
        "colab_type": "code",
        "colab": {
          "base_uri": "https://localhost:8080/",
          "height": 51
        },
        "outputId": "14e0ee00-7f79-48d2-bcf2-580ea358c06a"
      },
      "source": [
        "from google.colab import auth\n",
        "auth.authenticate_user()\n",
        "\n",
        "project_id = 'ai-ml-capstone'\n",
        "!gcloud config set project {project_id}\n",
        "!gsutil ls\n"
      ],
      "execution_count": 5,
      "outputs": [
        {
          "output_type": "stream",
          "text": [
            "Updated property [core/project].\n",
            "gs://aiml-capstone/\n"
          ],
          "name": "stdout"
        }
      ]
    },
    {
      "cell_type": "code",
      "metadata": {
        "id": "9qUPzG0QTH8V",
        "colab_type": "code",
        "colab": {
          "base_uri": "https://localhost:8080/",
          "height": 797
        },
        "outputId": "7413fc91-11ba-4845-a6fa-3cc7c1e2e9c8"
      },
      "source": [
        "bucket_name = 'aiml-capstone'\n",
        "\n",
        "!gsutil -m cp -r {model_path}/* gs://{bucket_name}/"
      ],
      "execution_count": null,
      "outputs": [
        {
          "output_type": "stream",
          "text": [
            "Copying file:///content/drive/My Drive/AIML-MRC-Capstone/models//bilstm/context_withoutstopwords_model_epoch_10_bilstm_cpu.h5 [Content-Type=application/octet-stream]...\n",
            "/ [0 files][    0.0 B/240.1 MiB]                                                \r==> NOTE: You are uploading one or more large file(s), which would run\n",
            "significantly faster if you enable parallel composite uploads. This\n",
            "feature can be enabled by editing the\n",
            "\"parallel_composite_upload_threshold\" value in your .boto\n",
            "configuration file. However, note that if you do this large files will\n",
            "be uploaded as `composite objects\n",
            "<https://cloud.google.com/storage/docs/composite-objects>`_,which\n",
            "means that any user who downloads such objects will need to have a\n",
            "compiled crcmod installed (see \"gsutil help crcmod\"). This is because\n",
            "without a compiled crcmod, computing checksums on composite objects is\n",
            "so slow that gsutil disables downloads of composite objects.\n",
            "\n",
            "Copying file:///content/drive/My Drive/AIML-MRC-Capstone/models//bilstm/full_context_withoutstopwords_model_epoch_10_bilstm_cpu.h5 [Content-Type=application/octet-stream]...\n",
            "Copying file:///content/drive/My Drive/AIML-MRC-Capstone/models//bilstm-q2c-attention-glove/params.json [Content-Type=application/json]...\n",
            "/ [0 files][    0.0 B/498.6 MiB]                                                \r/ [0 files][    0.0 B/498.6 MiB]                                                \rCopying file:///content/drive/My Drive/AIML-MRC-Capstone/models//bilstm-q2c-attention-glove/context_withoutstopwords_nomask_epoch_25_bilstm_q2c-attention_glove_gpu.h5 [Content-Type=application/octet-stream]...\n",
            "/ [0 files][    0.0 B/742.2 MiB]                                                \rCopying file:///content/drive/My Drive/AIML-MRC-Capstone/models//bilstm/results.csv [Content-Type=text/csv]...\n",
            "Copying file:///content/drive/My Drive/AIML-MRC-Capstone/models//bilstm-q2c-attention-glove/full_context_withoutstopwords_nomask_epoch_25_bilstm_q2c-attention_glove_gpu.h5 [Content-Type=application/octet-stream]...\n",
            "Copying file:///content/drive/My Drive/AIML-MRC-Capstone/models//bilstm-q2c-attention-glove/tf-serve/saved_model.pb [Content-Type=application/octet-stream]...\n",
            "Copying file:///content/drive/My Drive/AIML-MRC-Capstone/models//bilstm-q2c-attention-glove/tf-serve/variables/variables.data-00001-of-00002 [Content-Type=application/octet-stream]...\n",
            "Copying file:///content/drive/My Drive/AIML-MRC-Capstone/models//bilstm-q2c-attention-glove/tf-serve/variables/variables.data-00000-of-00002 [Content-Type=application/octet-stream]...\n",
            "Copying file:///content/drive/My Drive/AIML-MRC-Capstone/models//bilstm-q2c-attention-glove/tf-serve/variables/variables.index [Content-Type=application/octet-stream]...\n",
            "Copying file:///content/drive/My Drive/AIML-MRC-Capstone/models//deeplstm/params (1).json [Content-Type=application/json]...\n",
            "Copying file:///content/drive/My Drive/AIML-MRC-Capstone/models//deeplstm/deeplstm_results.csv [Content-Type=text/csv]...\n",
            "Copying file:///content/drive/My Drive/AIML-MRC-Capstone/models//deeplstm/params.json [Content-Type=application/json]...\n",
            "Copying file:///content/drive/My Drive/AIML-MRC-Capstone/models//deeplstm/context_withoutstopwords_model_epoch_24_deeplstm_gpu.h5 [Content-Type=application/octet-stream]...\n",
            "Copying file:///content/drive/My Drive/AIML-MRC-Capstone/models//deeplstm/full_context_withoutstopwords_model_epoch_deeplstm_gpu.h5 [Content-Type=application/octet-stream]...\n",
            "Copying file:///content/drive/My Drive/AIML-MRC-Capstone/models//glove300dembedmatrix.pkl [Content-Type=application/octet-stream]...\n",
            "Copying file:///content/drive/My Drive/AIML-MRC-Capstone/models//lstmbaseline-0/whole_model_epoch_24.h5 [Content-Type=application/octet-stream]...\n",
            "Copying file:///content/drive/My Drive/AIML-MRC-Capstone/models//lstmbaseline-0/context_withoutstopwords_model_epoch_24.h5 [Content-Type=application/octet-stream]...\n",
            "Copying file:///content/drive/My Drive/AIML-MRC-Capstone/models//lstmbaseline-0/tokenizer.pkl [Content-Type=application/octet-stream]...\n",
            "Copying file:///content/drive/My Drive/AIML-MRC-Capstone/models//lstmbaseline-0/results.csv [Content-Type=text/csv]...\n",
            "Copying file:///content/drive/My Drive/AIML-MRC-Capstone/models//lstmbaseline-0/params.json [Content-Type=application/json]...\n",
            "Copying file:///content/drive/My Drive/AIML-MRC-Capstone/models//lstmbaseline-0/full_context_withoutstopwords_model_epoch.h5 [Content-Type=application/octet-stream]...\n",
            "Copying file:///content/drive/My Drive/AIML-MRC-Capstone/models//lstmbaseline-0/NN Network.png [Content-Type=image/png]...\n",
            "Copying file:///content/drive/My Drive/AIML-MRC-Capstone/models//params.json [Content-Type=application/json]...\n",
            "Copying file:///content/drive/My Drive/AIML-MRC-Capstone/models//svm/svm_tokenizer.pkl [Content-Type=application/octet-stream]...\n",
            "Copying file:///content/drive/My Drive/AIML-MRC-Capstone/models//svm/svm_xvectorizer.pkl [Content-Type=application/octet-stream]...\n",
            "Copying file:///content/drive/My Drive/AIML-MRC-Capstone/models//svm/svm_ylblencoder.pkl [Content-Type=application/octet-stream]...\n",
            "Copying file:///content/drive/My Drive/AIML-MRC-Capstone/models//svm/svm_context2question.pkl [Content-Type=application/octet-stream]...\n",
            "Copying file:///content/drive/My Drive/AIML-MRC-Capstone/models//svm/svm_question2answer.pkl [Content-Type=application/octet-stream]...\n",
            "Copying file:///content/drive/My Drive/AIML-MRC-Capstone/models//tokenizer.pkl [Content-Type=application/octet-stream]...\n",
            "Copying file:///content/drive/My Drive/AIML-MRC-Capstone/models//universalembedmatrix.pkl [Content-Type=application/octet-stream]...\n"
          ],
          "name": "stdout"
        }
      ]
    },
    {
      "cell_type": "code",
      "metadata": {
        "id": "HsNs_P1wTi8P",
        "colab_type": "code",
        "colab": {}
      },
      "source": [
        ""
      ],
      "execution_count": null,
      "outputs": []
    }
  ]
}