{
  "nbformat": 4,
  "nbformat_minor": 0,
  "metadata": {
    "colab": {
      "name": "sqdtrn.ipynb",
      "provenance": [],
      "collapsed_sections": [],
      "include_colab_link": true
    },
    "kernelspec": {
      "name": "python3",
      "display_name": "Python 3"
    },
    "accelerator": "TPU"
  },
  "cells": [
    {
      "cell_type": "markdown",
      "metadata": {
        "id": "view-in-github",
        "colab_type": "text"
      },
      "source": [
        "<a href=\"https://colab.research.google.com/github/sandipanbasu/aiml-capstone/blob/master/mrc-data-with-squad.ipynb\" target=\"_parent\"><img src=\"https://colab.research.google.com/assets/colab-badge.svg\" alt=\"Open In Colab\"/></a>"
      ]
    },
    {
      "cell_type": "code",
      "metadata": {
        "id": "_dK1FVGsSFOh",
        "colab_type": "code",
        "colab": {}
      },
      "source": [
        "!pip install -U tensorflow==2.0"
      ],
      "execution_count": 0,
      "outputs": []
    },
    {
      "cell_type": "code",
      "metadata": {
        "id": "_FI76OLVnxxP",
        "colab_type": "code",
        "colab": {}
      },
      "source": [
        "import tensorflow as tf"
      ],
      "execution_count": 0,
      "outputs": []
    },
    {
      "cell_type": "code",
      "metadata": {
        "id": "rdYxJtGToNZK",
        "colab_type": "code",
        "outputId": "319e3b87-0a03-43a5-9de8-f9e6f1be153a",
        "colab": {
          "base_uri": "https://localhost:8080/",
          "height": 34
        }
      },
      "source": [
        "tf.__version__"
      ],
      "execution_count": 0,
      "outputs": [
        {
          "output_type": "execute_result",
          "data": {
            "text/plain": [
              "'2.2.0'"
            ]
          },
          "metadata": {
            "tags": []
          },
          "execution_count": 2
        }
      ]
    },
    {
      "cell_type": "code",
      "metadata": {
        "id": "HQSF8cDRnoks",
        "colab_type": "code",
        "outputId": "cdfa5af6-024f-4a7b-a619-fe11a7233d60",
        "colab": {
          "base_uri": "https://localhost:8080/",
          "height": 122
        }
      },
      "source": [
        "from google.colab import drive\n",
        "drive.mount('/content/drive')"
      ],
      "execution_count": 2,
      "outputs": [
        {
          "output_type": "stream",
          "text": [
            "Go to this URL in a browser: https://accounts.google.com/o/oauth2/auth?client_id=947318989803-6bn6qk8qdgf4n4g3pfee6491hc0brc4i.apps.googleusercontent.com&redirect_uri=urn%3aietf%3awg%3aoauth%3a2.0%3aoob&response_type=code&scope=email%20https%3a%2f%2fwww.googleapis.com%2fauth%2fdocs.test%20https%3a%2f%2fwww.googleapis.com%2fauth%2fdrive%20https%3a%2f%2fwww.googleapis.com%2fauth%2fdrive.photos.readonly%20https%3a%2f%2fwww.googleapis.com%2fauth%2fpeopleapi.readonly\n",
            "\n",
            "Enter your authorization code:\n",
            "··········\n",
            "Mounted at /content/drive\n"
          ],
          "name": "stdout"
        }
      ]
    },
    {
      "cell_type": "code",
      "metadata": {
        "id": "d0KXxZf6SmQZ",
        "colab_type": "code",
        "colab": {}
      },
      "source": [
        "import json\n",
        "import numpy as np\n",
        "import pandas as pd\n",
        "from pandas.io.json import json_normalize\n",
        "from pprint import pprint"
      ],
      "execution_count": 0,
      "outputs": []
    },
    {
      "cell_type": "code",
      "metadata": {
        "id": "5qT0xnMKhaEY",
        "colab_type": "code",
        "colab": {}
      },
      "source": [
        "project_path = \"/content/drive/My Drive/GL-AIML/AIML-MRC-Capstone/datasets/Squad2.0/TrainingDataset/\"\n",
        "datafile = project_path+'train-v2.0.json'"
      ],
      "execution_count": 0,
      "outputs": []
    },
    {
      "cell_type": "code",
      "metadata": {
        "id": "gvFIe8iyil7Y",
        "colab_type": "code",
        "colab": {}
      },
      "source": [
        "with open(datafile) as data_file:\n",
        "        dataset_json = json.load(data_file)  #on trying to dataset_json.head(n=10),throwing error 'dict' object has no attribute 'head'\n",
        "       # dataset = dataset_json[\"data\"] #on trying to dataset.head(n=10),throwing error 'list' object has no attribute 'head'\n",
        "\n",
        "  \n",
        "  "
      ],
      "execution_count": 0,
      "outputs": []
    },
    {
      "cell_type": "code",
      "metadata": {
        "id": "xklgCWe3672g",
        "colab_type": "code",
        "outputId": "abc8f4b2-e46e-4fc0-c07a-68212e0761fb",
        "colab": {
          "base_uri": "https://localhost:8080/",
          "height": 102
        }
      },
      "source": [
        "# Explore JSON file\n",
        "\n",
        "# Inspect Nested Keys\n",
        "print('top-level-keys: {}'.format(list(dataset_json.keys())))\n",
        "print('data keys: {}'.format(list(dataset_json['data'][0].keys())))\n",
        "print('paragraphs keys: {}'.format(list(dataset_json['data'][0]['paragraphs'][0].keys())))\n",
        "print('qas keys: {}'.format(list(dataset_json['data'][0]['paragraphs'][0]['qas'][0].keys())))\n",
        "print('answers keys: {}'.format(list(dataset_json['data'][0]['paragraphs'][0]['qas'][0]['answers'][0].keys())))"
      ],
      "execution_count": 6,
      "outputs": [
        {
          "output_type": "stream",
          "text": [
            "top-level-keys: ['version', 'data']\n",
            "data keys: ['title', 'paragraphs']\n",
            "paragraphs keys: ['qas', 'context']\n",
            "qas keys: ['question', 'id', 'answers', 'is_impossible']\n",
            "answers keys: ['text', 'answer_start']\n"
          ],
          "name": "stdout"
        }
      ]
    },
    {
      "cell_type": "code",
      "metadata": {
        "id": "g5BFo3XH7pNl",
        "colab_type": "code",
        "outputId": "efb7ccbb-a740-4da1-d86d-33f742658924",
        "colab": {
          "base_uri": "https://localhost:8080/",
          "height": 34
        }
      },
      "source": [
        "# Count Corpora\n",
        "print('Nbr Corpora: {}'.format(len(dataset_json['data'])))"
      ],
      "execution_count": 7,
      "outputs": [
        {
          "output_type": "stream",
          "text": [
            "Nbr Corpora: 442\n"
          ],
          "name": "stdout"
        }
      ]
    },
    {
      "cell_type": "code",
      "metadata": {
        "id": "peWhW9cRJXZM",
        "colab_type": "code",
        "outputId": "1fe95dcb-9e80-4d09-da0e-b0401a0f7bf6",
        "colab": {
          "base_uri": "https://localhost:8080/",
          "height": 34
        }
      },
      "source": [
        "# Count Corpora\n",
        "print(len(dataset_json['data']))"
      ],
      "execution_count": 8,
      "outputs": [
        {
          "output_type": "stream",
          "text": [
            "442\n"
          ],
          "name": "stdout"
        }
      ]
    },
    {
      "cell_type": "code",
      "metadata": {
        "id": "Q9lrcdoQ729L",
        "colab_type": "code",
        "colab": {}
      },
      "source": [
        "# Print Corpora Titles\n",
        "pprint(list(pd.json_normalize(dataset_json,'data')['title']))"
      ],
      "execution_count": 0,
      "outputs": []
    },
    {
      "cell_type": "code",
      "metadata": {
        "id": "KaLy0jI78P5h",
        "colab_type": "code",
        "colab": {}
      },
      "source": [
        "def convert_squad_to_tidy_df(json_dict, corpus):\n",
        "    \"\"\"This function converts the SQuAD JSON data to a Tidy Data Pandas Dataframe.\n",
        "    \n",
        "    :param obj json_dict: squad json data\n",
        "    :param str corpus: name of squad corpora to select subset from json object\n",
        "    \n",
        "    :returns: converted json data\n",
        "    :rtype: pandas dataframe\n",
        "    \n",
        "    \"\"\"\n",
        "    data = [c for c in json_dict['data'] if c['title']==corpus][0]\n",
        "    df = pd.DataFrame()    \n",
        "    data_paragraphs = data['paragraphs']\n",
        "    for article_dict in data_paragraphs:\n",
        "        row = []\n",
        "        for answers_dict in article_dict['qas']:                    \n",
        "          if answers_dict['is_impossible'] == True:\n",
        "            for answer in answers_dict['plausible_answers']:\n",
        "                row.append((c['title'],\n",
        "                            article_dict['context'], \n",
        "                            answers_dict['question'], \n",
        "                            answers_dict['id'],\n",
        "                            '',\n",
        "                            '',                          \n",
        "                            answer['answer_start'],\n",
        "                            answer['text'],\n",
        "                            answers_dict['is_impossible']\n",
        "                           ))            \n",
        "          else:\n",
        "            for answer in answers_dict['answers']:\n",
        "                row.append((c['title'],\n",
        "                            article_dict['context'], \n",
        "                            answers_dict['question'], \n",
        "                            answers_dict['id'],\n",
        "                            answer['answer_start'],\n",
        "                            answer['text'],\n",
        "                            '',\n",
        "                            '',\n",
        "                            answers_dict['is_impossible']\n",
        "                           ))\n",
        "        df = pd.concat([df, pd.DataFrame.from_records(row, columns=['title','context', 'question', 'id', 'answer_start', 'answer','plausible_answer_start', 'plausible_answer','is_impossible'])], axis=0, ignore_index=True)\n",
        "        # df.drop_duplicates(inplace=True)\n",
        "    return df\n",
        "\n",
        "\n",
        " "
      ],
      "execution_count": 0,
      "outputs": []
    },
    {
      "cell_type": "code",
      "metadata": {
        "id": "7sa9fPY0_4fk",
        "colab_type": "code",
        "colab": {}
      },
      "source": [
        "appended_data = []\n",
        "\n",
        "lastindex = 0\n",
        "for c in dataset_json['data']: \n",
        "  data = convert_squad_to_tidy_df(dataset_json, c['title'])\n",
        "  # store DataFrame in list\n",
        "  appended_data.append(data)\n",
        "\n",
        "appended_data = pd.concat(appended_data)"
      ],
      "execution_count": 0,
      "outputs": []
    },
    {
      "cell_type": "code",
      "metadata": {
        "id": "01NQUYDvDUUR",
        "colab_type": "code",
        "colab": {}
      },
      "source": [
        "appended_data.reset_index(drop=True,inplace = True)"
      ],
      "execution_count": 0,
      "outputs": []
    },
    {
      "cell_type": "code",
      "metadata": {
        "id": "vJunijwYGyTF",
        "colab_type": "code",
        "outputId": "61d52cbd-b4c3-48bd-9ae3-5c1e63eaa95e",
        "colab": {
          "base_uri": "https://localhost:8080/",
          "height": 68
        }
      },
      "source": [
        "appended_data['is_impossible'].value_counts()"
      ],
      "execution_count": 0,
      "outputs": [
        {
          "output_type": "execute_result",
          "data": {
            "text/plain": [
              "False    86821\n",
              "True     43498\n",
              "Name: is_impossible, dtype: int64"
            ]
          },
          "metadata": {
            "tags": []
          },
          "execution_count": 63
        }
      ]
    },
    {
      "cell_type": "code",
      "metadata": {
        "id": "6BvqbapRHtGT",
        "colab_type": "code",
        "outputId": "8c026174-ab5d-4109-d420-ae1c9010e2cb",
        "colab": {
          "base_uri": "https://localhost:8080/",
          "height": 185
        }
      },
      "source": [
        "appended_data[appended_data['id'] == '5a8d7bf7df8bba001a0f9ab1']"
      ],
      "execution_count": 51,
      "outputs": [
        {
          "output_type": "execute_result",
          "data": {
            "text/html": [
              "<div>\n",
              "<style scoped>\n",
              "    .dataframe tbody tr th:only-of-type {\n",
              "        vertical-align: middle;\n",
              "    }\n",
              "\n",
              "    .dataframe tbody tr th {\n",
              "        vertical-align: top;\n",
              "    }\n",
              "\n",
              "    .dataframe thead th {\n",
              "        text-align: right;\n",
              "    }\n",
              "</style>\n",
              "<table border=\"1\" class=\"dataframe\">\n",
              "  <thead>\n",
              "    <tr style=\"text-align: right;\">\n",
              "      <th></th>\n",
              "      <th>title</th>\n",
              "      <th>context</th>\n",
              "      <th>question</th>\n",
              "      <th>id</th>\n",
              "      <th>answer_start</th>\n",
              "      <th>answer</th>\n",
              "      <th>plausible_answer_start</th>\n",
              "      <th>plausible_answer</th>\n",
              "      <th>is_impossible</th>\n",
              "    </tr>\n",
              "  </thead>\n",
              "  <tbody>\n",
              "    <tr>\n",
              "      <th>2075</th>\n",
              "      <td>The_Legend_of_Zelda:_Twilight_Princess</td>\n",
              "      <td>The Legend of Zelda: Twilight Princess (Japane...</td>\n",
              "      <td>What category of game is Legend of Zelda: Aust...</td>\n",
              "      <td>5a8d7bf7df8bba001a0f9ab1</td>\n",
              "      <td></td>\n",
              "      <td></td>\n",
              "      <td>128</td>\n",
              "      <td>action-adventure</td>\n",
              "      <td>True</td>\n",
              "    </tr>\n",
              "  </tbody>\n",
              "</table>\n",
              "</div>"
            ],
            "text/plain": [
              "                                       title  ... is_impossible\n",
              "2075  The_Legend_of_Zelda:_Twilight_Princess  ...          True\n",
              "\n",
              "[1 rows x 9 columns]"
            ]
          },
          "metadata": {
            "tags": []
          },
          "execution_count": 51
        }
      ]
    },
    {
      "cell_type": "code",
      "metadata": {
        "id": "rAesWkerEwZ4",
        "colab_type": "code",
        "colab": {}
      },
      "source": [
        "appended_data.to_csv( project_path + '/squad_train_data.csv')"
      ],
      "execution_count": 0,
      "outputs": []
    },
    {
      "cell_type": "markdown",
      "metadata": {
        "id": "itQVHmh7xKo2",
        "colab_type": "text"
      },
      "source": [
        "# Possible EDAs:\n",
        " #Count Plot\n",
        " #Number of characters/words\n",
        " #Unique words\n",
        " #Word Cloud\n",
        " #Common Stopwords\n",
        " #Analysing punctuation\n",
        " #Ngram Analysis\n",
        " #Answer type distribution\n",
        " #Avg tokens/sentences\n",
        " #Comparison within datasets used\n"
      ]
    },
    {
      "cell_type": "code",
      "metadata": {
        "id": "CFD8rPeAwSra",
        "colab_type": "code",
        "colab": {}
      },
      "source": [
        "#1\n",
        "#import seaborn as sns\n",
        "#sns.countplot(data = appended_data, x = \"context\")\n",
        "squad_df = pd.read_csv(project_path+'squad_train_data.csv')\n",
        "squad_df.drop('Unnamed: 0',axis=1,inplace=True)"
      ],
      "execution_count": 0,
      "outputs": []
    },
    {
      "cell_type": "code",
      "metadata": {
        "id": "vSUoGtAYC0Ua",
        "colab_type": "code",
        "outputId": "6b1d1ff1-5f17-4a40-99a8-5f207ca087b6",
        "colab": {
          "base_uri": "https://localhost:8080/",
          "height": 374
        }
      },
      "source": [
        "appended_data.tail()"
      ],
      "execution_count": 53,
      "outputs": [
        {
          "output_type": "execute_result",
          "data": {
            "text/html": [
              "<div>\n",
              "<style scoped>\n",
              "    .dataframe tbody tr th:only-of-type {\n",
              "        vertical-align: middle;\n",
              "    }\n",
              "\n",
              "    .dataframe tbody tr th {\n",
              "        vertical-align: top;\n",
              "    }\n",
              "\n",
              "    .dataframe thead th {\n",
              "        text-align: right;\n",
              "    }\n",
              "</style>\n",
              "<table border=\"1\" class=\"dataframe\">\n",
              "  <thead>\n",
              "    <tr style=\"text-align: right;\">\n",
              "      <th></th>\n",
              "      <th>title</th>\n",
              "      <th>context</th>\n",
              "      <th>question</th>\n",
              "      <th>id</th>\n",
              "      <th>answer_start</th>\n",
              "      <th>answer</th>\n",
              "      <th>plausible_answer_start</th>\n",
              "      <th>plausible_answer</th>\n",
              "      <th>is_impossible</th>\n",
              "    </tr>\n",
              "  </thead>\n",
              "  <tbody>\n",
              "    <tr>\n",
              "      <th>130314</th>\n",
              "      <td>Matter</td>\n",
              "      <td>The term \"matter\" is used throughout physics i...</td>\n",
              "      <td>Physics has broadly agreed on the definition o...</td>\n",
              "      <td>5a7e070b70df9f001a875439</td>\n",
              "      <td></td>\n",
              "      <td></td>\n",
              "      <td>485</td>\n",
              "      <td>matter</td>\n",
              "      <td>True</td>\n",
              "    </tr>\n",
              "    <tr>\n",
              "      <th>130315</th>\n",
              "      <td>Matter</td>\n",
              "      <td>The term \"matter\" is used throughout physics i...</td>\n",
              "      <td>Who coined the term partonic matter?</td>\n",
              "      <td>5a7e070b70df9f001a87543a</td>\n",
              "      <td></td>\n",
              "      <td></td>\n",
              "      <td>327</td>\n",
              "      <td>Alfvén</td>\n",
              "      <td>True</td>\n",
              "    </tr>\n",
              "    <tr>\n",
              "      <th>130316</th>\n",
              "      <td>Matter</td>\n",
              "      <td>The term \"matter\" is used throughout physics i...</td>\n",
              "      <td>What is another name for anti-matter?</td>\n",
              "      <td>5a7e070b70df9f001a87543b</td>\n",
              "      <td></td>\n",
              "      <td></td>\n",
              "      <td>350</td>\n",
              "      <td>Gk. common matter</td>\n",
              "      <td>True</td>\n",
              "    </tr>\n",
              "    <tr>\n",
              "      <th>130317</th>\n",
              "      <td>Matter</td>\n",
              "      <td>The term \"matter\" is used throughout physics i...</td>\n",
              "      <td>Matter usually does not need to be used in con...</td>\n",
              "      <td>5a7e070b70df9f001a87543c</td>\n",
              "      <td></td>\n",
              "      <td></td>\n",
              "      <td>529</td>\n",
              "      <td>a specifying modifier</td>\n",
              "      <td>True</td>\n",
              "    </tr>\n",
              "    <tr>\n",
              "      <th>130318</th>\n",
              "      <td>Matter</td>\n",
              "      <td>The term \"matter\" is used throughout physics i...</td>\n",
              "      <td>What field of study has a variety of unusual c...</td>\n",
              "      <td>5a7e070b70df9f001a87543d</td>\n",
              "      <td></td>\n",
              "      <td></td>\n",
              "      <td>37</td>\n",
              "      <td>physics</td>\n",
              "      <td>True</td>\n",
              "    </tr>\n",
              "  </tbody>\n",
              "</table>\n",
              "</div>"
            ],
            "text/plain": [
              "         title  ... is_impossible\n",
              "130314  Matter  ...          True\n",
              "130315  Matter  ...          True\n",
              "130316  Matter  ...          True\n",
              "130317  Matter  ...          True\n",
              "130318  Matter  ...          True\n",
              "\n",
              "[5 rows x 9 columns]"
            ]
          },
          "metadata": {
            "tags": []
          },
          "execution_count": 53
        }
      ]
    },
    {
      "cell_type": "code",
      "metadata": {
        "id": "m8PHwJg2DD6A",
        "colab_type": "code",
        "colab": {}
      },
      "source": [
        "# Features..\n",
        "feature = ['context','question']\n",
        "\n",
        "# Target\n",
        "target ='answer'"
      ],
      "execution_count": 0,
      "outputs": []
    },
    {
      "cell_type": "code",
      "metadata": {
        "id": "YeCVt4i1RG9-",
        "colab_type": "code",
        "outputId": "a5d80429-d08d-45df-b618-6d01b2e15711",
        "colab": {
          "base_uri": "https://localhost:8080/",
          "height": 51
        }
      },
      "source": [
        "import nltk\n",
        "nltk.download('punkt')\n",
        "from nltk.stem import PorterStemmer\n",
        "# Prepare data\n",
        "\n",
        "# Lemma\n",
        "\n",
        "# stop word removal\n",
        "\n",
        "# vectorization tfidvectoriation\n",
        "\n",
        "# vectorization word2vec\n"
      ],
      "execution_count": 56,
      "outputs": [
        {
          "output_type": "stream",
          "text": [
            "[nltk_data] Downloading package punkt to /root/nltk_data...\n",
            "[nltk_data]   Unzipping tokenizers/punkt.zip.\n"
          ],
          "name": "stdout"
        }
      ]
    },
    {
      "cell_type": "code",
      "metadata": {
        "id": "SwdtfUV-SP_b",
        "colab_type": "code",
        "colab": {}
      },
      "source": [
        "# Stemming\n",
        "#Function to Stem words\n",
        "def get_stemmed_text(corpus):\n",
        "    stemmer = PorterStemmer()\n",
        "    return [' '.join([stemmer.stem(word) for word in review.split()]) for review in corpus]"
      ],
      "execution_count": 0,
      "outputs": []
    },
    {
      "cell_type": "code",
      "metadata": {
        "id": "oqiCoP6jSZIA",
        "colab_type": "code",
        "outputId": "19bf38d6-d697-46d6-8130-e8fea36fa318",
        "colab": {
          "base_uri": "https://localhost:8080/",
          "height": 221
        }
      },
      "source": [
        "appended_data['question']"
      ],
      "execution_count": 57,
      "outputs": [
        {
          "output_type": "execute_result",
          "data": {
            "text/plain": [
              "0                  When did Beyonce start becoming popular?\n",
              "1         What areas did Beyonce compete in when she was...\n",
              "2         When did Beyonce leave Destiny's Child and bec...\n",
              "3             In what city and state did Beyonce  grow up? \n",
              "4                In which decade did Beyonce become famous?\n",
              "                                ...                        \n",
              "130314    Physics has broadly agreed on the definition o...\n",
              "130315                 Who coined the term partonic matter?\n",
              "130316                What is another name for anti-matter?\n",
              "130317    Matter usually does not need to be used in con...\n",
              "130318    What field of study has a variety of unusual c...\n",
              "Name: question, Length: 130319, dtype: object"
            ]
          },
          "metadata": {
            "tags": []
          },
          "execution_count": 57
        }
      ]
    },
    {
      "cell_type": "code",
      "metadata": {
        "id": "YpXkkhXCR7M0",
        "colab_type": "code",
        "colab": {
          "base_uri": "https://localhost:8080/",
          "height": 221
        },
        "outputId": "8453a1df-a75c-4d66-edde-cadac2ec6c12"
      },
      "source": [
        "appended_data['context']"
      ],
      "execution_count": 58,
      "outputs": [
        {
          "output_type": "execute_result",
          "data": {
            "text/plain": [
              "0         Beyoncé Giselle Knowles-Carter (/biːˈjɒnseɪ/ b...\n",
              "1         Beyoncé Giselle Knowles-Carter (/biːˈjɒnseɪ/ b...\n",
              "2         Beyoncé Giselle Knowles-Carter (/biːˈjɒnseɪ/ b...\n",
              "3         Beyoncé Giselle Knowles-Carter (/biːˈjɒnseɪ/ b...\n",
              "4         Beyoncé Giselle Knowles-Carter (/biːˈjɒnseɪ/ b...\n",
              "                                ...                        \n",
              "130314    The term \"matter\" is used throughout physics i...\n",
              "130315    The term \"matter\" is used throughout physics i...\n",
              "130316    The term \"matter\" is used throughout physics i...\n",
              "130317    The term \"matter\" is used throughout physics i...\n",
              "130318    The term \"matter\" is used throughout physics i...\n",
              "Name: context, Length: 130319, dtype: object"
            ]
          },
          "metadata": {
            "tags": []
          },
          "execution_count": 58
        }
      ]
    },
    {
      "cell_type": "code",
      "metadata": {
        "id": "ufE86LV_Ygjk",
        "colab_type": "code",
        "colab": {
          "base_uri": "https://localhost:8080/",
          "height": 374
        },
        "outputId": "9ab872e6-28c0-4d44-8ec2-d0d282e5cf36"
      },
      "source": [
        "appended_data.head()"
      ],
      "execution_count": 59,
      "outputs": [
        {
          "output_type": "execute_result",
          "data": {
            "text/html": [
              "<div>\n",
              "<style scoped>\n",
              "    .dataframe tbody tr th:only-of-type {\n",
              "        vertical-align: middle;\n",
              "    }\n",
              "\n",
              "    .dataframe tbody tr th {\n",
              "        vertical-align: top;\n",
              "    }\n",
              "\n",
              "    .dataframe thead th {\n",
              "        text-align: right;\n",
              "    }\n",
              "</style>\n",
              "<table border=\"1\" class=\"dataframe\">\n",
              "  <thead>\n",
              "    <tr style=\"text-align: right;\">\n",
              "      <th></th>\n",
              "      <th>title</th>\n",
              "      <th>context</th>\n",
              "      <th>question</th>\n",
              "      <th>id</th>\n",
              "      <th>answer_start</th>\n",
              "      <th>answer</th>\n",
              "      <th>plausible_answer_start</th>\n",
              "      <th>plausible_answer</th>\n",
              "      <th>is_impossible</th>\n",
              "    </tr>\n",
              "  </thead>\n",
              "  <tbody>\n",
              "    <tr>\n",
              "      <th>0</th>\n",
              "      <td>Beyoncé</td>\n",
              "      <td>Beyoncé Giselle Knowles-Carter (/biːˈjɒnseɪ/ b...</td>\n",
              "      <td>When did Beyonce start becoming popular?</td>\n",
              "      <td>56be85543aeaaa14008c9063</td>\n",
              "      <td>269</td>\n",
              "      <td>in the late 1990s</td>\n",
              "      <td></td>\n",
              "      <td></td>\n",
              "      <td>False</td>\n",
              "    </tr>\n",
              "    <tr>\n",
              "      <th>1</th>\n",
              "      <td>Beyoncé</td>\n",
              "      <td>Beyoncé Giselle Knowles-Carter (/biːˈjɒnseɪ/ b...</td>\n",
              "      <td>What areas did Beyonce compete in when she was...</td>\n",
              "      <td>56be85543aeaaa14008c9065</td>\n",
              "      <td>207</td>\n",
              "      <td>singing and dancing</td>\n",
              "      <td></td>\n",
              "      <td></td>\n",
              "      <td>False</td>\n",
              "    </tr>\n",
              "    <tr>\n",
              "      <th>2</th>\n",
              "      <td>Beyoncé</td>\n",
              "      <td>Beyoncé Giselle Knowles-Carter (/biːˈjɒnseɪ/ b...</td>\n",
              "      <td>When did Beyonce leave Destiny's Child and bec...</td>\n",
              "      <td>56be85543aeaaa14008c9066</td>\n",
              "      <td>526</td>\n",
              "      <td>2003</td>\n",
              "      <td></td>\n",
              "      <td></td>\n",
              "      <td>False</td>\n",
              "    </tr>\n",
              "    <tr>\n",
              "      <th>3</th>\n",
              "      <td>Beyoncé</td>\n",
              "      <td>Beyoncé Giselle Knowles-Carter (/biːˈjɒnseɪ/ b...</td>\n",
              "      <td>In what city and state did Beyonce  grow up?</td>\n",
              "      <td>56bf6b0f3aeaaa14008c9601</td>\n",
              "      <td>166</td>\n",
              "      <td>Houston, Texas</td>\n",
              "      <td></td>\n",
              "      <td></td>\n",
              "      <td>False</td>\n",
              "    </tr>\n",
              "    <tr>\n",
              "      <th>4</th>\n",
              "      <td>Beyoncé</td>\n",
              "      <td>Beyoncé Giselle Knowles-Carter (/biːˈjɒnseɪ/ b...</td>\n",
              "      <td>In which decade did Beyonce become famous?</td>\n",
              "      <td>56bf6b0f3aeaaa14008c9602</td>\n",
              "      <td>276</td>\n",
              "      <td>late 1990s</td>\n",
              "      <td></td>\n",
              "      <td></td>\n",
              "      <td>False</td>\n",
              "    </tr>\n",
              "  </tbody>\n",
              "</table>\n",
              "</div>"
            ],
            "text/plain": [
              "     title  ... is_impossible\n",
              "0  Beyoncé  ...         False\n",
              "1  Beyoncé  ...         False\n",
              "2  Beyoncé  ...         False\n",
              "3  Beyoncé  ...         False\n",
              "4  Beyoncé  ...         False\n",
              "\n",
              "[5 rows x 9 columns]"
            ]
          },
          "metadata": {
            "tags": []
          },
          "execution_count": 59
        }
      ]
    },
    {
      "cell_type": "code",
      "metadata": {
        "id": "Z5fjH8OnY-lR",
        "colab_type": "code",
        "colab": {}
      },
      "source": [
        "X = appended_data[['context','question']].copy()"
      ],
      "execution_count": 0,
      "outputs": []
    },
    {
      "cell_type": "code",
      "metadata": {
        "id": "86kYPVQqZpzP",
        "colab_type": "code",
        "colab": {
          "base_uri": "https://localhost:8080/",
          "height": 204
        },
        "outputId": "fe4fd244-d509-4267-a23d-1506d2bed71d"
      },
      "source": [
        "X.head()"
      ],
      "execution_count": 69,
      "outputs": [
        {
          "output_type": "execute_result",
          "data": {
            "text/html": [
              "<div>\n",
              "<style scoped>\n",
              "    .dataframe tbody tr th:only-of-type {\n",
              "        vertical-align: middle;\n",
              "    }\n",
              "\n",
              "    .dataframe tbody tr th {\n",
              "        vertical-align: top;\n",
              "    }\n",
              "\n",
              "    .dataframe thead th {\n",
              "        text-align: right;\n",
              "    }\n",
              "</style>\n",
              "<table border=\"1\" class=\"dataframe\">\n",
              "  <thead>\n",
              "    <tr style=\"text-align: right;\">\n",
              "      <th></th>\n",
              "      <th>context</th>\n",
              "      <th>question</th>\n",
              "    </tr>\n",
              "  </thead>\n",
              "  <tbody>\n",
              "    <tr>\n",
              "      <th>0</th>\n",
              "      <td>Beyoncé Giselle Knowles-Carter (/biːˈjɒnseɪ/ b...</td>\n",
              "      <td>When did Beyonce start becoming popular?</td>\n",
              "    </tr>\n",
              "    <tr>\n",
              "      <th>1</th>\n",
              "      <td>Beyoncé Giselle Knowles-Carter (/biːˈjɒnseɪ/ b...</td>\n",
              "      <td>What areas did Beyonce compete in when she was...</td>\n",
              "    </tr>\n",
              "    <tr>\n",
              "      <th>2</th>\n",
              "      <td>Beyoncé Giselle Knowles-Carter (/biːˈjɒnseɪ/ b...</td>\n",
              "      <td>When did Beyonce leave Destiny's Child and bec...</td>\n",
              "    </tr>\n",
              "    <tr>\n",
              "      <th>3</th>\n",
              "      <td>Beyoncé Giselle Knowles-Carter (/biːˈjɒnseɪ/ b...</td>\n",
              "      <td>In what city and state did Beyonce  grow up?</td>\n",
              "    </tr>\n",
              "    <tr>\n",
              "      <th>4</th>\n",
              "      <td>Beyoncé Giselle Knowles-Carter (/biːˈjɒnseɪ/ b...</td>\n",
              "      <td>In which decade did Beyonce become famous?</td>\n",
              "    </tr>\n",
              "  </tbody>\n",
              "</table>\n",
              "</div>"
            ],
            "text/plain": [
              "                                             context                                           question\n",
              "0  Beyoncé Giselle Knowles-Carter (/biːˈjɒnseɪ/ b...           When did Beyonce start becoming popular?\n",
              "1  Beyoncé Giselle Knowles-Carter (/biːˈjɒnseɪ/ b...  What areas did Beyonce compete in when she was...\n",
              "2  Beyoncé Giselle Knowles-Carter (/biːˈjɒnseɪ/ b...  When did Beyonce leave Destiny's Child and bec...\n",
              "3  Beyoncé Giselle Knowles-Carter (/biːˈjɒnseɪ/ b...      In what city and state did Beyonce  grow up? \n",
              "4  Beyoncé Giselle Knowles-Carter (/biːˈjɒnseɪ/ b...         In which decade did Beyonce become famous?"
            ]
          },
          "metadata": {
            "tags": []
          },
          "execution_count": 69
        }
      ]
    },
    {
      "cell_type": "code",
      "metadata": {
        "id": "Tk9LCpouZPeF",
        "colab_type": "code",
        "colab": {}
      },
      "source": [
        "y = appended_data[['answer']].copy()"
      ],
      "execution_count": 0,
      "outputs": []
    },
    {
      "cell_type": "code",
      "metadata": {
        "id": "kOODQtOaZT_j",
        "colab_type": "code",
        "colab": {}
      },
      "source": [
        "# y[y['answer'] == ''][:] = 'IMPOSSIBLE'\n",
        "\n",
        "y.loc[y['answer'] == '', 'answer'] = 'IMPOSSIBLE'"
      ],
      "execution_count": 0,
      "outputs": []
    },
    {
      "cell_type": "code",
      "metadata": {
        "id": "_FSPWAOraZLy",
        "colab_type": "code",
        "colab": {
          "base_uri": "https://localhost:8080/",
          "height": 419
        },
        "outputId": "1a3358ad-b1d6-4deb-e163-0193c3c50888"
      },
      "source": [
        "y"
      ],
      "execution_count": 88,
      "outputs": [
        {
          "output_type": "execute_result",
          "data": {
            "text/html": [
              "<div>\n",
              "<style scoped>\n",
              "    .dataframe tbody tr th:only-of-type {\n",
              "        vertical-align: middle;\n",
              "    }\n",
              "\n",
              "    .dataframe tbody tr th {\n",
              "        vertical-align: top;\n",
              "    }\n",
              "\n",
              "    .dataframe thead th {\n",
              "        text-align: right;\n",
              "    }\n",
              "</style>\n",
              "<table border=\"1\" class=\"dataframe\">\n",
              "  <thead>\n",
              "    <tr style=\"text-align: right;\">\n",
              "      <th></th>\n",
              "      <th>answer</th>\n",
              "    </tr>\n",
              "  </thead>\n",
              "  <tbody>\n",
              "    <tr>\n",
              "      <th>0</th>\n",
              "      <td>in the late 1990s</td>\n",
              "    </tr>\n",
              "    <tr>\n",
              "      <th>1</th>\n",
              "      <td>singing and dancing</td>\n",
              "    </tr>\n",
              "    <tr>\n",
              "      <th>2</th>\n",
              "      <td>2003</td>\n",
              "    </tr>\n",
              "    <tr>\n",
              "      <th>3</th>\n",
              "      <td>Houston, Texas</td>\n",
              "    </tr>\n",
              "    <tr>\n",
              "      <th>4</th>\n",
              "      <td>late 1990s</td>\n",
              "    </tr>\n",
              "    <tr>\n",
              "      <th>...</th>\n",
              "      <td>...</td>\n",
              "    </tr>\n",
              "    <tr>\n",
              "      <th>130314</th>\n",
              "      <td>IMPOSSIBLE</td>\n",
              "    </tr>\n",
              "    <tr>\n",
              "      <th>130315</th>\n",
              "      <td>IMPOSSIBLE</td>\n",
              "    </tr>\n",
              "    <tr>\n",
              "      <th>130316</th>\n",
              "      <td>IMPOSSIBLE</td>\n",
              "    </tr>\n",
              "    <tr>\n",
              "      <th>130317</th>\n",
              "      <td>IMPOSSIBLE</td>\n",
              "    </tr>\n",
              "    <tr>\n",
              "      <th>130318</th>\n",
              "      <td>IMPOSSIBLE</td>\n",
              "    </tr>\n",
              "  </tbody>\n",
              "</table>\n",
              "<p>130319 rows × 1 columns</p>\n",
              "</div>"
            ],
            "text/plain": [
              "                     answer\n",
              "0         in the late 1990s\n",
              "1       singing and dancing\n",
              "2                      2003\n",
              "3            Houston, Texas\n",
              "4                late 1990s\n",
              "...                     ...\n",
              "130314           IMPOSSIBLE\n",
              "130315           IMPOSSIBLE\n",
              "130316           IMPOSSIBLE\n",
              "130317           IMPOSSIBLE\n",
              "130318           IMPOSSIBLE\n",
              "\n",
              "[130319 rows x 1 columns]"
            ]
          },
          "metadata": {
            "tags": []
          },
          "execution_count": 88
        }
      ]
    },
    {
      "cell_type": "code",
      "metadata": {
        "id": "Kd5iC1jQdvzF",
        "colab_type": "code",
        "colab": {}
      },
      "source": [
        "X.to_csv(project_path + '/X.csv')\n",
        "y.to_csv(project_path + '/y.csv')"
      ],
      "execution_count": 0,
      "outputs": []
    },
    {
      "cell_type": "code",
      "metadata": {
        "id": "jApjDXQoePLC",
        "colab_type": "code",
        "colab": {}
      },
      "source": [
        "X = pd.read_csv(project_path + '/X.csv')\n",
        "X.drop('Unnamed: 0',inplace=True,axis=1)\n",
        "y = pd.read_csv(project_path + '/y.csv')\n",
        "y.drop('Unnamed: 0',inplace=True,axis=1)"
      ],
      "execution_count": 0,
      "outputs": []
    },
    {
      "cell_type": "code",
      "metadata": {
        "id": "RrTHzNXbeZL8",
        "colab_type": "code",
        "colab": {
          "base_uri": "https://localhost:8080/",
          "height": 34
        },
        "outputId": "7ffb8f27-fbe7-41c1-b726-248f5e097425"
      },
      "source": [
        "X.shape\n",
        "y.shape"
      ],
      "execution_count": 12,
      "outputs": [
        {
          "output_type": "execute_result",
          "data": {
            "text/plain": [
              "(130319, 1)"
            ]
          },
          "metadata": {
            "tags": []
          },
          "execution_count": 12
        }
      ]
    },
    {
      "cell_type": "code",
      "metadata": {
        "id": "0NSzDmW7crS1",
        "colab_type": "code",
        "colab": {
          "base_uri": "https://localhost:8080/",
          "height": 136
        },
        "outputId": "e2e7a1bd-f588-4142-95b2-b919872d9265"
      },
      "source": [
        "import nltk\n",
        "import string\n",
        "from nltk.corpus import stopwords\n",
        "from nltk.tokenize import RegexpTokenizer\n",
        "from nltk.stem import WordNetLemmatizer\n",
        "from nltk.stem.porter import PorterStemmer\n",
        "nltk.download('punkt')\n",
        "nltk.download('wordnet')\n",
        "import re\n",
        "import unicodedata\n",
        "from nltk.stem import WordNetLemmatizer\n",
        "nltk.download('stopwords')"
      ],
      "execution_count": 13,
      "outputs": [
        {
          "output_type": "stream",
          "text": [
            "[nltk_data] Downloading package punkt to /root/nltk_data...\n",
            "[nltk_data]   Unzipping tokenizers/punkt.zip.\n",
            "[nltk_data] Downloading package wordnet to /root/nltk_data...\n",
            "[nltk_data]   Unzipping corpora/wordnet.zip.\n",
            "[nltk_data] Downloading package stopwords to /root/nltk_data...\n",
            "[nltk_data]   Unzipping corpora/stopwords.zip.\n"
          ],
          "name": "stdout"
        },
        {
          "output_type": "execute_result",
          "data": {
            "text/plain": [
              "True"
            ]
          },
          "metadata": {
            "tags": []
          },
          "execution_count": 13
        }
      ]
    },
    {
      "cell_type": "code",
      "metadata": {
        "id": "fJXaLcKecfN7",
        "colab_type": "code",
        "colab": {}
      },
      "source": [
        "from nltk.tokenize import word_tokenize \n",
        "\n",
        "stop_words = set(stopwords.words('english')) "
      ],
      "execution_count": 0,
      "outputs": []
    },
    {
      "cell_type": "code",
      "metadata": {
        "id": "d5bk76oSZjpA",
        "colab_type": "code",
        "colab": {}
      },
      "source": [
        "# remove unwanted chars\n",
        "# convert to lowercase\n",
        "# remove unwanted spaces\n",
        "# remove stop words\n",
        "import nltk\n",
        "from nltk.tokenize import RegexpTokenizer\n",
        "from nltk.stem import WordNetLemmatizer,PorterStemmer\n",
        "from nltk.corpus import stopwords\n",
        "from nltk.tokenize import word_tokenize \n",
        "\n",
        "stop_words = set(stopwords.words('english')) \n",
        "\n",
        "def preprocess_text(corpus, text_lower_case=True, \n",
        "                      special_char_removal=True, stopword_removal=True, remove_digits=True):    \n",
        "    normalized_text = []\n",
        "    # normalize each document in the corpus\n",
        "    for doc in corpus:\n",
        "        # lowercase the text    \n",
        "        if text_lower_case:\n",
        "            doc = doc.lower()\n",
        "        # remove special characters and\\or digits    \n",
        "        if special_char_removal:\n",
        "            # insert spaces between special characters to isolate them    \n",
        "            special_char_pattern = re.compile(r'([{.(-)!}])')\n",
        "            doc = special_char_pattern.sub(\" \\\\1 \", doc)\n",
        "            doc = remove_special_characters(doc, remove_digits=remove_digits) \n",
        "\n",
        "        if stopword_removal:\n",
        "            doc = remove_stopwords(doc)\n",
        "\n",
        "        # remove extra whitespace\n",
        "        doc = re.sub(' +', ' ', doc)            \n",
        "        normalized_text.append(doc)\n",
        "        \n",
        "    return normalized_text\n",
        "\n",
        "def remove_special_characters(text, remove_digits=False):\n",
        "    #Using regex\n",
        "    pattern = r'[^a-zA-z0-9\\s]' if not remove_digits else r'[^a-zA-z\\s]'\n",
        "    text = re.sub(pattern, '', text)\n",
        "    return text\n",
        "\n",
        "def remove_stopwords(text):  \n",
        "    word_tokens = word_tokenize(text) \n",
        "    filtered_sentence = [w for w in word_tokens if not w in stop_words]   \n",
        "    filtered_sentence = [] \n",
        "    for w in word_tokens: \n",
        "        if w not in stop_words: \n",
        "            filtered_sentence.append(w)                 \n",
        "    return ' '.join(filtered_sentence)"
      ],
      "execution_count": 0,
      "outputs": []
    },
    {
      "cell_type": "code",
      "metadata": {
        "id": "SrFaVofKcd7s",
        "colab_type": "code",
        "colab": {
          "base_uri": "https://localhost:8080/",
          "height": 34
        },
        "outputId": "80ac433a-b48d-4575-8dad-fd51849d8846"
      },
      "source": [
        "remove_stopwords(\"sandipan laptop complex this is a nice day\")"
      ],
      "execution_count": 95,
      "outputs": [
        {
          "output_type": "execute_result",
          "data": {
            "text/plain": [
              "'sandipan laptop complex nice day'"
            ]
          },
          "metadata": {
            "tags": []
          },
          "execution_count": 95
        }
      ]
    },
    {
      "cell_type": "code",
      "metadata": {
        "id": "01VztplucXO3",
        "colab_type": "code",
        "colab": {
          "base_uri": "https://localhost:8080/",
          "height": 34
        },
        "outputId": "e48d9508-e0ea-4a19-c051-60b264a98a13"
      },
      "source": [
        "print(preprocess_text([\"sandipan UPPER laptop complex this is a nice day\",\"abc def 123 $%% ddd\", \"   def 123\"]))"
      ],
      "execution_count": 16,
      "outputs": [
        {
          "output_type": "stream",
          "text": [
            "['sandipan upper laptop complex nice day', 'abc def ddd', 'def']\n"
          ],
          "name": "stdout"
        }
      ]
    },
    {
      "cell_type": "code",
      "metadata": {
        "id": "_210qWS3c-2n",
        "colab_type": "code",
        "colab": {}
      },
      "source": [
        "X['clean_context'] = preprocess_text(X['context'])"
      ],
      "execution_count": 0,
      "outputs": []
    },
    {
      "cell_type": "code",
      "metadata": {
        "id": "skKwCIgndXCZ",
        "colab_type": "code",
        "colab": {}
      },
      "source": [
        ""
      ],
      "execution_count": 0,
      "outputs": []
    }
  ]
}