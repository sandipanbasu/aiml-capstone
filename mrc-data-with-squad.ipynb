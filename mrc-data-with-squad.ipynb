{
  "nbformat": 4,
  "nbformat_minor": 0,
  "metadata": {
    "colab": {
      "name": "sqdtrn.ipynb",
      "provenance": [],
      "collapsed_sections": [],
      "include_colab_link": true
    },
    "kernelspec": {
      "name": "python3",
      "display_name": "Python 3"
    }
  },
  "cells": [
    {
      "cell_type": "markdown",
      "metadata": {
        "id": "view-in-github",
        "colab_type": "text"
      },
      "source": [
        "<a href=\"https://colab.research.google.com/github/sandipanbasu/aiml-capstone/blob/master/mrc-data-with-squad.ipynb\" target=\"_parent\"><img src=\"https://colab.research.google.com/assets/colab-badge.svg\" alt=\"Open In Colab\"/></a>"
      ]
    },
    {
      "cell_type": "code",
      "metadata": {
        "id": "_dK1FVGsSFOh",
        "colab_type": "code",
        "colab": {}
      },
      "source": [
        "!pip install -U tensorflow==2.0"
      ],
      "execution_count": 0,
      "outputs": []
    },
    {
      "cell_type": "code",
      "metadata": {
        "id": "_FI76OLVnxxP",
        "colab_type": "code",
        "colab": {}
      },
      "source": [
        "import tensorflow as tf"
      ],
      "execution_count": 0,
      "outputs": []
    },
    {
      "cell_type": "code",
      "metadata": {
        "id": "yLgANd2oQO_y",
        "colab_type": "code",
        "colab": {}
      },
      "source": [
        "#test commit - garima"
      ],
      "execution_count": 0,
      "outputs": []
    },
    {
      "cell_type": "code",
      "metadata": {
        "id": "rdYxJtGToNZK",
        "colab_type": "code",
        "outputId": "319e3b87-0a03-43a5-9de8-f9e6f1be153a",
        "colab": {
          "base_uri": "https://localhost:8080/",
          "height": 34
        }
      },
      "source": [
        "tf.__version__"
      ],
      "execution_count": 0,
      "outputs": [
        {
          "output_type": "execute_result",
          "data": {
            "text/plain": [
              "'2.2.0'"
            ]
          },
          "metadata": {
            "tags": []
          },
          "execution_count": 2
        }
      ]
    },
    {
      "cell_type": "code",
      "metadata": {
        "id": "HQSF8cDRnoks",
        "colab_type": "code",
        "outputId": "9446bf46-c62e-40fa-bf05-5b2bffa903ae",
        "colab": {
          "base_uri": "https://localhost:8080/",
          "height": 122
        }
      },
      "source": [
        "from google.colab import drive\n",
        "drive.mount('/content/drive')"
      ],
      "execution_count": 0,
      "outputs": [
        {
          "output_type": "stream",
          "text": [
            "Go to this URL in a browser: https://accounts.google.com/o/oauth2/auth?client_id=947318989803-6bn6qk8qdgf4n4g3pfee6491hc0brc4i.apps.googleusercontent.com&redirect_uri=urn%3aietf%3awg%3aoauth%3a2.0%3aoob&response_type=code&scope=email%20https%3a%2f%2fwww.googleapis.com%2fauth%2fdocs.test%20https%3a%2f%2fwww.googleapis.com%2fauth%2fdrive%20https%3a%2f%2fwww.googleapis.com%2fauth%2fdrive.photos.readonly%20https%3a%2f%2fwww.googleapis.com%2fauth%2fpeopleapi.readonly\n",
            "\n",
            "Enter your authorization code:\n",
            "··········\n",
            "Mounted at /content/drive\n"
          ],
          "name": "stdout"
        }
      ]
    },
    {
      "cell_type": "code",
      "metadata": {
        "id": "d0KXxZf6SmQZ",
        "colab_type": "code",
        "colab": {}
      },
      "source": [
        "import json\n",
        "import pandas as pd\n",
        "from pandas.io.json import json_normalize\n",
        "from pprint import pprint"
      ],
      "execution_count": 0,
      "outputs": []
    },
    {
      "cell_type": "markdown",
      "metadata": {
        "id": "dMXHOYOaPjo9",
        "colab_type": "text"
      },
      "source": [
        "+ Text- to -check-"
      ]
    },
    {
      "cell_type": "code",
      "metadata": {
        "id": "5qT0xnMKhaEY",
        "colab_type": "code",
        "colab": {}
      },
      "source": [
        "project_path = \"/content/drive/My Drive/GL-AIML/AIML-MRC-Capstone/datasets/Squad2.0/TrainingDataset/\"\n",
        "datafile = project_path+'train-v2.0.json'"
      ],
      "execution_count": 0,
      "outputs": []
    },
    {
      "cell_type": "code",
      "metadata": {
        "id": "gvFIe8iyil7Y",
        "colab_type": "code",
        "colab": {}
      },
      "source": [
        "with open(datafile) as data_file:\n",
        "        dataset_json = json.load(data_file)  #on trying to dataset_json.head(n=10),throwing error 'dict' object has no attribute 'head'\n",
        "       # dataset = dataset_json[\"data\"] #on trying to dataset.head(n=10),throwing error 'list' object has no attribute 'head'\n",
        "\n",
        "  \n",
        "  "
      ],
      "execution_count": 0,
      "outputs": []
    },
    {
      "cell_type": "code",
      "metadata": {
        "id": "xklgCWe3672g",
        "colab_type": "code",
        "outputId": "81d954c6-228b-481a-e902-f69021cda956",
        "colab": {
          "base_uri": "https://localhost:8080/",
          "height": 102
        }
      },
      "source": [
        "# Explore JSON file\n",
        "\n",
        "# Inspect Nested Keys\n",
        "print('top-level-keys: {}'.format(list(dataset_json.keys())))\n",
        "print('data keys: {}'.format(list(dataset_json['data'][0].keys())))\n",
        "print('paragraphs keys: {}'.format(list(dataset_json['data'][0]['paragraphs'][0].keys())))\n",
        "print('qas keys: {}'.format(list(dataset_json['data'][0]['paragraphs'][0]['qas'][0].keys())))\n",
        "print('answers keys: {}'.format(list(dataset_json['data'][0]['paragraphs'][0]['qas'][0]['answers'][0].keys())))"
      ],
      "execution_count": 0,
      "outputs": [
        {
          "output_type": "stream",
          "text": [
            "top-level-keys: ['version', 'data']\n",
            "data keys: ['title', 'paragraphs']\n",
            "paragraphs keys: ['qas', 'context']\n",
            "qas keys: ['question', 'id', 'answers', 'is_impossible']\n",
            "answers keys: ['text', 'answer_start']\n"
          ],
          "name": "stdout"
        }
      ]
    },
    {
      "cell_type": "code",
      "metadata": {
        "id": "g5BFo3XH7pNl",
        "colab_type": "code",
        "outputId": "0ad46afe-1ec3-4696-e100-0d251f6b7e0f",
        "colab": {
          "base_uri": "https://localhost:8080/",
          "height": 34
        }
      },
      "source": [
        "# Count Corpora\n",
        "print('Nbr Corpora: {}'.format(len(dataset_json['data'])))"
      ],
      "execution_count": 0,
      "outputs": [
        {
          "output_type": "stream",
          "text": [
            "Nbr Corpora: 442\n"
          ],
          "name": "stdout"
        }
      ]
    },
    {
      "cell_type": "code",
      "metadata": {
        "id": "peWhW9cRJXZM",
        "colab_type": "code",
        "outputId": "185e445d-8b60-48f3-d23c-2e4a0bdfb918",
        "colab": {
          "base_uri": "https://localhost:8080/",
          "height": 34
        }
      },
      "source": [
        "# Count Corpora\n",
        "print(len(dataset_json['data']))"
      ],
      "execution_count": 0,
      "outputs": [
        {
          "output_type": "stream",
          "text": [
            "442\n"
          ],
          "name": "stdout"
        }
      ]
    },
    {
      "cell_type": "code",
      "metadata": {
        "id": "Q9lrcdoQ729L",
        "colab_type": "code",
        "colab": {}
      },
      "source": [
        "# Print Corpora Titles\n",
        "pprint(list(pd.json_normalize(dataset_json,'data')['title']))"
      ],
      "execution_count": 0,
      "outputs": []
    },
    {
      "cell_type": "code",
      "metadata": {
        "id": "KaLy0jI78P5h",
        "colab_type": "code",
        "colab": {}
      },
      "source": [
        "def convert_squad_to_tidy_df(json_dict, corpus):\n",
        "    \"\"\"This function converts the SQuAD JSON data to a Tidy Data Pandas Dataframe.\n",
        "    \n",
        "    :param obj json_dict: squad json data\n",
        "    :param str corpus: name of squad corpora to select subset from json object\n",
        "    \n",
        "    :returns: converted json data\n",
        "    :rtype: pandas dataframe\n",
        "    \n",
        "    \"\"\"\n",
        "    data = [c for c in json_dict['data'] if c['title']==corpus][0]\n",
        "    df = pd.DataFrame()    \n",
        "    data_paragraphs = data['paragraphs']\n",
        "    for article_dict in data_paragraphs:\n",
        "        row = []\n",
        "        for answers_dict in article_dict['qas']:                    \n",
        "          if answers_dict['is_impossible'] == True:\n",
        "            for answer in answers_dict['plausible_answers']:\n",
        "                row.append((c['title'],\n",
        "                            article_dict['context'], \n",
        "                            answers_dict['question'], \n",
        "                            answers_dict['id'],\n",
        "                            '',\n",
        "                            '',                          \n",
        "                            answer['answer_start'],\n",
        "                            answer['text'],\n",
        "                            answers_dict['is_impossible']\n",
        "                           ))            \n",
        "          else:\n",
        "            for answer in answers_dict['answers']:\n",
        "                row.append((c['title'],\n",
        "                            article_dict['context'], \n",
        "                            answers_dict['question'], \n",
        "                            answers_dict['id'],\n",
        "                            answer['answer_start'],\n",
        "                            answer['text'],\n",
        "                            '',\n",
        "                            '',\n",
        "                            answers_dict['is_impossible']\n",
        "                           ))\n",
        "        df = pd.concat([df, pd.DataFrame.from_records(row, columns=['title','context', 'question', 'id', 'answer_start', 'answer','plausible_answer_start', 'plausible_answer','is_impossible'])], axis=0, ignore_index=True)\n",
        "        # df.drop_duplicates(inplace=True)\n",
        "    return df\n",
        "\n",
        "\n",
        " "
      ],
      "execution_count": 0,
      "outputs": []
    },
    {
      "cell_type": "code",
      "metadata": {
        "id": "7sa9fPY0_4fk",
        "colab_type": "code",
        "colab": {}
      },
      "source": [
        "appended_data = []\n",
        "\n",
        "for c in dataset_json['data']: \n",
        "  data = convert_squad_to_tidy_df(dataset_json, c['title'])\n",
        "  # store DataFrame in list\n",
        "  appended_data.append(data)\n",
        "\n",
        "appended_data = pd.concat(appended_data)"
      ],
      "execution_count": 0,
      "outputs": []
    },
    {
      "cell_type": "code",
      "metadata": {
        "id": "01NQUYDvDUUR",
        "colab_type": "code",
        "outputId": "52a930d6-90ec-4b7e-850f-c5b3ae374033",
        "colab": {
          "base_uri": "https://localhost:8080/",
          "height": 34
        }
      },
      "source": [
        "appended_data.shape"
      ],
      "execution_count": 0,
      "outputs": [
        {
          "output_type": "execute_result",
          "data": {
            "text/plain": [
              "(130319, 9)"
            ]
          },
          "metadata": {
            "tags": []
          },
          "execution_count": 89
        }
      ]
    },
    {
      "cell_type": "code",
      "metadata": {
        "id": "0ZXljXbeDypl",
        "colab_type": "code",
        "outputId": "f666c3ff-6d63-4ac0-b28b-146f0396b7ef",
        "colab": {
          "base_uri": "https://localhost:8080/",
          "height": 164
        }
      },
      "source": [
        "appended_data.head(50)"
      ],
      "execution_count": 0,
      "outputs": [
        {
          "output_type": "error",
          "ename": "NameError",
          "evalue": "ignored",
          "traceback": [
            "\u001b[0;31m---------------------------------------------------------------------------\u001b[0m",
            "\u001b[0;31mNameError\u001b[0m                                 Traceback (most recent call last)",
            "\u001b[0;32m<ipython-input-1-36f2c167ac9f>\u001b[0m in \u001b[0;36m<module>\u001b[0;34m()\u001b[0m\n\u001b[0;32m----> 1\u001b[0;31m \u001b[0mappended_data\u001b[0m\u001b[0;34m.\u001b[0m\u001b[0mhead\u001b[0m\u001b[0;34m(\u001b[0m\u001b[0;36m50\u001b[0m\u001b[0;34m)\u001b[0m\u001b[0;34m\u001b[0m\u001b[0;34m\u001b[0m\u001b[0m\n\u001b[0m",
            "\u001b[0;31mNameError\u001b[0m: name 'appended_data' is not defined"
          ]
        }
      ]
    },
    {
      "cell_type": "code",
      "metadata": {
        "id": "vJunijwYGyTF",
        "colab_type": "code",
        "outputId": "61d52cbd-b4c3-48bd-9ae3-5c1e63eaa95e",
        "colab": {
          "base_uri": "https://localhost:8080/",
          "height": 68
        }
      },
      "source": [
        "appended_data['is_impossible'].value_counts()"
      ],
      "execution_count": 0,
      "outputs": [
        {
          "output_type": "execute_result",
          "data": {
            "text/plain": [
              "False    86821\n",
              "True     43498\n",
              "Name: is_impossible, dtype: int64"
            ]
          },
          "metadata": {
            "tags": []
          },
          "execution_count": 63
        }
      ]
    },
    {
      "cell_type": "code",
      "metadata": {
        "id": "6BvqbapRHtGT",
        "colab_type": "code",
        "outputId": "647dc1e3-02be-4ba7-97ca-10a3015f97ed",
        "colab": {
          "base_uri": "https://localhost:8080/",
          "height": 185
        }
      },
      "source": [
        "appended_data[appended_data['id'] == '5a8d7bf7df8bba001a0f9ab1']"
      ],
      "execution_count": 0,
      "outputs": [
        {
          "output_type": "execute_result",
          "data": {
            "text/html": [
              "<div>\n",
              "<style scoped>\n",
              "    .dataframe tbody tr th:only-of-type {\n",
              "        vertical-align: middle;\n",
              "    }\n",
              "\n",
              "    .dataframe tbody tr th {\n",
              "        vertical-align: top;\n",
              "    }\n",
              "\n",
              "    .dataframe thead th {\n",
              "        text-align: right;\n",
              "    }\n",
              "</style>\n",
              "<table border=\"1\" class=\"dataframe\">\n",
              "  <thead>\n",
              "    <tr style=\"text-align: right;\">\n",
              "      <th></th>\n",
              "      <th>title</th>\n",
              "      <th>context</th>\n",
              "      <th>question</th>\n",
              "      <th>id</th>\n",
              "      <th>answer_start</th>\n",
              "      <th>answer</th>\n",
              "      <th>plausible_answer_start</th>\n",
              "      <th>plausible_answer</th>\n",
              "      <th>is_impossible</th>\n",
              "    </tr>\n",
              "  </thead>\n",
              "  <tbody>\n",
              "    <tr>\n",
              "      <th>7</th>\n",
              "      <td>The_Legend_of_Zelda:_Twilight_Princess</td>\n",
              "      <td>The Legend of Zelda: Twilight Princess (Japane...</td>\n",
              "      <td>What category of game is Legend of Zelda: Aust...</td>\n",
              "      <td>5a8d7bf7df8bba001a0f9ab1</td>\n",
              "      <td></td>\n",
              "      <td></td>\n",
              "      <td>128</td>\n",
              "      <td>action-adventure</td>\n",
              "      <td>True</td>\n",
              "    </tr>\n",
              "  </tbody>\n",
              "</table>\n",
              "</div>"
            ],
            "text/plain": [
              "                                    title  ... is_impossible\n",
              "7  The_Legend_of_Zelda:_Twilight_Princess  ...          True\n",
              "\n",
              "[1 rows x 9 columns]"
            ]
          },
          "metadata": {
            "tags": []
          },
          "execution_count": 73
        }
      ]
    },
    {
      "cell_type": "code",
      "metadata": {
        "id": "rAesWkerEwZ4",
        "colab_type": "code",
        "colab": {}
      },
      "source": [
        "appended_data.to_csv( project_path + '/squad_train_data.csv')"
      ],
      "execution_count": 0,
      "outputs": []
    },
    {
      "cell_type": "markdown",
      "metadata": {
        "id": "itQVHmh7xKo2",
        "colab_type": "text"
      },
      "source": [
        "# Possible EDAs:\n",
        " #Count Plot\n",
        " #Number of characters/words\n",
        " #Unique words\n",
        " #Word Cloud\n",
        " #Common Stopwords\n",
        " #Analysing punctuation\n",
        " #Ngram Analysis\n",
        " #Answer type distribution\n",
        " #Avg tokens/sentences\n",
        " #Comparison within datasets used\n"
      ]
    },
    {
      "cell_type": "code",
      "metadata": {
        "id": "CFD8rPeAwSra",
        "colab_type": "code",
        "colab": {}
      },
      "source": [
        "#1\n",
        "#import seaborn as sns\n",
        "#sns.countplot(data = appended_data, x = \"context\")\n",
        "squad_df = pd.read_csv(project_path+'squad_train_data.csv')\n",
        "squad_df.drop('Unnamed: 0',axis=1,inplace=True)"
      ],
      "execution_count": 0,
      "outputs": []
    },
    {
      "cell_type": "code",
      "metadata": {
        "id": "vSUoGtAYC0Ua",
        "colab_type": "code",
        "outputId": "adccf6e5-e176-443c-e345-6c293f4d0bbd",
        "colab": {
          "base_uri": "https://localhost:8080/",
          "height": 374
        }
      },
      "source": [
        "appended_data.head()"
      ],
      "execution_count": 0,
      "outputs": [
        {
          "output_type": "execute_result",
          "data": {
            "text/html": [
              "<div>\n",
              "<style scoped>\n",
              "    .dataframe tbody tr th:only-of-type {\n",
              "        vertical-align: middle;\n",
              "    }\n",
              "\n",
              "    .dataframe tbody tr th {\n",
              "        vertical-align: top;\n",
              "    }\n",
              "\n",
              "    .dataframe thead th {\n",
              "        text-align: right;\n",
              "    }\n",
              "</style>\n",
              "<table border=\"1\" class=\"dataframe\">\n",
              "  <thead>\n",
              "    <tr style=\"text-align: right;\">\n",
              "      <th></th>\n",
              "      <th>title</th>\n",
              "      <th>context</th>\n",
              "      <th>question</th>\n",
              "      <th>id</th>\n",
              "      <th>answer_start</th>\n",
              "      <th>answer</th>\n",
              "      <th>plausible_answer_start</th>\n",
              "      <th>plausible_answer</th>\n",
              "      <th>is_impossible</th>\n",
              "    </tr>\n",
              "  </thead>\n",
              "  <tbody>\n",
              "    <tr>\n",
              "      <th>0</th>\n",
              "      <td>Beyoncé</td>\n",
              "      <td>Beyoncé Giselle Knowles-Carter (/biːˈjɒnseɪ/ b...</td>\n",
              "      <td>When did Beyonce start becoming popular?</td>\n",
              "      <td>56be85543aeaaa14008c9063</td>\n",
              "      <td>269</td>\n",
              "      <td>in the late 1990s</td>\n",
              "      <td></td>\n",
              "      <td></td>\n",
              "      <td>False</td>\n",
              "    </tr>\n",
              "    <tr>\n",
              "      <th>1</th>\n",
              "      <td>Beyoncé</td>\n",
              "      <td>Beyoncé Giselle Knowles-Carter (/biːˈjɒnseɪ/ b...</td>\n",
              "      <td>What areas did Beyonce compete in when she was...</td>\n",
              "      <td>56be85543aeaaa14008c9065</td>\n",
              "      <td>207</td>\n",
              "      <td>singing and dancing</td>\n",
              "      <td></td>\n",
              "      <td></td>\n",
              "      <td>False</td>\n",
              "    </tr>\n",
              "    <tr>\n",
              "      <th>2</th>\n",
              "      <td>Beyoncé</td>\n",
              "      <td>Beyoncé Giselle Knowles-Carter (/biːˈjɒnseɪ/ b...</td>\n",
              "      <td>When did Beyonce leave Destiny's Child and bec...</td>\n",
              "      <td>56be85543aeaaa14008c9066</td>\n",
              "      <td>526</td>\n",
              "      <td>2003</td>\n",
              "      <td></td>\n",
              "      <td></td>\n",
              "      <td>False</td>\n",
              "    </tr>\n",
              "    <tr>\n",
              "      <th>3</th>\n",
              "      <td>Beyoncé</td>\n",
              "      <td>Beyoncé Giselle Knowles-Carter (/biːˈjɒnseɪ/ b...</td>\n",
              "      <td>In what city and state did Beyonce  grow up?</td>\n",
              "      <td>56bf6b0f3aeaaa14008c9601</td>\n",
              "      <td>166</td>\n",
              "      <td>Houston, Texas</td>\n",
              "      <td></td>\n",
              "      <td></td>\n",
              "      <td>False</td>\n",
              "    </tr>\n",
              "    <tr>\n",
              "      <th>4</th>\n",
              "      <td>Beyoncé</td>\n",
              "      <td>Beyoncé Giselle Knowles-Carter (/biːˈjɒnseɪ/ b...</td>\n",
              "      <td>In which decade did Beyonce become famous?</td>\n",
              "      <td>56bf6b0f3aeaaa14008c9602</td>\n",
              "      <td>276</td>\n",
              "      <td>late 1990s</td>\n",
              "      <td></td>\n",
              "      <td></td>\n",
              "      <td>False</td>\n",
              "    </tr>\n",
              "  </tbody>\n",
              "</table>\n",
              "</div>"
            ],
            "text/plain": [
              "     title  ... is_impossible\n",
              "0  Beyoncé  ...         False\n",
              "1  Beyoncé  ...         False\n",
              "2  Beyoncé  ...         False\n",
              "3  Beyoncé  ...         False\n",
              "4  Beyoncé  ...         False\n",
              "\n",
              "[5 rows x 9 columns]"
            ]
          },
          "metadata": {
            "tags": []
          },
          "execution_count": 78
        }
      ]
    },
    {
      "cell_type": "code",
      "metadata": {
        "id": "m8PHwJg2DD6A",
        "colab_type": "code",
        "colab": {}
      },
      "source": [
        "# Features..\n",
        "feature = ['context','question']\n",
        "\n",
        "# Target\n",
        "target ='answer'"
      ],
      "execution_count": 0,
      "outputs": []
    },
    {
      "cell_type": "code",
      "metadata": {
        "id": "YeCVt4i1RG9-",
        "colab_type": "code",
        "outputId": "4f792ed6-c27e-4d1d-b5ee-d7e66a62b2cf",
        "colab": {
          "base_uri": "https://localhost:8080/",
          "height": 68
        }
      },
      "source": [
        "import nltk\n",
        "nltk.download('punkt')\n",
        "from nltk.stem import PorterStemmer\n",
        "# Prepare data\n",
        "\n",
        "# Lemma\n",
        "\n",
        "# stop word removal\n",
        "\n",
        "# vectorization tfidvectoriation\n",
        "\n",
        "# vectorization word2vec\n"
      ],
      "execution_count": 0,
      "outputs": [
        {
          "output_type": "stream",
          "text": [
            "[nltk_data] Downloading package punkt to /root/nltk_data...\n",
            "[nltk_data]   Unzipping tokenizers/punkt.zip.\n"
          ],
          "name": "stdout"
        },
        {
          "output_type": "execute_result",
          "data": {
            "text/plain": [
              "True"
            ]
          },
          "metadata": {
            "tags": []
          },
          "execution_count": 80
        }
      ]
    },
    {
      "cell_type": "code",
      "metadata": {
        "id": "SwdtfUV-SP_b",
        "colab_type": "code",
        "colab": {}
      },
      "source": [
        "# Stemming\n",
        "#Function to Stem words\n",
        "def get_stemmed_text(corpus):\n",
        "    stemmer = PorterStemmer()\n",
        "    return [' '.join([stemmer.stem(word) for word in review.split()]) for review in corpus]"
      ],
      "execution_count": 0,
      "outputs": []
    },
    {
      "cell_type": "code",
      "metadata": {
        "id": "oqiCoP6jSZIA",
        "colab_type": "code",
        "outputId": "fccaa738-c597-4666-86b5-b0c145771bfd",
        "colab": {
          "base_uri": "https://localhost:8080/",
          "height": 221
        }
      },
      "source": [
        "appended_data['context'][0]"
      ],
      "execution_count": 0,
      "outputs": [
        {
          "output_type": "execute_result",
          "data": {
            "text/plain": [
              "0    Beyoncé Giselle Knowles-Carter (/biːˈjɒnseɪ/ b...\n",
              "0    Following the disbandment of Destiny's Child i...\n",
              "0    A self-described \"modern-day feminist\", Beyonc...\n",
              "0    Beyoncé Giselle Knowles was born in Houston, T...\n",
              "0    Beyoncé attended St. Mary's Elementary School ...\n",
              "                           ...                        \n",
              "0    Isaac Newton (1643–1727) inherited Descartes' ...\n",
              "0    There is an entire literature concerning the \"...\n",
              "0    In the late 19th century with the discovery of...\n",
              "0    These quarks and leptons interact through four...\n",
              "0    The term \"matter\" is used throughout physics i...\n",
              "Name: context, Length: 19035, dtype: object"
            ]
          },
          "metadata": {
            "tags": []
          },
          "execution_count": 90
        }
      ]
    },
    {
      "cell_type": "code",
      "metadata": {
        "id": "YpXkkhXCR7M0",
        "colab_type": "code",
        "colab": {}
      },
      "source": [
        ""
      ],
      "execution_count": 0,
      "outputs": []
    }
  ]
}