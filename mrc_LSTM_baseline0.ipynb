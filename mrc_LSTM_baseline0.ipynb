{
 "cells": [
  {
   "cell_type": "markdown",
   "metadata": {
    "colab_type": "text",
    "id": "view-in-github"
   },
   "source": [
    "<a href=\"https://colab.research.google.com/github/sandipanbasu/aiml-capstone/blob/master/mrc_LSTM_baseline0.ipynb\" target=\"_parent\"><img src=\"https://colab.research.google.com/assets/colab-badge.svg\" alt=\"Open In Colab\"/></a>"
   ]
  },
  {
   "cell_type": "markdown",
   "metadata": {
    "colab_type": "text",
    "id": "879mz4G6-lRH"
   },
   "source": [
    "## 1. Import Libraries, setting Google Drive"
   ]
  },
  {
   "cell_type": "code",
   "execution_count": null,
   "metadata": {
    "colab": {
     "base_uri": "https://localhost:8080/",
     "height": 54
    },
    "colab_type": "code",
    "id": "DA8sHlEbfYnn",
    "outputId": "5e42e0b6-20b3-4f43-de31-bacc9f42025a"
   },
   "outputs": [
    {
     "name": "stdout",
     "output_type": "stream",
     "text": [
      "Drive already mounted at /content/drive; to attempt to forcibly remount, call drive.mount(\"/content/drive\", force_remount=True).\n"
     ]
    }
   ],
   "source": [
    "from google.colab import drive\n",
    "drive.mount('/content/drive')"
   ]
  },
  {
   "cell_type": "code",
   "execution_count": null,
   "metadata": {
    "colab": {
     "base_uri": "https://localhost:8080/",
     "height": 34
    },
    "colab_type": "code",
    "id": "u_po1L9T-V5d",
    "outputId": "c9a4e652-9900-4d30-f488-f7ee9c507915"
   },
   "outputs": [
    {
     "data": {
      "text/plain": [
       "'2.2.0'"
      ]
     },
     "execution_count": 4,
     "metadata": {
      "tags": []
     },
     "output_type": "execute_result"
    }
   ],
   "source": [
    "tf.__version__"
   ]
  },
  {
   "cell_type": "code",
   "execution_count": 1,
   "metadata": {
    "colab": {
     "base_uri": "https://localhost:8080/",
     "height": 136
    },
    "colab_type": "code",
    "id": "yTDFtsEtV7dY",
    "outputId": "3abbb096-7eee-4e76-f4f9-7f04251e1bc7"
   },
   "outputs": [
    {
     "name": "stderr",
     "output_type": "stream",
     "text": [
      "[nltk_data] Downloading package stopwords to /root/nltk_data...\n",
      "[nltk_data]   Package stopwords is already up-to-date!\n",
      "[nltk_data] Downloading package punkt to /root/nltk_data...\n",
      "[nltk_data]   Package punkt is already up-to-date!\n",
      "[nltk_data] Downloading package wordnet to /root/nltk_data...\n",
      "[nltk_data]   Package wordnet is already up-to-date!\n"
     ]
    },
    {
     "data": {
      "text/plain": [
       "True"
      ]
     },
     "execution_count": 1,
     "metadata": {},
     "output_type": "execute_result"
    }
   ],
   "source": [
    "import warnings\n",
    "import tensorflow as tf\n",
    "tf.debugging.set_log_device_placement(True)\n",
    "import pickle\n",
    "from tensorflow.keras import layers\n",
    "from tensorflow.keras import preprocessing\n",
    "import numpy as np\n",
    "import pandas as pd\n",
    "import json\n",
    "from sklearn.model_selection import train_test_split\n",
    "import pprint\n",
    "from tensorflow.keras.layers import Bidirectional,LSTM,Dense,Dropout,BatchNormalization,Flatten,Input\n",
    "from tensorflow.keras.models import Model\n",
    "from tensorflow.keras.layers import concatenate\n",
    "from numpy import array\n",
    "import nltk\n",
    "import re\n",
    "from nltk.tokenize import RegexpTokenizer\n",
    "from nltk.stem import WordNetLemmatizer,PorterStemmer\n",
    "from nltk.corpus import stopwords\n",
    "from nltk.tokenize import word_tokenize \n",
    "nltk.download('stopwords')\n",
    "nltk.download('punkt')\n",
    "nltk.download('wordnet')"
   ]
  },
  {
   "cell_type": "code",
   "execution_count": null,
   "metadata": {
    "colab": {},
    "colab_type": "code",
    "id": "uPD8_fgd8PhR"
   },
   "outputs": [],
   "source": [
    "# we will store the params as we go along in this object\n",
    "params = {}\n",
    "project_path = \"/content/drive/My Drive/AIML-MRC-Capstone/datasets/Squad2.0/TrainingDataset/\"\n",
    "model_path = \"/content/drive/My Drive/AIML-MRC-Capstone/models/\"\n",
    "tensorboard_logpath  = \"/content/drive/My Drive/AIML-MRC-Capstone/models/tensorboard-logs/\""
   ]
  },
  {
   "cell_type": "code",
   "execution_count": 3,
   "metadata": {},
   "outputs": [],
   "source": [
    "## FOR PAPERSPACE\n",
    "# we will store the params as we go along in this object\n",
    "params = {}\n",
    "project_path = \"/storage/\"\n",
    "model_path = \"/storage/models/\"\n",
    "tensorboard_logpath  = \"/notebooks/tensorboard-logs/\""
   ]
  },
  {
   "cell_type": "markdown",
   "metadata": {
    "colab_type": "text",
    "id": "09eGk3oWWCaP"
   },
   "source": [
    "# Objective - LSTM Baseline 0 \n",
    "\n",
    "*   **Inputs: A question q = {q1, ..., qQ} of length Q and a context paragraph p = {p1, ..., pP } of length P.**\n",
    "*   **Output: An answer span {as, ae} where as is the index of the first answer token in p, ae is the index of the last answer token in p, 0 <= as, ae >= m, and ae >= as.** \n",
    "\n"
   ]
  },
  {
   "cell_type": "markdown",
   "metadata": {
    "colab_type": "text",
    "id": "C-TACUiuOCJw"
   },
   "source": [
    "## 0 Common Functions"
   ]
  },
  {
   "cell_type": "markdown",
   "metadata": {
    "colab_type": "text",
    "id": "XtBcy2Qwm2-c"
   },
   "source": [
    "#### 0.1 Custom function for preprocessing of context and question"
   ]
  },
  {
   "cell_type": "code",
   "execution_count": null,
   "metadata": {
    "colab": {},
    "colab_type": "code",
    "id": "LFr3-S_Gm9FX"
   },
   "outputs": [],
   "source": [
    "# remove unwanted chars\n",
    "# convert to lowercase\n",
    "# remove unwanted spaces\n",
    "# remove stop words\n",
    "stop_words = set(stopwords.words('english')) \n",
    "\n",
    "## reference \n",
    "def decontracted(phrase):\n",
    "    \"\"\"\n",
    "    This function remooves punctuation from given sentence.\n",
    "    \"\"\"\n",
    "\n",
    "    if(phrase is np.nan):\n",
    "      return 'impossible'      \n",
    "\n",
    "    try:      \n",
    "      # specific\n",
    "      phrase = re.sub(r\"won\\'t\", \"will not\", phrase)\n",
    "      phrase = re.sub(r\"can\\'t\", \"can not\", phrase)\n",
    "\n",
    "      # general\n",
    "      phrase = re.sub(r\"n\\'t\", \" not\", phrase)\n",
    "      phrase = re.sub(r\"\\'re\", \" are\", phrase)\n",
    "      phrase = re.sub(r\"\\'s\", \" is\", phrase)\n",
    "      phrase = re.sub(r\"\\'d\", \" would\", phrase)\n",
    "      phrase = re.sub(r\"\\'ll\", \" will\", phrase)\n",
    "      phrase = re.sub(r\"\\'t\", \" not\", phrase)\n",
    "      phrase = re.sub(r\"\\'ve\", \" have\", phrase)\n",
    "      phrase = re.sub(r\"\\'m\", \" am\", phrase)\n",
    "      \n",
    "      # string operation\n",
    "      phrase = phrase.replace('\\\\r', ' ')\n",
    "      phrase = phrase.replace('\\\\\"', ' ')\n",
    "      phrase = phrase.replace('\\\\n', ' ')\n",
    "\n",
    "      phrase = re.sub('[^A-Za-z0-9]+', ' ', phrase.lower())\n",
    "    except:\n",
    "      print(phrase)  \n",
    "    \n",
    "    return phrase\n",
    "\n",
    "def preprocess_text(corpus, text_lower_case=True, \n",
    "                      special_char_removal=True, stopword_removal=True, remove_digits=False):    \n",
    "    normalized_text = []\n",
    "    # normalize each document in the corpus\n",
    "    for doc in corpus:\n",
    "        # doc = decontracted(doc)\n",
    "        # lowercase the text    \n",
    "        if text_lower_case:\n",
    "            doc = doc.lower()\n",
    "        # remove special characters and\\or digits    \n",
    "        if special_char_removal:\n",
    "            # insert spaces between special characters to isolate them    \n",
    "            special_char_pattern = re.compile(r'([{.(-)!}])')\n",
    "            doc = special_char_pattern.sub(\" \\\\1 \", doc)\n",
    "            doc = remove_special_characters(doc, remove_digits=remove_digits) \n",
    "\n",
    "        if stopword_removal:\n",
    "            doc = remove_stopwords(doc)\n",
    "\n",
    "        normalized_text.append(doc)\n",
    "        \n",
    "    return normalized_text\n",
    "\n",
    "def remove_special_characters(text, remove_digits=False):\n",
    "    #Using regex\n",
    "    pattern = r'[^a-zA-z0-9\\s]' if not remove_digits else r'[^a-zA-z\\s]'\n",
    "    text = re.sub(pattern, '', text)\n",
    "    return text\n",
    "\n",
    "def remove_stopwords(text):  \n",
    "    word_tokens = word_tokenize(text) \n",
    "    filtered_sentence = [w for w in word_tokens if not w in stop_words]   \n",
    "    filtered_sentence = [] \n",
    "    for w in word_tokens: \n",
    "        if w not in stop_words: \n",
    "            filtered_sentence.append(w)                 \n",
    "    return ' '.join(filtered_sentence)"
   ]
  },
  {
   "cell_type": "markdown",
   "metadata": {
    "colab_type": "text",
    "id": "20-D8HBeOf_p"
   },
   "source": [
    "### 0.2 Answer Span from Context and Answer, and reverse for predicted spans"
   ]
  },
  {
   "cell_type": "code",
   "execution_count": null,
   "metadata": {
    "colab": {},
    "colab_type": "code",
    "id": "vbM8z2AEjxKK"
   },
   "outputs": [],
   "source": [
    "def tokenize(sentence):\n",
    "    \"\"\"\n",
    "    Returns tokenised words.\n",
    "    \"\"\"\n",
    "    return nltk.word_tokenize(sentence)\n",
    "\n",
    "def answer_span(context,ans):\n",
    "    \"\"\"\n",
    "    This funtion returns anwer span start index and end index.\n",
    "    \"\"\"\n",
    "    ans_token = tokenize(ans)\n",
    "    con_token = tokenize(context)\n",
    "    ans_len = len(ans_token)\n",
    "    \n",
    "    if ans_len!=0 and ans_token[0] in con_token:\n",
    "    \n",
    "        indices = [i for i, x in enumerate(con_token) if x == ans_token[0]]        \n",
    "        try:\n",
    "\n",
    "            if(len(indices)>1):\n",
    "                start = [i for i in indices if (con_token[i:i+ans_len] == ans_token) ]\n",
    "                end = start[0] + ans_len - 1\n",
    "                return start[0],end\n",
    "\n",
    "            else:\n",
    "                start = con_token.index(ans_token[0])\n",
    "                end = start + ans_len - 1\n",
    "                return start,end\n",
    "        except:\n",
    "            return -1,-1\n",
    "    else:\n",
    "        return -1,-1\n",
    "\n",
    "def span_to_answer(span, context):\n",
    "  con_token = tokenize(context)  \n",
    "  return ' '.join(con_token[span[0]:span[1]+1])"
   ]
  },
  {
   "cell_type": "markdown",
   "metadata": {
    "colab_type": "text",
    "id": "_sveyxKK5j8q"
   },
   "source": [
    "### 0.3 Update and persist params"
   ]
  },
  {
   "cell_type": "code",
   "execution_count": 4,
   "metadata": {
    "colab": {
     "base_uri": "https://localhost:8080/",
     "height": 34
    },
    "colab_type": "code",
    "id": "K170rfN15qGP",
    "outputId": "d35383f6-7ed3-4e32-c9b3-b76cb418c513"
   },
   "outputs": [],
   "source": [
    "### SAVE PARAMS\n",
    "# Writing to sample.json \n",
    "\n",
    "def updateparams():\n",
    "  with open(model_path + \"params.json\", \"w\") as p: \n",
    "    p.write(json.dumps(params))\n",
    "  print(\"params.jsop updated and can be found in \", model_path + \"params.json\")  \n",
    "\n",
    "# updateparams()"
   ]
  },
  {
   "cell_type": "code",
   "execution_count": 5,
   "metadata": {
    "colab": {},
    "colab_type": "code",
    "id": "yYMDmMJNU9mw"
   },
   "outputs": [],
   "source": [
    "def showparams():\n",
    "  pprint.pprint(params)"
   ]
  },
  {
   "cell_type": "markdown",
   "metadata": {
    "colab_type": "text",
    "id": "hxuHGmpRMBHT"
   },
   "source": [
    "## 1 Context, Answer EDA "
   ]
  },
  {
   "cell_type": "markdown",
   "metadata": {
    "colab_type": "text",
    "id": "6tWRDHA6z_Ji"
   },
   "source": [
    "**<font color=\"red\">BE CAREFUL BEFORE EXECUTING THIS PLEASE. THERE IS HIGH CHANCE THAT THIS WILL OVERWRITE EXISTING DATAFRAMES</font>** "
   ]
  },
  {
   "cell_type": "code",
   "execution_count": null,
   "metadata": {
    "colab": {},
    "colab_type": "code",
    "id": "JsuZ3NdiMOiB"
   },
   "outputs": [],
   "source": [
    "squad_df = pd.read_csv(project_path+'squad_data_final_withstopword_withpunctuation.csv')\n",
    "squad_df.drop('Unnamed: 0',axis=1,inplace=True)"
   ]
  },
  {
   "cell_type": "code",
   "execution_count": null,
   "metadata": {
    "colab": {},
    "colab_type": "code",
    "id": "Vps2_zIB7q7i"
   },
   "outputs": [],
   "source": [
    "### specific cleaning of context and question\n",
    "### DO NOT REMOVE STOP WORDS \n",
    "###\n",
    "squad_df['clean_context'] = preprocess_text(squad_df['context'],stopword_removal=False, special_char_removal=False)\n",
    "squad_df['clean_question'] = preprocess_text(squad_df['question'],stopword_removal=False, special_char_removal=False)\n",
    "# "
   ]
  },
  {
   "cell_type": "code",
   "execution_count": null,
   "metadata": {
    "colab": {},
    "colab_type": "code",
    "id": "pZ5CD4fzCPcj"
   },
   "outputs": [],
   "source": [
    "squad_df['clean_answer'] = preprocess_text(squad_df['answer'],stopword_removal=False, special_char_removal = False)\n",
    "\n",
    "# preprocess_text([squad_df['answer'].iloc[23]],stopword_removal=False, special_char_removal = False)\n",
    "# preprocess_text([np.nan],stopword_removal=False, special_char_removal = False)"
   ]
  },
  {
   "cell_type": "code",
   "execution_count": null,
   "metadata": {
    "colab": {
     "base_uri": "https://localhost:8080/",
     "height": 867
    },
    "colab_type": "code",
    "id": "UgrKpCLgC8q-",
    "outputId": "381d3afc-8e27-42fc-9cf4-2c67356096d3"
   },
   "outputs": [
    {
     "data": {
      "text/html": [
       "<div>\n",
       "<style scoped>\n",
       "    .dataframe tbody tr th:only-of-type {\n",
       "        vertical-align: middle;\n",
       "    }\n",
       "\n",
       "    .dataframe tbody tr th {\n",
       "        vertical-align: top;\n",
       "    }\n",
       "\n",
       "    .dataframe thead th {\n",
       "        text-align: right;\n",
       "    }\n",
       "</style>\n",
       "<table border=\"1\" class=\"dataframe\">\n",
       "  <thead>\n",
       "    <tr style=\"text-align: right;\">\n",
       "      <th></th>\n",
       "      <th>title</th>\n",
       "      <th>context</th>\n",
       "      <th>question</th>\n",
       "      <th>id</th>\n",
       "      <th>answer_start</th>\n",
       "      <th>answer</th>\n",
       "      <th>plausible_answer_start</th>\n",
       "      <th>plausible_answer</th>\n",
       "      <th>is_impossible</th>\n",
       "      <th>clean_context</th>\n",
       "      <th>clean_question</th>\n",
       "      <th>clean_answer</th>\n",
       "      <th>answer_len</th>\n",
       "      <th>answer_end</th>\n",
       "      <th>answer_span</th>\n",
       "      <th>answer_word_span</th>\n",
       "    </tr>\n",
       "  </thead>\n",
       "  <tbody>\n",
       "    <tr>\n",
       "      <th>0</th>\n",
       "      <td>Beyoncé</td>\n",
       "      <td>Beyoncé Giselle Knowles-Carter (/biːˈjɒnseɪ/ b...</td>\n",
       "      <td>When did Beyonce start becoming popular?</td>\n",
       "      <td>56be85543aeaaa14008c9063</td>\n",
       "      <td>269</td>\n",
       "      <td>in the late 1990s</td>\n",
       "      <td>NaN</td>\n",
       "      <td>NaN</td>\n",
       "      <td>False</td>\n",
       "      <td>beyonc giselle knowles carter bi j nse bee yon...</td>\n",
       "      <td>when did beyonce start becoming popular</td>\n",
       "      <td>in the late 1990s</td>\n",
       "      <td>17</td>\n",
       "      <td>286</td>\n",
       "      <td>(269, 286)</td>\n",
       "      <td>(44, 47)</td>\n",
       "    </tr>\n",
       "    <tr>\n",
       "      <th>1</th>\n",
       "      <td>Beyoncé</td>\n",
       "      <td>Beyoncé Giselle Knowles-Carter (/biːˈjɒnseɪ/ b...</td>\n",
       "      <td>What areas did Beyonce compete in when she was...</td>\n",
       "      <td>56be85543aeaaa14008c9065</td>\n",
       "      <td>207</td>\n",
       "      <td>singing and dancing</td>\n",
       "      <td>NaN</td>\n",
       "      <td>NaN</td>\n",
       "      <td>False</td>\n",
       "      <td>beyonc giselle knowles carter bi j nse bee yon...</td>\n",
       "      <td>what areas did beyonce compete in when she was...</td>\n",
       "      <td>singing and dancing</td>\n",
       "      <td>19</td>\n",
       "      <td>226</td>\n",
       "      <td>(207, 226)</td>\n",
       "      <td>(33, 35)</td>\n",
       "    </tr>\n",
       "    <tr>\n",
       "      <th>2</th>\n",
       "      <td>Beyoncé</td>\n",
       "      <td>Beyoncé Giselle Knowles-Carter (/biːˈjɒnseɪ/ b...</td>\n",
       "      <td>When did Beyonce leave Destiny's Child and bec...</td>\n",
       "      <td>56be85543aeaaa14008c9066</td>\n",
       "      <td>526</td>\n",
       "      <td>2003</td>\n",
       "      <td>NaN</td>\n",
       "      <td>NaN</td>\n",
       "      <td>False</td>\n",
       "      <td>beyonc giselle knowles carter bi j nse bee yon...</td>\n",
       "      <td>when did beyonce leave destiny is child and be...</td>\n",
       "      <td>2003</td>\n",
       "      <td>4</td>\n",
       "      <td>530</td>\n",
       "      <td>(526, 530)</td>\n",
       "      <td>(93, 93)</td>\n",
       "    </tr>\n",
       "    <tr>\n",
       "      <th>3</th>\n",
       "      <td>Beyoncé</td>\n",
       "      <td>Beyoncé Giselle Knowles-Carter (/biːˈjɒnseɪ/ b...</td>\n",
       "      <td>In what city and state did Beyonce  grow up?</td>\n",
       "      <td>56bf6b0f3aeaaa14008c9601</td>\n",
       "      <td>166</td>\n",
       "      <td>Houston, Texas</td>\n",
       "      <td>NaN</td>\n",
       "      <td>NaN</td>\n",
       "      <td>False</td>\n",
       "      <td>beyonc giselle knowles carter bi j nse bee yon...</td>\n",
       "      <td>in what city and state did beyonce grow up</td>\n",
       "      <td>houston texas</td>\n",
       "      <td>13</td>\n",
       "      <td>179</td>\n",
       "      <td>(166, 179)</td>\n",
       "      <td>(27, 28)</td>\n",
       "    </tr>\n",
       "    <tr>\n",
       "      <th>4</th>\n",
       "      <td>Beyoncé</td>\n",
       "      <td>Beyoncé Giselle Knowles-Carter (/biːˈjɒnseɪ/ b...</td>\n",
       "      <td>In which decade did Beyonce become famous?</td>\n",
       "      <td>56bf6b0f3aeaaa14008c9602</td>\n",
       "      <td>276</td>\n",
       "      <td>late 1990s</td>\n",
       "      <td>NaN</td>\n",
       "      <td>NaN</td>\n",
       "      <td>False</td>\n",
       "      <td>beyonc giselle knowles carter bi j nse bee yon...</td>\n",
       "      <td>in which decade did beyonce become famous</td>\n",
       "      <td>late 1990s</td>\n",
       "      <td>10</td>\n",
       "      <td>286</td>\n",
       "      <td>(276, 286)</td>\n",
       "      <td>(46, 47)</td>\n",
       "    </tr>\n",
       "    <tr>\n",
       "      <th>5</th>\n",
       "      <td>Beyoncé</td>\n",
       "      <td>Beyoncé Giselle Knowles-Carter (/biːˈjɒnseɪ/ b...</td>\n",
       "      <td>In what R&amp;B group was she the lead singer?</td>\n",
       "      <td>56bf6b0f3aeaaa14008c9603</td>\n",
       "      <td>320</td>\n",
       "      <td>Destiny's Child</td>\n",
       "      <td>NaN</td>\n",
       "      <td>NaN</td>\n",
       "      <td>False</td>\n",
       "      <td>beyonc giselle knowles carter bi j nse bee yon...</td>\n",
       "      <td>in what r b group was she the lead singer</td>\n",
       "      <td>destiny is child</td>\n",
       "      <td>14</td>\n",
       "      <td>334</td>\n",
       "      <td>(320, 334)</td>\n",
       "      <td>(56, 58)</td>\n",
       "    </tr>\n",
       "  </tbody>\n",
       "</table>\n",
       "</div>"
      ],
      "text/plain": [
       "     title  ... answer_word_span\n",
       "0  Beyoncé  ...         (44, 47)\n",
       "1  Beyoncé  ...         (33, 35)\n",
       "2  Beyoncé  ...         (93, 93)\n",
       "3  Beyoncé  ...         (27, 28)\n",
       "4  Beyoncé  ...         (46, 47)\n",
       "5  Beyoncé  ...         (56, 58)\n",
       "\n",
       "[6 rows x 16 columns]"
      ]
     },
     "execution_count": 6,
     "metadata": {
      "tags": []
     },
     "output_type": "execute_result"
    }
   ],
   "source": [
    "squad_df.head(6)"
   ]
  },
  {
   "cell_type": "code",
   "execution_count": null,
   "metadata": {
    "colab": {},
    "colab_type": "code",
    "id": "jhUog7nH_uqL"
   },
   "outputs": [],
   "source": [
    "ans_span = []\n",
    "for i in range(len(squad_df)):\n",
    "    s,e = answer_span(squad_df[\"clean_context\"].iloc[i],squad_df[\"clean_answer\"].iloc[i])\n",
    "    ans_span.append((s,e))\n",
    "\n",
    "squad_df[\"answer_word_span\"] = ans_span    "
   ]
  },
  {
   "cell_type": "code",
   "execution_count": null,
   "metadata": {
    "colab": {
     "base_uri": "https://localhost:8080/",
     "height": 68
    },
    "colab_type": "code",
    "id": "BpMnsnfCIqh1",
    "outputId": "664eb3b0-179e-4063-c638-4deb57068883"
   },
   "outputs": [
    {
     "name": "stdout",
     "output_type": "stream",
     "text": [
      "(0, 16)\n",
      "(43502, 16)\n",
      "No of records which does not have answer but span not found in context =  (0, 16)\n"
     ]
    }
   ],
   "source": [
    "# check no of right answer span detection \n",
    "print(squad_df[squad_df[\"answer_word_span\"] == (-1,-1)].shape)\n",
    "print(squad_df[squad_df['clean_answer'] == 'impossible' ].shape)\n",
    "\n",
    "print('No of records which does not have answer but span not found in context = ', \n",
    "      squad_df[(squad_df['clean_answer'] != 'impossible') & (squad_df[\"answer_word_span\"] == (-1,-1))].shape)"
   ]
  },
  {
   "cell_type": "code",
   "execution_count": null,
   "metadata": {
    "colab": {},
    "colab_type": "code",
    "id": "XK2rwLdg9Aqq"
   },
   "outputs": [],
   "source": [
    "# write the latest greatet\n",
    "squad_df.to_csv(project_path+'squad_data_final.csv')"
   ]
  },
  {
   "cell_type": "code",
   "execution_count": null,
   "metadata": {
    "colab": {},
    "colab_type": "code",
    "id": "wYRTJ6qX9kRj"
   },
   "outputs": [],
   "source": [
    "squad_df.head(25)"
   ]
  },
  {
   "cell_type": "code",
   "execution_count": null,
   "metadata": {
    "colab": {
     "base_uri": "https://localhost:8080/",
     "height": 153
    },
    "colab_type": "code",
    "id": "ltvYXgi07_p2",
    "outputId": "d373fc87-1564-427d-d301-2f2392144c6a"
   },
   "outputs": [
    {
     "name": "stdout",
     "output_type": "stream",
     "text": [
      "('beyonc giselle knowles was born in houston texas to celestine ann tina '\n",
      " 'knowles n e beyinc a hairdresser and salon owner and mathew knowles a xerox '\n",
      " 'sales manager beyonc is name is a tribute to her mother is maiden name '\n",
      " 'beyonc is younger sister solange is also a singer and a former member of '\n",
      " 'destiny is child mathew is african american while tina is of louisiana '\n",
      " 'creole descent with african native american french cajun and distant irish '\n",
      " 'and spanish ancestry through her mother beyonc is a descendant of acadian '\n",
      " 'leader joseph broussard she was raised in a methodist household ')\n"
     ]
    }
   ],
   "source": [
    "pprint.pprint(squad_df['clean_context'].iloc[39])"
   ]
  },
  {
   "cell_type": "markdown",
   "metadata": {
    "colab_type": "text",
    "id": "mGZp4iLEHE8n"
   },
   "source": [
    "## 2 Load Squad Data - Cleaned and curated (output of preprocessing step)"
   ]
  },
  {
   "cell_type": "markdown",
   "metadata": {
    "colab_type": "text",
    "id": "CFPpoxl7Afls"
   },
   "source": [
    "### 2.1 Load Data"
   ]
  },
  {
   "cell_type": "code",
   "execution_count": 6,
   "metadata": {
    "colab": {
     "base_uri": "https://localhost:8080/",
     "height": 462
    },
    "colab_type": "code",
    "id": "4_u1n8G3fge_",
    "outputId": "993c0a80-35ae-446d-af68-ce77584baa7a"
   },
   "outputs": [
    {
     "name": "stdout",
     "output_type": "stream",
     "text": [
      "<class 'pandas.core.frame.DataFrame'>\n",
      "RangeIndex: 130306 entries, 0 to 130305\n",
      "Data columns (total 16 columns):\n",
      " #   Column                  Non-Null Count   Dtype  \n",
      "---  ------                  --------------   -----  \n",
      " 0   title                   130306 non-null  object \n",
      " 1   context                 130306 non-null  object \n",
      " 2   question                130306 non-null  object \n",
      " 3   id                      130306 non-null  object \n",
      " 4   answer_start            130306 non-null  int64  \n",
      " 5   answer                  86807 non-null   object \n",
      " 6   plausible_answer_start  43498 non-null   float64\n",
      " 7   plausible_answer        43498 non-null   object \n",
      " 8   is_impossible           130306 non-null  bool   \n",
      " 9   clean_context           130306 non-null  object \n",
      " 10  clean_question          130306 non-null  object \n",
      " 11  clean_answer            130306 non-null  object \n",
      " 12  answer_len              130306 non-null  int64  \n",
      " 13  answer_end              130306 non-null  int64  \n",
      " 14  answer_span             130306 non-null  object \n",
      " 15  answer_word_span        130306 non-null  object \n",
      "dtypes: bool(1), float64(1), int64(3), object(11)\n",
      "memory usage: 15.0+ MB\n",
      "None\n",
      "beyonc giselle knowlescarter bijnse beeyonsay born september 4 1981 american singer songwriter record producer actress born raised houston texas performed various singing dancing competitions child rose fame late 1990s lead singer rb girlgroup destinys child managed father mathew knowles group became one worlds bestselling girl groups time hiatus saw release beyoncs debut album dangerously love 2003 established solo artist worldwide earned five grammy awards featured billboard hot 100 numberone singles crazy love baby boy\n"
     ]
    }
   ],
   "source": [
    "#### NOTE THE 2 data frames's\n",
    "df_nostopwords = 'squad_data_final_context_withoutstopwords.csv'\n",
    "# df_withstopwords = 'squad_data_final_withstopword_withpunctuation.csv'\n",
    "squad_df = pd.read_csv(project_path+'squad_data_final_context_withoutstopwords.csv')\n",
    "squad_df.drop('Unnamed: 0',axis=1,inplace=True)\n",
    "\n",
    "\n",
    "squad_df[\"answer_word_span\"] = squad_df[\"answer_word_span\"].apply(lambda x :eval(x))\n",
    "print(squad_df.info())\n",
    "print(squad_df['clean_context'].iloc[0])"
   ]
  },
  {
   "cell_type": "code",
   "execution_count": 7,
   "metadata": {
    "colab": {
     "base_uri": "https://localhost:8080/",
     "height": 468
    },
    "colab_type": "code",
    "id": "uJ_KUPvezIOi",
    "outputId": "6a1b1150-2009-4b12-9110-342e99615d40"
   },
   "outputs": [
    {
     "data": {
      "text/html": [
       "<div>\n",
       "<style scoped>\n",
       "    .dataframe tbody tr th:only-of-type {\n",
       "        vertical-align: middle;\n",
       "    }\n",
       "\n",
       "    .dataframe tbody tr th {\n",
       "        vertical-align: top;\n",
       "    }\n",
       "\n",
       "    .dataframe thead th {\n",
       "        text-align: right;\n",
       "    }\n",
       "</style>\n",
       "<table border=\"1\" class=\"dataframe\">\n",
       "  <thead>\n",
       "    <tr style=\"text-align: right;\">\n",
       "      <th></th>\n",
       "      <th>title</th>\n",
       "      <th>context</th>\n",
       "      <th>question</th>\n",
       "      <th>id</th>\n",
       "      <th>answer_start</th>\n",
       "      <th>answer</th>\n",
       "      <th>plausible_answer_start</th>\n",
       "      <th>plausible_answer</th>\n",
       "      <th>is_impossible</th>\n",
       "      <th>clean_context</th>\n",
       "      <th>clean_question</th>\n",
       "      <th>clean_answer</th>\n",
       "      <th>answer_len</th>\n",
       "      <th>answer_end</th>\n",
       "      <th>answer_span</th>\n",
       "      <th>answer_word_span</th>\n",
       "    </tr>\n",
       "  </thead>\n",
       "  <tbody>\n",
       "    <tr>\n",
       "      <th>0</th>\n",
       "      <td>Beyoncé</td>\n",
       "      <td>Beyoncé Giselle Knowles-Carter (/biːˈjɒnseɪ/ b...</td>\n",
       "      <td>When did Beyonce start becoming popular?</td>\n",
       "      <td>56be85543aeaaa14008c9063</td>\n",
       "      <td>269</td>\n",
       "      <td>in the late 1990s</td>\n",
       "      <td>NaN</td>\n",
       "      <td>NaN</td>\n",
       "      <td>False</td>\n",
       "      <td>beyonc giselle knowlescarter bijnse beeyonsay ...</td>\n",
       "      <td>when did beyonce start becoming popular</td>\n",
       "      <td>in the late 1990s</td>\n",
       "      <td>17</td>\n",
       "      <td>286</td>\n",
       "      <td>(269, 286)</td>\n",
       "      <td>(-1, -1)</td>\n",
       "    </tr>\n",
       "    <tr>\n",
       "      <th>1</th>\n",
       "      <td>Beyoncé</td>\n",
       "      <td>Beyoncé Giselle Knowles-Carter (/biːˈjɒnseɪ/ b...</td>\n",
       "      <td>What areas did Beyonce compete in when she was...</td>\n",
       "      <td>56be85543aeaaa14008c9065</td>\n",
       "      <td>207</td>\n",
       "      <td>singing and dancing</td>\n",
       "      <td>NaN</td>\n",
       "      <td>NaN</td>\n",
       "      <td>False</td>\n",
       "      <td>beyonc giselle knowlescarter bijnse beeyonsay ...</td>\n",
       "      <td>what areas did beyonce compete in when she was...</td>\n",
       "      <td>singing and dancing</td>\n",
       "      <td>19</td>\n",
       "      <td>226</td>\n",
       "      <td>(207, 226)</td>\n",
       "      <td>(21, 23)</td>\n",
       "    </tr>\n",
       "    <tr>\n",
       "      <th>2</th>\n",
       "      <td>Beyoncé</td>\n",
       "      <td>Beyoncé Giselle Knowles-Carter (/biːˈjɒnseɪ/ b...</td>\n",
       "      <td>When did Beyonce leave Destiny's Child and bec...</td>\n",
       "      <td>56be85543aeaaa14008c9066</td>\n",
       "      <td>526</td>\n",
       "      <td>2003</td>\n",
       "      <td>NaN</td>\n",
       "      <td>NaN</td>\n",
       "      <td>False</td>\n",
       "      <td>beyonc giselle knowlescarter bijnse beeyonsay ...</td>\n",
       "      <td>when did beyonce leave destinys child and beco...</td>\n",
       "      <td>2003</td>\n",
       "      <td>4</td>\n",
       "      <td>530</td>\n",
       "      <td>(526, 530)</td>\n",
       "      <td>(55, 55)</td>\n",
       "    </tr>\n",
       "  </tbody>\n",
       "</table>\n",
       "</div>"
      ],
      "text/plain": [
       "     title                                            context  \\\n",
       "0  Beyoncé  Beyoncé Giselle Knowles-Carter (/biːˈjɒnseɪ/ b...   \n",
       "1  Beyoncé  Beyoncé Giselle Knowles-Carter (/biːˈjɒnseɪ/ b...   \n",
       "2  Beyoncé  Beyoncé Giselle Knowles-Carter (/biːˈjɒnseɪ/ b...   \n",
       "\n",
       "                                            question  \\\n",
       "0           When did Beyonce start becoming popular?   \n",
       "1  What areas did Beyonce compete in when she was...   \n",
       "2  When did Beyonce leave Destiny's Child and bec...   \n",
       "\n",
       "                         id  answer_start               answer  \\\n",
       "0  56be85543aeaaa14008c9063           269    in the late 1990s   \n",
       "1  56be85543aeaaa14008c9065           207  singing and dancing   \n",
       "2  56be85543aeaaa14008c9066           526                 2003   \n",
       "\n",
       "   plausible_answer_start plausible_answer  is_impossible  \\\n",
       "0                     NaN              NaN          False   \n",
       "1                     NaN              NaN          False   \n",
       "2                     NaN              NaN          False   \n",
       "\n",
       "                                       clean_context  \\\n",
       "0  beyonc giselle knowlescarter bijnse beeyonsay ...   \n",
       "1  beyonc giselle knowlescarter bijnse beeyonsay ...   \n",
       "2  beyonc giselle knowlescarter bijnse beeyonsay ...   \n",
       "\n",
       "                                      clean_question         clean_answer  \\\n",
       "0            when did beyonce start becoming popular    in the late 1990s   \n",
       "1  what areas did beyonce compete in when she was...  singing and dancing   \n",
       "2  when did beyonce leave destinys child and beco...                 2003   \n",
       "\n",
       "   answer_len  answer_end answer_span answer_word_span  \n",
       "0          17         286  (269, 286)         (-1, -1)  \n",
       "1          19         226  (207, 226)         (21, 23)  \n",
       "2           4         530  (526, 530)         (55, 55)  "
      ]
     },
     "execution_count": 7,
     "metadata": {},
     "output_type": "execute_result"
    }
   ],
   "source": [
    "squad_df.head(3)"
   ]
  },
  {
   "cell_type": "markdown",
   "metadata": {
    "colab_type": "text",
    "id": "U35P3ZvGAQQD"
   },
   "source": [
    "### 2.2 Create Train, Validation and Test data"
   ]
  },
  {
   "cell_type": "code",
   "execution_count": 7,
   "metadata": {
    "colab": {
     "base_uri": "https://localhost:8080/",
     "height": 68
    },
    "colab_type": "code",
    "id": "7M9hW4xy-Suj",
    "outputId": "d89aa4ad-1f7a-41df-bf59-4f1ab0ed7fb6"
   },
   "outputs": [
    {
     "name": "stdout",
     "output_type": "stream",
     "text": [
      "(78183, 16)\n",
      "(26061, 16)\n",
      "(26062, 16)\n"
     ]
    }
   ],
   "source": [
    "from sklearn.model_selection import train_test_split\n",
    "from sklearn.utils import resample,shuffle\n",
    "\n",
    "# train = resample(train)\n",
    "# train = shuffle(train,n_samples =50000)\n",
    "\n",
    "train,test = train_test_split(squad_df,test_size = 0.2)\n",
    "train,val = train_test_split(train,test_size=0.25)\n",
    "\n",
    "print(train.shape)\n",
    "print(val.shape)\n",
    "print(test.shape)"
   ]
  },
  {
   "cell_type": "markdown",
   "metadata": {
    "colab_type": "text",
    "id": "Y6dcPCGiJrz1"
   },
   "source": [
    "### 2.3 Build Tokenizer"
   ]
  },
  {
   "cell_type": "code",
   "execution_count": 8,
   "metadata": {
    "colab": {
     "base_uri": "https://localhost:8080/",
     "height": 34
    },
    "colab_type": "code",
    "id": "hxoMIrC6EIgS",
    "outputId": "19681f17-6d59-42fa-a785-a2e37ed137a2"
   },
   "outputs": [
    {
     "name": "stderr",
     "output_type": "stream",
     "text": [
      "  0%|          | 0/2 [00:04<?, ?it/s]\n"
     ]
    },
    {
     "ename": "KeyboardInterrupt",
     "evalue": "",
     "output_type": "error",
     "traceback": [
      "\u001b[0;31m---------------------------------------------------------------------------\u001b[0m",
      "\u001b[0;31mKeyboardInterrupt\u001b[0m                         Traceback (most recent call last)",
      "\u001b[0;32m<ipython-input-8-5fa0d0c6bc63>\u001b[0m in \u001b[0;36m<module>\u001b[0;34m\u001b[0m\n\u001b[1;32m      5\u001b[0m \u001b[0;31m# NOTE: tokenizer is been made out of original dataset\u001b[0m\u001b[0;34m\u001b[0m\u001b[0;34m\u001b[0m\u001b[0;34m\u001b[0m\u001b[0m\n\u001b[1;32m      6\u001b[0m \u001b[0;32mfor\u001b[0m \u001b[0mtext\u001b[0m \u001b[0;32min\u001b[0m \u001b[0mtqdm\u001b[0m\u001b[0;34m(\u001b[0m\u001b[0;34m[\u001b[0m\u001b[0msquad_df\u001b[0m\u001b[0;34m[\u001b[0m\u001b[0;34m'clean_context'\u001b[0m\u001b[0;34m]\u001b[0m\u001b[0;34m,\u001b[0m \u001b[0msquad_df\u001b[0m\u001b[0;34m[\u001b[0m\u001b[0;34m'clean_question'\u001b[0m\u001b[0;34m]\u001b[0m\u001b[0;34m]\u001b[0m\u001b[0;34m)\u001b[0m\u001b[0;34m:\u001b[0m\u001b[0;34m\u001b[0m\u001b[0;34m\u001b[0m\u001b[0m\n\u001b[0;32m----> 7\u001b[0;31m   \u001b[0mtokenizer\u001b[0m\u001b[0;34m.\u001b[0m\u001b[0mfit_on_texts\u001b[0m\u001b[0;34m(\u001b[0m\u001b[0mtext\u001b[0m\u001b[0;34m.\u001b[0m\u001b[0mvalues\u001b[0m\u001b[0;34m)\u001b[0m\u001b[0;34m\u001b[0m\u001b[0;34m\u001b[0m\u001b[0m\n\u001b[0m\u001b[1;32m      8\u001b[0m \u001b[0;34m\u001b[0m\u001b[0m\n\u001b[1;32m      9\u001b[0m \u001b[0;31m# total tokenizer words\u001b[0m\u001b[0;34m\u001b[0m\u001b[0;34m\u001b[0m\u001b[0;34m\u001b[0m\u001b[0m\n",
      "\u001b[0;32m/usr/local/lib/python3.6/dist-packages/keras_preprocessing/text.py\u001b[0m in \u001b[0;36mfit_on_texts\u001b[0;34m(self, texts)\u001b[0m\n\u001b[1;32m    222\u001b[0m                                             \u001b[0mself\u001b[0m\u001b[0;34m.\u001b[0m\u001b[0mlower\u001b[0m\u001b[0;34m,\u001b[0m\u001b[0;34m\u001b[0m\u001b[0;34m\u001b[0m\u001b[0m\n\u001b[1;32m    223\u001b[0m                                             self.split)\n\u001b[0;32m--> 224\u001b[0;31m             \u001b[0;32mfor\u001b[0m \u001b[0mw\u001b[0m \u001b[0;32min\u001b[0m \u001b[0mseq\u001b[0m\u001b[0;34m:\u001b[0m\u001b[0;34m\u001b[0m\u001b[0;34m\u001b[0m\u001b[0m\n\u001b[0m\u001b[1;32m    225\u001b[0m                 \u001b[0;32mif\u001b[0m \u001b[0mw\u001b[0m \u001b[0;32min\u001b[0m \u001b[0mself\u001b[0m\u001b[0;34m.\u001b[0m\u001b[0mword_counts\u001b[0m\u001b[0;34m:\u001b[0m\u001b[0;34m\u001b[0m\u001b[0;34m\u001b[0m\u001b[0m\n\u001b[1;32m    226\u001b[0m                     \u001b[0mself\u001b[0m\u001b[0;34m.\u001b[0m\u001b[0mword_counts\u001b[0m\u001b[0;34m[\u001b[0m\u001b[0mw\u001b[0m\u001b[0;34m]\u001b[0m \u001b[0;34m+=\u001b[0m \u001b[0;36m1\u001b[0m\u001b[0;34m\u001b[0m\u001b[0;34m\u001b[0m\u001b[0m\n",
      "\u001b[0;31mKeyboardInterrupt\u001b[0m: "
     ]
    }
   ],
   "source": [
    "# from tqdm import tqdm\n",
    "# params['tokenizer_num_words'] = 80000\n",
    "# tokenizer = preprocessing.text.Tokenizer(num_words=params['tokenizer_num_words'])\n",
    "\n",
    "# # NOTE: tokenizer is been made out of original dataset\n",
    "# for text in tqdm([squad_df['clean_context'], squad_df['clean_question']]):  \n",
    "#   tokenizer.fit_on_texts(text.values)\n",
    "\n",
    "# # total tokenizer words\n",
    "# params['vocab_size'] = len(tokenizer.word_index)\n",
    "\n",
    "# ### SAVE TOKENIZERS\n",
    "# with open(model_path + \"tokenizer.pkl\",\"wb\") as f:\n",
    "#     pickle.dump(tokenizer,f)"
   ]
  },
  {
   "cell_type": "code",
   "execution_count": 9,
   "metadata": {},
   "outputs": [
    {
     "data": {
      "text/plain": [
       "100850"
      ]
     },
     "execution_count": 9,
     "metadata": {},
     "output_type": "execute_result"
    }
   ],
   "source": [
    "with open(model_path + \"tokenizer.pkl\",\"rb\") as infile:\n",
    "    tokenizer = pickle.load(infile)\n",
    "\n",
    "len(tokenizer.word_index)"
   ]
  },
  {
   "cell_type": "code",
   "execution_count": 10,
   "metadata": {
    "colab": {
     "base_uri": "https://localhost:8080/",
     "height": 34
    },
    "colab_type": "code",
    "id": "Y7fIbj3tatHH",
    "outputId": "d01764ab-df3c-4b3b-e5c0-ecd41b33c896"
   },
   "outputs": [
    {
     "data": {
      "text/plain": [
       "39"
      ]
     },
     "execution_count": 10,
     "metadata": {},
     "output_type": "execute_result"
    }
   ],
   "source": [
    "tokenizer.word_index['how']"
   ]
  },
  {
   "cell_type": "markdown",
   "metadata": {
    "colab_type": "text",
    "id": "7gXSy_y36IFb"
   },
   "source": [
    "### 2.4 Update parameters"
   ]
  },
  {
   "cell_type": "code",
   "execution_count": 11,
   "metadata": {
    "colab": {
     "base_uri": "https://localhost:8080/",
     "height": 289
    },
    "colab_type": "code",
    "id": "2whUHcmX5PwS",
    "outputId": "6ac3fc72-96b4-4e59-d368-1ad9f3d560e2"
   },
   "outputs": [
    {
     "name": "stdout",
     "output_type": "stream",
     "text": [
      "{'context_length_99': 285,\n",
      " 'context_pad_seq': 'pre',\n",
      " 'embedding_size': 100,\n",
      " 'question_length_99': 20,\n",
      " 'question_pad_seq': 'pre',\n",
      " 'rnn_units': 256,\n",
      " 'test_shape': (26062, 16),\n",
      " 'tokenizer_num_words': 80000,\n",
      " 'train_shape': (78183, 16),\n",
      " 'val_shape': (26061, 16),\n",
      " 'vocab_size': 100850}\n"
     ]
    }
   ],
   "source": [
    "# From the EDA and historgrams we can conclude that - \n",
    "# 99% percentile of context word length = 285\n",
    "# 99% percentile or question word lengt = 20\n",
    "context_length = 285\n",
    "question_length = 20\n",
    "params['train_shape'] = train.shape\n",
    "params['val_shape'] = val.shape\n",
    "params['test_shape'] = test.shape\n",
    "params['context_length_99'] = context_length # initialize with a high percentile\n",
    "params['question_length_99'] = question_length # initialize with a high percentile\n",
    "params['embedding_size'] = 100\n",
    "params['rnn_units'] = 256\n",
    "params['context_pad_seq'] = 'pre'\n",
    "params['question_pad_seq'] = 'pre'\n",
    "params['vocab_size'] = len(tokenizer.word_index)\n",
    "\n",
    "pprint.pprint(params)"
   ]
  },
  {
   "cell_type": "markdown",
   "metadata": {
    "colab_type": "text",
    "id": "7lRuVtp_7y51"
   },
   "source": [
    "## 3 Vectorization / Encoding"
   ]
  },
  {
   "cell_type": "markdown",
   "metadata": {
    "colab_type": "text",
    "id": "oEJqzOfW9ARO"
   },
   "source": [
    "#### 3.1 Integer Sequence of Context and Question "
   ]
  },
  {
   "cell_type": "code",
   "execution_count": 12,
   "metadata": {
    "colab": {},
    "colab_type": "code",
    "id": "HhuvjYmZ7m6W"
   },
   "outputs": [],
   "source": [
    "train_clean_context_sequence = tokenizer.texts_to_sequences(train[\"clean_context\"].values)\n",
    "test_clean_context_sequence = tokenizer.texts_to_sequences(test[\"clean_context\"].values)\n",
    "val_clean_context_sequence = tokenizer.texts_to_sequences(val[\"clean_context\"].values)\n",
    "\n",
    "\n",
    "train_clean_question_sequence = tokenizer.texts_to_sequences(train[\"clean_question\"].values)\n",
    "test_clean_question_sequence = tokenizer.texts_to_sequences(test[\"clean_question\"].values)\n",
    "val_clean_question_sequence = tokenizer.texts_to_sequences(val[\"clean_question\"].values)\n"
   ]
  },
  {
   "cell_type": "code",
   "execution_count": null,
   "metadata": {
    "colab": {
     "base_uri": "https://localhost:8080/",
     "height": 102
    },
    "colab_type": "code",
    "id": "vXQNaAxehrDa",
    "outputId": "83034390-1ce8-478d-8b21-e6fe86c368fc"
   },
   "outputs": [
    {
     "data": {
      "text/plain": [
       "[[71, 11, 33390, 6, 2134],\n",
       " [2, 1743, 1445, 263, 6388, 3343, 288],\n",
       " [2, 29, 16, 2728, 766, 147, 336, 59, 2436],\n",
       " [2, 14, 933, 41, 71, 1, 2870, 98, 1202, 98, 1875, 5123],\n",
       " [39, 9, 2617, 140, 26, 989, 563, 288]]"
      ]
     },
     "execution_count": 79,
     "metadata": {
      "tags": []
     },
     "output_type": "execute_result"
    }
   ],
   "source": [
    "train_clean_question_sequence[5:10]"
   ]
  },
  {
   "cell_type": "code",
   "execution_count": null,
   "metadata": {
    "colab": {
     "base_uri": "https://localhost:8080/",
     "height": 119
    },
    "colab_type": "code",
    "id": "0kmRjkqRlExD",
    "outputId": "b1a1bb85-a2b0-425d-b95e-04e4c408f262"
   },
   "outputs": [
    {
     "data": {
      "text/plain": [
       "72672                         when was mdrtb first observed\n",
       "129071    what electronic charge do cellular molecules have\n",
       "106489    what year did cd players become available for ...\n",
       "76709     what is it called when the variations are text...\n",
       "90219       how many courses does a mandolin commonly have \n",
       "Name: clean_question, dtype: object"
      ]
     },
     "execution_count": 78,
     "metadata": {
      "tags": []
     },
     "output_type": "execute_result"
    }
   ],
   "source": [
    "train['clean_question'][5:10]"
   ]
  },
  {
   "cell_type": "code",
   "execution_count": null,
   "metadata": {
    "colab": {},
    "colab_type": "code",
    "id": "EQpM6dGtoGkP"
   },
   "outputs": [],
   "source": []
  },
  {
   "cell_type": "markdown",
   "metadata": {
    "colab_type": "text",
    "id": "7u41PKZTFcwm"
   },
   "source": [
    "#### 3.2 Find Max Sequence length of Context and Question"
   ]
  },
  {
   "cell_type": "code",
   "execution_count": 13,
   "metadata": {
    "colab": {
     "base_uri": "https://localhost:8080/",
     "height": 289
    },
    "colab_type": "code",
    "id": "Jwh8HGs0Fbp2",
    "outputId": "01fad496-f6f5-4726-9bf8-6151804b9e20"
   },
   "outputs": [
    {
     "name": "stdout",
     "output_type": "stream",
     "text": [
      "{'context_length_99': 285,\n",
      " 'context_max_length': 426,\n",
      " 'context_pad_seq': 'pre',\n",
      " 'embedding_size': 100,\n",
      " 'question_length_99': 20,\n",
      " 'question_max_length': 40,\n",
      " 'question_pad_seq': 'pre',\n",
      " 'rnn_units': 256,\n",
      " 'test_shape': (26062, 16),\n",
      " 'tokenizer_num_words': 80000,\n",
      " 'train_shape': (78183, 16),\n",
      " 'val_shape': (26061, 16),\n",
      " 'vocab_size': 100850}\n"
     ]
    }
   ],
   "source": [
    "# max length of context\n",
    "params['context_max_length'] = max(max(len(txt) for txt in train_clean_context_sequence),\n",
    "                                  max(len(txt) for txt in test_clean_context_sequence),\n",
    "                                  max(len(txt) for txt in val_clean_context_sequence))\n",
    "\n",
    "params['question_max_length'] = max(max(len(txt) for txt in train_clean_question_sequence),\n",
    "                                  max(len(txt) for txt in test_clean_question_sequence),\n",
    "                                  max(len(txt) for txt in val_clean_question_sequence))\n",
    "\n",
    "\n",
    "pprint.pprint(params)"
   ]
  },
  {
   "cell_type": "markdown",
   "metadata": {
    "colab_type": "text",
    "id": "NhnBwThFIA0H"
   },
   "source": [
    "#### 3.3 Padding of the sequences"
   ]
  },
  {
   "cell_type": "code",
   "execution_count": 14,
   "metadata": {
    "colab": {
     "base_uri": "https://localhost:8080/",
     "height": 68
    },
    "colab_type": "code",
    "id": "gGvIf7xU9rIJ",
    "outputId": "7e14602d-af08-4df0-ca66-e93a9e0fd859"
   },
   "outputs": [
    {
     "name": "stdout",
     "output_type": "stream",
     "text": [
      "(78183, 426)\n",
      "(26062, 426)\n",
      "(26061, 426)\n"
     ]
    }
   ],
   "source": [
    "train_context_sequence = preprocessing.sequence.pad_sequences(train_clean_context_sequence,maxlen=params['context_max_length'])\n",
    "test_context_sequence = preprocessing.sequence.pad_sequences(test_clean_context_sequence,maxlen=params['context_max_length'])\n",
    "val_context_sequence = preprocessing.sequence.pad_sequences(val_clean_context_sequence,maxlen=params['context_max_length'])\n",
    "\n",
    "print(train_context_sequence.shape)\n",
    "print(test_context_sequence.shape)\n",
    "print(val_context_sequence.shape)"
   ]
  },
  {
   "cell_type": "code",
   "execution_count": 15,
   "metadata": {
    "colab": {
     "base_uri": "https://localhost:8080/",
     "height": 68
    },
    "colab_type": "code",
    "id": "2NxpIGIb9p5T",
    "outputId": "a1b0592f-53cf-4e24-ed2f-dfbba4c29d79"
   },
   "outputs": [
    {
     "name": "stdout",
     "output_type": "stream",
     "text": [
      "(78183, 40)\n",
      "(26062, 40)\n",
      "(26061, 40)\n"
     ]
    }
   ],
   "source": [
    "train_question_sequence = preprocessing.sequence.pad_sequences(train_clean_question_sequence,maxlen=params['question_max_length'])\n",
    "test_question_sequence = preprocessing.sequence.pad_sequences(test_clean_question_sequence,maxlen=params['question_max_length'])\n",
    "val_question_sequence = preprocessing.sequence.pad_sequences(val_clean_question_sequence,maxlen=params['question_max_length'])\n",
    "\n",
    "print(train_question_sequence.shape)\n",
    "print(test_question_sequence.shape)\n",
    "print(val_question_sequence.shape)\n"
   ]
  },
  {
   "cell_type": "markdown",
   "metadata": {
    "colab_type": "text",
    "id": "fgCKNbH6_-yd"
   },
   "source": [
    "#### 3.4 Create Answer Sequence "
   ]
  },
  {
   "cell_type": "markdown",
   "metadata": {
    "colab_type": "text",
    "id": "bv0yC_w8AF4x"
   },
   "source": [
    "Encode y_trues as big array consisting of ans_start + ans_end. This has to be used in loss function as well. We will use the answer_word_span feature\n",
    "\n",
    "**y_true = answer_start + answer_end**"
   ]
  },
  {
   "cell_type": "code",
   "execution_count": 16,
   "metadata": {
    "colab": {},
    "colab_type": "code",
    "id": "cHPxRRHuAnSH"
   },
   "outputs": [],
   "source": [
    "# for train data\n",
    "y_train = []\n",
    "span_ofr = 0;\n",
    "params['train_span_outofrange'] = 0\n",
    "params['test_span_outofrange'] = 0\n",
    "params['val_span_outofrange'] = 0\n",
    "\n",
    "for i in range(len(train)):    \n",
    "    s = np.zeros(params['context_max_length'],dtype = \"float32\")\n",
    "    e = np.zeros(params['context_max_length'],dtype = \"float32\")\n",
    "    start, end = train[\"answer_word_span\"].iloc[i]    \n",
    "    s[start] = 1\n",
    "    e[end] = 1\n",
    "    y_train.append(np.concatenate((s,e)))    \n",
    "\n",
    "params['train_span_outofrange'] = span_ofr\n",
    "span_ofr = 0;\n",
    "\n",
    "# for test data\n",
    "y_test = []\n",
    "for i in range(len(test)):    \n",
    "    s = np.zeros(params['context_max_length'],dtype = \"float32\")\n",
    "    e = np.zeros(params['context_max_length'],dtype = \"float32\")        \n",
    "    start,end = test[\"answer_word_span\"].iloc[i]    \n",
    "    s[start] = 1\n",
    "    e[end] = 1\n",
    "    y_test.append(np.concatenate((s,e)))\n",
    "\n",
    "params['test_span_outofrange'] = span_ofr\n",
    "span_ofr = 0;\n",
    "                \n",
    "# for val data\n",
    "y_val = []\n",
    "for i in range(len(val)):\n",
    "    s = np.zeros(params['context_max_length'],dtype = \"float32\")\n",
    "    e = np.zeros(params['context_max_length'],dtype = \"float32\")        \n",
    "    start,end = val[\"answer_word_span\"].iloc[i]    \n",
    "    s[start] = 1\n",
    "    e[end] = 1      \n",
    "    y_val.append(np.concatenate((s,e)))\n",
    "\n",
    "params['val_span_outofrange'] = span_ofr    "
   ]
  },
  {
   "cell_type": "code",
   "execution_count": 17,
   "metadata": {
    "colab": {
     "base_uri": "https://localhost:8080/",
     "height": 68
    },
    "colab_type": "code",
    "id": "WgPgnMl0VZCd",
    "outputId": "682ddc42-4f23-48fb-cc39-995260ef2f9d"
   },
   "outputs": [
    {
     "name": "stdout",
     "output_type": "stream",
     "text": [
      "78183 852\n",
      "26062 852\n",
      "26061 852\n"
     ]
    }
   ],
   "source": [
    "print(len(y_train),len(y_train[0]))\n",
    "print(len(y_test),len(y_test[0]))\n",
    "print(len(y_val),len(y_val[0]))"
   ]
  },
  {
   "cell_type": "markdown",
   "metadata": {
    "colab_type": "text",
    "id": "mFuJMid-iT7a"
   },
   "source": [
    "### 3.5 Check 1 value"
   ]
  },
  {
   "cell_type": "code",
   "execution_count": null,
   "metadata": {
    "colab": {
     "base_uri": "https://localhost:8080/",
     "height": 34
    },
    "colab_type": "code",
    "id": "SXXhftC5kE8A",
    "outputId": "c6322160-bb0e-4e2d-b685-caffaf84e969"
   },
   "outputs": [
    {
     "data": {
      "text/plain": [
       "'suffer'"
      ]
     },
     "execution_count": 48,
     "metadata": {
      "tags": []
     },
     "output_type": "execute_result"
    }
   ],
   "source": [
    "index = 1\n",
    "answer_span(train['clean_context'].iloc[index],train['clean_answer'].iloc[index])\n",
    "span_to_answer((22,22),train['clean_context'].iloc[index])"
   ]
  },
  {
   "cell_type": "code",
   "execution_count": null,
   "metadata": {
    "colab": {
     "base_uri": "https://localhost:8080/",
     "height": 799
    },
    "colab_type": "code",
    "id": "fAXS9YCpiVkn",
    "outputId": "51ad013e-2a52-4097-824b-ec1b63a941bd"
   },
   "outputs": [
    {
     "name": "stdout",
     "output_type": "stream",
     "text": [
      "Ori Cont = \n",
      "('Although a resonant antenna has a purely resistive feed-point impedance at a '\n",
      " 'particular frequency, many (if not most) applications require using an '\n",
      " \"antenna over a range of frequencies. An antenna's bandwidth specifies the \"\n",
      " 'range of frequencies over which its performance does not suffer due to a '\n",
      " 'poor impedance match. Also in the case of a Yagi-Uda array, the use of the '\n",
      " \"antenna very far away from its design frequency reduces the antenna's \"\n",
      " 'directivity, thus reducing the usable bandwidth regardless of impedance '\n",
      " 'matching.')\n",
      "CLean Cont = \n",
      "('although resonant antenna purely resistive feedpoint impedance particular '\n",
      " 'frequency many applications require using antenna range frequencies antennas '\n",
      " 'bandwidth specifies range frequencies performance suffer due poor impedance '\n",
      " 'match also case yagiuda array use antenna far away design frequency reduces '\n",
      " 'antennas directivity thus reducing usable bandwidth regardless impedance '\n",
      " 'matching')\n",
      "Question =  What term can be used to refer to the usable spectrum of an antennas frequency?\n",
      "Clean Question =  what term can be used to refer to the usable spectrum of an antennas frequency\n",
      "Answer =  bandwidth\n",
      "Clean Answer =  bandwidth\n",
      "AS,AE =  (17, 17)\n",
      "encoded  [0 0 0 0 0 0 0 0 0 0 0 0 0 0 0 0 0 1 0 0 0 0 0 0 0 0 0 0 0 0 0 0 0 0 0 0 0\n",
      " 0 0 0 0 0 0 0 0 0 0 0 0 0 0 0 0 0 0 0 0 0 0 0 0 0 0 0 0 0 0 0 0 0 0 0 0 0\n",
      " 0 0 0 0 0 0 0 0 0 0 0 0 0 0 0 0 0 0 0 0 0 0 0 0 0 0 0 0 0 0 0 0 0 0 0 0 0\n",
      " 0 0 0 0 0 0 0 0 0 0 0 0 0 0 0 0 0 0 0 0 0 0 0 0 0 0 0 0 0 0 0 0 0 0 0 0 0\n",
      " 0 0 0 0 0 0 0 0 0 0 0 0 0 0 0 0 0 0 0 0 0 0 0 0 0 0 0 0 0 0 0 0 0 0 0 0 0\n",
      " 0 0 0 0 0 0 0 0 0 0 0 0 0 0 0 0 0 0 0 0 0 0 0 0 0 0 0 0 0 0 0 0 0 0 0 0 0\n",
      " 0 0 0 0 0 0 0 0 0 0 0 0 0 0 0 0 0 0 0 0 0 0 0 0 0 0 0 0 0 0 0 0 0 0 0 0 0\n",
      " 0 0 0 0 0 0 0 0 0 0 0 0 0 0 0 0 0 0 0 0 0 0 0 0 0 0 0 0 0 0 0 0 0 0 0 0 0\n",
      " 0 0 0 0 0 0 0 0 0 0 0 0 0 0 0 0 0 0 0 0 0 0 0 0 0 0 0 0 0 0 0 0 0 0 0 0 0\n",
      " 0 0 0 0 0 0 0 0 0 0 0 0 0 0 0 0 0 0 0 0 0 0 0 0 0 0 0 0 0 0 0 0 0 0 0 0 0\n",
      " 0 0 0 0 0 0 0 0 0 0 0 0 0 0 0 0 0 0 0 0 0 0 0 0 0 0 0 0 0 0 0 0 0 0 0 0 0\n",
      " 0 0 0 0 0 0 0 0 0 0 0 0 0 0 0 0 0 0 0 0 0 0 0 0 0 0 0 0 0 0 0 0 0 0 0 0 1\n",
      " 0 0 0 0 0 0 0 0 0 0 0 0 0 0 0 0 0 0 0 0 0 0 0 0 0 0 0 0 0 0 0 0 0 0 0 0 0\n",
      " 0 0 0 0 0 0 0 0 0 0 0 0 0 0 0 0 0 0 0 0 0 0 0 0 0 0 0 0 0 0 0 0 0 0 0 0 0\n",
      " 0 0 0 0 0 0 0 0 0 0 0 0 0 0 0 0 0 0 0 0 0 0 0 0 0 0 0 0 0 0 0 0 0 0 0 0 0\n",
      " 0 0 0 0 0 0 0 0 0 0 0 0 0 0 0 0 0 0 0 0 0 0 0 0 0 0 0 0 0 0 0 0 0 0 0 0 0\n",
      " 0 0 0 0 0 0 0 0 0 0 0 0 0 0 0 0 0 0 0 0 0 0 0 0 0 0 0 0 0 0 0 0 0 0 0 0 0\n",
      " 0 0 0 0 0 0 0 0 0 0 0 0 0 0 0 0 0 0 0 0 0 0 0 0 0 0 0 0 0 0 0 0 0 0 0 0 0\n",
      " 0 0 0 0 0 0 0 0 0 0 0 0 0 0 0 0 0 0 0 0 0 0 0 0 0 0 0 0 0 0 0 0 0 0 0 0 0\n",
      " 0 0 0 0 0 0 0 0 0 0 0 0 0 0 0 0 0 0 0 0 0 0 0 0 0 0 0 0 0 0 0 0 0 0 0 0 0\n",
      " 0 0 0 0 0 0 0 0 0 0 0 0 0 0 0 0 0 0 0 0 0 0 0 0 0 0 0 0 0 0 0 0 0 0 0 0 0\n",
      " 0 0 0 0 0 0 0 0 0 0 0 0 0 0 0 0 0 0 0 0 0 0 0 0 0 0 0 0 0 0 0 0 0 0 0 0 0\n",
      " 0 0 0 0 0 0 0 0 0 0 0 0 0 0 0 0 0 0 0 0 0 0 0 0 0 0 0 0 0 0 0 0 0 0 0 0 0\n",
      " 0]\n",
      "\n"
     ]
    }
   ],
   "source": [
    "print(\"Ori Cont = \")\n",
    "pprint.pprint(train['context'].iloc[index])\n",
    "print(\"CLean Cont = \")\n",
    "pprint.pprint(train['clean_context'].iloc[index])\n",
    "print('Question = ',train['question'].iloc[index])\n",
    "print('Clean Question = ',train['clean_question'].iloc[index])\n",
    "print('Answer = ',train['answer'].iloc[index])\n",
    "print('Clean Answer = ',train['clean_answer'].iloc[index])\n",
    "print('AS,AE = ',train['answer_word_span'].iloc[index])\n",
    "print(\"encoded \", y_train[index])\n",
    "print(span_to_answer([60,62],train['clean_context'].iloc[index]))"
   ]
  },
  {
   "cell_type": "code",
   "execution_count": null,
   "metadata": {
    "colab": {
     "base_uri": "https://localhost:8080/",
     "height": 340
    },
    "colab_type": "code",
    "id": "-rZCyBydBZW1",
    "outputId": "c9593c42-34de-4ecc-a808-dc1715d7a7ca"
   },
   "outputs": [
    {
     "name": "stdout",
     "output_type": "stream",
     "text": [
      "{'context_length_99': 285,\n",
      " 'context_max_length': 426,\n",
      " 'context_pad_seq': 'pre',\n",
      " 'embedding_size': 100,\n",
      " 'prediction.accuracy.score': 0.3761798787506715,\n",
      " 'prediction.macrof1.score': 0.00583615881279302,\n",
      " 'prediction.microf1.score': 0.2751746082042751,\n",
      " 'question_length_99': 20,\n",
      " 'question_max_length': 40,\n",
      " 'question_pad_seq': 'pre',\n",
      " 'rnn_units': 256,\n",
      " 'test_shape': (26062, 16),\n",
      " 'test_span_outofrange': 0,\n",
      " 'tokenizer_num_words': 80000,\n",
      " 'train_shape': (78183, 16),\n",
      " 'train_span_outofrange': 0,\n",
      " 'val_shape': (26061, 16),\n",
      " 'val_span_outofrange': 0,\n",
      " 'vocab_size': 100850}\n"
     ]
    }
   ],
   "source": [
    "pprint.pprint(params)"
   ]
  },
  {
   "cell_type": "code",
   "execution_count": null,
   "metadata": {
    "colab": {},
    "colab_type": "code",
    "id": "mDzXjXa3MpP0"
   },
   "outputs": [],
   "source": [
    "print(squad_df['clean_context'][10])\n",
    "print(train_context_sequence[110])\n",
    "print(squad_df['clean_question'][10])\n",
    "print(train_question_sequence[10])"
   ]
  },
  {
   "cell_type": "markdown",
   "metadata": {
    "colab_type": "text",
    "id": "V0TSjNkdXzuR"
   },
   "source": [
    "### 3.6 Create a common function to generate sequences (useful in prediction)"
   ]
  },
  {
   "cell_type": "code",
   "execution_count": null,
   "metadata": {
    "colab": {},
    "colab_type": "code",
    "id": "sq97Vq4kXTST"
   },
   "outputs": [],
   "source": [
    "# function to generate sequences withg appropiate padding\n",
    "def generate_question_context_sequence(context, question):\n",
    "  question_seq = tokenizer.texts_to_sequences(question)\n",
    "  context_seq = tokenizer.texts_to_sequences(context)\n",
    "  question_seq = preprocessing.sequence.pad_sequences(question_seq,maxlen=params['question_max_length'])\n",
    "  context_seq = preprocessing.sequence.pad_sequences(context_seq,maxlen=params['context_max_length'])\n",
    "  return context_seq, question_seq"
   ]
  },
  {
   "cell_type": "code",
   "execution_count": null,
   "metadata": {
    "colab": {
     "base_uri": "https://localhost:8080/",
     "height": 136
    },
    "colab_type": "code",
    "id": "nkpMiW1HaqrL",
    "outputId": "f3f67515-9ff9-4a0f-a66c-17076ddabf95"
   },
   "outputs": [
    {
     "name": "stdout",
     "output_type": "stream",
     "text": [
      "what term can be used to refer to the usable spectrum of an antennas frequency\n",
      "(1, 426) (1, 40)\n"
     ]
    },
    {
     "data": {
      "text/plain": [
       "array([[ True,  True,  True,  True,  True,  True,  True,  True,  True,\n",
       "         True,  True,  True,  True,  True,  True,  True,  True,  True,\n",
       "         True,  True,  True,  True,  True,  True,  True,  True,  True,\n",
       "         True,  True,  True,  True,  True,  True,  True,  True,  True,\n",
       "         True,  True,  True,  True]])"
      ]
     },
     "execution_count": 52,
     "metadata": {
      "tags": []
     },
     "output_type": "execute_result"
    }
   ],
   "source": [
    "print(train[\"clean_question\"].iloc[1])\n",
    "\n",
    "c='state among best prekindergarten education national institute early education research rated first united states regard standards quality access prekindergarten education 2004 calling model early childhood schooling high school dropout rate decreased 3 1 2 5 percent 2007 2008 oklahoma ranked among 18 states 3 percent less dropout rate 2004 state ranked 36th nation relative number adults high school diplomas though 85 2 percent highest rate among southern states'\n",
    "q='what term can be used to refer to the usable spectrum of an antennas frequency'\n",
    "cs,qs = generate_question_context_sequence([c],[q])\n",
    "print(cs.shape,qs.shape)\n",
    "train_question_sequence[1] == qs"
   ]
  },
  {
   "cell_type": "code",
   "execution_count": null,
   "metadata": {
    "colab": {
     "base_uri": "https://localhost:8080/",
     "height": 102
    },
    "colab_type": "code",
    "id": "nl55IUkVck82",
    "outputId": "ce18e39f-0db4-4327-d900-ecffa828c728"
   },
   "outputs": [
    {
     "data": {
      "text/plain": [
       "array([    0,     0,     0,     0,     0,     0,     0,     0,     0,\n",
       "           0,     0,     0,     0,     0,     0,     0,     0,     0,\n",
       "           0,     0,     0,     0,     0,     0,     0,     0,     0,\n",
       "           0,     0,     0,     0,     0,     2,   373,     3, 28363,\n",
       "         288,  8928,    75,    74], dtype=int32)"
      ]
     },
     "execution_count": 167,
     "metadata": {
      "tags": []
     },
     "output_type": "execute_result"
    }
   ],
   "source": [
    "train_question_sequence[1]"
   ]
  },
  {
   "cell_type": "code",
   "execution_count": null,
   "metadata": {
    "colab": {
     "base_uri": "https://localhost:8080/",
     "height": 102
    },
    "colab_type": "code",
    "id": "Wt51Se0SchIp",
    "outputId": "747501bb-e20f-416f-9161-f6de100bbb0e"
   },
   "outputs": [
    {
     "data": {
      "text/plain": [
       "array([[    0,     0,     0,     0,     0,     0,     0,     0,     0,\n",
       "            0,     0,     0,     0,     0,     0,     0,     0,     0,\n",
       "            0,     0,     0,     0,     0,     0,     0,     0,     0,\n",
       "            0,     0,     0,     0,     0,     2,   373,     3, 28363,\n",
       "          288,  8928,    75,    74]], dtype=int32)"
      ]
     },
     "execution_count": 160,
     "metadata": {
      "tags": []
     },
     "output_type": "execute_result"
    }
   ],
   "source": [
    "q"
   ]
  },
  {
   "cell_type": "markdown",
   "metadata": {
    "colab_type": "text",
    "id": "r6FSl5UDL_qD"
   },
   "source": [
    "## 4 Model"
   ]
  },
  {
   "cell_type": "markdown",
   "metadata": {
    "colab_type": "text",
    "id": "yS6fKEvieWrX"
   },
   "source": [
    "**Implements a baseline 0 in Deep Learning based approach per our project synopsis. This baseline model uses the following layers **\n",
    "0.   Input layer\n",
    "1.   Embedding Layer\n",
    "2.   List LSTM\n",
    "3.   a custom Bilinear Similarity layer \n",
    "4.   Prediction Layer\n",
    "5.   Output layer \n",
    "\n"
   ]
  },
  {
   "cell_type": "markdown",
   "metadata": {
    "colab_type": "text",
    "id": "U9JFn3oWiU4y"
   },
   "source": [
    "### 4.2 Building Model\n"
   ]
  },
  {
   "cell_type": "markdown",
   "metadata": {
    "colab_type": "text",
    "id": "tLGurD9eijTh"
   },
   "source": [
    "**For Questions**"
   ]
  },
  {
   "cell_type": "code",
   "execution_count": 18,
   "metadata": {},
   "outputs": [],
   "source": [
    "# As per https://www.tensorflow.org/api_docs/python/tf/keras/layers/LSTM, it will use CuDNN Lstm\n",
    "# if below params match\n",
    "# activation == tanh\n",
    "# recurrent_activation == sigmoid\n",
    "# recurrent_dropout == 0\n",
    "# unroll is False\n",
    "# use_bias is True\n",
    "# Inputs are not masked or strictly right padded.\n",
    "\n",
    "def createCUDNNLstm(units,return_state,return_sequences,dropout,name=''):\n",
    "  return layers.LSTM(units=units,\n",
    "                     return_state=return_state,\n",
    "                     return_sequences=return_sequences, \n",
    "                     name = name,\n",
    "                     activation='tanh',\n",
    "                     recurrent_activation='sigmoid',\n",
    "                     recurrent_dropout=0,\n",
    "                     dropout=dropout,\n",
    "                     unroll=False,\n",
    "                     use_bias=True)"
   ]
  },
  {
   "cell_type": "code",
   "execution_count": 19,
   "metadata": {},
   "outputs": [
    {
     "data": {
      "text/plain": [
       "'/device:GPU:0'"
      ]
     },
     "execution_count": 19,
     "metadata": {},
     "output_type": "execute_result"
    }
   ],
   "source": [
    "device_name = tf.test.gpu_device_name()\n",
    "device_name"
   ]
  },
  {
   "cell_type": "code",
   "execution_count": 20,
   "metadata": {},
   "outputs": [
    {
     "name": "stdout",
     "output_type": "stream",
     "text": [
      "/GPU:0\n"
     ]
    }
   ],
   "source": [
    "device_name = device_name.replace('/device:','/')\n",
    "print(device_name)"
   ]
  },
  {
   "cell_type": "markdown",
   "metadata": {},
   "source": [
    "### GPU test on PaperSpace"
   ]
  },
  {
   "cell_type": "code",
   "execution_count": 21,
   "metadata": {},
   "outputs": [
    {
     "name": "stdout",
     "output_type": "stream",
     "text": [
      "Executing op RandomStandardNormal in device /job:localhost/replica:0/task:0/device:CPU:0\n",
      "Executing op Mul in device /job:localhost/replica:0/task:0/device:CPU:0\n",
      "Executing op Add in device /job:localhost/replica:0/task:0/device:CPU:0\n",
      "Executing op RandomUniform in device /job:localhost/replica:0/task:0/device:CPU:0\n",
      "Executing op Sub in device /job:localhost/replica:0/task:0/device:CPU:0\n",
      "Executing op VarHandleOp in device /job:localhost/replica:0/task:0/device:CPU:0\n",
      "Executing op VarIsInitializedOp in device /job:localhost/replica:0/task:0/device:CPU:0\n",
      "Executing op LogicalNot in device /job:localhost/replica:0/task:0/device:CPU:0\n",
      "Executing op Assert in device /job:localhost/replica:0/task:0/device:CPU:0\n",
      "Executing op AssignVariableOp in device /job:localhost/replica:0/task:0/device:CPU:0\n",
      "Executing op Fill in device /job:localhost/replica:0/task:0/device:CPU:0\n",
      "Executing op VarHandleOp in device /job:localhost/replica:0/task:0/device:CPU:0\n",
      "Executing op ReadVariableOp in device /job:localhost/replica:0/task:0/device:CPU:0\n",
      "Executing op Conv2D in device /job:localhost/replica:0/task:0/device:CPU:0\n",
      "Executing op BiasAdd in device /job:localhost/replica:0/task:0/device:CPU:0\n",
      "Executing op DestroyResourceOp in device /job:localhost/replica:0/task:0/device:CPU:0\n",
      "Executing op Sum in device /job:localhost/replica:0/task:0/device:CPU:0\n",
      "Executing op RandomStandardNormal in device /job:localhost/replica:0/task:0/device:GPU:0\n",
      "Executing op Mul in device /job:localhost/replica:0/task:0/device:GPU:0\n",
      "Executing op Add in device /job:localhost/replica:0/task:0/device:GPU:0\n",
      "Executing op RandomUniform in device /job:localhost/replica:0/task:0/device:GPU:0\n",
      "Executing op Sub in device /job:localhost/replica:0/task:0/device:GPU:0\n",
      "Executing op Mul in device /job:localhost/replica:0/task:0/device:GPU:0\n",
      "Executing op Add in device /job:localhost/replica:0/task:0/device:GPU:0\n",
      "Executing op VarHandleOp in device /job:localhost/replica:0/task:0/device:GPU:0\n",
      "Executing op VarIsInitializedOp in device /job:localhost/replica:0/task:0/device:GPU:0\n",
      "Executing op LogicalNot in device /job:localhost/replica:0/task:0/device:GPU:0\n",
      "Executing op Assert in device /job:localhost/replica:0/task:0/device:GPU:0\n",
      "Executing op AssignVariableOp in device /job:localhost/replica:0/task:0/device:GPU:0\n",
      "Executing op Fill in device /job:localhost/replica:0/task:0/device:GPU:0\n",
      "Executing op VarHandleOp in device /job:localhost/replica:0/task:0/device:GPU:0\n",
      "Executing op ReadVariableOp in device /job:localhost/replica:0/task:0/device:GPU:0\n",
      "Executing op Conv2D in device /job:localhost/replica:0/task:0/device:GPU:0\n",
      "Executing op BiasAdd in device /job:localhost/replica:0/task:0/device:GPU:0\n",
      "Executing op DestroyResourceOp in device /job:localhost/replica:0/task:0/device:GPU:0\n",
      "Executing op Sum in device /job:localhost/replica:0/task:0/device:GPU:0\n",
      "Time (s) to convolve 32x7x7x3 filter over random 100x100x100x3 images (batch x height x width x channel). Sum of ten runs.\n",
      "CPU (s):\n",
      "1.308881102129817\n",
      "GPU (s):\n",
      "0.1562705598771572\n",
      "GPU speedup over CPU: 8x\n"
     ]
    }
   ],
   "source": [
    "import timeit\n",
    "\n",
    "device_name = tf.test.gpu_device_name()\n",
    "if device_name != '/device:GPU:0':\n",
    "  print(\n",
    "      '\\n\\nThis error most likely means that this notebook is not '\n",
    "      'configured to use a GPU.  Change this in Notebook Settings via the '\n",
    "      'command palette (cmd/ctrl-shift-P) or the Edit menu.\\n\\n')\n",
    "  raise SystemError('GPU device not found')\n",
    "\n",
    "def cpu():\n",
    "  with tf.device('/cpu:0'):\n",
    "    random_image_cpu = tf.random.normal((100, 100, 100, 3))\n",
    "    net_cpu = tf.keras.layers.Conv2D(32, 7)(random_image_cpu)\n",
    "    return tf.math.reduce_sum(net_cpu)\n",
    "\n",
    "def gpu():\n",
    "    strategy_test = tf.distribute.MirroredStrategy(devices=[device_name])\n",
    "    with strategy_test.scope():  \n",
    "        random_image_gpu = tf.random.normal((100, 100, 100, 3))\n",
    "        net_gpu = tf.keras.layers.Conv2D(32, 7)(random_image_gpu)\n",
    "        return tf.math.reduce_sum(net_gpu)\n",
    "\n",
    "# We run each op once to warm up; see: https://stackoverflow.com/a/45067900\n",
    "cpu()\n",
    "gpu()\n",
    "\n",
    "# Run the op several times.\n",
    "print('Time (s) to convolve 32x7x7x3 filter over random 100x100x100x3 images '\n",
    "      '(batch x height x width x channel). Sum of ten runs.')\n",
    "print('CPU (s):')\n",
    "cpu_time = timeit.timeit('cpu()', number=10, setup=\"from __main__ import cpu\")\n",
    "print(cpu_time)\n",
    "print('GPU (s):')\n",
    "gpu_time = timeit.timeit('gpu()', number=10, setup=\"from __main__ import gpu\")\n",
    "print(gpu_time)\n",
    "print('GPU speedup over CPU: {}x'.format(int(cpu_time/gpu_time)))"
   ]
  },
  {
   "cell_type": "markdown",
   "metadata": {},
   "source": [
    "#### Create TF Mirror Strategy for Multi-GPU"
   ]
  },
  {
   "cell_type": "code",
   "execution_count": 22,
   "metadata": {},
   "outputs": [
    {
     "data": {
      "text/plain": [
       "<tensorflow.python.distribute.mirrored_strategy.MirroredStrategy at 0x7efd15cc1128>"
      ]
     },
     "execution_count": 22,
     "metadata": {},
     "output_type": "execute_result"
    }
   ],
   "source": [
    "device_name = tf.test.gpu_device_name()\n",
    "device_name = device_name.replace('/device:','/')\n",
    "strategy = tf.distribute.MirroredStrategy(devices=[device_name])\n",
    "strategy"
   ]
  },
  {
   "cell_type": "code",
   "execution_count": 23,
   "metadata": {
    "colab": {
     "base_uri": "https://localhost:8080/",
     "height": 34
    },
    "colab_type": "code",
    "id": "rLqUQHSjeVwq",
    "outputId": "ea2ddef4-423c-427d-d1f2-1e66e54de2da"
   },
   "outputs": [
    {
     "name": "stdout",
     "output_type": "stream",
     "text": [
      "Executing op VarHandleOp in device /job:localhost/replica:0/task:0/device:GPU:0\n",
      "Executing op VarHandleOp in device /job:localhost/replica:0/task:0/device:GPU:0\n",
      "Executing op RandomStandardNormal in device /job:localhost/replica:0/task:0/device:GPU:0\n",
      "Executing op Qr in device /job:localhost/replica:0/task:0/device:GPU:0\n",
      "Executing op DiagPart in device /job:localhost/replica:0/task:0/device:GPU:0\n",
      "Executing op Sign in device /job:localhost/replica:0/task:0/device:GPU:0\n",
      "Executing op Transpose in device /job:localhost/replica:0/task:0/device:GPU:0\n",
      "Executing op Reshape in device /job:localhost/replica:0/task:0/device:GPU:0\n",
      "Executing op VarHandleOp in device /job:localhost/replica:0/task:0/device:GPU:0\n",
      "Executing op ConcatV2 in device /job:localhost/replica:0/task:0/device:GPU:0\n",
      "Executing op VarHandleOp in device /job:localhost/replica:0/task:0/device:GPU:0\n",
      "(None, 256)\n"
     ]
    }
   ],
   "source": [
    "# question embedding\n",
    "with strategy.scope():\n",
    "    q_input = layers.Input(shape=(params['question_max_length'],),name=\"QUESTION_INPUT\")\n",
    "    q_emb = layers.Embedding(input_dim=params['vocab_size']+1,\n",
    "                      output_dim=params['embedding_size'],\n",
    "                      name=\"QUESTION_EMBEDDING\")(q_input)\n",
    "\n",
    "    # encoder \n",
    "    q_output = createCUDNNLstm(units=params['rnn_units'],return_state=False,return_sequences=False,\n",
    "                         name='QUESTION_LSTM',dropout=0)(q_emb)\n",
    "print(q_output.shape)"
   ]
  },
  {
   "cell_type": "markdown",
   "metadata": {
    "colab_type": "text",
    "id": "2eJ2ykC1megw"
   },
   "source": [
    "**For Context**"
   ]
  },
  {
   "cell_type": "code",
   "execution_count": 24,
   "metadata": {
    "colab": {
     "base_uri": "https://localhost:8080/",
     "height": 34
    },
    "colab_type": "code",
    "id": "-glhG509P5Yh",
    "outputId": "116059ec-5ca9-408e-ce35-dead4fcc6149"
   },
   "outputs": [
    {
     "name": "stdout",
     "output_type": "stream",
     "text": [
      "final output to bilinear  (None, 426, 256)\n"
     ]
    }
   ],
   "source": [
    "with strategy.scope():\n",
    "    c_input = layers.Input(shape=(params['context_max_length'],),name=\"CONTEXT_INPUT\")\n",
    "\n",
    "    # context embedding\n",
    "    c_emb = layers.Embedding(input_dim=params['vocab_size']+1,\n",
    "                      output_dim=params['embedding_size'],\n",
    "                      name=\"CONTEXT_EMBEDDING\")(c_input)\n",
    "\n",
    "\n",
    "\n",
    "    # exact_match\n",
    "    # ex_ = Input(shape=(CON_LEN,2))\n",
    "\n",
    "    # # pos tags\n",
    "    # pos_ = Input(shape=(CON_LEN,len(tag_to_num)+1))\n",
    "\n",
    "    # # term frequency\n",
    "    # term_ = Input(shape=(CON_LEN,1)) \n",
    "\n",
    "    # concatenate input\n",
    "    # concat = concatenate([c_emb,ex_,pos_,term_])\n",
    "\n",
    "    c_output = layers.LSTM(params['rnn_units'],return_state=False,return_sequences=True,\n",
    "                         name='CONTEXT_LSTM',dropout=0)(c_emb)\n",
    "\n",
    "print(\"final output to bilinear \",c_output.shape)"
   ]
  },
  {
   "cell_type": "markdown",
   "metadata": {
    "colab_type": "text",
    "id": "g93054zrp9yp"
   },
   "source": [
    "**Bilinear Term**"
   ]
  },
  {
   "cell_type": "code",
   "execution_count": 25,
   "metadata": {
    "colab": {
     "base_uri": "https://localhost:8080/",
     "height": 68
    },
    "colab_type": "code",
    "id": "CNsrWO_tpppa",
    "outputId": "042f6c16-bc4b-439f-9d38-ad62248361a4"
   },
   "outputs": [
    {
     "name": "stdout",
     "output_type": "stream",
     "text": [
      "Question context shape  (None, 256)\n",
      "final o/p of context  (None, 426, 256)\n",
      "Executing op VarHandleOp in device /job:localhost/replica:0/task:0/device:GPU:0\n",
      "Executing op VarHandleOp in device /job:localhost/replica:0/task:0/device:GPU:0\n",
      "Probab shape  Tensor(\"BILINEAR_AS_AE_CONCAT:0\", shape=(None, 852), dtype=float32)\n"
     ]
    }
   ],
   "source": [
    "# Reference -- https://github.com/kellywzhang/reading-comprehension/blob/master/attention.py\n",
    "# bilinear term ####\n",
    "print(\"Question context shape \",q_output.shape)\n",
    "print(\"final o/p of context \",c_output.shape)\n",
    "\n",
    "with strategy.scope():\n",
    "    ################ start prediction ######################\n",
    "    start = layers.Dense(params['rnn_units'],name=\"BILINEAR_AS_SPAN\")(q_output)\n",
    "    hidden_start_time_axis = tf.expand_dims(start, 2, name='BILINEAR_AS_ADD_DIM')\n",
    "\n",
    "    # squeeze remooves time slice we added before\n",
    "    # final shape = (batch_size,decoder_timesteps)\n",
    "    start_ = tf.squeeze(tf.matmul(c_output,hidden_start_time_axis,name=\"BILINEAR_AS_MATMUL_Q_C\"),2,name=\"BILINEAR_AS_DEL_DIM\")\n",
    "\n",
    "    start_ = tf.nn.softmax(start_,axis = 1,name=\"BILINEAR_AS_SOFTMAX\")\n",
    "\n",
    "    ################ end prediction ######################\n",
    "    end = layers.Dense(params['rnn_units'],name=\"BILINEAR_AE_SPAN\")(q_output)\n",
    "\n",
    "    hidden_end_time_axis = tf.expand_dims(end, 2, name=\"BILINEAR_AE_ADD_DIM\")\n",
    "\n",
    "    # squeeze remooves time slice we added before\n",
    "    # final shape = (batch_size,decoder_timesteps)\n",
    "    end_ = tf.squeeze(tf.matmul(c_output,hidden_end_time_axis,name=\"BILINEAR_AE_MATMUL_Q_C\"),2,name=\"BILINEAR_AE_DEL_DIM\")\n",
    "    end_ = tf.nn.softmax(end_,axis=1,name=\"BILINEAR_AE_SOFTMAX\")\n",
    "\n",
    "    prob_token_span = tf.concat((start_,end_),axis = 1,name=\"BILINEAR_AS_AE_CONCAT\")\n",
    "print(\"Probab shape \",prob_token_span)\n",
    "\n",
    "\n",
    "# logits = BilinearSimilarity(UNITS)(q_cont,c_)\n",
    "# Y_prob = Prediction()(logits)\n",
    "# print(\"Logits shape \",logits.shape)"
   ]
  },
  {
   "cell_type": "markdown",
   "metadata": {
    "colab_type": "text",
    "id": "ibcGeRqUxzKN"
   },
   "source": [
    "**Predictions**"
   ]
  },
  {
   "cell_type": "code",
   "execution_count": 26,
   "metadata": {
    "colab": {
     "base_uri": "https://localhost:8080/",
     "height": 51
    },
    "colab_type": "code",
    "id": "vFbuhviAyX7l",
    "outputId": "47db2201-5355-4039-b577-f4b43053eea6"
   },
   "outputs": [
    {
     "name": "stdout",
     "output_type": "stream",
     "text": [
      "Probab shape  Tensor(\"START_PROBAB:0\", shape=(None, 426), dtype=float32)\n",
      "(None, 852)\n"
     ]
    }
   ],
   "source": [
    "####### Prediction ### \n",
    "with strategy.scope():\n",
    "    token_span = 20\n",
    "    start_prob = tf.identity(prob_token_span[:,:params['context_max_length']],\n",
    "                             name=\"START_PROBAB\")\n",
    "    # start_prob.name = \"START_PROBAB\"\n",
    "\n",
    "    end_prob = tf.identity(prob_token_span[:,params['context_max_length']:],\n",
    "                           name=\"END_PROBAB\")\n",
    "    # end_prob.name = \"END_PROBAB\"\n",
    "    print(\"Probab shape \",start_prob)\n",
    "\n",
    "    # do the outer product\n",
    "    outer = tf.matmul(tf.expand_dims(start_prob, axis=2, name=\"PREDICT_AS_PROBAB\"),tf.expand_dims(end_prob, axis=1, name=\"PREDICT_AS_PROBAB\"),name=\"PREDICT_AS_AE_MATMUL\")\n",
    "\n",
    "    outer = tf.linalg.band_part(outer, 0, token_span,name=\"PREDICT_AS_AE_TOPTRIANGLE\")\n",
    "\n",
    "    # start_position will have shape of (batch_size,)\n",
    "    start_position = tf.reduce_max(outer, axis=2,name=\"PREDICT_AS_MAX\")\n",
    "    #end position will have shape of (batch_size,)\n",
    "    end_position = tf.reduce_max(outer, axis=1,name=\"PREDICT_AE_MAX\")\n",
    "\n",
    "    y_probab = tf.concat([start_position,end_position],axis=1,name=\"PREDICT_AS_AE\")\n",
    "\n",
    "print(y_probab.shape)"
   ]
  },
  {
   "cell_type": "markdown",
   "metadata": {
    "colab_type": "text",
    "id": "PLtlPSfLxyzB"
   },
   "source": [
    "### 4.3 Custom Loss function"
   ]
  },
  {
   "cell_type": "code",
   "execution_count": 27,
   "metadata": {
    "colab": {},
    "colab_type": "code",
    "id": "tlOkeMveyCWM"
   },
   "outputs": [],
   "source": [
    "def logits_loss(y_true,logits):\n",
    "    \"\"\"\n",
    "    Custom loss function which minimises log_loss.\n",
    "    Referance https://stackoverflow.com/questions/50063613/add-loss-function-in-keras\n",
    "    \"\"\"\n",
    "    \n",
    "    #y_true = tf.cast(y_true,dtype=tf.int32)\n",
    "    #logits = tf.cast(logits,dtype=tf.float32)\n",
    "    \n",
    "    # breaking the tensor into two half's to get start and end label.\n",
    "    start_label = y_true[:,:params['context_max_length']]\n",
    "    end_label = y_true[:,params['context_max_length']:]\n",
    "    \n",
    "    # braking the logits tensor into start and end part for loss calcultion.\n",
    "    start_logit = logits[:,:params['context_max_length']]\n",
    "    end_logit = logits[:,params['context_max_length']:]\n",
    "    \n",
    "    start_loss = tf.keras.backend.categorical_crossentropy(start_label,start_logit)\n",
    "    end_loss = tf.keras.backend.categorical_crossentropy(end_label,end_logit)\n",
    "    \n",
    "#     start_loss = tf.losses.sparse_softmax_cross_entropy(labels=start_label, logits=start_logit)\n",
    "#     end_loss = tf.losses.sparse_softmax_cross_entropy(labels=end_label, logits=end_logit)\n",
    "    \n",
    "    # as per paer\n",
    "    \n",
    "    loss = start_loss + end_loss\n",
    "    \n",
    "    return loss"
   ]
  },
  {
   "cell_type": "markdown",
   "metadata": {
    "colab_type": "text",
    "id": "dNiC79-tyLmq"
   },
   "source": [
    "### 4.4 Model Summary"
   ]
  },
  {
   "cell_type": "code",
   "execution_count": 28,
   "metadata": {
    "colab": {
     "base_uri": "https://localhost:8080/",
     "height": 1000
    },
    "colab_type": "code",
    "id": "Rv9aw2EewJbr",
    "outputId": "17783c99-c90a-4ef9-d323-86806a5938c3"
   },
   "outputs": [
    {
     "name": "stdout",
     "output_type": "stream",
     "text": [
      "Executing op __inference_keras_scratch_graph_2073 in device /job:localhost/replica:0/task:0/device:GPU:0\n",
      "Executing op __inference_keras_scratch_graph_2078 in device /job:localhost/replica:0/task:0/device:GPU:0\n",
      "Executing op __inference_keras_scratch_graph_2083 in device /job:localhost/replica:0/task:0/device:GPU:0\n",
      "Executing op __inference_keras_scratch_graph_2088 in device /job:localhost/replica:0/task:0/device:GPU:0\n",
      "Executing op __inference_keras_scratch_graph_2093 in device /job:localhost/replica:0/task:0/device:GPU:0\n",
      "Executing op __inference_keras_scratch_graph_2098 in device /job:localhost/replica:0/task:0/device:GPU:0\n",
      "Executing op __inference_keras_scratch_graph_2103 in device /job:localhost/replica:0/task:0/device:GPU:0\n",
      "Executing op __inference_keras_scratch_graph_2108 in device /job:localhost/replica:0/task:0/device:GPU:0\n",
      "Executing op __inference_keras_scratch_graph_2113 in device /job:localhost/replica:0/task:0/device:GPU:0\n",
      "Executing op __inference_keras_scratch_graph_2118 in device /job:localhost/replica:0/task:0/device:GPU:0\n",
      "Executing op __inference_keras_scratch_graph_2123 in device /job:localhost/replica:0/task:0/device:GPU:0\n",
      "Executing op __inference_keras_scratch_graph_2128 in device /job:localhost/replica:0/task:0/device:GPU:0\n",
      "Executing op __inference_keras_scratch_graph_2133 in device /job:localhost/replica:0/task:0/device:GPU:0\n",
      "Executing op __inference_keras_scratch_graph_2138 in device /job:localhost/replica:0/task:0/device:GPU:0\n",
      "Executing op __inference_keras_scratch_graph_2143 in device /job:localhost/replica:0/task:0/device:GPU:0\n",
      "Executing op __inference_keras_scratch_graph_2148 in device /job:localhost/replica:0/task:0/device:GPU:0\n",
      "Model: \"model\"\n",
      "__________________________________________________________________________________________________\n",
      "Layer (type)                    Output Shape         Param #     Connected to                     \n",
      "==================================================================================================\n",
      "QUESTION_INPUT (InputLayer)     [(None, 40)]         0                                            \n",
      "__________________________________________________________________________________________________\n",
      "QUESTION_EMBEDDING (Embedding)  (None, 40, 100)      10085100    QUESTION_INPUT[0][0]             \n",
      "__________________________________________________________________________________________________\n",
      "CONTEXT_INPUT (InputLayer)      [(None, 426)]        0                                            \n",
      "__________________________________________________________________________________________________\n",
      "QUESTION_LSTM (LSTM)            (None, 256)          365568      QUESTION_EMBEDDING[0][0]         \n",
      "__________________________________________________________________________________________________\n",
      "CONTEXT_EMBEDDING (Embedding)   (None, 426, 100)     10085100    CONTEXT_INPUT[0][0]              \n",
      "__________________________________________________________________________________________________\n",
      "BILINEAR_AS_SPAN (Dense)        (None, 256)          65792       QUESTION_LSTM[0][0]              \n",
      "__________________________________________________________________________________________________\n",
      "BILINEAR_AE_SPAN (Dense)        (None, 256)          65792       QUESTION_LSTM[0][0]              \n",
      "__________________________________________________________________________________________________\n",
      "CONTEXT_LSTM (LSTM)             (None, 426, 256)     365568      CONTEXT_EMBEDDING[0][0]          \n",
      "__________________________________________________________________________________________________\n",
      "tf_op_layer_BILINEAR_AS_ADD_DIM [(None, 256, 1)]     0           BILINEAR_AS_SPAN[0][0]           \n",
      "__________________________________________________________________________________________________\n",
      "tf_op_layer_BILINEAR_AE_ADD_DIM [(None, 256, 1)]     0           BILINEAR_AE_SPAN[0][0]           \n",
      "__________________________________________________________________________________________________\n",
      "tf_op_layer_BILINEAR_AS_MATMUL_ [(None, 426, 1)]     0           CONTEXT_LSTM[0][0]               \n",
      "                                                                 tf_op_layer_BILINEAR_AS_ADD_DIM[0\n",
      "__________________________________________________________________________________________________\n",
      "tf_op_layer_BILINEAR_AE_MATMUL_ [(None, 426, 1)]     0           CONTEXT_LSTM[0][0]               \n",
      "                                                                 tf_op_layer_BILINEAR_AE_ADD_DIM[0\n",
      "__________________________________________________________________________________________________\n",
      "tf_op_layer_BILINEAR_AS_DEL_DIM [(None, 426)]        0           tf_op_layer_BILINEAR_AS_MATMUL_Q_\n",
      "__________________________________________________________________________________________________\n",
      "tf_op_layer_BILINEAR_AE_DEL_DIM [(None, 426)]        0           tf_op_layer_BILINEAR_AE_MATMUL_Q_\n",
      "__________________________________________________________________________________________________\n",
      "tf_op_layer_BILINEAR_AS_SOFTMAX [(None, 426)]        0           tf_op_layer_BILINEAR_AS_DEL_DIM[0\n",
      "__________________________________________________________________________________________________\n",
      "tf_op_layer_BILINEAR_AE_SOFTMAX [(None, 426)]        0           tf_op_layer_BILINEAR_AE_DEL_DIM[0\n",
      "__________________________________________________________________________________________________\n",
      "tf_op_layer_BILINEAR_AS_AE_CONC [(None, 852)]        0           tf_op_layer_BILINEAR_AS_SOFTMAX[0\n",
      "                                                                 tf_op_layer_BILINEAR_AE_SOFTMAX[0\n",
      "__________________________________________________________________________________________________\n",
      "tf_op_layer_strided_slice (Tens [(None, 426)]        0           tf_op_layer_BILINEAR_AS_AE_CONCAT\n",
      "__________________________________________________________________________________________________\n",
      "tf_op_layer_strided_slice_1 (Te [(None, 426)]        0           tf_op_layer_BILINEAR_AS_AE_CONCAT\n",
      "__________________________________________________________________________________________________\n",
      "tf_op_layer_START_PROBAB (Tenso [(None, 426)]        0           tf_op_layer_strided_slice[0][0]  \n",
      "__________________________________________________________________________________________________\n",
      "tf_op_layer_END_PROBAB (TensorF [(None, 426)]        0           tf_op_layer_strided_slice_1[0][0]\n",
      "__________________________________________________________________________________________________\n",
      "tf_op_layer_PREDICT_AS_PROBAB ( [(None, 426, 1)]     0           tf_op_layer_START_PROBAB[0][0]   \n",
      "__________________________________________________________________________________________________\n",
      "tf_op_layer_PREDICT_AS_PROBAB_1 [(None, 1, 426)]     0           tf_op_layer_END_PROBAB[0][0]     \n",
      "__________________________________________________________________________________________________\n",
      "tf_op_layer_PREDICT_AS_AE_MATMU [(None, 426, 426)]   0           tf_op_layer_PREDICT_AS_PROBAB[0][\n",
      "                                                                 tf_op_layer_PREDICT_AS_PROBAB_1[0\n",
      "__________________________________________________________________________________________________\n",
      "tf_op_layer_PREDICT_AS_AE_TOPTR [(None, 426, 426)]   0           tf_op_layer_PREDICT_AS_AE_MATMUL[\n",
      "__________________________________________________________________________________________________\n",
      "tf_op_layer_PREDICT_AS_MAX (Ten [(None, 426)]        0           tf_op_layer_PREDICT_AS_AE_TOPTRIA\n",
      "__________________________________________________________________________________________________\n",
      "tf_op_layer_PREDICT_AE_MAX (Ten [(None, 426)]        0           tf_op_layer_PREDICT_AS_AE_TOPTRIA\n",
      "__________________________________________________________________________________________________\n",
      "tf_op_layer_PREDICT_AS_AE (Tens [(None, 852)]        0           tf_op_layer_PREDICT_AS_MAX[0][0] \n",
      "                                                                 tf_op_layer_PREDICT_AE_MAX[0][0] \n",
      "==================================================================================================\n",
      "Total params: 21,032,920\n",
      "Trainable params: 21,032,920\n",
      "Non-trainable params: 0\n",
      "__________________________________________________________________________________________________\n"
     ]
    }
   ],
   "source": [
    "model = Model(inputs = [q_input,c_input],outputs =y_probab)\n",
    "model.summary()"
   ]
  },
  {
   "cell_type": "markdown",
   "metadata": {
    "colab_type": "text",
    "id": "Biepd_j518BQ"
   },
   "source": [
    "### 4.5 Model Compile"
   ]
  },
  {
   "cell_type": "markdown",
   "metadata": {
    "colab_type": "text",
    "id": "uAqT6LWbXxWE"
   },
   "source": [
    "**Tensorboard Logs and Model compilation** "
   ]
  },
  {
   "cell_type": "code",
   "execution_count": 29,
   "metadata": {
    "colab": {
     "base_uri": "https://localhost:8080/",
     "height": 34
    },
    "colab_type": "code",
    "id": "kTB5bE8I2Al-",
    "outputId": "228bd24e-2a46-42f0-8952-62520977fc7d"
   },
   "outputs": [
    {
     "name": "stdout",
     "output_type": "stream",
     "text": [
      "Tensprflow logs  /notebooks/tensorboard-logs/lstm-baseline0\n",
      "Executing op VarHandleOp in device /job:localhost/replica:0/task:0/device:GPU:0\n",
      "INFO:tensorflow:Reduce to /job:localhost/replica:0/task:0/device:CPU:0 then broadcast to ('/job:localhost/replica:0/task:0/device:CPU:0',).\n",
      "INFO:tensorflow:Reduce to /job:localhost/replica:0/task:0/device:CPU:0 then broadcast to ('/job:localhost/replica:0/task:0/device:CPU:0',).\n"
     ]
    }
   ],
   "source": [
    "# using tensorboard instance for callbacks\n",
    "from time import time\n",
    "from datetime import datetime\n",
    "from tensorflow.python.keras.callbacks import TensorBoard\n",
    "\n",
    "log_dir = tensorboard_logpath +\"lstm-baseline0\"\n",
    "print('Tensprflow logs ',log_dir)\n",
    "tensorboard = TensorBoard(log_dir=log_dir,histogram_freq=1)\n",
    "\n",
    "with strategy.scope():\n",
    "    # model compilation\n",
    "    model.compile(optimizer=\"adamax\",loss=logits_loss,metrics=['accuracy'])"
   ]
  },
  {
   "cell_type": "markdown",
   "metadata": {
    "colab_type": "text",
    "id": "4WuaPHlU8hnp"
   },
   "source": [
    "### 4.6 Generator Function for use in Model.fit"
   ]
  },
  {
   "cell_type": "code",
   "execution_count": 30,
   "metadata": {
    "colab": {},
    "colab_type": "code",
    "id": "yYIgojpb8g82"
   },
   "outputs": [],
   "source": [
    "## Reference \n",
    "def generator_function(length,batch_size = 64,data_type = 'Train'):\n",
    "    \"\"\"\n",
    "    This function is generates batches of data to avoid strain on memory.\n",
    "    \"\"\"\n",
    "    X1, X2, y = list(), list(), list()\n",
    "    flag = True\n",
    "    if data_type == 'Val':\n",
    "        flag = False\n",
    "    n = 0\n",
    "    # loop forever over datapoints.\n",
    "    while 1:\n",
    "        for i in range(length):\n",
    "            n += 1\n",
    "            if flag:\n",
    "                X1.append(train_question_sequence[i])\n",
    "                X2.append(train_context_sequence[i])                \n",
    "                y.append(y_train[i])\n",
    "            else:\n",
    "                X1.append(val_question_sequence[i])\n",
    "                X2.append(val_context_sequence[i])                \n",
    "                y.append(y_val[i])\n",
    "            if n == batch_size:\n",
    "                yield ((array(X1),array(X2)),array(y))\n",
    "                X1,X2, y = list(), list(), list()\n",
    "                n=0"
   ]
  },
  {
   "cell_type": "markdown",
   "metadata": {
    "colab_type": "text",
    "id": "vlGf9CAe-ZW-"
   },
   "source": [
    "### 4.7 Model Training"
   ]
  },
  {
   "cell_type": "code",
   "execution_count": 31,
   "metadata": {
    "colab": {
     "base_uri": "https://localhost:8080/",
     "height": 476
    },
    "colab_type": "code",
    "id": "bO-l9AhD-fPM",
    "outputId": "1581ed8d-65b4-468f-84cf-eb6445bf62c8"
   },
   "outputs": [
    {
     "name": "stdout",
     "output_type": "stream",
     "text": [
      "{'context_length_99': 285,\n",
      " 'context_max_length': 426,\n",
      " 'context_pad_seq': 'pre',\n",
      " 'embedding_size': 100,\n",
      " 'question_length_99': 20,\n",
      " 'question_max_length': 40,\n",
      " 'question_pad_seq': 'pre',\n",
      " 'rnn_units': 256,\n",
      " 'test_shape': (26062, 16),\n",
      " 'test_span_outofrange': 0,\n",
      " 'tokenizer_num_words': 80000,\n",
      " 'train_shape': (78183, 16),\n",
      " 'train_span_outofrange': 0,\n",
      " 'training.batch_size': 64,\n",
      " 'training.epochs': 25,\n",
      " 'training.train_length': 78183,\n",
      " 'training.train_steps': 1221,\n",
      " 'training.val_length': 26061,\n",
      " 'training.val_steps': 814,\n",
      " 'val_shape': (26061, 16),\n",
      " 'val_span_outofrange': 0,\n",
      " 'vocab_size': 100850}\n",
      "params.jsop updated and can be found in  /storage/models/params.json\n"
     ]
    }
   ],
   "source": [
    "params['training.epochs']=25\n",
    "params['training.batch_size']=64\n",
    "params['training.train_length']=len(y_train)\n",
    "params['training.val_length']=len(y_val)\n",
    "params['training.train_steps']=params['training.train_length']//params['training.batch_size']\n",
    "params['training.val_steps']=params['training.val_length']//32\n",
    "\n",
    "pprint.pprint(params)\n",
    "\n",
    "### SAVE PARAMS\n",
    "# Writing to sample.json \n",
    "updateparams()"
   ]
  },
  {
   "cell_type": "code",
   "execution_count": 32,
   "metadata": {
    "colab": {
     "base_uri": "https://localhost:8080/",
     "height": 904
    },
    "colab_type": "code",
    "id": "dfbn-RnO_EOc",
    "outputId": "cae42a6b-fee4-44b1-f096-9ff9e7830065"
   },
   "outputs": [
    {
     "name": "stdout",
     "output_type": "stream",
     "text": [
      "Epoch 0 start at time  2020-06-16 15:33:51.530387\n",
      "Executing op TensorDataset in device /job:localhost/replica:0/task:0/device:CPU:0\n",
      "Executing op FlatMapDataset in device /job:localhost/replica:0/task:0/device:CPU:0\n",
      "Executing op OptimizeDataset in device /job:localhost/replica:0/task:0/device:CPU:0\n",
      "Executing op ModelDataset in device /job:localhost/replica:0/task:0/device:CPU:0\n",
      "Executing op AnonymousIteratorV2 in device /job:localhost/replica:0/task:0/device:CPU:0\n",
      "Executing op MakeIterator in device /job:localhost/replica:0/task:0/device:CPU:0\n",
      "Executing op IteratorGetNextSync in device /job:localhost/replica:0/task:0/device:CPU:0\n",
      "Executing op DeleteIterator in device /job:localhost/replica:0/task:0/device:CPU:0\n",
      "Executing op FlatMapDataset in device /job:localhost/replica:0/task:0/device:CPU:0\n",
      "Executing op DatasetCardinality in device /job:localhost/replica:0/task:0/device:CPU:0\n",
      "Executing op RebatchDataset in device /job:localhost/replica:0/task:0/device:CPU:0\n",
      "Executing op AutoShardDataset in device /job:localhost/replica:0/task:0/device:CPU:0\n",
      "Train for 1221 steps, validate for 814 steps\n",
      "Executing op Add in device /job:localhost/replica:0/task:0/device:CPU:0\n",
      "Executing op SummaryWriter in device /job:localhost/replica:0/task:0/device:CPU:0\n",
      "Executing op CreateSummaryFileWriter in device /job:localhost/replica:0/task:0/device:CPU:0\n",
      "Executing op WriteGraphSummary in device /job:localhost/replica:0/task:0/device:CPU:0\n",
      "Executing op LogicalAnd in device /job:localhost/replica:0/task:0/device:CPU:0\n",
      "Executing op WriteSummary in device /job:localhost/replica:0/task:0/device:CPU:0\n",
      "Executing op FlushSummaryWriter in device /job:localhost/replica:0/task:0/device:CPU:0\n",
      "Executing op MultiDeviceIterator in device /job:localhost/replica:0/task:0/device:CPU:0\n",
      "Executing op MultiDeviceIteratorInit in device /job:localhost/replica:0/task:0/device:CPU:0\n",
      "Executing op MultiDeviceIteratorToStringHandle in device /job:localhost/replica:0/task:0/device:CPU:0\n",
      "Executing op GeneratorDataset in device /job:localhost/replica:0/task:0/device:GPU:0\n",
      "Executing op PrefetchDataset in device /job:localhost/replica:0/task:0/device:GPU:0\n",
      "Executing op AnonymousIteratorV2 in device /job:localhost/replica:0/task:0/device:GPU:0\n",
      "Executing op MakeIterator in device /job:localhost/replica:0/task:0/device:GPU:0\n",
      "Executing op VarHandleOp in device /job:localhost/replica:0/task:0/device:GPU:0\n",
      "Executing op AssignVariableOp in device /job:localhost/replica:0/task:0/device:GPU:0\n",
      "Executing op VarHandleOp in device /job:localhost/replica:0/task:0/device:GPU:0\n",
      "Executing op VarHandleOp in device /job:localhost/replica:0/task:0/device:GPU:0\n",
      "Executing op VarHandleOp in device /job:localhost/replica:0/task:0/device:GPU:0\n",
      "Executing op VarHandleOp in device /job:localhost/replica:0/task:0/device:GPU:0\n",
      "Executing op Fill in device /job:localhost/replica:0/task:0/device:GPU:0\n",
      "Executing op VarHandleOp in device /job:localhost/replica:0/task:0/device:GPU:0\n",
      "Executing op VarHandleOp in device /job:localhost/replica:0/task:0/device:GPU:0\n",
      "Executing op VarHandleOp in device /job:localhost/replica:0/task:0/device:GPU:0\n",
      "Executing op VarHandleOp in device /job:localhost/replica:0/task:0/device:GPU:0\n",
      "Executing op VarHandleOp in device /job:localhost/replica:0/task:0/device:GPU:0\n",
      "Executing op VarHandleOp in device /job:localhost/replica:0/task:0/device:GPU:0\n",
      "Executing op VarHandleOp in device /job:localhost/replica:0/task:0/device:GPU:0\n",
      "Executing op VarHandleOp in device /job:localhost/replica:0/task:0/device:GPU:0\n",
      "Executing op VarHandleOp in device /job:localhost/replica:0/task:0/device:GPU:0\n",
      "Executing op VarHandleOp in device /job:localhost/replica:0/task:0/device:GPU:0\n",
      "Executing op VarHandleOp in device /job:localhost/replica:0/task:0/device:GPU:0\n",
      "Executing op VarHandleOp in device /job:localhost/replica:0/task:0/device:GPU:0\n",
      "Executing op VarHandleOp in device /job:localhost/replica:0/task:0/device:GPU:0\n",
      "Executing op VarHandleOp in device /job:localhost/replica:0/task:0/device:GPU:0\n",
      "Executing op VarHandleOp in device /job:localhost/replica:0/task:0/device:GPU:0\n",
      "Executing op VarHandleOp in device /job:localhost/replica:0/task:0/device:GPU:0\n",
      "Executing op VarHandleOp in device /job:localhost/replica:0/task:0/device:GPU:0\n",
      "Executing op VarHandleOp in device /job:localhost/replica:0/task:0/device:GPU:0\n",
      "Executing op VarHandleOp in device /job:localhost/replica:0/task:0/device:GPU:0\n",
      "Executing op VarHandleOp in device /job:localhost/replica:0/task:0/device:GPU:0\n",
      "Executing op VarHandleOp in device /job:localhost/replica:0/task:0/device:GPU:0\n",
      "Executing op VarHandleOp in device /job:localhost/replica:0/task:0/device:GPU:0\n",
      "Executing op VarHandleOp in device /job:localhost/replica:0/task:0/device:GPU:0\n",
      "Executing op VarHandleOp in device /job:localhost/replica:0/task:0/device:GPU:0\n",
      "INFO:tensorflow:Reduce to /job:localhost/replica:0/task:0/device:CPU:0 then broadcast to ('/job:localhost/replica:0/task:0/device:CPU:0',).\n",
      "INFO:tensorflow:Reduce to /job:localhost/replica:0/task:0/device:CPU:0 then broadcast to ('/job:localhost/replica:0/task:0/device:CPU:0',).\n",
      "Executing op __inference_initialize_variables_5344 in device /job:localhost/replica:0/task:0/device:GPU:0\n",
      "INFO:tensorflow:Reduce to /job:localhost/replica:0/task:0/device:CPU:0 then broadcast to ('/job:localhost/replica:0/task:0/device:CPU:0',).\n",
      "INFO:tensorflow:Reduce to /job:localhost/replica:0/task:0/device:CPU:0 then broadcast to ('/job:localhost/replica:0/task:0/device:CPU:0',).\n",
      "Executing op __inference_distributed_function_7997 in device /job:localhost/replica:0/task:0/device:GPU:0\n",
      "   1/1221 [..............................] - ETA: 2:23:16 - loss: 12.1096 - accuracy: 0.0000e+00WARNING:tensorflow:Method (on_train_batch_end) is slow compared to the batch update (0.257640). Check your callbacks.\n",
      "   2/1221 [..............................] - ETA: 1:14:01 - loss: 12.1034 - accuracy: 0.0156    WARNING:tensorflow:Method (on_train_batch_end) is slow compared to the batch update (0.144117). Check your callbacks.\n",
      "1220/1221 [============================>.] - ETA: 0s - loss: 9.1004 - accuracy: 0.1972Executing op GeneratorDataset in device /job:localhost/replica:0/task:0/device:GPU:0\n",
      "INFO:tensorflow:Reduce to /job:localhost/replica:0/task:0/device:CPU:0 then broadcast to ('/job:localhost/replica:0/task:0/device:CPU:0',).\n",
      "INFO:tensorflow:Reduce to /job:localhost/replica:0/task:0/device:CPU:0 then broadcast to ('/job:localhost/replica:0/task:0/device:CPU:0',).\n",
      "Executing op __inference_distributed_function_12886 in device /job:localhost/replica:0/task:0/device:GPU:0\n",
      "Executing op WriteScalarSummary in device /job:localhost/replica:0/task:0/device:CPU:0\n",
      "Executing op WriteScalarSummary in device /job:localhost/replica:0/task:0/device:CPU:0\n",
      "Executing op WriteHistogramSummary in device /job:localhost/replica:0/task:0/device:CPU:0\n",
      "1221/1221 [==============================] - 87s 71ms/step - loss: 9.1003 - accuracy: 0.1971 - val_loss: 8.8169 - val_accuracy: 0.2003\n",
      "Executing op CloseSummaryWriter in device /job:localhost/replica:0/task:0/device:CPU:0\n",
      "Executing op DeleteIterator in device /job:localhost/replica:0/task:0/device:GPU:0\n",
      "Epoch 1 start at time  2020-06-16 15:35:18.717110\n",
      "Executing op FlatMapDataset in device /job:localhost/replica:0/task:0/device:CPU:0\n",
      "Executing op FlatMapDataset in device /job:localhost/replica:0/task:0/device:CPU:0\n",
      "Train for 1221 steps, validate for 814 steps\n",
      "Executing op GeneratorDataset in device /job:localhost/replica:0/task:0/device:GPU:0\n",
      "INFO:tensorflow:Reduce to /job:localhost/replica:0/task:0/device:CPU:0 then broadcast to ('/job:localhost/replica:0/task:0/device:CPU:0',).\n",
      "INFO:tensorflow:Reduce to /job:localhost/replica:0/task:0/device:CPU:0 then broadcast to ('/job:localhost/replica:0/task:0/device:CPU:0',).\n",
      "Executing op __inference_distributed_function_18285 in device /job:localhost/replica:0/task:0/device:GPU:0\n",
      "1220/1221 [============================>.] - ETA: 0s - loss: 8.2624 - accuracy: 0.2492Executing op GeneratorDataset in device /job:localhost/replica:0/task:0/device:GPU:0\n",
      "Executing op __inference_distributed_function_23165 in device /job:localhost/replica:0/task:0/device:GPU:0\n",
      "1221/1221 [==============================] - 83s 68ms/step - loss: 8.2625 - accuracy: 0.2492 - val_loss: 8.3177 - val_accuracy: 0.2231\n",
      "Epoch 2 start at time  2020-06-16 15:36:41.372446\n",
      "Executing op FlatMapDataset in device /job:localhost/replica:0/task:0/device:CPU:0\n",
      "Executing op FlatMapDataset in device /job:localhost/replica:0/task:0/device:CPU:0\n",
      "Train for 1221 steps, validate for 814 steps\n",
      "Executing op GeneratorDataset in device /job:localhost/replica:0/task:0/device:GPU:0\n",
      "Executing op __inference_distributed_function_28564 in device /job:localhost/replica:0/task:0/device:GPU:0\n",
      "1219/1221 [============================>.] - ETA: 0s - loss: 7.4595 - accuracy: 0.3277Executing op GeneratorDataset in device /job:localhost/replica:0/task:0/device:GPU:0\n",
      "Executing op __inference_distributed_function_33444 in device /job:localhost/replica:0/task:0/device:GPU:0\n",
      "1221/1221 [==============================] - 83s 68ms/step - loss: 7.4605 - accuracy: 0.3276 - val_loss: 7.6969 - val_accuracy: 0.3019\n",
      "Epoch 3 start at time  2020-06-16 15:38:04.282065\n",
      "Executing op FlatMapDataset in device /job:localhost/replica:0/task:0/device:CPU:0\n",
      "Executing op FlatMapDataset in device /job:localhost/replica:0/task:0/device:CPU:0\n",
      "Train for 1221 steps, validate for 814 steps\n",
      "Executing op GeneratorDataset in device /job:localhost/replica:0/task:0/device:GPU:0\n",
      "Executing op __inference_distributed_function_38843 in device /job:localhost/replica:0/task:0/device:GPU:0\n",
      "1220/1221 [============================>.] - ETA: 0s - loss: 6.9749 - accuracy: 0.3775Executing op GeneratorDataset in device /job:localhost/replica:0/task:0/device:GPU:0\n",
      "Executing op __inference_distributed_function_43723 in device /job:localhost/replica:0/task:0/device:GPU:0\n",
      "1221/1221 [==============================] - 83s 68ms/step - loss: 6.9752 - accuracy: 0.3774 - val_loss: 7.2812 - val_accuracy: 0.3591\n",
      "Epoch 4 start at time  2020-06-16 15:39:27.646292\n",
      "Executing op FlatMapDataset in device /job:localhost/replica:0/task:0/device:CPU:0\n",
      "Executing op FlatMapDataset in device /job:localhost/replica:0/task:0/device:CPU:0\n",
      "Train for 1221 steps, validate for 814 steps\n",
      "Executing op GeneratorDataset in device /job:localhost/replica:0/task:0/device:GPU:0\n",
      "Executing op __inference_distributed_function_49122 in device /job:localhost/replica:0/task:0/device:GPU:0\n",
      "1219/1221 [============================>.] - ETA: 0s - loss: 6.7631 - accuracy: 0.4000Executing op GeneratorDataset in device /job:localhost/replica:0/task:0/device:GPU:0\n",
      "Executing op __inference_distributed_function_54002 in device /job:localhost/replica:0/task:0/device:GPU:0\n",
      "1221/1221 [==============================] - 83s 68ms/step - loss: 6.7646 - accuracy: 0.3998 - val_loss: 8.1504 - val_accuracy: 0.2864\n",
      "Epoch 5 start at time  2020-06-16 15:40:50.757804\n",
      "Executing op FlatMapDataset in device /job:localhost/replica:0/task:0/device:CPU:0\n",
      "Executing op FlatMapDataset in device /job:localhost/replica:0/task:0/device:CPU:0\n",
      "Train for 1221 steps, validate for 814 steps\n",
      "Executing op GeneratorDataset in device /job:localhost/replica:0/task:0/device:GPU:0\n",
      "Executing op __inference_distributed_function_59401 in device /job:localhost/replica:0/task:0/device:GPU:0\n",
      "1220/1221 [============================>.] - ETA: 0s - loss: 6.7811 - accuracy: 0.3907Executing op GeneratorDataset in device /job:localhost/replica:0/task:0/device:GPU:0\n",
      "Executing op __inference_distributed_function_64281 in device /job:localhost/replica:0/task:0/device:GPU:0\n",
      "1221/1221 [==============================] - 83s 68ms/step - loss: 6.7815 - accuracy: 0.3906 - val_loss: 7.7129 - val_accuracy: 0.3386\n",
      "Epoch 6 start at time  2020-06-16 15:42:14.264088\n",
      "Executing op FlatMapDataset in device /job:localhost/replica:0/task:0/device:CPU:0\n",
      "Executing op FlatMapDataset in device /job:localhost/replica:0/task:0/device:CPU:0\n",
      "Train for 1221 steps, validate for 814 steps\n",
      "Executing op GeneratorDataset in device /job:localhost/replica:0/task:0/device:GPU:0\n",
      "Executing op __inference_distributed_function_69680 in device /job:localhost/replica:0/task:0/device:GPU:0\n",
      "1220/1221 [============================>.] - ETA: 0s - loss: 6.3355 - accuracy: 0.4259 ETA: 0s - losExecuting op GeneratorDataset in device /job:localhost/replica:0/task:0/device:GPU:0\n",
      "Executing op __inference_distributed_function_74560 in device /job:localhost/replica:0/task:0/device:GPU:0\n",
      "1221/1221 [==============================] - 83s 68ms/step - loss: 6.3361 - accuracy: 0.4259 - val_loss: 7.5256 - val_accuracy: 0.3519\n",
      "Epoch 7 start at time  2020-06-16 15:43:37.263483\n",
      "Executing op FlatMapDataset in device /job:localhost/replica:0/task:0/device:CPU:0\n",
      "Executing op FlatMapDataset in device /job:localhost/replica:0/task:0/device:CPU:0\n",
      "Train for 1221 steps, validate for 814 steps\n",
      "Executing op GeneratorDataset in device /job:localhost/replica:0/task:0/device:GPU:0\n",
      "Executing op __inference_distributed_function_79959 in device /job:localhost/replica:0/task:0/device:GPU:0\n",
      "1220/1221 [============================>.] - ETA: 0s - loss: 6.1459 - accuracy: 0.4389Executing op GeneratorDataset in device /job:localhost/replica:0/task:0/device:GPU:0\n",
      "Executing op __inference_distributed_function_84839 in device /job:localhost/replica:0/task:0/device:GPU:0\n",
      "1221/1221 [==============================] - 84s 69ms/step - loss: 6.1464 - accuracy: 0.4389 - val_loss: 7.1702 - val_accuracy: 0.3960\n",
      "Epoch 8 start at time  2020-06-16 15:45:01.152531\n",
      "Executing op FlatMapDataset in device /job:localhost/replica:0/task:0/device:CPU:0\n",
      "Executing op FlatMapDataset in device /job:localhost/replica:0/task:0/device:CPU:0\n",
      "Train for 1221 steps, validate for 814 steps\n",
      "Executing op GeneratorDataset in device /job:localhost/replica:0/task:0/device:GPU:0\n",
      "Executing op __inference_distributed_function_90238 in device /job:localhost/replica:0/task:0/device:GPU:0\n",
      "1219/1221 [============================>.] - ETA: 0s - loss: 6.0456 - accuracy: 0.4444Executing op GeneratorDataset in device /job:localhost/replica:0/task:0/device:GPU:0\n",
      "Executing op __inference_distributed_function_95118 in device /job:localhost/replica:0/task:0/device:GPU:0\n",
      "1221/1221 [==============================] - 83s 68ms/step - loss: 6.0461 - accuracy: 0.4444 - val_loss: 7.2731 - val_accuracy: 0.3963\n",
      "Epoch 9 start at time  2020-06-16 15:46:24.481974\n",
      "Executing op FlatMapDataset in device /job:localhost/replica:0/task:0/device:CPU:0\n",
      "Executing op FlatMapDataset in device /job:localhost/replica:0/task:0/device:CPU:0\n",
      "Train for 1221 steps, validate for 814 steps\n",
      "Executing op GeneratorDataset in device /job:localhost/replica:0/task:0/device:GPU:0\n",
      "Executing op __inference_distributed_function_100517 in device /job:localhost/replica:0/task:0/device:GPU:0\n",
      "1219/1221 [============================>.] - ETA: 0s - loss: 5.9221 - accuracy: 0.4510Executing op GeneratorDataset in device /job:localhost/replica:0/task:0/device:GPU:0\n",
      "Executing op __inference_distributed_function_105397 in device /job:localhost/replica:0/task:0/device:GPU:0\n",
      "1221/1221 [==============================] - 84s 69ms/step - loss: 5.9223 - accuracy: 0.4510 - val_loss: 7.2630 - val_accuracy: 0.4094\n",
      "Epoch 10 start at time  2020-06-16 15:47:48.752291\n",
      "Executing op FlatMapDataset in device /job:localhost/replica:0/task:0/device:CPU:0\n",
      "Executing op FlatMapDataset in device /job:localhost/replica:0/task:0/device:CPU:0\n",
      "Train for 1221 steps, validate for 814 steps\n",
      "Executing op GeneratorDataset in device /job:localhost/replica:0/task:0/device:GPU:0\n",
      "Executing op __inference_distributed_function_110796 in device /job:localhost/replica:0/task:0/device:GPU:0\n",
      "1220/1221 [============================>.] - ETA: 0s - loss: 5.8343 - accuracy: 0.4550Executing op GeneratorDataset in device /job:localhost/replica:0/task:0/device:GPU:0\n",
      "Executing op __inference_distributed_function_115676 in device /job:localhost/replica:0/task:0/device:GPU:0\n",
      "1221/1221 [==============================] - 83s 68ms/step - loss: 5.8348 - accuracy: 0.4550 - val_loss: 7.4213 - val_accuracy: 0.3997\n",
      "Epoch 11 start at time  2020-06-16 15:49:12.133749\n",
      "Executing op FlatMapDataset in device /job:localhost/replica:0/task:0/device:CPU:0\n",
      "Executing op FlatMapDataset in device /job:localhost/replica:0/task:0/device:CPU:0\n",
      "Train for 1221 steps, validate for 814 steps\n",
      "Executing op GeneratorDataset in device /job:localhost/replica:0/task:0/device:GPU:0\n",
      "Executing op __inference_distributed_function_121075 in device /job:localhost/replica:0/task:0/device:GPU:0\n",
      "1220/1221 [============================>.] - ETA: 0s - loss: 5.7986 - accuracy: 0.4556Executing op GeneratorDataset in device /job:localhost/replica:0/task:0/device:GPU:0\n",
      "Executing op __inference_distributed_function_125955 in device /job:localhost/replica:0/task:0/device:GPU:0\n",
      "1221/1221 [==============================] - 82s 67ms/step - loss: 5.7991 - accuracy: 0.4555 - val_loss: 7.4693 - val_accuracy: 0.3975\n",
      "Epoch 12 start at time  2020-06-16 15:50:34.655927\n",
      "Executing op FlatMapDataset in device /job:localhost/replica:0/task:0/device:CPU:0\n",
      "Executing op FlatMapDataset in device /job:localhost/replica:0/task:0/device:CPU:0\n",
      "Train for 1221 steps, validate for 814 steps\n",
      "Executing op GeneratorDataset in device /job:localhost/replica:0/task:0/device:GPU:0\n",
      "Executing op __inference_distributed_function_131354 in device /job:localhost/replica:0/task:0/device:GPU:0\n",
      "1220/1221 [============================>.] - ETA: 0s - loss: 5.6801 - accuracy: 0.4597Executing op GeneratorDataset in device /job:localhost/replica:0/task:0/device:GPU:0\n",
      "Executing op __inference_distributed_function_136234 in device /job:localhost/replica:0/task:0/device:GPU:0\n",
      "1221/1221 [==============================] - 82s 67ms/step - loss: 5.6805 - accuracy: 0.4596 - val_loss: 7.6698 - val_accuracy: 0.4046\n",
      "Epoch 13 start at time  2020-06-16 15:51:56.978935\n",
      "Executing op FlatMapDataset in device /job:localhost/replica:0/task:0/device:CPU:0\n",
      "Executing op FlatMapDataset in device /job:localhost/replica:0/task:0/device:CPU:0\n",
      "Train for 1221 steps, validate for 814 steps\n",
      "Executing op GeneratorDataset in device /job:localhost/replica:0/task:0/device:GPU:0\n",
      "Executing op __inference_distributed_function_141633 in device /job:localhost/replica:0/task:0/device:GPU:0\n",
      "1219/1221 [============================>.] - ETA: 0s - loss: 5.6222 - accuracy: 0.4607Executing op GeneratorDataset in device /job:localhost/replica:0/task:0/device:GPU:0\n",
      "Executing op __inference_distributed_function_146513 in device /job:localhost/replica:0/task:0/device:GPU:0\n",
      "1221/1221 [==============================] - 84s 69ms/step - loss: 5.6223 - accuracy: 0.4607 - val_loss: 7.6694 - val_accuracy: 0.3874\n",
      "Epoch 14 start at time  2020-06-16 15:53:21.043357\n",
      "Executing op FlatMapDataset in device /job:localhost/replica:0/task:0/device:CPU:0\n",
      "Executing op FlatMapDataset in device /job:localhost/replica:0/task:0/device:CPU:0\n",
      "Train for 1221 steps, validate for 814 steps\n",
      "Executing op GeneratorDataset in device /job:localhost/replica:0/task:0/device:GPU:0\n",
      "Executing op __inference_distributed_function_151912 in device /job:localhost/replica:0/task:0/device:GPU:0\n",
      "1220/1221 [============================>.] - ETA: 0s - loss: 5.5539 - accuracy: 0.4625Executing op GeneratorDataset in device /job:localhost/replica:0/task:0/device:GPU:0\n",
      "Executing op __inference_distributed_function_156792 in device /job:localhost/replica:0/task:0/device:GPU:0\n",
      "1221/1221 [==============================] - 83s 68ms/step - loss: 5.5543 - accuracy: 0.4624 - val_loss: 7.7721 - val_accuracy: 0.4033\n",
      "Epoch 15 start at time  2020-06-16 15:54:44.553799\n",
      "Executing op FlatMapDataset in device /job:localhost/replica:0/task:0/device:CPU:0\n",
      "Executing op FlatMapDataset in device /job:localhost/replica:0/task:0/device:CPU:0\n",
      "Train for 1221 steps, validate for 814 steps\n",
      "Executing op GeneratorDataset in device /job:localhost/replica:0/task:0/device:GPU:0\n",
      "Executing op __inference_distributed_function_162191 in device /job:localhost/replica:0/task:0/device:GPU:0\n",
      "1219/1221 [============================>.] - ETA: 0s - loss: 5.4467 - accuracy: 0.4649Executing op GeneratorDataset in device /job:localhost/replica:0/task:0/device:GPU:0\n",
      "Executing op __inference_distributed_function_167071 in device /job:localhost/replica:0/task:0/device:GPU:0\n",
      "1221/1221 [==============================] - 82s 67ms/step - loss: 5.4467 - accuracy: 0.4650 - val_loss: 7.9565 - val_accuracy: 0.3970\n",
      "Epoch 16 start at time  2020-06-16 15:56:06.980410\n",
      "Executing op FlatMapDataset in device /job:localhost/replica:0/task:0/device:CPU:0\n",
      "Executing op FlatMapDataset in device /job:localhost/replica:0/task:0/device:CPU:0\n",
      "Train for 1221 steps, validate for 814 steps\n",
      "Executing op GeneratorDataset in device /job:localhost/replica:0/task:0/device:GPU:0\n",
      "Executing op __inference_distributed_function_172470 in device /job:localhost/replica:0/task:0/device:GPU:0\n",
      "1220/1221 [============================>.] - ETA: 0s - loss: 5.3883 - accuracy: 0.4666Executing op GeneratorDataset in device /job:localhost/replica:0/task:0/device:GPU:0\n",
      "Executing op __inference_distributed_function_177350 in device /job:localhost/replica:0/task:0/device:GPU:0\n",
      "1221/1221 [==============================] - 84s 69ms/step - loss: 5.3888 - accuracy: 0.4665 - val_loss: 7.8798 - val_accuracy: 0.4019\n",
      "Epoch 17 start at time  2020-06-16 15:57:31.556757\n",
      "Executing op FlatMapDataset in device /job:localhost/replica:0/task:0/device:CPU:0\n",
      "Executing op FlatMapDataset in device /job:localhost/replica:0/task:0/device:CPU:0\n",
      "Train for 1221 steps, validate for 814 steps\n",
      "Executing op GeneratorDataset in device /job:localhost/replica:0/task:0/device:GPU:0\n",
      "Executing op __inference_distributed_function_182749 in device /job:localhost/replica:0/task:0/device:GPU:0\n",
      "1219/1221 [============================>.] - ETA: 0s - loss: 5.3543 - accuracy: 0.4674Executing op GeneratorDataset in device /job:localhost/replica:0/task:0/device:GPU:0\n",
      "Executing op __inference_distributed_function_187629 in device /job:localhost/replica:0/task:0/device:GPU:0\n",
      "1221/1221 [==============================] - 83s 68ms/step - loss: 5.3541 - accuracy: 0.4674 - val_loss: 8.1812 - val_accuracy: 0.3943\n",
      "Epoch 18 start at time  2020-06-16 15:58:55.001368\n",
      "Executing op FlatMapDataset in device /job:localhost/replica:0/task:0/device:CPU:0\n",
      "Executing op FlatMapDataset in device /job:localhost/replica:0/task:0/device:CPU:0\n",
      "Train for 1221 steps, validate for 814 steps\n",
      "Executing op GeneratorDataset in device /job:localhost/replica:0/task:0/device:GPU:0\n",
      "Executing op __inference_distributed_function_193028 in device /job:localhost/replica:0/task:0/device:GPU:0\n",
      "1219/1221 [============================>.] - ETA: 0s - loss: 5.2784 - accuracy: 0.4685Executing op GeneratorDataset in device /job:localhost/replica:0/task:0/device:GPU:0\n",
      "Executing op __inference_distributed_function_197908 in device /job:localhost/replica:0/task:0/device:GPU:0\n",
      "1221/1221 [==============================] - 83s 68ms/step - loss: 5.2783 - accuracy: 0.4685 - val_loss: 8.4499 - val_accuracy: 0.3770\n",
      "Epoch 19 start at time  2020-06-16 16:00:18.422841\n",
      "Executing op FlatMapDataset in device /job:localhost/replica:0/task:0/device:CPU:0\n",
      "Executing op FlatMapDataset in device /job:localhost/replica:0/task:0/device:CPU:0\n",
      "Train for 1221 steps, validate for 814 steps\n",
      "Executing op GeneratorDataset in device /job:localhost/replica:0/task:0/device:GPU:0\n",
      "Executing op __inference_distributed_function_203307 in device /job:localhost/replica:0/task:0/device:GPU:0\n",
      "1219/1221 [============================>.] - ETA: 0s - loss: 5.1783 - accuracy: 0.4713Executing op GeneratorDataset in device /job:localhost/replica:0/task:0/device:GPU:0\n",
      "Executing op __inference_distributed_function_208187 in device /job:localhost/replica:0/task:0/device:GPU:0\n",
      "1221/1221 [==============================] - 83s 68ms/step - loss: 5.1782 - accuracy: 0.4713 - val_loss: 8.7240 - val_accuracy: 0.3787\n",
      "Epoch 20 start at time  2020-06-16 16:01:41.817838\n",
      "Executing op FlatMapDataset in device /job:localhost/replica:0/task:0/device:CPU:0\n",
      "Executing op FlatMapDataset in device /job:localhost/replica:0/task:0/device:CPU:0\n",
      "Train for 1221 steps, validate for 814 steps\n",
      "Executing op GeneratorDataset in device /job:localhost/replica:0/task:0/device:GPU:0\n",
      "Executing op __inference_distributed_function_213586 in device /job:localhost/replica:0/task:0/device:GPU:0\n",
      "1220/1221 [============================>.] - ETA: 0s - loss: 5.1521 - accuracy: 0.4716Executing op GeneratorDataset in device /job:localhost/replica:0/task:0/device:GPU:0\n",
      "Executing op __inference_distributed_function_218466 in device /job:localhost/replica:0/task:0/device:GPU:0\n",
      "1221/1221 [==============================] - 82s 67ms/step - loss: 5.1527 - accuracy: 0.4715 - val_loss: 9.0146 - val_accuracy: 0.3878\n",
      "Epoch 21 start at time  2020-06-16 16:03:04.181801\n",
      "Executing op FlatMapDataset in device /job:localhost/replica:0/task:0/device:CPU:0\n",
      "Executing op FlatMapDataset in device /job:localhost/replica:0/task:0/device:CPU:0\n",
      "Train for 1221 steps, validate for 814 steps\n",
      "Executing op GeneratorDataset in device /job:localhost/replica:0/task:0/device:GPU:0\n",
      "Executing op __inference_distributed_function_223865 in device /job:localhost/replica:0/task:0/device:GPU:0\n",
      "1220/1221 [============================>.] - ETA: 0s - loss: 5.1202 - accuracy: 0.4731 ETA - ETA: 1s - - ETA: 0s - loss: 5.1191 - accuracy: Executing op GeneratorDataset in device /job:localhost/replica:0/task:0/device:GPU:0\n",
      "Executing op __inference_distributed_function_228745 in device /job:localhost/replica:0/task:0/device:GPU:0\n",
      "1221/1221 [==============================] - 84s 69ms/step - loss: 5.1206 - accuracy: 0.4731 - val_loss: 9.0983 - val_accuracy: 0.3702\n",
      "Epoch 22 start at time  2020-06-16 16:04:28.696284\n",
      "Executing op FlatMapDataset in device /job:localhost/replica:0/task:0/device:CPU:0\n",
      "Executing op FlatMapDataset in device /job:localhost/replica:0/task:0/device:CPU:0\n",
      "Train for 1221 steps, validate for 814 steps\n",
      "Executing op GeneratorDataset in device /job:localhost/replica:0/task:0/device:GPU:0\n",
      "Executing op __inference_distributed_function_234144 in device /job:localhost/replica:0/task:0/device:GPU:0\n",
      "1220/1221 [============================>.] - ETA: 0s - loss: 5.0034 - accuracy: 0.4752Executing op GeneratorDataset in device /job:localhost/replica:0/task:0/device:GPU:0\n",
      "Executing op __inference_distributed_function_239024 in device /job:localhost/replica:0/task:0/device:GPU:0\n",
      "1221/1221 [==============================] - 83s 68ms/step - loss: 5.0038 - accuracy: 0.4752 - val_loss: 9.3678 - val_accuracy: 0.3604\n",
      "Epoch 23 start at time  2020-06-16 16:05:51.940484\n",
      "Executing op FlatMapDataset in device /job:localhost/replica:0/task:0/device:CPU:0\n",
      "Executing op FlatMapDataset in device /job:localhost/replica:0/task:0/device:CPU:0\n",
      "Train for 1221 steps, validate for 814 steps\n",
      "Executing op GeneratorDataset in device /job:localhost/replica:0/task:0/device:GPU:0\n",
      "Executing op __inference_distributed_function_244423 in device /job:localhost/replica:0/task:0/device:GPU:0\n",
      "1220/1221 [============================>.] - ETA: 0s - loss: 4.9309 - accuracy: 0.4767Executing op GeneratorDataset in device /job:localhost/replica:0/task:0/device:GPU:0\n",
      "Executing op __inference_distributed_function_249303 in device /job:localhost/replica:0/task:0/device:GPU:0\n",
      "1221/1221 [==============================] - 83s 68ms/step - loss: 4.9315 - accuracy: 0.4767 - val_loss: 9.4253 - val_accuracy: 0.3820\n",
      "Epoch 24 start at time  2020-06-16 16:07:15.406860\n",
      "Executing op FlatMapDataset in device /job:localhost/replica:0/task:0/device:CPU:0\n",
      "Executing op FlatMapDataset in device /job:localhost/replica:0/task:0/device:CPU:0\n",
      "Train for 1221 steps, validate for 814 steps\n",
      "Executing op GeneratorDataset in device /job:localhost/replica:0/task:0/device:GPU:0\n",
      "Executing op __inference_distributed_function_254702 in device /job:localhost/replica:0/task:0/device:GPU:0\n",
      "1220/1221 [============================>.] - ETA: 0s - loss: 4.9078 - accuracy: 0.4780Executing op GeneratorDataset in device /job:localhost/replica:0/task:0/device:GPU:0\n",
      "Executing op __inference_distributed_function_259582 in device /job:localhost/replica:0/task:0/device:GPU:0\n",
      "1221/1221 [==============================] - 83s 68ms/step - loss: 4.9083 - accuracy: 0.4779 - val_loss: 9.4275 - val_accuracy: 0.3640\n"
     ]
    }
   ],
   "source": [
    "with strategy.scope():\n",
    "    for i in range(params['training.epochs']):\n",
    "        print(\"Epoch {} start at time \".format(i),datetime.now())\n",
    "\n",
    "        train_generator = generator_function(params['training.train_length'],\n",
    "                                             params['training.batch_size'])\n",
    "\n",
    "        val_generator = generator_function(params['training.val_length'],\n",
    "                                           32,\n",
    "                                           \"Val\")\n",
    "        model.fit(x=train_generator, epochs=1, \n",
    "                            steps_per_epoch=params['training.train_steps'],\n",
    "                            verbose=1,\n",
    "                            callbacks=[tensorboard],\n",
    "                            validation_data=val_generator,\n",
    "                            validation_steps=params['training.val_steps'])"
   ]
  },
  {
   "cell_type": "markdown",
   "metadata": {
    "colab_type": "text",
    "id": "kRoOUajk492o"
   },
   "source": [
    "### 4.6 Serialize and Persist Models"
   ]
  },
  {
   "cell_type": "code",
   "execution_count": 34,
   "metadata": {
    "colab": {},
    "colab_type": "code",
    "id": "tnnjf-hX2FD7"
   },
   "outputs": [],
   "source": [
    "model.save_weights(model_path + \"lstmbaseline-0/\" + \"context_withoutstopwords_model_epoch_25_lstmbaseline0.h5\")"
   ]
  },
  {
   "cell_type": "code",
   "execution_count": 35,
   "metadata": {
    "colab": {},
    "colab_type": "code",
    "id": "ELL6OBOaFud5"
   },
   "outputs": [
    {
     "name": "stdout",
     "output_type": "stream",
     "text": [
      "Executing op ReadVariableOp in device /job:localhost/replica:0/task:0/device:GPU:0\n"
     ]
    }
   ],
   "source": [
    "# full model save\n",
    "model.save(model_path +  \"lstmbaseline-0/\" + \"full_context_withoutstopwords_model_epoch_lstmbaseline0.h5\")"
   ]
  },
  {
   "cell_type": "code",
   "execution_count": 36,
   "metadata": {},
   "outputs": [],
   "source": [
    "# Store in Tensor Flow Serving\n",
    "tf.keras.models.save_model(\n",
    "    model,\n",
    "    model_path+ 'lstmbaseline-0/tf-serve',\n",
    "    overwrite=True,\n",
    "    include_optimizer=True,\n",
    "    save_format='h5',\n",
    "    signatures=None,\n",
    "    options=None\n",
    ")"
   ]
  },
  {
   "cell_type": "markdown",
   "metadata": {
    "colab_type": "text",
    "id": "Jl0YsArymDdF"
   },
   "source": [
    "### 4.7 Load existing models"
   ]
  },
  {
   "cell_type": "code",
   "execution_count": null,
   "metadata": {
    "colab": {},
    "colab_type": "code",
    "id": "sBwGJN07mEGY"
   },
   "outputs": [],
   "source": [
    "modelname = 'context_withoutstopwords_model_epoch_24.h5'\n",
    "# modelname = 'model_epoch_24.h5'\n",
    "model.load_weights(model_path + modelname)"
   ]
  },
  {
   "cell_type": "markdown",
   "metadata": {
    "colab_type": "text",
    "id": "5tVohk7bORpH"
   },
   "source": [
    "### 4.8 Evaluation"
   ]
  },
  {
   "cell_type": "markdown",
   "metadata": {
    "colab_type": "text",
    "id": "r7pxr5yHOV6m"
   },
   "source": [
    "#### 4.8.1 Eval on Test data"
   ]
  },
  {
   "cell_type": "code",
   "execution_count": null,
   "metadata": {
    "colab": {},
    "colab_type": "code",
    "id": "8VEUBrVHN6c_"
   },
   "outputs": [],
   "source": [
    "y_prediction = model.predict([test_question_sequence,test_context_sequence])\n",
    "# print y_prediction[0] should return probabilty of of each index been a start and end token"
   ]
  },
  {
   "cell_type": "code",
   "execution_count": null,
   "metadata": {
    "colab": {},
    "colab_type": "code",
    "id": "CnVyS4ONOiNO"
   },
   "outputs": [],
   "source": [
    "# y_test was a list changing to numpy array\n",
    "y_test_fixed = np.array(y_test)"
   ]
  },
  {
   "cell_type": "code",
   "execution_count": null,
   "metadata": {
    "colab": {},
    "colab_type": "code",
    "id": "9_XCfB-gOpuh"
   },
   "outputs": [],
   "source": [
    "# argmax is used to get the index where the max value in a list appears, and hence \n",
    "# for every index i, we can get the place of start and end token of the max probab\n",
    "start_pred = []\n",
    "end_pred = []\n",
    "for i in range(26062):\n",
    "    start_pred.append(np.argmax(y_prediction[i,:params['context_max_length']]))\n",
    "    end_pred.append(np.argmax(y_prediction[i,params['context_max_length']:]))\n",
    "    \n",
    "# compute for y_test though in this case it the max of 0 and 1 for \n",
    "# the frist half od array size for start, and rest for end\n",
    "start = []\n",
    "end = []\n",
    "for i in range(26062):\n",
    "    start.append(np.argmax(y_test_fixed[i,:params['context_max_length']]))\n",
    "    end.append(np.argmax(y_test_fixed[i,params['context_max_length']:]))"
   ]
  },
  {
   "cell_type": "code",
   "execution_count": null,
   "metadata": {
    "colab": {
     "base_uri": "https://localhost:8080/",
     "height": 51
    },
    "colab_type": "code",
    "id": "138CmIXnR7LS",
    "outputId": "6fbfff77-86b7-42aa-c11a-cb32d53309f6"
   },
   "outputs": [
    {
     "name": "stdout",
     "output_type": "stream",
     "text": [
      "[425, 36, 425, 425, 28, 19, 425, 37, 20, 9, 425, 43, 425, 80, 425, 22, 20, 48, 425, 11]\n",
      "[425, 38, 425, 425, 29, 20, 425, 37, 22, 15, 425, 56, 425, 80, 425, 25, 21, 49, 425, 13]\n"
     ]
    }
   ],
   "source": [
    "print(start[100:120])\n",
    "print(end[100:120])"
   ]
  },
  {
   "cell_type": "code",
   "execution_count": null,
   "metadata": {
    "colab": {},
    "colab_type": "code",
    "id": "UPx7_OKMR8fX"
   },
   "outputs": [],
   "source": [
    "y_predicted_new = np.zeros((26062,params['context_max_length']))\n",
    "for i in range(26062):\n",
    "    y_predicted_new[i,start_pred[i]:end_pred[i]+1] = 1\n",
    "    \n",
    "y_test_new = np.zeros((26062,params['context_max_length']))\n",
    "for i in range(26062):\n",
    "    y_test_new[i,start[i]:end[i]+1] = 1"
   ]
  },
  {
   "cell_type": "code",
   "execution_count": null,
   "metadata": {
    "colab": {
     "base_uri": "https://localhost:8080/",
     "height": 34
    },
    "colab_type": "code",
    "id": "0tD4wUQ09SRb",
    "outputId": "c0e4dba1-ca98-4ada-d37e-0efad693cf22"
   },
   "outputs": [
    {
     "data": {
      "text/plain": [
       "677"
      ]
     },
     "execution_count": 444,
     "metadata": {
      "tags": []
     },
     "output_type": "execute_result"
    }
   ],
   "source": [
    "len(y_test_new[testindex])"
   ]
  },
  {
   "cell_type": "markdown",
   "metadata": {
    "colab_type": "text",
    "id": "v78fhG3Tdhx5"
   },
   "source": [
    "#### 4.8.2 Create a common function to predict and test"
   ]
  },
  {
   "cell_type": "code",
   "execution_count": null,
   "metadata": {
    "colab": {},
    "colab_type": "code",
    "id": "v6KDfM25dhZr"
   },
   "outputs": [],
   "source": [
    "def predit_test(context, question):\n",
    "  # get sequence for context and question\n",
    "  c_ = preprocess_text(context)\n",
    "  q_ = preprocess_text(question,stopword_removal=False)\n",
    "  c,q = generate_question_context_sequence(c_, q_)  \n",
    "  y_ = model.predict([q,c])    \n",
    "  # # for i in range(26062):\n",
    "  s = np.argmax(y_[0,:params['context_max_length']])\n",
    "  e = np.argmax(y_[0,params['context_max_length']:])\n",
    "  answer = span_to_answer((s,e),c_[0])\n",
    "  \n",
    "  # print(c.shape,q.shape,y_.shape,s,e,answer)  \n",
    "  # print(s, e)\n",
    "  return c_,q_,[s,e],y_,answer"
   ]
  },
  {
   "cell_type": "markdown",
   "metadata": {
    "colab_type": "text",
    "id": "vNqWwnNX5EAF"
   },
   "source": [
    "##### 4.8.2.1 TEST 1"
   ]
  },
  {
   "cell_type": "code",
   "execution_count": null,
   "metadata": {
    "colab": {
     "base_uri": "https://localhost:8080/",
     "height": 306
    },
    "colab_type": "code",
    "id": "aqKrcmCae0z8",
    "outputId": "fd407491-5065-4f07-b20e-1ad3d1760daa"
   },
   "outputs": [
    {
     "name": "stdout",
     "output_type": "stream",
     "text": [
      "ori c = \n",
      "('UNFPA began operations in 1969 as the United Nations Fund for Population '\n",
      " 'Activities (the name was changed in 1987) under the administration of the '\n",
      " 'United Nations Development Fund. In 1971 it was placed under the authority '\n",
      " 'of the United Nations General Assembly.')\n",
      "ori c c = \n",
      "('unfpa began operations 1969 united nations fund population activities name '\n",
      " 'changed 1987 administration united nations development fund 1971 placed '\n",
      " 'authority united nations general assembly')\n",
      "ori q =  what year did the united nations general assembly disband\n",
      "new c\n",
      "('mahayana buddha tends viewed merely human earthly projection beginningless '\n",
      " 'endless omnipresent see dharmakaya beyond range reach thought moreover '\n",
      " 'certain mahayana sutras buddha dharma sangha viewed essentially one three '\n",
      " 'seen eternal buddha')\n",
      "new q ['in what sutras are the buddha dharma and sangha viewed as one']\n",
      "predicted answer mahayana\n"
     ]
    }
   ],
   "source": [
    "c='In the Mahayana, the Buddha tends not to be viewed as merely human, but as the earthly projection of a beginningless and endless, omnipresent being (see Dharmakaya) beyond the range and reach of thought. Moreover, in certain Mahayana sutras, the Buddha, Dharma and Sangha are viewed essentially as One: all three are seen as the eternal Buddha himself.'\n",
    "q='in what sutras are the buddha dharma and sangha viewed as one'\n",
    "\n",
    "# c_,q_,span,y_,answer = predit_test(test['context'].iloc[39],test['question'].iloc[39])\n",
    "c_,q_,span,y_,answer = predit_test([c],[q])\n",
    "print('ori c = ')\n",
    "pprint.pprint(test['context'].iloc[39])\n",
    "print('ori c c = ')\n",
    "pprint.pprint(test['clean_context'].iloc[39])\n",
    "print('ori q = ',test['clean_question'].iloc[39])\n",
    "print('new c')\n",
    "pprint.pprint(c_[0])\n",
    "print('new q',q_)\n",
    "\n",
    "print('predicted answer' ,answer)"
   ]
  },
  {
   "cell_type": "markdown",
   "metadata": {
    "colab_type": "text",
    "id": "6PEKF0GU5SZg"
   },
   "source": [
    "##### 4.8.2.2 TEST 2"
   ]
  },
  {
   "cell_type": "code",
   "execution_count": null,
   "metadata": {
    "colab": {
     "base_uri": "https://localhost:8080/",
     "height": 34
    },
    "colab_type": "code",
    "id": "YnSg9CSCxy2k",
    "outputId": "8590e314-efad-4374-cfff-c745b737bad0"
   },
   "outputs": [
    {
     "name": "stdout",
     "output_type": "stream",
     "text": [
      "predicted answer travelled\n"
     ]
    }
   ],
   "source": [
    "c = 'Mary went to the bathroom. John is in the playground.John moved to the hallway. John picked up the football.Mary travelled to the office'\n",
    "q = 'Where is john?'\n",
    "c_,q_,span,y_,answer = predit_test([c],[q])\n",
    "print('predicted answer' ,answer)"
   ]
  },
  {
   "cell_type": "markdown",
   "metadata": {
    "colab_type": "text",
    "id": "YUF1OjiM5Uh5"
   },
   "source": [
    "##### 4.8.2.3 TEST 3"
   ]
  },
  {
   "cell_type": "code",
   "execution_count": null,
   "metadata": {
    "colab": {
     "base_uri": "https://localhost:8080/",
     "height": 34
    },
    "colab_type": "code",
    "id": "jSBOvRP90Rs9",
    "outputId": "8efcdbc2-6875-488e-df12-3edc09cf2d6b"
   },
   "outputs": [
    {
     "name": "stdout",
     "output_type": "stream",
     "text": [
      "predicted answer ministry\n"
     ]
    }
   ],
   "source": [
    "c='The Union health ministry said that so far, 95,527 COVID-19 patients have recovered in the country.The recovery rate is now 48.07 percent, Lav Agrawal, Joint Secretary, Health Ministry claimed. We have asked all states to analyse the trajectory of the cases in their respective states. If a state thinks that it needs to set up temporary COVID-19 care centres then it must do so, he added.'\n",
    "q='what is the recovery rate'\n",
    "c_,q_,span,y_,answer = predit_test([c],[q])\n",
    "print('predicted answer' ,answer)"
   ]
  },
  {
   "cell_type": "markdown",
   "metadata": {
    "colab_type": "text",
    "id": "AHxti5JDP4UD"
   },
   "source": [
    "#### 4.8.3 See true vs predict for all samples in test dataset"
   ]
  },
  {
   "cell_type": "code",
   "execution_count": null,
   "metadata": {
    "colab": {
     "base_uri": "https://localhost:8080/",
     "height": 1000
    },
    "colab_type": "code",
    "id": "y9qs-no68n52",
    "outputId": "d4b94e03-b0d1-4932-b46a-e557b1295b62"
   },
   "outputs": [
    {
     "name": "stdout",
     "output_type": "stream",
     "text": [
      "Ori Cont = \n",
      "('Christian missions established Western educational institutions in the '\n",
      " \"Protectorates. Under Britain's policy of indirect rule and validation of \"\n",
      " 'Islamic tradition, the Crown did not encourage the operation of Christian '\n",
      " 'missions in the northern, Islamic part of the country. Some children of the '\n",
      " 'southern elite went to Great Britain to pursue higher education. By '\n",
      " 'independence in 1960, regional differences in modern educational access were '\n",
      " 'marked. The legacy, though less pronounced, continues to the present-day. '\n",
      " \"Imbalances between North and South were expressed in Nigeria's political \"\n",
      " 'life as well. For instance, northern Nigeria did not outlaw slavery until '\n",
      " '1936 whilst in other parts of Nigeria slavery was abolished soon after '\n",
      " 'colonialism.')\n",
      "CLean Cont = \n",
      "('christian missions established western educational institutions '\n",
      " 'protectorates britains policy indirect rule validation islamic tradition '\n",
      " 'crown encourage operation christian missions northern islamic part country '\n",
      " 'children southern elite went great britain pursue higher education '\n",
      " 'independence 1960 regional differences modern educational access marked '\n",
      " 'legacy though less pronounced continues presentday imbalances north south '\n",
      " 'expressed nigerias political life well instance northern nigeria outlaw '\n",
      " 'slavery 1936 whilst parts nigeria slavery abolished soon colonialism')\n",
      "Question =  What religion built Western schools in Nigeria?\n",
      "Clean Question =  what religion built western schools in nigeria\n",
      "Answer =  Christian\n",
      "Clean Answer =  christian\n",
      "AS,AE =  (0, 0)\n",
      "pAS,pAE =  (0, 0)\n",
      "Predict answer = christian\n",
      "test data encoded  [1. 0. 0. 0. 0. 0. 0. 0. 0. 0. 0. 0. 0. 0. 0. 0. 0. 0. 0. 0. 0. 0. 0. 0.\n",
      " 0. 0. 0. 0. 0. 0. 0. 0. 0. 0. 0. 0. 0. 0. 0. 0. 0. 0. 0. 0. 0. 0. 0. 0.\n",
      " 0. 0. 0. 0. 0. 0. 0. 0. 0. 0. 0. 0. 0. 0. 0. 0. 0. 0. 0. 0. 0. 0. 0. 0.\n",
      " 0. 0. 0. 0. 0. 0. 0. 0. 0. 0. 0. 0. 0. 0. 0. 0. 0. 0. 0. 0. 0. 0. 0. 0.\n",
      " 0. 0. 0. 0. 0. 0. 0. 0. 0. 0. 0. 0. 0. 0. 0. 0. 0. 0. 0. 0. 0. 0. 0. 0.\n",
      " 0. 0. 0. 0. 0. 0. 0. 0. 0. 0. 0. 0. 0. 0. 0. 0. 0. 0. 0. 0. 0. 0. 0. 0.\n",
      " 0. 0. 0. 0. 0. 0. 0. 0. 0. 0. 0. 0. 0. 0. 0. 0. 0. 0. 0. 0. 0. 0. 0. 0.\n",
      " 0. 0. 0. 0. 0. 0. 0. 0. 0. 0. 0. 0. 0. 0. 0. 0. 0. 0. 0. 0. 0. 0. 0. 0.\n",
      " 0. 0. 0. 0. 0. 0. 0. 0. 0. 0. 0. 0. 0. 0. 0. 0. 0. 0. 0. 0. 0. 0. 0. 0.\n",
      " 0. 0. 0. 0. 0. 0. 0. 0. 0. 0. 0. 0. 0. 0. 0. 0. 0. 0. 0. 0. 0. 0. 0. 0.\n",
      " 0. 0. 0. 0. 0. 0. 0. 0. 0. 0. 0. 0. 0. 0. 0. 0. 0. 0. 0. 0. 0. 0. 0. 0.\n",
      " 0. 0. 0. 0. 0. 0. 0. 0. 0. 0. 0. 0. 0. 0. 0. 0. 0. 0. 0. 0. 0. 0. 0. 0.\n",
      " 0. 0. 0. 0. 0. 0. 0. 0. 0. 0. 0. 0. 0. 0. 0. 0. 0. 0. 0. 0. 0. 0. 0. 0.\n",
      " 0. 0. 0. 0. 0. 0. 0. 0. 0. 0. 0. 0. 0. 0. 0. 0. 0. 0. 0. 0. 0. 0. 0. 0.\n",
      " 0. 0. 0. 0. 0. 0. 0. 0. 0. 0. 0. 0. 0. 0. 0. 0. 0. 0. 0. 0. 0. 0. 0. 0.\n",
      " 0. 0. 0. 0. 0. 0. 0. 0. 0. 0. 0. 0. 0. 0. 0. 0. 0. 0. 0. 0. 0. 0. 0. 0.\n",
      " 0. 0. 0. 0. 0. 0. 0. 0. 0. 0. 0. 0. 0. 0. 0. 0. 0. 0. 0. 0. 0. 0. 0. 0.\n",
      " 0. 0. 0. 0. 0. 0. 0. 0. 0. 0. 0. 0. 0. 0. 0. 0. 0. 0.]\n",
      "predict data  encoded  [1. 0. 0. 0. 0. 0. 0. 0. 0. 0. 0. 0. 0. 0. 0. 0. 0. 0. 0. 0. 0. 0. 0. 0.\n",
      " 0. 0. 0. 0. 0. 0. 0. 0. 0. 0. 0. 0. 0. 0. 0. 0. 0. 0. 0. 0. 0. 0. 0. 0.\n",
      " 0. 0. 0. 0. 0. 0. 0. 0. 0. 0. 0. 0. 0. 0. 0. 0. 0. 0. 0. 0. 0. 0. 0. 0.\n",
      " 0. 0. 0. 0. 0. 0. 0. 0. 0. 0. 0. 0. 0. 0. 0. 0. 0. 0. 0. 0. 0. 0. 0. 0.\n",
      " 0. 0. 0. 0. 0. 0. 0. 0. 0. 0. 0. 0. 0. 0. 0. 0. 0. 0. 0. 0. 0. 0. 0. 0.\n",
      " 0. 0. 0. 0. 0. 0. 0. 0. 0. 0. 0. 0. 0. 0. 0. 0. 0. 0. 0. 0. 0. 0. 0. 0.\n",
      " 0. 0. 0. 0. 0. 0. 0. 0. 0. 0. 0. 0. 0. 0. 0. 0. 0. 0. 0. 0. 0. 0. 0. 0.\n",
      " 0. 0. 0. 0. 0. 0. 0. 0. 0. 0. 0. 0. 0. 0. 0. 0. 0. 0. 0. 0. 0. 0. 0. 0.\n",
      " 0. 0. 0. 0. 0. 0. 0. 0. 0. 0. 0. 0. 0. 0. 0. 0. 0. 0. 0. 0. 0. 0. 0. 0.\n",
      " 0. 0. 0. 0. 0. 0. 0. 0. 0. 0. 0. 0. 0. 0. 0. 0. 0. 0. 0. 0. 0. 0. 0. 0.\n",
      " 0. 0. 0. 0. 0. 0. 0. 0. 0. 0. 0. 0. 0. 0. 0. 0. 0. 0. 0. 0. 0. 0. 0. 0.\n",
      " 0. 0. 0. 0. 0. 0. 0. 0. 0. 0. 0. 0. 0. 0. 0. 0. 0. 0. 0. 0. 0. 0. 0. 0.\n",
      " 0. 0. 0. 0. 0. 0. 0. 0. 0. 0. 0. 0. 0. 0. 0. 0. 0. 0. 0. 0. 0. 0. 0. 0.\n",
      " 0. 0. 0. 0. 0. 0. 0. 0. 0. 0. 0. 0. 0. 0. 0. 0. 0. 0. 0. 0. 0. 0. 0. 0.\n",
      " 0. 0. 0. 0. 0. 0. 0. 0. 0. 0. 0. 0. 0. 0. 0. 0. 0. 0. 0. 0. 0. 0. 0. 0.\n",
      " 0. 0. 0. 0. 0. 0. 0. 0. 0. 0. 0. 0. 0. 0. 0. 0. 0. 0. 0. 0. 0. 0. 0. 0.\n",
      " 0. 0. 0. 0. 0. 0. 0. 0. 0. 0. 0. 0. 0. 0. 0. 0. 0. 0. 0. 0. 0. 0. 0. 0.\n",
      " 0. 0. 0. 0. 0. 0. 0. 0. 0. 0. 0. 0. 0. 0. 0. 0. 0. 0.]\n"
     ]
    }
   ],
   "source": [
    "testindex = 54\n",
    "print(\"Ori Cont = \")\n",
    "pprint.pprint(test['context'].iloc[testindex])\n",
    "print(\"CLean Cont = \")\n",
    "pprint.pprint(test['clean_context'].iloc[testindex])\n",
    "print('Question = ',test['question'].iloc[testindex])\n",
    "print('Clean Question = ',test['clean_question'].iloc[testindex])\n",
    "print('Answer = ',test['answer'].iloc[testindex])\n",
    "print('Clean Answer = ',test['clean_answer'].iloc[testindex])\n",
    "print('AS,AE = ',test['answer_word_span'].iloc[testindex])\n",
    "print('pAS,pAE = ',(start_pred[testindex],end_pred[testindex]))\n",
    "print(\"Predict answer =\",span_to_answer([start_pred[testindex],end_pred[testindex]],test['clean_context'].iloc[testindex]))\n",
    "# print(\"encoded len\", len(y_train[testindex]))\n",
    "# print(\"encoded \", len(y_test[testindex]))\n",
    "print(\"test data encoded \",y_test_new[testindex])\n",
    "print(\"predict data  encoded \",y_predicted_new[testindex])"
   ]
  },
  {
   "cell_type": "markdown",
   "metadata": {
    "colab_type": "text",
    "id": "DYHNErgrQILC"
   },
   "source": [
    "#### 4.8.4 Accuracy Metrices"
   ]
  },
  {
   "cell_type": "code",
   "execution_count": null,
   "metadata": {
    "colab": {
     "base_uri": "https://localhost:8080/",
     "height": 85
    },
    "colab_type": "code",
    "id": "FmwzLM3WSriL",
    "outputId": "04656795-6542-4fa2-934a-58580700fb79"
   },
   "outputs": [
    {
     "name": "stdout",
     "output_type": "stream",
     "text": [
      "Micro f1-score on test data is  0.2751746082042751\n",
      "Macro f1-score on test data is  0.00583615881279302\n",
      "Accuracy on test data is  0.3761798787506715\n",
      "params.jsop updated and can be found in  /content/drive/My Drive/AIML-MRC-Capstone/models/params.json\n"
     ]
    }
   ],
   "source": [
    "warnings.filterwarnings(\"ignore\")\n",
    "from sklearn.metrics import f1_score,accuracy_score,precision_score\n",
    "params['prediction.accuracy.score'] = accuracy_score(y_test_new,y_predicted_new)\n",
    "params['prediction.macrof1.score'] = f1_score(y_test_new,y_predicted_new,average=\"macro\")\n",
    "params['prediction.microf1.score'] = f1_score(y_test_new,y_predicted_new,average=\"micro\")\n",
    "\n",
    "print(\"Micro f1-score on test data is \",params['prediction.microf1.score'])\n",
    "print(\"Macro f1-score on test data is \",params['prediction.macrof1.score'])\n",
    "print(\"Accuracy on test data is \",params['prediction.accuracy.score'])\n",
    "\n",
    "# update params\n",
    "updateparams()"
   ]
  },
  {
   "cell_type": "code",
   "execution_count": null,
   "metadata": {
    "colab": {
     "base_uri": "https://localhost:8080/",
     "height": 442
    },
    "colab_type": "code",
    "id": "RY02U6dQSCMU",
    "outputId": "7bc096c4-caf0-46fe-c375-67ea2c3538b4"
   },
   "outputs": [
    {
     "name": "stdout",
     "output_type": "stream",
     "text": [
      "{'context_length_99': 285,\n",
      " 'context_max_length': 426,\n",
      " 'context_pad_seq': 'pre',\n",
      " 'embedding_size': 100,\n",
      " 'prediction.accuracy.score': 0.3761798787506715,\n",
      " 'prediction.macrof1.score': 0.00583615881279302,\n",
      " 'prediction.microf1.score': 0.2751746082042751,\n",
      " 'question_length_99': 20,\n",
      " 'question_max_length': 40,\n",
      " 'question_pad_seq': 'pre',\n",
      " 'rnn_units': 256,\n",
      " 'test_shape': (26062, 16),\n",
      " 'test_span_outofrange': 0,\n",
      " 'tokenizer_num_words': 80000,\n",
      " 'train_shape': (78183, 16),\n",
      " 'train_span_outofrange': 0,\n",
      " 'training.batch_size': 64,\n",
      " 'training.epochs': 25,\n",
      " 'training.train_length': 78183,\n",
      " 'training.train_steps': 1221,\n",
      " 'training.val_length': 26061,\n",
      " 'training.val_steps': 814,\n",
      " 'val_shape': (26061, 16),\n",
      " 'val_span_outofrange': 0,\n",
      " 'vocab_size': 100850}\n"
     ]
    }
   ],
   "source": [
    "pprint.pprint(params)"
   ]
  },
  {
   "cell_type": "markdown",
   "metadata": {
    "colab_type": "text",
    "id": "rI40rd0bQZgn"
   },
   "source": [
    "#### 4.8.5 Store the result to build more meterics "
   ]
  },
  {
   "cell_type": "code",
   "execution_count": null,
   "metadata": {
    "colab": {},
    "colab_type": "code",
    "id": "p5T9BSNgS-uG"
   },
   "outputs": [],
   "source": [
    "from prettytable import PrettyTable\n",
    "summary = PrettyTable()\n",
    "summary.title = \"Test vs Prediction\"\n",
    "summary.field_names = [\"ID\",\n",
    "                       \"Clean Question\",\n",
    "                       \"Clean Context\",\n",
    "                       \"True Answer\",\n",
    "                       \"True AS and AE\",\n",
    "                       \"Predict Answer\",\n",
    "                       \"Predict AS and AE\"]\n",
    "result_df = pd.DataFrame(columns=summary.field_names)"
   ]
  },
  {
   "cell_type": "code",
   "execution_count": null,
   "metadata": {
    "colab": {
     "base_uri": "https://localhost:8080/",
     "height": 34
    },
    "colab_type": "code",
    "id": "6TdUqImSC1_I",
    "outputId": "c1d50f85-940a-4bf5-9343-c3ed51ad9ed8"
   },
   "outputs": [
    {
     "name": "stderr",
     "output_type": "stream",
     "text": [
      "100%|██████████| 26062/26062 [02:03<00:00, 211.71it/s]\n"
     ]
    }
   ],
   "source": [
    "for i in tqdm(range(26062)):  \n",
    "  values = [test['id'].iloc[i], \n",
    "            test['clean_question'].iloc[i], \n",
    "            test['clean_context'].iloc[i], \n",
    "            test['clean_answer'].iloc[i], \n",
    "            test['answer_word_span'].iloc[i],\n",
    "            span_to_answer([start_pred[i],end_pred[i]],test['clean_context'].iloc[i]),\n",
    "            (start_pred[i],end_pred[i])]\n",
    "  zipped = zip(summary.field_names, values)\n",
    "  a_dictionary = dict(zipped)\n",
    "  result_df = result_df.append(a_dictionary,ignore_index=True)"
   ]
  },
  {
   "cell_type": "code",
   "execution_count": null,
   "metadata": {
    "colab": {
     "base_uri": "https://localhost:8080/",
     "height": 306
    },
    "colab_type": "code",
    "id": "TySMZHmbJB1r",
    "outputId": "507594a5-738a-48c6-d281-8fd8297427f2"
   },
   "outputs": [
    {
     "data": {
      "text/html": [
       "<div>\n",
       "<style scoped>\n",
       "    .dataframe tbody tr th:only-of-type {\n",
       "        vertical-align: middle;\n",
       "    }\n",
       "\n",
       "    .dataframe tbody tr th {\n",
       "        vertical-align: top;\n",
       "    }\n",
       "\n",
       "    .dataframe thead th {\n",
       "        text-align: right;\n",
       "    }\n",
       "</style>\n",
       "<table border=\"1\" class=\"dataframe\">\n",
       "  <thead>\n",
       "    <tr style=\"text-align: right;\">\n",
       "      <th></th>\n",
       "      <th>ID</th>\n",
       "      <th>Clean Question</th>\n",
       "      <th>Clean Context</th>\n",
       "      <th>True Answer</th>\n",
       "      <th>True AS and AE</th>\n",
       "      <th>Predict Answer</th>\n",
       "      <th>Predict AS and AE</th>\n",
       "    </tr>\n",
       "  </thead>\n",
       "  <tbody>\n",
       "    <tr>\n",
       "      <th>0</th>\n",
       "      <td>572710d0f1498d1400e8f2ed</td>\n",
       "      <td>who is originally claimed to have given birth ...</td>\n",
       "      <td>nutritionism view excessive reliance food scie...</td>\n",
       "      <td>gyorgy scrinis</td>\n",
       "      <td>(15, 16)</td>\n",
       "      <td>rely</td>\n",
       "      <td>(25, 25)</td>\n",
       "    </tr>\n",
       "    <tr>\n",
       "      <th>1</th>\n",
       "      <td>56f8cc7b9e9bad19000a0520</td>\n",
       "      <td>the neocerebellum supports what other part of ...</td>\n",
       "      <td>elaboration cerebral cortex carries changes br...</td>\n",
       "      <td>cerebral cortex</td>\n",
       "      <td>(1, 2)</td>\n",
       "      <td></td>\n",
       "      <td>(425, 425)</td>\n",
       "    </tr>\n",
       "    <tr>\n",
       "      <th>2</th>\n",
       "      <td>570d9e64df2f5219002ed063</td>\n",
       "      <td>what is the hmmwv also known as</td>\n",
       "      <td>armys common vehicle high mobility multipurpos...</td>\n",
       "      <td>humvee</td>\n",
       "      <td>(11, 11)</td>\n",
       "      <td>armys</td>\n",
       "      <td>(0, 0)</td>\n",
       "    </tr>\n",
       "    <tr>\n",
       "      <th>3</th>\n",
       "      <td>56d1070517492d1400aab77a</td>\n",
       "      <td>what was a notable 20th century gang in new york</td>\n",
       "      <td>organized crime long associated new york city ...</td>\n",
       "      <td>the black spades</td>\n",
       "      <td>(-1, -1)</td>\n",
       "      <td></td>\n",
       "      <td>(425, 425)</td>\n",
       "    </tr>\n",
       "    <tr>\n",
       "      <th>4</th>\n",
       "      <td>56fb7df48ddada1400cd6481</td>\n",
       "      <td>along with len portugal aragon and castile wha...</td>\n",
       "      <td>iberia christian states confined northwestern ...</td>\n",
       "      <td>navarre</td>\n",
       "      <td>(26, 26)</td>\n",
       "      <td>iberia</td>\n",
       "      <td>(0, 0)</td>\n",
       "    </tr>\n",
       "  </tbody>\n",
       "</table>\n",
       "</div>"
      ],
      "text/plain": [
       "                         ID  ... Predict AS and AE\n",
       "0  572710d0f1498d1400e8f2ed  ...          (25, 25)\n",
       "1  56f8cc7b9e9bad19000a0520  ...        (425, 425)\n",
       "2  570d9e64df2f5219002ed063  ...            (0, 0)\n",
       "3  56d1070517492d1400aab77a  ...        (425, 425)\n",
       "4  56fb7df48ddada1400cd6481  ...            (0, 0)\n",
       "\n",
       "[5 rows x 7 columns]"
      ]
     },
     "execution_count": 98,
     "metadata": {
      "tags": []
     },
     "output_type": "execute_result"
    }
   ],
   "source": [
    "result_df.to_csv(model_path + \"results.csv\")  \n",
    "result_df.head()"
   ]
  },
  {
   "cell_type": "markdown",
   "metadata": {
    "colab_type": "text",
    "id": "kCKNvmOaQtx_"
   },
   "source": [
    "## 5 More Evaluations"
   ]
  },
  {
   "cell_type": "markdown",
   "metadata": {
    "colab_type": "text",
    "id": "b2emUc95Q53a"
   },
   "source": [
    "**Read the result dataframe**"
   ]
  },
  {
   "cell_type": "code",
   "execution_count": null,
   "metadata": {
    "colab": {},
    "colab_type": "code",
    "id": "geCm-V3SQ0v7"
   },
   "outputs": [],
   "source": [
    "result_df = result_df.read_csv(model_path + \"results.csv\")  \n",
    "result_df.head()"
   ]
  },
  {
   "cell_type": "markdown",
   "metadata": {
    "colab_type": "text",
    "id": "Mz6uetkTRLrz"
   },
   "source": [
    "### 5.1 EM (Exact Match)"
   ]
  },
  {
   "cell_type": "code",
   "execution_count": null,
   "metadata": {
    "colab": {
     "base_uri": "https://localhost:8080/",
     "height": 606
    },
    "colab_type": "code",
    "id": "5uTD7fZZUhyw",
    "outputId": "34b2bd42-610a-4f2b-a5aa-777929a202a9"
   },
   "outputs": [
    {
     "data": {
      "text/html": [
       "<div>\n",
       "<style scoped>\n",
       "    .dataframe tbody tr th:only-of-type {\n",
       "        vertical-align: middle;\n",
       "    }\n",
       "\n",
       "    .dataframe tbody tr th {\n",
       "        vertical-align: top;\n",
       "    }\n",
       "\n",
       "    .dataframe thead th {\n",
       "        text-align: right;\n",
       "    }\n",
       "</style>\n",
       "<table border=\"1\" class=\"dataframe\">\n",
       "  <thead>\n",
       "    <tr style=\"text-align: right;\">\n",
       "      <th></th>\n",
       "      <th>ID</th>\n",
       "      <th>Clean Question</th>\n",
       "      <th>Clean Context</th>\n",
       "      <th>True Answer</th>\n",
       "      <th>True AS and AE</th>\n",
       "      <th>Predict Answer</th>\n",
       "      <th>Predict AS and AE</th>\n",
       "    </tr>\n",
       "  </thead>\n",
       "  <tbody>\n",
       "    <tr>\n",
       "      <th>54</th>\n",
       "      <td>5726d4895951b619008f7f5f</td>\n",
       "      <td>what religion built western schools in nigeria</td>\n",
       "      <td>christian missions established western educati...</td>\n",
       "      <td>christian</td>\n",
       "      <td>(0, 0)</td>\n",
       "      <td>christian</td>\n",
       "      <td>(0, 0)</td>\n",
       "    </tr>\n",
       "    <tr>\n",
       "      <th>77</th>\n",
       "      <td>5725f32589a1e219009ac0e8</td>\n",
       "      <td>what year did the cubs record a major league r...</td>\n",
       "      <td>1906 franchise recorded major league record 11...</td>\n",
       "      <td>1906</td>\n",
       "      <td>(0, 0)</td>\n",
       "      <td>1906</td>\n",
       "      <td>(0, 0)</td>\n",
       "    </tr>\n",
       "    <tr>\n",
       "      <th>356</th>\n",
       "      <td>5731e2a6e99e3014001e63b8</td>\n",
       "      <td>how many floors does the alvorada have</td>\n",
       "      <td>palcio da alvorada official residence presiden...</td>\n",
       "      <td>three</td>\n",
       "      <td>(57, 57)</td>\n",
       "      <td>three</td>\n",
       "      <td>(57, 57)</td>\n",
       "    </tr>\n",
       "    <tr>\n",
       "      <th>432</th>\n",
       "      <td>56f715e43d8e2e1400e3732c</td>\n",
       "      <td>when did the second yugoslavia start</td>\n",
       "      <td>tito chief architect second yugoslavia sociali...</td>\n",
       "      <td>1943</td>\n",
       "      <td>(8, 8)</td>\n",
       "      <td>1943</td>\n",
       "      <td>(8, 8)</td>\n",
       "    </tr>\n",
       "    <tr>\n",
       "      <th>440</th>\n",
       "      <td>57298be2af94a219006aa4f7</td>\n",
       "      <td>what sound volume is produced by coleoptera</td>\n",
       "      <td>low sounds also produced various species coleo...</td>\n",
       "      <td>low</td>\n",
       "      <td>(0, 0)</td>\n",
       "      <td>low</td>\n",
       "      <td>(0, 0)</td>\n",
       "    </tr>\n",
       "    <tr>\n",
       "      <th>...</th>\n",
       "      <td>...</td>\n",
       "      <td>...</td>\n",
       "      <td>...</td>\n",
       "      <td>...</td>\n",
       "      <td>...</td>\n",
       "      <td>...</td>\n",
       "      <td>...</td>\n",
       "    </tr>\n",
       "    <tr>\n",
       "      <th>25543</th>\n",
       "      <td>5733a3cbd058e614000b5f41</td>\n",
       "      <td>in what year did the college of arts and lette...</td>\n",
       "      <td>college arts letters established universitys f...</td>\n",
       "      <td>1849</td>\n",
       "      <td>(11, 11)</td>\n",
       "      <td>1849</td>\n",
       "      <td>(11, 11)</td>\n",
       "    </tr>\n",
       "    <tr>\n",
       "      <th>25584</th>\n",
       "      <td>5728c1a84b864d1900164d6b</td>\n",
       "      <td>what name literally means farshooting</td>\n",
       "      <td>god archery apollo known aphetor fitr feetr ap...</td>\n",
       "      <td>hecargus</td>\n",
       "      <td>(22, 22)</td>\n",
       "      <td>hecargus</td>\n",
       "      <td>(22, 22)</td>\n",
       "    </tr>\n",
       "    <tr>\n",
       "      <th>25598</th>\n",
       "      <td>5726831df1498d1400e8e238</td>\n",
       "      <td>what compression cannot attain high compressio...</td>\n",
       "      <td>lossless audio compression produces representa...</td>\n",
       "      <td>lossless</td>\n",
       "      <td>(0, 0)</td>\n",
       "      <td>lossless</td>\n",
       "      <td>(0, 0)</td>\n",
       "    </tr>\n",
       "    <tr>\n",
       "      <th>25734</th>\n",
       "      <td>572fe604a23a5019007fcb01</td>\n",
       "      <td>when was san diegos current charter adopted</td>\n",
       "      <td>state california admitted united states 1850 y...</td>\n",
       "      <td>1931</td>\n",
       "      <td>(52, 52)</td>\n",
       "      <td>1931</td>\n",
       "      <td>(52, 52)</td>\n",
       "    </tr>\n",
       "    <tr>\n",
       "      <th>25913</th>\n",
       "      <td>56d4c13d2ccc5a1400d831d2</td>\n",
       "      <td>what year was it decided that if wolves and do...</td>\n",
       "      <td>2003 iczn ruled opinion 2027 wild animals dome...</td>\n",
       "      <td>2003</td>\n",
       "      <td>(0, 0)</td>\n",
       "      <td>2003</td>\n",
       "      <td>(0, 0)</td>\n",
       "    </tr>\n",
       "  </tbody>\n",
       "</table>\n",
       "<p>180 rows × 7 columns</p>\n",
       "</div>"
      ],
      "text/plain": [
       "                             ID  ... Predict AS and AE\n",
       "54     5726d4895951b619008f7f5f  ...            (0, 0)\n",
       "77     5725f32589a1e219009ac0e8  ...            (0, 0)\n",
       "356    5731e2a6e99e3014001e63b8  ...          (57, 57)\n",
       "432    56f715e43d8e2e1400e3732c  ...            (8, 8)\n",
       "440    57298be2af94a219006aa4f7  ...            (0, 0)\n",
       "...                         ...  ...               ...\n",
       "25543  5733a3cbd058e614000b5f41  ...          (11, 11)\n",
       "25584  5728c1a84b864d1900164d6b  ...          (22, 22)\n",
       "25598  5726831df1498d1400e8e238  ...            (0, 0)\n",
       "25734  572fe604a23a5019007fcb01  ...          (52, 52)\n",
       "25913  56d4c13d2ccc5a1400d831d2  ...            (0, 0)\n",
       "\n",
       "[180 rows x 7 columns]"
      ]
     },
     "execution_count": 99,
     "metadata": {
      "tags": []
     },
     "output_type": "execute_result"
    }
   ],
   "source": [
    "result_df[result_df['Predict Answer'] == result_df['True Answer']]"
   ]
  },
  {
   "cell_type": "code",
   "execution_count": null,
   "metadata": {
    "colab": {},
    "colab_type": "code",
    "id": "rm4YmnfQNqQC"
   },
   "outputs": [],
   "source": [
    "ematch = result_df[result_df['Predict Answer'] == result_df['True Answer']].shape[0]"
   ]
  },
  {
   "cell_type": "code",
   "execution_count": null,
   "metadata": {
    "colab": {
     "base_uri": "https://localhost:8080/",
     "height": 34
    },
    "colab_type": "code",
    "id": "BF44727PN1dq",
    "outputId": "4612d5f0-2b6a-4cea-d584-ed9cfda9871b"
   },
   "outputs": [
    {
     "name": "stdout",
     "output_type": "stream",
     "text": [
      "params.jsop updated and can be found in  /content/drive/My Drive/AIML-MRC-Capstone/models/params.json\n"
     ]
    }
   ],
   "source": [
    "params['prediction.em.score'] = ematch / params['test_shape'][0]\n",
    "updateparams()"
   ]
  },
  {
   "cell_type": "code",
   "execution_count": null,
   "metadata": {
    "colab": {
     "base_uri": "https://localhost:8080/",
     "height": 459
    },
    "colab_type": "code",
    "id": "ZbO5yYzRTTyu",
    "outputId": "89f7b537-b591-4575-e5c4-4efb7b9b1183"
   },
   "outputs": [
    {
     "name": "stdout",
     "output_type": "stream",
     "text": [
      "{'context_length_99': 285,\n",
      " 'context_max_length': 426,\n",
      " 'context_pad_seq': 'pre',\n",
      " 'embedding_size': 100,\n",
      " 'prediction.accuracy.score': 0.3761798787506715,\n",
      " 'prediction.em.score': 0.00690660732100376,\n",
      " 'prediction.macrof1.score': 0.00583615881279302,\n",
      " 'prediction.microf1.score': 0.2751746082042751,\n",
      " 'question_length_99': 20,\n",
      " 'question_max_length': 40,\n",
      " 'question_pad_seq': 'pre',\n",
      " 'rnn_units': 256,\n",
      " 'test_shape': (26062, 16),\n",
      " 'test_span_outofrange': 0,\n",
      " 'tokenizer_num_words': 80000,\n",
      " 'train_shape': (78183, 16),\n",
      " 'train_span_outofrange': 0,\n",
      " 'training.batch_size': 64,\n",
      " 'training.epochs': 25,\n",
      " 'training.train_length': 78183,\n",
      " 'training.train_steps': 1221,\n",
      " 'training.val_length': 26061,\n",
      " 'training.val_steps': 814,\n",
      " 'val_shape': (26061, 16),\n",
      " 'val_span_outofrange': 0,\n",
      " 'vocab_size': 100850}\n"
     ]
    }
   ],
   "source": [
    "showparams()"
   ]
  },
  {
   "cell_type": "markdown",
   "metadata": {
    "colab_type": "text",
    "id": "vlR2BYOT66Lk"
   },
   "source": [
    "# **<font color=\"GREEN\">END OF THE NOTEBOOK </font>**"
   ]
  },
  {
   "cell_type": "code",
   "execution_count": null,
   "metadata": {
    "colab": {},
    "colab_type": "code",
    "id": "6u50QkJn6-om"
   },
   "outputs": [],
   "source": []
  }
 ],
 "metadata": {
  "accelerator": "GPU",
  "colab": {
   "collapsed_sections": [],
   "include_colab_link": true,
   "name": "mrc-LSTM-baseline0.ipynb",
   "provenance": [],
   "toc_visible": true
  },
  "kernelspec": {
   "display_name": "Python 3",
   "language": "python",
   "name": "python3"
  },
  "language_info": {
   "codemirror_mode": {
    "name": "ipython",
    "version": 3
   },
   "file_extension": ".py",
   "mimetype": "text/x-python",
   "name": "python",
   "nbconvert_exporter": "python",
   "pygments_lexer": "ipython3",
   "version": "3.6.8"
  }
 },
 "nbformat": 4,
 "nbformat_minor": 4
}
