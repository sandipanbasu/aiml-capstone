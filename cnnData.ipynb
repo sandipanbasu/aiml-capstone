{
  "nbformat": 4,
  "nbformat_minor": 0,
  "metadata": {
    "colab": {
      "name": "cnnData.ipynb",
      "provenance": [],
      "authorship_tag": "ABX9TyMTpZrnyP2h6TKtbhm+6TZU",
      "include_colab_link": true
    },
    "kernelspec": {
      "name": "python3",
      "display_name": "Python 3"
    },
    "accelerator": "GPU"
  },
  "cells": [
    {
      "cell_type": "markdown",
      "metadata": {
        "id": "view-in-github",
        "colab_type": "text"
      },
      "source": [
        "<a href=\"https://colab.research.google.com/github/sandipanbasu/aiml-capstone/blob/master/cnnData.ipynb\" target=\"_parent\"><img src=\"https://colab.research.google.com/assets/colab-badge.svg\" alt=\"Open In Colab\"/></a>"
      ]
    },
    {
      "cell_type": "code",
      "metadata": {
        "id": "Z1xTqHX9qaSf",
        "colab_type": "code",
        "colab": {
          "base_uri": "https://localhost:8080/",
          "height": 34
        },
        "outputId": "f083ad55-31c5-496c-a309-699b37b57991"
      },
      "source": [
        "from google.colab import drive\n",
        "drive.mount('/content/drive')\n"
      ],
      "execution_count": 29,
      "outputs": [
        {
          "output_type": "stream",
          "text": [
            "Drive already mounted at /content/drive; to attempt to forcibly remount, call drive.mount(\"/content/drive\", force_remount=True).\n"
          ],
          "name": "stdout"
        }
      ]
    },
    {
      "cell_type": "code",
      "metadata": {
        "id": "Ki66ntWoqmH1",
        "colab_type": "code",
        "colab": {}
      },
      "source": [
        "import tensorflow as tf\n",
        "import tensorflow_datasets as tfds\n",
        "\n",
        "import pandas as pd\n",
        "import numpy as np\n",
        "\n",
        "from tqdm import tqdm\n"
      ],
      "execution_count": null,
      "outputs": []
    },
    {
      "cell_type": "code",
      "metadata": {
        "id": "25geKmOdq80l",
        "colab_type": "code",
        "colab": {
          "base_uri": "https://localhost:8080/",
          "height": 34
        },
        "outputId": "53988635-f4d9-4baa-f1b2-aa15f2e976b2"
      },
      "source": [
        "tf.__version__"
      ],
      "execution_count": null,
      "outputs": [
        {
          "output_type": "execute_result",
          "data": {
            "text/plain": [
              "'2.2.0'"
            ]
          },
          "metadata": {
            "tags": []
          },
          "execution_count": 14
        }
      ]
    },
    {
      "cell_type": "code",
      "metadata": {
        "id": "7zRX2-cejo28",
        "colab_type": "code",
        "colab": {}
      },
      "source": [
        "cd_path = \"/content/drive/My Drive/AIML-MRC-Capstone/code/cnn-daily-mail\"\n",
        "cnn_file = \"cnn_stories_tokenized.zip\"\n",
        "filePath = \"/content/drive/My Drive/cnn-dailymail/cnn_stories_tokenized\""
      ],
      "execution_count": null,
      "outputs": []
    },
    {
      "cell_type": "code",
      "metadata": {
        "id": "IX_aZfMakiRx",
        "colab_type": "code",
        "colab": {
          "base_uri": "https://localhost:8080/",
          "height": 34
        },
        "outputId": "191dbe20-8d59-499f-a045-17d53bf99052"
      },
      "source": [
        "print(filePath)"
      ],
      "execution_count": null,
      "outputs": [
        {
          "output_type": "stream",
          "text": [
            "/content/drive/My Drive/cnn-dailymail/cnn_stories_tokenized\n"
          ],
          "name": "stdout"
        }
      ]
    },
    {
      "cell_type": "code",
      "metadata": {
        "id": "MOXFv3oamAzJ",
        "colab_type": "code",
        "colab": {
          "base_uri": "https://localhost:8080/",
          "height": 34
        },
        "outputId": "5651767f-4b8d-4aea-e28d-924a43b96ff2"
      },
      "source": [
        "!ls"
      ],
      "execution_count": null,
      "outputs": [
        {
          "output_type": "stream",
          "text": [
            "adc.json  drive  sample_data\n"
          ],
          "name": "stdout"
        }
      ]
    },
    {
      "cell_type": "code",
      "metadata": {
        "id": "eH3xFmhkm11k",
        "colab_type": "code",
        "colab": {}
      },
      "source": [
        "!pip install -U -q PyDrive"
      ],
      "execution_count": null,
      "outputs": []
    },
    {
      "cell_type": "code",
      "metadata": {
        "id": "Ivh0FmThm40J",
        "colab_type": "code",
        "colab": {}
      },
      "source": [
        "import os\n",
        "from pydrive.auth import GoogleAuth\n",
        "from pydrive.drive import GoogleDrive\n",
        "from google.colab import auth\n",
        "from oauth2client.client import GoogleCredentials\n",
        "\n",
        "auth.authenticate_user()\n",
        "gauth = GoogleAuth()\n",
        "gauth.credentials = GoogleCredentials.get_application_default()\n",
        "drive = GoogleDrive(gauth)"
      ],
      "execution_count": null,
      "outputs": []
    },
    {
      "cell_type": "code",
      "metadata": {
        "id": "icD34Zu6nH0B",
        "colab_type": "code",
        "colab": {}
      },
      "source": [
        "!unzip -q \"/content/drive/My Drive/cnn-dailymail/cnn_stories_tokenized.zip\""
      ],
      "execution_count": null,
      "outputs": []
    },
    {
      "cell_type": "code",
      "metadata": {
        "id": "XFTyeXXKo6At",
        "colab_type": "code",
        "colab": {}
      },
      "source": [
        "#!unzip \"/content/drive/My Drive/cnn-dailymail/cnn_stories_tokenized.zip\" -d \"/content/drive/My Drive/cnn-dailymail/tknz/\""
      ],
      "execution_count": null,
      "outputs": []
    },
    {
      "cell_type": "code",
      "metadata": {
        "id": "4fI0KBZxAh21",
        "colab_type": "code",
        "colab": {
          "base_uri": "https://localhost:8080/",
          "height": 34
        },
        "outputId": "6f8bf520-ed21-43b8-ed53-424096bd400b"
      },
      "source": [
        "!ls"
      ],
      "execution_count": 30,
      "outputs": [
        {
          "output_type": "stream",
          "text": [
            "adc.json  cnn_stories_tokenized  drive\tsample_data\n"
          ],
          "name": "stdout"
        }
      ]
    },
    {
      "cell_type": "code",
      "metadata": {
        "id": "byBjmpS7y2no",
        "colab_type": "code",
        "colab": {
          "base_uri": "https://localhost:8080/",
          "height": 34
        },
        "outputId": "8d196422-2aa7-4507-c9dc-6e0fa19a9c33"
      },
      "source": [
        "import os\n",
        "\n",
        "list = os.listdir('/content/cnn_stories_tokenized') # dir is your directory path\n",
        "number_files = len(list)\n",
        "print(number_files)"
      ],
      "execution_count": null,
      "outputs": [
        {
          "output_type": "stream",
          "text": [
            "92579\n"
          ],
          "name": "stdout"
        }
      ]
    },
    {
      "cell_type": "code",
      "metadata": {
        "id": "2MUwreTNquzb",
        "colab_type": "code",
        "colab": {
          "base_uri": "https://localhost:8080/",
          "height": 34
        },
        "outputId": "d1cfc47f-f973-47af-f5cc-4ee2246102b6"
      },
      "source": [
        "list"
      ],
      "execution_count": null,
      "outputs": [
        {
          "output_type": "execute_result",
          "data": {
            "text/plain": [
              "['cnnData.ipynb', 'cnn_stories_tokenized', 'cnn_stories_tokenized.zip', 'tknz']"
            ]
          },
          "metadata": {
            "tags": []
          },
          "execution_count": 13
        }
      ]
    },
    {
      "cell_type": "code",
      "metadata": {
        "id": "zLsrdVFGjINx",
        "colab_type": "code",
        "colab": {}
      },
      "source": [
        "def load_doc(filename):\n",
        "\t# open the file as read only\n",
        "\tfile = open(filename, encoding='utf-8')\n",
        "\t# read all text\n",
        "\ttext = file.read()\n",
        "\t# close the file\n",
        "\tfile.close()\n",
        "\treturn text\n",
        "\n",
        "# load all stories in a directory\n",
        "def load_stories(directory):\n",
        "\tstories = []\n",
        "\tfor name in listdir(directory):\n",
        "\t\tfilename = directory + '/' + name\n",
        "\t\t# load document\n",
        "\t\tdoc = load_doc(filename)\n",
        "\t\t# split into story and highlights\n",
        "\t\tstory, highlights = split_story(doc)\n",
        "\t\t# store\n",
        "\t\tstories.append({'story':story, 'highlights':highlights})\n",
        "\treturn stories\n",
        "\n",
        "\n",
        "# split a document into news story and highlights  \n",
        "def split_story(doc):\n",
        "\t# find first highlight\n",
        "\tindex = doc.find('@highlight')\n",
        "\t# split into story and highlights\n",
        "\tstory, highlights = doc[:index], doc[index:].split('@highlight')\n",
        "\t# strip extra white space around each highlight\n",
        "\thighlights = [h.strip() for h in highlights if len(h) > 0]\n",
        "\treturn story, highlights"
      ],
      "execution_count": null,
      "outputs": []
    },
    {
      "cell_type": "code",
      "metadata": {
        "id": "Qefv0YPwICLO",
        "colab_type": "code",
        "colab": {}
      },
      "source": [
        "from os import listdir\n",
        " \n",
        " \n",
        "# load stories\n",
        "directory = '/content/cnn_stories_tokenized'\n",
        "stories = load_stories(directory)\n",
        "\n",
        "#print('Loaded Stories %d' % len(stories))"
      ],
      "execution_count": null,
      "outputs": []
    },
    {
      "cell_type": "code",
      "metadata": {
        "id": "OhdkF0hNLoP6",
        "colab_type": "code",
        "colab": {
          "base_uri": "https://localhost:8080/",
          "height": 34
        },
        "outputId": "f3fb35f6-6216-4a9c-d736-2bf42f184bf5"
      },
      "source": [
        "print('Loaded Stories %d' % len(stories))"
      ],
      "execution_count": 31,
      "outputs": [
        {
          "output_type": "stream",
          "text": [
            "Loaded Stories 92579\n"
          ],
          "name": "stdout"
        }
      ]
    },
    {
      "cell_type": "code",
      "metadata": {
        "id": "Y8erxSXHRX4s",
        "colab_type": "code",
        "colab": {
          "base_uri": "https://localhost:8080/",
          "height": 228
        },
        "outputId": "b6ad8cfd-9c7b-49c3-f271-ab4861d46b1d"
      },
      "source": [
        "print(stories[4]['story'])"
      ],
      "execution_count": null,
      "outputs": [
        {
          "output_type": "stream",
          "text": [
            "-LRB- CNN -RRB- -- George Clooney sees no reason to keep his upcoming nuptials hush-hush .\n",
            "\n",
            "At a celebrity charity event in Tuscany , Italy over the weekend , the 53-year-old actor spilled a few details about his impending marriage to British human rights attorney Amal Alamuddin .\n",
            "\n",
            "According to People magazine , Clooney was receiving a humanitarian award at the black-tie gala , and said during his acceptance speech , `` I met my lovely bride-to-be here in Italy , whom I will be marrying , in a couple of weeks , in Venice , of all places . ''\n",
            "\n",
            "The actor was of course accompanied at the soiree , called Celebrity Fight Night , by his 36-year-old fiancee . With Clooney 's documented penchant for pranks , it 'll be interesting to see whether he was telling the truth about his wedding plans -- or perhaps just playing a joke on any eager paparazzi .\n",
            "\n",
            "Since the couple became engaged in the spring , they 've been largely protective of their relationship . When a Daily Mail report claimed that Clooney and his future mother-in-law were at odds , Clooney blasted the publication with a first-person piece in USA Today , and then refused to accept the Daily Mail 's subsequent apology .\n",
            "\n",
            "\n"
          ],
          "name": "stdout"
        }
      ]
    },
    {
      "cell_type": "code",
      "metadata": {
        "id": "nkRFXQ9YRmAC",
        "colab_type": "code",
        "colab": {
          "base_uri": "https://localhost:8080/",
          "height": 34
        },
        "outputId": "97de3d29-c414-43d8-9369-033453984591"
      },
      "source": [
        "print(stories[4]['highlights'])"
      ],
      "execution_count": null,
      "outputs": [
        {
          "output_type": "stream",
          "text": [
            "['George Clooney let a few wedding details slip over the weekend', \"The actor revealed he 'll marry Amal Alamuddin in Venice , Italy , in a few weeks\", 'The couple became engaged in the spring']\n"
          ],
          "name": "stdout"
        }
      ]
    },
    {
      "cell_type": "code",
      "metadata": {
        "id": "z5GHUw91BcPa",
        "colab_type": "code",
        "colab": {
          "base_uri": "https://localhost:8080/",
          "height": 34
        },
        "outputId": "7c30821a-6028-4b34-a50a-b07180a941a4"
      },
      "source": [
        "type(stories[0])"
      ],
      "execution_count": 32,
      "outputs": [
        {
          "output_type": "execute_result",
          "data": {
            "text/plain": [
              "dict"
            ]
          },
          "metadata": {
            "tags": []
          },
          "execution_count": 32
        }
      ]
    },
    {
      "cell_type": "code",
      "metadata": {
        "id": "wSgiCTaBzF3U",
        "colab_type": "code",
        "colab": {}
      },
      "source": [
        "stories_df = pd.DataFrame(stories)"
      ],
      "execution_count": 33,
      "outputs": []
    },
    {
      "cell_type": "code",
      "metadata": {
        "id": "CVkv1dC_z9LK",
        "colab_type": "code",
        "colab": {
          "base_uri": "https://localhost:8080/",
          "height": 34
        },
        "outputId": "88daac03-dc41-462a-a195-9746ab8aabb6"
      },
      "source": [
        "len(stories_df)"
      ],
      "execution_count": 35,
      "outputs": [
        {
          "output_type": "execute_result",
          "data": {
            "text/plain": [
              "92579"
            ]
          },
          "metadata": {
            "tags": []
          },
          "execution_count": 35
        }
      ]
    },
    {
      "cell_type": "code",
      "metadata": {
        "id": "hYt179xIEGcF",
        "colab_type": "code",
        "colab": {
          "base_uri": "https://localhost:8080/",
          "height": 202
        },
        "outputId": "7f2db806-01ec-472e-b1b7-9470b6eed928"
      },
      "source": [
        "stories_df.head(5)"
      ],
      "execution_count": 42,
      "outputs": [
        {
          "output_type": "execute_result",
          "data": {
            "text/html": [
              "<div>\n",
              "<style scoped>\n",
              "    .dataframe tbody tr th:only-of-type {\n",
              "        vertical-align: middle;\n",
              "    }\n",
              "\n",
              "    .dataframe tbody tr th {\n",
              "        vertical-align: top;\n",
              "    }\n",
              "\n",
              "    .dataframe thead th {\n",
              "        text-align: right;\n",
              "    }\n",
              "</style>\n",
              "<table border=\"1\" class=\"dataframe\">\n",
              "  <thead>\n",
              "    <tr style=\"text-align: right;\">\n",
              "      <th></th>\n",
              "      <th>story</th>\n",
              "      <th>highlights</th>\n",
              "    </tr>\n",
              "  </thead>\n",
              "  <tbody>\n",
              "    <tr>\n",
              "      <th>0</th>\n",
              "      <td>-LRB- CNN -RRB- -- Snigdha Nandipati , 14 , wo...</td>\n",
              "      <td>[`` I was just taking it one word at a time , ...</td>\n",
              "    </tr>\n",
              "    <tr>\n",
              "      <th>1</th>\n",
              "      <td>-LRB- CNN -RRB- -- Passengers on a United Airl...</td>\n",
              "      <td>[NEW : Passenger says man stood up during flig...</td>\n",
              "    </tr>\n",
              "    <tr>\n",
              "      <th>2</th>\n",
              "      <td>-LRB- CNN -RRB- -- Britain 's Duke and Duchess...</td>\n",
              "      <td>[Britain 's Prince William and Kate have relea...</td>\n",
              "    </tr>\n",
              "    <tr>\n",
              "      <th>3</th>\n",
              "      <td>Los Angeles -LRB- CNN -RRB- -- Soap opera acto...</td>\n",
              "      <td>[Dylan Michael Patton was arrested at his home...</td>\n",
              "    </tr>\n",
              "    <tr>\n",
              "      <th>4</th>\n",
              "      <td>-LRB- CNN -RRB- -- George Clooney sees no reas...</td>\n",
              "      <td>[George Clooney let a few wedding details slip...</td>\n",
              "    </tr>\n",
              "  </tbody>\n",
              "</table>\n",
              "</div>"
            ],
            "text/plain": [
              "                                               story                                         highlights\n",
              "0  -LRB- CNN -RRB- -- Snigdha Nandipati , 14 , wo...  [`` I was just taking it one word at a time , ...\n",
              "1  -LRB- CNN -RRB- -- Passengers on a United Airl...  [NEW : Passenger says man stood up during flig...\n",
              "2  -LRB- CNN -RRB- -- Britain 's Duke and Duchess...  [Britain 's Prince William and Kate have relea...\n",
              "3  Los Angeles -LRB- CNN -RRB- -- Soap opera acto...  [Dylan Michael Patton was arrested at his home...\n",
              "4  -LRB- CNN -RRB- -- George Clooney sees no reas...  [George Clooney let a few wedding details slip..."
            ]
          },
          "metadata": {
            "tags": []
          },
          "execution_count": 42
        }
      ]
    },
    {
      "cell_type": "code",
      "metadata": {
        "id": "q3Y0qJbkHLa1",
        "colab_type": "code",
        "colab": {}
      },
      "source": [
        "stories_df.to_csv(\"/content/drive/My Drive/cnn-dailymail/storiesdf.csv\")"
      ],
      "execution_count": 43,
      "outputs": []
    },
    {
      "cell_type": "code",
      "metadata": {
        "id": "gVolomysF0ok",
        "colab_type": "code",
        "colab": {}
      },
      "source": [
        "import pickle\n",
        "stories_df.to_pickle()"
      ],
      "execution_count": 38,
      "outputs": []
    },
    {
      "cell_type": "code",
      "metadata": {
        "id": "PHOX7MzXGQmq",
        "colab_type": "code",
        "colab": {}
      },
      "source": [
        "stories_df.to_pickle(\"/content/drive/My Drive/cnn-dailymail/storiesdf.pkl\")"
      ],
      "execution_count": 41,
      "outputs": []
    }
  ]
}