{
  "nbformat": 4,
  "nbformat_minor": 0,
  "metadata": {
    "colab": {
      "name": "mrc_Evaluations.ipynb",
      "provenance": [],
      "authorship_tag": "ABX9TyOstDLIfz7AeI/3QjQmSAWs",
      "include_colab_link": true
    },
    "kernelspec": {
      "name": "python3",
      "display_name": "Python 3"
    },
    "accelerator": "GPU"
  },
  "cells": [
    {
      "cell_type": "markdown",
      "metadata": {
        "id": "view-in-github",
        "colab_type": "text"
      },
      "source": [
        "<a href=\"https://colab.research.google.com/github/sandipanbasu/aiml-capstone/blob/master/mrc_Evaluations.ipynb\" target=\"_parent\"><img src=\"https://colab.research.google.com/assets/colab-badge.svg\" alt=\"Open In Colab\"/></a>"
      ]
    },
    {
      "cell_type": "code",
      "metadata": {
        "id": "0DRLVpTJznGZ",
        "colab_type": "code",
        "colab": {
          "base_uri": "https://localhost:8080/",
          "height": 54
        },
        "outputId": "9fb2eb89-1e4c-4e0e-fdea-2db815c1a7bb"
      },
      "source": [
        "from google.colab import drive\n",
        "drive.mount('/content/drive')"
      ],
      "execution_count": 1,
      "outputs": [
        {
          "output_type": "stream",
          "text": [
            "Drive already mounted at /content/drive; to attempt to forcibly remount, call drive.mount(\"/content/drive\", force_remount=True).\n"
          ],
          "name": "stdout"
        }
      ]
    },
    {
      "cell_type": "markdown",
      "metadata": {
        "id": "GOGCXAgWaIsd",
        "colab_type": "text"
      },
      "source": [
        "# Imports"
      ]
    },
    {
      "cell_type": "code",
      "metadata": {
        "id": "XaepomVyaJfm",
        "colab_type": "code",
        "colab": {
          "base_uri": "https://localhost:8080/",
          "height": 173
        },
        "outputId": "514891a3-4d61-4008-b183-4d175cfc838a"
      },
      "source": [
        "import warnings\n",
        "from tqdm import tqdm\n",
        "from datetime import datetime\n",
        "import tensorflow as tf\n",
        "tf.debugging.set_log_device_placement(False)\n",
        "import pickle\n",
        "from tensorflow.keras import layers\n",
        "from tensorflow.keras import preprocessing\n",
        "import numpy as np\n",
        "import pandas as pd\n",
        "import json\n",
        "from sklearn.model_selection import train_test_split\n",
        "import pprint\n",
        "from tensorflow.keras.layers import Bidirectional,LSTM,Dense,Dropout,BatchNormalization,Flatten,Input\n",
        "from tensorflow.keras.models import Model\n",
        "from tensorflow.keras.layers import concatenate\n",
        "from numpy import array\n",
        "import nltk\n",
        "import re\n",
        "from nltk.tokenize import RegexpTokenizer\n",
        "from nltk.stem import WordNetLemmatizer,PorterStemmer\n",
        "from nltk.corpus import stopwords\n",
        "from nltk.tokenize import word_tokenize \n",
        "from tensorflow.keras.models import load_model\n",
        "from sklearn.metrics import f1_score,accuracy_score,precision_score\n",
        "from prettytable import PrettyTable\n",
        "import matplotlib.pyplot as plt\n",
        "import seaborn as sns\n",
        "nltk.download('stopwords')\n",
        "nltk.download('punkt')\n",
        "nltk.download('wordnet')\n",
        "\n",
        "model_path = \"/content/drive/My Drive/AIML-MRC-Capstone/models/\"\n",
        "dataset_path = \"/content/drive/My Drive/AIML-MRC-Capstone/datasets/\""
      ],
      "execution_count": 2,
      "outputs": [
        {
          "output_type": "stream",
          "text": [
            "[nltk_data] Downloading package stopwords to /root/nltk_data...\n",
            "[nltk_data]   Package stopwords is already up-to-date!\n",
            "[nltk_data] Downloading package punkt to /root/nltk_data...\n",
            "[nltk_data]   Package punkt is already up-to-date!\n",
            "[nltk_data] Downloading package wordnet to /root/nltk_data...\n",
            "[nltk_data]   Package wordnet is already up-to-date!\n"
          ],
          "name": "stdout"
        },
        {
          "output_type": "stream",
          "text": [
            "/usr/local/lib/python3.6/dist-packages/statsmodels/tools/_testing.py:19: FutureWarning: pandas.util.testing is deprecated. Use the functions in the public API at pandas.testing instead.\n",
            "  import pandas.util.testing as tm\n"
          ],
          "name": "stderr"
        }
      ]
    },
    {
      "cell_type": "markdown",
      "metadata": {
        "id": "RuIsS7WFh76y",
        "colab_type": "text"
      },
      "source": [
        "# Load Google Bucket as drive \n",
        "\n",
        "<font color=red>SKIP THIS SECTION</font>"
      ]
    },
    {
      "cell_type": "code",
      "metadata": {
        "id": "SCaxxOEXh8GK",
        "colab_type": "code",
        "colab": {
          "base_uri": "https://localhost:8080/",
          "height": 548
        },
        "outputId": "4daf1eaa-3b6f-482d-b161-dbb5162207d1"
      },
      "source": [
        "from google.colab import auth\n",
        "auth.authenticate_user()\n",
        "\n",
        "project_id = 'ai-ml-capstone'\n",
        "!gcloud config set project {project_id}\n",
        "!gsutil ls\n"
      ],
      "execution_count": null,
      "outputs": [
        {
          "output_type": "error",
          "ename": "KeyboardInterrupt",
          "evalue": "ignored",
          "traceback": [
            "\u001b[0;31m---------------------------------------------------------------------------\u001b[0m",
            "\u001b[0;31mKeyboardInterrupt\u001b[0m                         Traceback (most recent call last)",
            "\u001b[0;32m/usr/local/lib/python3.6/dist-packages/ipykernel/kernelbase.py\u001b[0m in \u001b[0;36m_input_request\u001b[0;34m(self, prompt, ident, parent, password)\u001b[0m\n\u001b[1;32m    728\u001b[0m             \u001b[0;32mtry\u001b[0m\u001b[0;34m:\u001b[0m\u001b[0;34m\u001b[0m\u001b[0;34m\u001b[0m\u001b[0m\n\u001b[0;32m--> 729\u001b[0;31m                 \u001b[0mident\u001b[0m\u001b[0;34m,\u001b[0m \u001b[0mreply\u001b[0m \u001b[0;34m=\u001b[0m \u001b[0mself\u001b[0m\u001b[0;34m.\u001b[0m\u001b[0msession\u001b[0m\u001b[0;34m.\u001b[0m\u001b[0mrecv\u001b[0m\u001b[0;34m(\u001b[0m\u001b[0mself\u001b[0m\u001b[0;34m.\u001b[0m\u001b[0mstdin_socket\u001b[0m\u001b[0;34m,\u001b[0m \u001b[0;36m0\u001b[0m\u001b[0;34m)\u001b[0m\u001b[0;34m\u001b[0m\u001b[0;34m\u001b[0m\u001b[0m\n\u001b[0m\u001b[1;32m    730\u001b[0m             \u001b[0;32mexcept\u001b[0m \u001b[0mException\u001b[0m\u001b[0;34m:\u001b[0m\u001b[0;34m\u001b[0m\u001b[0;34m\u001b[0m\u001b[0m\n",
            "\u001b[0;32m/usr/local/lib/python3.6/dist-packages/jupyter_client/session.py\u001b[0m in \u001b[0;36mrecv\u001b[0;34m(self, socket, mode, content, copy)\u001b[0m\n\u001b[1;32m    802\u001b[0m         \u001b[0;32mtry\u001b[0m\u001b[0;34m:\u001b[0m\u001b[0;34m\u001b[0m\u001b[0;34m\u001b[0m\u001b[0m\n\u001b[0;32m--> 803\u001b[0;31m             \u001b[0mmsg_list\u001b[0m \u001b[0;34m=\u001b[0m \u001b[0msocket\u001b[0m\u001b[0;34m.\u001b[0m\u001b[0mrecv_multipart\u001b[0m\u001b[0;34m(\u001b[0m\u001b[0mmode\u001b[0m\u001b[0;34m,\u001b[0m \u001b[0mcopy\u001b[0m\u001b[0;34m=\u001b[0m\u001b[0mcopy\u001b[0m\u001b[0;34m)\u001b[0m\u001b[0;34m\u001b[0m\u001b[0;34m\u001b[0m\u001b[0m\n\u001b[0m\u001b[1;32m    804\u001b[0m         \u001b[0;32mexcept\u001b[0m \u001b[0mzmq\u001b[0m\u001b[0;34m.\u001b[0m\u001b[0mZMQError\u001b[0m \u001b[0;32mas\u001b[0m \u001b[0me\u001b[0m\u001b[0;34m:\u001b[0m\u001b[0;34m\u001b[0m\u001b[0;34m\u001b[0m\u001b[0m\n",
            "\u001b[0;32m/usr/local/lib/python3.6/dist-packages/zmq/sugar/socket.py\u001b[0m in \u001b[0;36mrecv_multipart\u001b[0;34m(self, flags, copy, track)\u001b[0m\n\u001b[1;32m    474\u001b[0m         \"\"\"\n\u001b[0;32m--> 475\u001b[0;31m         \u001b[0mparts\u001b[0m \u001b[0;34m=\u001b[0m \u001b[0;34m[\u001b[0m\u001b[0mself\u001b[0m\u001b[0;34m.\u001b[0m\u001b[0mrecv\u001b[0m\u001b[0;34m(\u001b[0m\u001b[0mflags\u001b[0m\u001b[0;34m,\u001b[0m \u001b[0mcopy\u001b[0m\u001b[0;34m=\u001b[0m\u001b[0mcopy\u001b[0m\u001b[0;34m,\u001b[0m \u001b[0mtrack\u001b[0m\u001b[0;34m=\u001b[0m\u001b[0mtrack\u001b[0m\u001b[0;34m)\u001b[0m\u001b[0;34m]\u001b[0m\u001b[0;34m\u001b[0m\u001b[0;34m\u001b[0m\u001b[0m\n\u001b[0m\u001b[1;32m    476\u001b[0m         \u001b[0;31m# have first part already, only loop while more to receive\u001b[0m\u001b[0;34m\u001b[0m\u001b[0;34m\u001b[0m\u001b[0;34m\u001b[0m\u001b[0m\n",
            "\u001b[0;32mzmq/backend/cython/socket.pyx\u001b[0m in \u001b[0;36mzmq.backend.cython.socket.Socket.recv\u001b[0;34m()\u001b[0m\n",
            "\u001b[0;32mzmq/backend/cython/socket.pyx\u001b[0m in \u001b[0;36mzmq.backend.cython.socket.Socket.recv\u001b[0;34m()\u001b[0m\n",
            "\u001b[0;32mzmq/backend/cython/socket.pyx\u001b[0m in \u001b[0;36mzmq.backend.cython.socket._recv_copy\u001b[0;34m()\u001b[0m\n",
            "\u001b[0;32m/usr/local/lib/python3.6/dist-packages/zmq/backend/cython/checkrc.pxd\u001b[0m in \u001b[0;36mzmq.backend.cython.checkrc._check_rc\u001b[0;34m()\u001b[0m\n",
            "\u001b[0;31mKeyboardInterrupt\u001b[0m: ",
            "\nDuring handling of the above exception, another exception occurred:\n",
            "\u001b[0;31mKeyboardInterrupt\u001b[0m                         Traceback (most recent call last)",
            "\u001b[0;32m<ipython-input-3-70c76435d261>\u001b[0m in \u001b[0;36m<module>\u001b[0;34m()\u001b[0m\n\u001b[1;32m      1\u001b[0m \u001b[0;32mfrom\u001b[0m \u001b[0mgoogle\u001b[0m\u001b[0;34m.\u001b[0m\u001b[0mcolab\u001b[0m \u001b[0;32mimport\u001b[0m \u001b[0mauth\u001b[0m\u001b[0;34m\u001b[0m\u001b[0;34m\u001b[0m\u001b[0m\n\u001b[0;32m----> 2\u001b[0;31m \u001b[0mauth\u001b[0m\u001b[0;34m.\u001b[0m\u001b[0mauthenticate_user\u001b[0m\u001b[0;34m(\u001b[0m\u001b[0;34m)\u001b[0m\u001b[0;34m\u001b[0m\u001b[0;34m\u001b[0m\u001b[0m\n\u001b[0m\u001b[1;32m      3\u001b[0m \u001b[0;34m\u001b[0m\u001b[0m\n\u001b[1;32m      4\u001b[0m \u001b[0mproject_id\u001b[0m \u001b[0;34m=\u001b[0m \u001b[0;34m'ai-ml-capstone'\u001b[0m\u001b[0;34m\u001b[0m\u001b[0;34m\u001b[0m\u001b[0m\n\u001b[1;32m      5\u001b[0m \u001b[0mget_ipython\u001b[0m\u001b[0;34m(\u001b[0m\u001b[0;34m)\u001b[0m\u001b[0;34m.\u001b[0m\u001b[0msystem\u001b[0m\u001b[0;34m(\u001b[0m\u001b[0;34m'gcloud config set project {project_id}'\u001b[0m\u001b[0;34m)\u001b[0m\u001b[0;34m\u001b[0m\u001b[0;34m\u001b[0m\u001b[0m\n",
            "\u001b[0;32m/usr/local/lib/python3.6/dist-packages/google/colab/auth.py\u001b[0m in \u001b[0;36mauthenticate_user\u001b[0;34m(clear_output)\u001b[0m\n\u001b[1;32m    145\u001b[0m     \u001b[0mcontext_manager\u001b[0m \u001b[0;34m=\u001b[0m \u001b[0m_output\u001b[0m\u001b[0;34m.\u001b[0m\u001b[0mtemporary\u001b[0m \u001b[0;32mif\u001b[0m \u001b[0mclear_output\u001b[0m \u001b[0;32melse\u001b[0m \u001b[0m_noop\u001b[0m\u001b[0;34m\u001b[0m\u001b[0;34m\u001b[0m\u001b[0m\n\u001b[1;32m    146\u001b[0m     \u001b[0;32mwith\u001b[0m \u001b[0mcontext_manager\u001b[0m\u001b[0;34m(\u001b[0m\u001b[0;34m)\u001b[0m\u001b[0;34m:\u001b[0m\u001b[0;34m\u001b[0m\u001b[0;34m\u001b[0m\u001b[0m\n\u001b[0;32m--> 147\u001b[0;31m       \u001b[0m_gcloud_login\u001b[0m\u001b[0;34m(\u001b[0m\u001b[0;34m)\u001b[0m\u001b[0;34m\u001b[0m\u001b[0;34m\u001b[0m\u001b[0m\n\u001b[0m\u001b[1;32m    148\u001b[0m     \u001b[0m_install_adc\u001b[0m\u001b[0;34m(\u001b[0m\u001b[0;34m)\u001b[0m\u001b[0;34m\u001b[0m\u001b[0;34m\u001b[0m\u001b[0m\n\u001b[1;32m    149\u001b[0m     \u001b[0mcolab_tpu_addr\u001b[0m \u001b[0;34m=\u001b[0m \u001b[0m_os\u001b[0m\u001b[0;34m.\u001b[0m\u001b[0menviron\u001b[0m\u001b[0;34m.\u001b[0m\u001b[0mget\u001b[0m\u001b[0;34m(\u001b[0m\u001b[0;34m'COLAB_TPU_ADDR'\u001b[0m\u001b[0;34m,\u001b[0m \u001b[0;34m''\u001b[0m\u001b[0;34m)\u001b[0m\u001b[0;34m\u001b[0m\u001b[0;34m\u001b[0m\u001b[0m\n",
            "\u001b[0;32m/usr/local/lib/python3.6/dist-packages/google/colab/auth.py\u001b[0m in \u001b[0;36m_gcloud_login\u001b[0;34m()\u001b[0m\n\u001b[1;32m     89\u001b[0m     \u001b[0;31m# https://github.com/jupyter/notebook/issues/3159\u001b[0m\u001b[0;34m\u001b[0m\u001b[0;34m\u001b[0m\u001b[0;34m\u001b[0m\u001b[0m\n\u001b[1;32m     90\u001b[0m     \u001b[0mprompt\u001b[0m \u001b[0;34m=\u001b[0m \u001b[0mprompt\u001b[0m\u001b[0;34m.\u001b[0m\u001b[0mrstrip\u001b[0m\u001b[0;34m(\u001b[0m\u001b[0;34m)\u001b[0m\u001b[0;34m\u001b[0m\u001b[0;34m\u001b[0m\u001b[0m\n\u001b[0;32m---> 91\u001b[0;31m     \u001b[0mcode\u001b[0m \u001b[0;34m=\u001b[0m \u001b[0m_getpass\u001b[0m\u001b[0;34m.\u001b[0m\u001b[0mgetpass\u001b[0m\u001b[0;34m(\u001b[0m\u001b[0mprompt\u001b[0m \u001b[0;34m+\u001b[0m \u001b[0;34m' '\u001b[0m\u001b[0;34m)\u001b[0m\u001b[0;34m\u001b[0m\u001b[0;34m\u001b[0m\u001b[0m\n\u001b[0m\u001b[1;32m     92\u001b[0m     \u001b[0mgcloud_process\u001b[0m\u001b[0;34m.\u001b[0m\u001b[0mcommunicate\u001b[0m\u001b[0;34m(\u001b[0m\u001b[0mcode\u001b[0m\u001b[0;34m.\u001b[0m\u001b[0mstrip\u001b[0m\u001b[0;34m(\u001b[0m\u001b[0;34m)\u001b[0m\u001b[0;34m)\u001b[0m\u001b[0;34m\u001b[0m\u001b[0;34m\u001b[0m\u001b[0m\n\u001b[1;32m     93\u001b[0m   \u001b[0;32mfinally\u001b[0m\u001b[0;34m:\u001b[0m\u001b[0;34m\u001b[0m\u001b[0;34m\u001b[0m\u001b[0m\n",
            "\u001b[0;32m/usr/local/lib/python3.6/dist-packages/ipykernel/kernelbase.py\u001b[0m in \u001b[0;36mgetpass\u001b[0;34m(self, prompt, stream)\u001b[0m\n\u001b[1;32m    685\u001b[0m             \u001b[0mself\u001b[0m\u001b[0;34m.\u001b[0m\u001b[0m_parent_ident\u001b[0m\u001b[0;34m,\u001b[0m\u001b[0;34m\u001b[0m\u001b[0;34m\u001b[0m\u001b[0m\n\u001b[1;32m    686\u001b[0m             \u001b[0mself\u001b[0m\u001b[0;34m.\u001b[0m\u001b[0m_parent_header\u001b[0m\u001b[0;34m,\u001b[0m\u001b[0;34m\u001b[0m\u001b[0;34m\u001b[0m\u001b[0m\n\u001b[0;32m--> 687\u001b[0;31m             \u001b[0mpassword\u001b[0m\u001b[0;34m=\u001b[0m\u001b[0;32mTrue\u001b[0m\u001b[0;34m,\u001b[0m\u001b[0;34m\u001b[0m\u001b[0;34m\u001b[0m\u001b[0m\n\u001b[0m\u001b[1;32m    688\u001b[0m         )\n\u001b[1;32m    689\u001b[0m \u001b[0;34m\u001b[0m\u001b[0m\n",
            "\u001b[0;32m/usr/local/lib/python3.6/dist-packages/ipykernel/kernelbase.py\u001b[0m in \u001b[0;36m_input_request\u001b[0;34m(self, prompt, ident, parent, password)\u001b[0m\n\u001b[1;32m    732\u001b[0m             \u001b[0;32mexcept\u001b[0m \u001b[0mKeyboardInterrupt\u001b[0m\u001b[0;34m:\u001b[0m\u001b[0;34m\u001b[0m\u001b[0;34m\u001b[0m\u001b[0m\n\u001b[1;32m    733\u001b[0m                 \u001b[0;31m# re-raise KeyboardInterrupt, to truncate traceback\u001b[0m\u001b[0;34m\u001b[0m\u001b[0;34m\u001b[0m\u001b[0;34m\u001b[0m\u001b[0m\n\u001b[0;32m--> 734\u001b[0;31m                 \u001b[0;32mraise\u001b[0m \u001b[0mKeyboardInterrupt\u001b[0m\u001b[0;34m\u001b[0m\u001b[0;34m\u001b[0m\u001b[0m\n\u001b[0m\u001b[1;32m    735\u001b[0m             \u001b[0;32melse\u001b[0m\u001b[0;34m:\u001b[0m\u001b[0;34m\u001b[0m\u001b[0;34m\u001b[0m\u001b[0m\n\u001b[1;32m    736\u001b[0m                 \u001b[0;32mbreak\u001b[0m\u001b[0;34m\u001b[0m\u001b[0;34m\u001b[0m\u001b[0m\n",
            "\u001b[0;31mKeyboardInterrupt\u001b[0m: "
          ]
        }
      ]
    },
    {
      "cell_type": "code",
      "metadata": {
        "id": "T3NaG4vBiPvw",
        "colab_type": "code",
        "colab": {}
      },
      "source": [
        "!echo \"deb http://packages.cloud.google.com/apt gcsfuse-bionic main\" > /etc/apt/sources.list.d/gcsfuse.list\n",
        "!curl https://packages.cloud.google.com/apt/doc/apt-key.gpg | apt-key add -\n",
        "!apt -qq update\n",
        "!apt -qq install gcsfuse"
      ],
      "execution_count": null,
      "outputs": []
    },
    {
      "cell_type": "code",
      "metadata": {
        "id": "UdNVzqJ_jfs2",
        "colab_type": "code",
        "colab": {}
      },
      "source": [
        "!mkdir gbucket\n",
        "!gcsfuse --implicit-dirs aiml-capstone gbucket \n",
        "# !umount gbucket"
      ],
      "execution_count": null,
      "outputs": []
    },
    {
      "cell_type": "code",
      "metadata": {
        "id": "in-L5Mi9kEir",
        "colab_type": "code",
        "colab": {
          "base_uri": "https://localhost:8080/",
          "height": 34
        },
        "outputId": "58f97f72-6ef3-42a4-bafe-2104ab57d132"
      },
      "source": [
        "!ls gbucket/lstmbaseline-0/tf-serve/"
      ],
      "execution_count": null,
      "outputs": [
        {
          "output_type": "stream",
          "text": [
            "saved_model.pb\tvariables\n"
          ],
          "name": "stdout"
        }
      ]
    },
    {
      "cell_type": "markdown",
      "metadata": {
        "id": "VUPKTSR-GWt5",
        "colab_type": "text"
      },
      "source": [
        "# List of Models\n",
        "\n",
        "As part of our capstone, we are in process of evaluating the following models\n",
        "\n",
        "Data | Model | On GPU | Masking | Padding | Epoch | Location | \n",
        "--- | --- | --- | --- | --- | --- | --- | \n",
        "Without stopwords | SVM | No | - | - | - | [here](https://storage.cloud.google.com/aiml-capstone/svm/)\n",
        "Without stopwords | LSTM Baseline | No | No | Pre | 25 | [here](https://storage.cloud.google.com/aiml-capstone/lstmbaseline-0/full_context_withoutstopwords_model_epoch_lstmbaseline0_nomask_gpu.h5)\n",
        "Without stopwords | Deep LSTM + GloVe | Yes | No | Pre | 25 | [here](https://storage.cloud.google.com/aiml-capstone/deeplstm/full_context_withoutstopwords_model_epoch_deeplstm_gpu.h5)\n",
        "Without stopwords | Bi-LSTM + GloVe | No | No | Pre | 25 | [here](https://storage.cloud.google.com/aiml-capstone/bilstm/full_context_withoutstopwords_model_epoch_10_bilstm_cpu.h5)\n",
        "Without stopwords | Bi-LSTM + GloVe + Q2C Attention | Yes | No | Pre | 25 | [here](https://storage.cloud.google.com/aiml-capstone/bilstm-q2c-attention-glove/full_context_withoutstopwords_nomask_epoch_25_bilstm_q2c-attention_glove_gpu.h5)\n",
        "Without stopwords | Bi-LSTM + GloVe + Q2C-C2Q Attention | Yes | No | Pre | 25 | [here](https://storage.cloud.google.com/aiml-capstone/bilstm-bidaf-glove/full_context_withoutstopwords_model_epoch_25_bilstm_bidaf_glove_nomask_gpu.h5)\n",
        "With Stopwords | LSTM Baseline + Universal Sentence Encode | Yes | No | Pre | 25 |\n",
        "With Stopwords | Bi-LSTM + Universal Sentence Encoder | Yes | No | Pre | 25 | \n",
        "With Stopwords | Bi-LSTM + Q2C Attention + Universal Sentence Encoder | Yes | No | Pre | 25 |\n",
        "-- | -- | -- | -- | -- | -- |\n",
        "With Stopwords | BERT + Cased_L-12_H-768_A-12 + DeepPavlov | Transfer | Learing\n",
        "With Stopwords | BERT + Uncased_L-24_H-1024_A-24 + Huggingface | Transfer | Learing"
      ]
    },
    {
      "cell_type": "code",
      "metadata": {
        "id": "k_GOOYs6cXfu",
        "colab_type": "code",
        "colab": {
          "base_uri": "https://localhost:8080/",
          "height": 717
        },
        "outputId": "39fe5af9-f856-46a8-9304-0e5f17daf748"
      },
      "source": [
        "# List of all models and its meta info\n",
        "list_of_models = [\n",
        "                  {\n",
        "                    \"id\":\"lstm-baseline\",\n",
        "                    \"name\":\"LSTM Baseline\",\n",
        "                    \"type\":\"Without stopwords\",\n",
        "                    \"loc\":\"/content/drive/My Drive/AIML-MRC-Capstone/models/lstmbaseline-0/full_context_withoutstopwords_model_epoch_lstmbaseline0_nomask_gpu.h5\"\n",
        "                  },\n",
        "                  {\n",
        "                    \"id\":\"deeplstm-glove\",\n",
        "                    \"name\":\"Deep LSTM + GloVe\",\n",
        "                    \"type\":\"Without stopwords\",\n",
        "                    \"loc\":\"/content/drive/My Drive/AIML-MRC-Capstone/models/deeplstm/full_context_withoutstopwords_model_epoch_25_deeplstm_glove_nomask_gpu.h5\"\n",
        "                  },  \n",
        "                  {\n",
        "                    \"id\":\"bilstm-glove\",\n",
        "                    \"name\":\"Bi-LSTM + GloVe\",\n",
        "                    \"type\":\"Without stopwords\",\n",
        "                    \"loc\":\"/content/drive/My Drive/AIML-MRC-Capstone/models/bilstm/full_context_withoutstopwords_model_epoch_25_bilstm_glove_nomask_gpu.h5\"\n",
        "                  },\n",
        "                  {\n",
        "                    \"id\":\"bilstm-glove-q2c-attention\",\n",
        "                    \"name\":\"Bi-LSTM + GloVe + Q2C Attention\",\n",
        "                    \"type\":\"Without stopwords\",\n",
        "                    \"loc\":\"/content/drive/My Drive/AIML-MRC-Capstone/models/bilstm-q2c-attention-glove/full_context_withoutstopwords_model_epoch_25_bilstm_q2c-attention_glove.h5\"\n",
        "                  },  \n",
        "                  {\n",
        "                    \"id\":\"bilstm-bidaf-glove\",\n",
        "                    \"name\":\"Bi-LSTM + GloVe + Q2C-C2Q Attention\",\n",
        "                    \"type\":\"Without stopwords\",\n",
        "                    \"loc\":\"/content/drive/My Drive/AIML-MRC-Capstone/models/bilstm-bidaf-glove/full_context_withoutstopwords_model_epoch_25_bilstm_bidaf_glove_nomask_gpu_after_fix.h5\"\n",
        "                  },\n",
        "                  {\n",
        "                    \"id\":\"lstmbaseline-use-withstop\",\n",
        "                    \"name\":\"LSTM Baseline + Universal Sentence Encode\",\n",
        "                    \"type\":\"With stopwords\",\n",
        "                    \"loc\":\"/content/drive/My Drive/AIML-MRC-Capstone/models/lstmbaseline-use-withstop/full_context_withstopwords_model_epoch_25_lstmbaseline0_nomask_gpu.h5\"\n",
        "                  }, \n",
        "                  {\n",
        "                    \"id\":\"bilstm-use-withstop\",\n",
        "                    \"name\":\"Bi-LSTM + Universal Sentence Encode\",\n",
        "                    \"type\":\"With stopwords\",\n",
        "                    \"loc\":\"/content/drive/My Drive/AIML-MRC-Capstone/models/bilstm-use-withstop/full_context_withstopwords_model_epoch_25_bilstm_use_nomask_gpu.h5\"\n",
        "                  },  \n",
        "                  {\n",
        "                    \"id\":\"bilstm-q2c-attention-use-withstop\",\n",
        "                    \"name\":\"Bi-LSTM + Q2C Attention + Universal Sentence Encode\",\n",
        "                    \"type\":\"With stopwords\",\n",
        "                    \"loc\":\"/content/drive/My Drive/AIML-MRC-Capstone/models/bilstm-q2c-attention-use-withstop/full_context_withstopwords_model_epoch_25_bilstm_q2c-attention_use.h5\"\n",
        "                  },                                                       \n",
        "                  {\n",
        "                    \"id\":\"bert-deeppavlov\",\n",
        "                    \"name\":\"BERT + Cased_L-12_H-768_A-12 + DeepPavlov\",\n",
        "                    \"type\":\"BERT\",\n",
        "                    \"loc\":\"/content/drive/My Drive/AIML-MRC-Capstone/models/bert/bert-results.csv\"\n",
        "                  },\n",
        "                  {\n",
        "                    \"id\":\"bert-huggingface\",\n",
        "                    \"name\":\"BERT + Uncased_L-24_H-1024_A-24 + Huggingface\",\n",
        "                    \"type\":\"BERT\",\n",
        "                    \"loc\":\"/content/drive/My Drive/AIML-MRC-Capstone/models/bert/bert-huggingface-results.csv\"\n",
        "                  }                                                                                          \n",
        "                  ]\n",
        "\n",
        "list_of_models\n"
      ],
      "execution_count": 3,
      "outputs": [
        {
          "output_type": "execute_result",
          "data": {
            "text/plain": [
              "[{'id': 'lstm-baseline',\n",
              "  'loc': '/content/drive/My Drive/AIML-MRC-Capstone/models/lstmbaseline-0/full_context_withoutstopwords_model_epoch_lstmbaseline0_nomask_gpu.h5',\n",
              "  'name': 'LSTM Baseline',\n",
              "  'type': 'Without stopwords'},\n",
              " {'id': 'deeplstm-glove',\n",
              "  'loc': '/content/drive/My Drive/AIML-MRC-Capstone/models/deeplstm/full_context_withoutstopwords_model_epoch_25_deeplstm_glove_nomask_gpu.h5',\n",
              "  'name': 'Deep LSTM + GloVe',\n",
              "  'type': 'Without stopwords'},\n",
              " {'id': 'bilstm-glove',\n",
              "  'loc': '/content/drive/My Drive/AIML-MRC-Capstone/models/bilstm/full_context_withoutstopwords_model_epoch_25_bilstm_glove_nomask_gpu.h5',\n",
              "  'name': 'Bi-LSTM + GloVe',\n",
              "  'type': 'Without stopwords'},\n",
              " {'id': 'bilstm-glove-q2c-attention',\n",
              "  'loc': '/content/drive/My Drive/AIML-MRC-Capstone/models/bilstm-q2c-attention-glove/full_context_withoutstopwords_model_epoch_25_bilstm_q2c-attention_glove.h5',\n",
              "  'name': 'Bi-LSTM + GloVe + Q2C Attention',\n",
              "  'type': 'Without stopwords'},\n",
              " {'id': 'bilstm-bidaf-glove',\n",
              "  'loc': '/content/drive/My Drive/AIML-MRC-Capstone/models/bilstm-bidaf-glove/full_context_withoutstopwords_model_epoch_25_bilstm_bidaf_glove_nomask_gpu_after_fix.h5',\n",
              "  'name': 'Bi-LSTM + GloVe + Q2C-C2Q Attention',\n",
              "  'type': 'Without stopwords'},\n",
              " {'id': 'lstmbaseline-use-withstop',\n",
              "  'loc': '/content/drive/My Drive/AIML-MRC-Capstone/models/lstmbaseline-use-withstop/full_context_withstopwords_model_epoch_25_lstmbaseline0_nomask_gpu.h5',\n",
              "  'name': 'LSTM Baseline + Universal Sentence Encode',\n",
              "  'type': 'With stopwords'},\n",
              " {'id': 'bilstm-use-withstop',\n",
              "  'loc': '/content/drive/My Drive/AIML-MRC-Capstone/models/bilstm-use-withstop/full_context_withstopwords_model_epoch_25_bilstm_use_nomask_gpu.h5',\n",
              "  'name': 'Bi-LSTM + Universal Sentence Encode',\n",
              "  'type': 'With stopwords'},\n",
              " {'id': 'bilstm-q2c-attention-use-withstop',\n",
              "  'loc': '/content/drive/My Drive/AIML-MRC-Capstone/models/bilstm-q2c-attention-use-withstop/full_context_withstopwords_model_epoch_25_bilstm_q2c-attention_use.h5',\n",
              "  'name': 'Bi-LSTM + Q2C Attention + Universal Sentence Encode',\n",
              "  'type': 'With stopwords'},\n",
              " {'id': 'bert-deeppavlov',\n",
              "  'loc': '/content/drive/My Drive/AIML-MRC-Capstone/models/bert/bert-results.csv',\n",
              "  'name': 'BERT + Cased_L-12_H-768_A-12 + DeepPavlov',\n",
              "  'type': 'BERT'},\n",
              " {'id': 'bert-huggingface',\n",
              "  'loc': '/content/drive/My Drive/AIML-MRC-Capstone/models/bert/bert-huggingface-results.csv',\n",
              "  'name': 'BERT + Uncased_L-24_H-1024_A-24 + Huggingface',\n",
              "  'type': 'BERT'}]"
            ]
          },
          "metadata": {
            "tags": []
          },
          "execution_count": 3
        }
      ]
    },
    {
      "cell_type": "markdown",
      "metadata": {
        "id": "Xfm8h4IBSGbh",
        "colab_type": "text"
      },
      "source": [
        "# Evaluation Metrics"
      ]
    },
    {
      "cell_type": "markdown",
      "metadata": {
        "id": "UEtw1J-aPecV",
        "colab_type": "text"
      },
      "source": [
        "## bAbi \n",
        "\n",
        "Reference Paper = https://arxiv.org/pdf/1502.05698.pdf \n",
        "\n",
        "GitHub - https://github.com/facebookarchive/bAbI-tasks\n",
        "\n",
        "![alt text](https://storage.cloud.google.com/aiml-capstone/Screenshot%202020-06-20%20at%2011.11.50%20AM.png)\n",
        "![alt text](https://storage.cloud.google.com/aiml-capstone/Screenshot%202020-06-20%20at%2011.11.03%20AM.png)"
      ]
    },
    {
      "cell_type": "markdown",
      "metadata": {
        "id": "YJ5nidQ8SVog",
        "colab_type": "text"
      },
      "source": [
        "## SQuAD test dataset and published dev set"
      ]
    },
    {
      "cell_type": "markdown",
      "metadata": {
        "id": "ACmlhKB1S1ZF",
        "colab_type": "text"
      },
      "source": [
        "Refer to this eval metrics - https://worksheets.codalab.org/rest/bundles/0x6b567e1cf2e041ec80d7098f031c5c9e/contents/blob/\n",
        "\n",
        "Eval dataset from SQuAD - https://rajpurkar.github.io/SQuAD-explorer/dataset/dev-v2.0.json\n"
      ]
    },
    {
      "cell_type": "markdown",
      "metadata": {
        "id": "nGFyqInm7ZD0",
        "colab_type": "text"
      },
      "source": [
        "## News Domain Specific Evaluations\n",
        "\n",
        "Test on Sample News Context, Question and Answer pairs ??"
      ]
    },
    {
      "cell_type": "markdown",
      "metadata": {
        "id": "6Yw8C9nY7uXT",
        "colab_type": "text"
      },
      "source": [
        "## "
      ]
    },
    {
      "cell_type": "markdown",
      "metadata": {
        "id": "SDyvisumUImJ",
        "colab_type": "text"
      },
      "source": [
        "# Common Functions"
      ]
    },
    {
      "cell_type": "markdown",
      "metadata": {
        "colab_type": "text",
        "id": "XtBcy2Qwm2-c"
      },
      "source": [
        "## Custom function for preprocessing of context and question"
      ]
    },
    {
      "cell_type": "code",
      "metadata": {
        "colab_type": "code",
        "id": "LFr3-S_Gm9FX",
        "colab": {}
      },
      "source": [
        "# remove unwanted chars\n",
        "# convert to lowercase\n",
        "# remove unwanted spaces\n",
        "# remove stop words\n",
        "stop_words = set(stopwords.words('english')) \n",
        "\n",
        "## reference \n",
        "def decontracted(phrase):\n",
        "    \"\"\"\n",
        "    This function remooves punctuation from given sentence.\n",
        "    \"\"\"\n",
        "\n",
        "    if(phrase is np.nan):\n",
        "      return 'impossible'      \n",
        "\n",
        "    try:      \n",
        "      # specific\n",
        "      phrase = re.sub(r\"won\\'t\", \"will not\", phrase)\n",
        "      phrase = re.sub(r\"can\\'t\", \"can not\", phrase)\n",
        "\n",
        "      # general\n",
        "      phrase = re.sub(r\"n\\'t\", \" not\", phrase)\n",
        "      phrase = re.sub(r\"\\'re\", \" are\", phrase)\n",
        "      phrase = re.sub(r\"\\'s\", \" is\", phrase)\n",
        "      phrase = re.sub(r\"\\'d\", \" would\", phrase)\n",
        "      phrase = re.sub(r\"\\'ll\", \" will\", phrase)\n",
        "      phrase = re.sub(r\"\\'t\", \" not\", phrase)\n",
        "      phrase = re.sub(r\"\\'ve\", \" have\", phrase)\n",
        "      phrase = re.sub(r\"\\'m\", \" am\", phrase)\n",
        "      \n",
        "      # string operation\n",
        "      phrase = phrase.replace('\\\\r', ' ')\n",
        "      phrase = phrase.replace('\\\\\"', ' ')\n",
        "      phrase = phrase.replace('\\\\n', ' ')\n",
        "\n",
        "      phrase = re.sub('[^A-Za-z0-9]+', ' ', phrase.lower())\n",
        "    except:\n",
        "      print(phrase)  \n",
        "    \n",
        "    return phrase\n",
        "\n",
        "def preprocess_text(corpus, text_lower_case=True, \n",
        "                      special_char_removal=True, stopword_removal=True, remove_digits=False):    \n",
        "    normalized_text = []\n",
        "    # normalize each document in the corpus\n",
        "    for doc in corpus:\n",
        "        # doc = decontracted(doc)\n",
        "        # lowercase the text    \n",
        "        if text_lower_case:\n",
        "            doc = doc.lower()\n",
        "        # remove special characters and\\or digits    \n",
        "        if special_char_removal:\n",
        "            # insert spaces between special characters to isolate them    \n",
        "            special_char_pattern = re.compile(r'([{.(-)!}])')\n",
        "            doc = special_char_pattern.sub(\" \\\\1 \", doc)\n",
        "            doc = remove_special_characters(doc, remove_digits=remove_digits) \n",
        "\n",
        "        if stopword_removal:\n",
        "            doc = remove_stopwords(doc)\n",
        "\n",
        "        normalized_text.append(doc)\n",
        "        \n",
        "    return normalized_text\n",
        "\n",
        "def remove_special_characters(text, remove_digits=False):\n",
        "    #Using regex\n",
        "    pattern = r'[^a-zA-z0-9\\s]' if not remove_digits else r'[^a-zA-z\\s]'\n",
        "    text = re.sub(pattern, '', text)\n",
        "    return text\n",
        "\n",
        "def remove_stopwords(text):  \n",
        "    word_tokens = word_tokenize(text) \n",
        "    filtered_sentence = [w for w in word_tokens if not w in stop_words]   \n",
        "    filtered_sentence = [] \n",
        "    for w in word_tokens: \n",
        "        if w not in stop_words: \n",
        "            filtered_sentence.append(w)                 \n",
        "    return ' '.join(filtered_sentence)"
      ],
      "execution_count": 4,
      "outputs": []
    },
    {
      "cell_type": "markdown",
      "metadata": {
        "colab_type": "text",
        "id": "20-D8HBeOf_p"
      },
      "source": [
        "## Answer Span from Context and Answer, and reverse for predicted spans"
      ]
    },
    {
      "cell_type": "code",
      "metadata": {
        "colab_type": "code",
        "id": "vbM8z2AEjxKK",
        "colab": {}
      },
      "source": [
        "def tokenize(sentence):\n",
        "    \"\"\"\n",
        "    Returns tokenised words.\n",
        "    \"\"\"\n",
        "    return nltk.word_tokenize(sentence)\n",
        "\n",
        "def answer_span(context,ans):\n",
        "    \"\"\"\n",
        "    This funtion returns anwer span start index and end index.\n",
        "    \"\"\"\n",
        "    ans_token = tokenize(ans)\n",
        "    con_token = tokenize(context)\n",
        "    ans_len = len(ans_token)\n",
        "    \n",
        "    if ans_len!=0 and ans_token[0] in con_token:\n",
        "    \n",
        "        indices = [i for i, x in enumerate(con_token) if x == ans_token[0]]        \n",
        "        try:\n",
        "\n",
        "            if(len(indices)>1):\n",
        "                start = [i for i in indices if (con_token[i:i+ans_len] == ans_token) ]\n",
        "                end = start[0] + ans_len - 1\n",
        "                return start[0],end\n",
        "\n",
        "            else:\n",
        "                start = con_token.index(ans_token[0])\n",
        "                end = start + ans_len - 1\n",
        "                return start,end\n",
        "        except:\n",
        "            return -1,-1\n",
        "    else:\n",
        "        return -1,-1\n",
        "\n",
        "def span_to_answer(span, context):\n",
        "  con_token = tokenize(context)  \n",
        "  return ' '.join(con_token[span[0]:span[1]+1])"
      ],
      "execution_count": 5,
      "outputs": []
    },
    {
      "cell_type": "markdown",
      "metadata": {
        "colab_type": "text",
        "id": "_sveyxKK5j8q"
      },
      "source": [
        "## Update and persist params"
      ]
    },
    {
      "cell_type": "code",
      "metadata": {
        "colab_type": "code",
        "id": "K170rfN15qGP",
        "colab": {}
      },
      "source": [
        "### SAVE PARAMS\n",
        "# Writing to sample.json \n",
        "\n",
        "def updateparams():\n",
        "  with open(model_path + \"params.json\", \"w\") as p: \n",
        "    p.write(json.dumps(params))\n",
        "  print(\"params.jsop updated and can be found in \", model_path + \"params.json\")  \n",
        "\n",
        "# updateparams()"
      ],
      "execution_count": 6,
      "outputs": []
    },
    {
      "cell_type": "code",
      "metadata": {
        "colab_type": "code",
        "id": "yYMDmMJNU9mw",
        "colab": {}
      },
      "source": [
        "def showparams(params):\n",
        "  pprint.pprint(params)"
      ],
      "execution_count": 7,
      "outputs": []
    },
    {
      "cell_type": "code",
      "metadata": {
        "id": "SklWt_NbVzOU",
        "colab_type": "code",
        "colab": {
          "base_uri": "https://localhost:8080/",
          "height": 833
        },
        "outputId": "84cf5e14-7d79-47d8-c129-5bf695c334bd"
      },
      "source": [
        "def loadparams(name='params_withoutstopwords.json'):\n",
        "  with open(model_path + name) as f:\n",
        "    params = json.load(f)\n",
        "  return params  \n",
        "\n",
        "params = loadparams(name='params_withoutstopwords.json')\n",
        "showparams(params)\n",
        "showparams(loadparams())"
      ],
      "execution_count": 8,
      "outputs": [
        {
          "output_type": "stream",
          "text": [
            "{'context_length_99': 285,\n",
            " 'context_max_length': 426,\n",
            " 'context_pad_seq': 'pre',\n",
            " 'embedding_size': 300,\n",
            " 'prediction.accuracy.score': 0.3322461821809531,\n",
            " 'prediction.macrof1.score': 0.011907387665813255,\n",
            " 'prediction.microf1.score': 0.25672221926414995,\n",
            " 'question_length_99': 20,\n",
            " 'question_max_length': 40,\n",
            " 'question_pad_seq': 'pre',\n",
            " 'rnn_units': 256,\n",
            " 'test_shape': [26062, 16],\n",
            " 'test_span_outofrange': 0,\n",
            " 'train_shape': [78183, 16],\n",
            " 'train_span_outofrange': 0,\n",
            " 'training.batch_size': 64,\n",
            " 'training.epochs': 25,\n",
            " 'training.train_length': 78183,\n",
            " 'training.train_steps': 1221,\n",
            " 'training.val_length': 26061,\n",
            " 'training.val_steps': 814,\n",
            " 'val_shape': [26061, 16],\n",
            " 'val_span_outofrange': 0,\n",
            " 'vocab_size': 100850}\n",
            "{'context_length_99': 285,\n",
            " 'context_max_length': 426,\n",
            " 'context_pad_seq': 'pre',\n",
            " 'embedding_size': 300,\n",
            " 'prediction.accuracy.score': 0.3322461821809531,\n",
            " 'prediction.macrof1.score': 0.011907387665813255,\n",
            " 'prediction.microf1.score': 0.25672221926414995,\n",
            " 'question_length_99': 20,\n",
            " 'question_max_length': 40,\n",
            " 'question_pad_seq': 'pre',\n",
            " 'rnn_units': 256,\n",
            " 'test_shape': [26062, 16],\n",
            " 'test_span_outofrange': 0,\n",
            " 'train_shape': [78183, 16],\n",
            " 'train_span_outofrange': 0,\n",
            " 'training.batch_size': 64,\n",
            " 'training.epochs': 25,\n",
            " 'training.train_length': 78183,\n",
            " 'training.train_steps': 1221,\n",
            " 'training.val_length': 26061,\n",
            " 'training.val_steps': 814,\n",
            " 'val_shape': [26061, 16],\n",
            " 'val_span_outofrange': 0,\n",
            " 'vocab_size': 100850}\n"
          ],
          "name": "stdout"
        }
      ]
    },
    {
      "cell_type": "markdown",
      "metadata": {
        "id": "BSJXR52VTWsf",
        "colab_type": "text"
      },
      "source": [
        "## Load Tokenizer"
      ]
    },
    {
      "cell_type": "code",
      "metadata": {
        "colab_type": "code",
        "id": "5FJHi14rHNTX",
        "colab": {}
      },
      "source": [
        "def load_tokenizer(params=params, name=\"glove\"):\n",
        "  if(name=='glove'):\n",
        "    print('Loading GloVe 300D')\n",
        "    with open(model_path + \"tokenizer.pkl\",\"rb\") as infile:\n",
        "        tokenizer = pickle.load(infile)\n",
        "    print('Vocab Loaded - ',len(tokenizer.word_index))\n",
        "    if(params):\n",
        "      params['vocab_size'] = len(tokenizer.word_index)\n",
        "    return tokenizer\n",
        "  elif (name=='use'):\n",
        "    print('Loading Universal Sentence Encoder')\n",
        "    with open(model_path + \"tokenizerwithstopwordspunct.pkl\",\"rb\") as infile:\n",
        "        tokenizer = pickle.load(infile)\n",
        "    print('Vocab Loaded - ',len(tokenizer.word_index))\n",
        "    if(params):\n",
        "      params['vocab_size'] = len(tokenizer.word_index)    \n",
        "    return tokenizer       "
      ],
      "execution_count": 9,
      "outputs": []
    },
    {
      "cell_type": "markdown",
      "metadata": {
        "colab_type": "text",
        "id": "V0TSjNkdXzuR"
      },
      "source": [
        "## Create a common function to generate sequences (useful in prediction)"
      ]
    },
    {
      "cell_type": "code",
      "metadata": {
        "colab_type": "code",
        "id": "sq97Vq4kXTST",
        "colab": {
          "base_uri": "https://localhost:8080/",
          "height": 51
        },
        "outputId": "7dff041a-d7f4-4fd3-8f37-78b446f65083"
      },
      "source": [
        "# function to generate sequences withg appropiate padding\n",
        "tokenizer = load_tokenizer()\n",
        "def generate_question_context_sequence(context,question,question_max_length,padding,context_max_length):\n",
        "  question_seq = tokenizer.texts_to_sequences(question)\n",
        "  context_seq = tokenizer.texts_to_sequences(context)\n",
        "  question_seq = preprocessing.sequence.pad_sequences(question_seq,\n",
        "                                                      maxlen=question_max_length,\n",
        "                                                      padding=padding)\n",
        "  context_seq = preprocessing.sequence.pad_sequences(context_seq,\n",
        "                                                     maxlen=context_max_length,\n",
        "                                                     padding=padding)\n",
        "  return context_seq, question_seq"
      ],
      "execution_count": 10,
      "outputs": [
        {
          "output_type": "stream",
          "text": [
            "Loading GloVe 300D\n",
            "Vocab Loaded -  100850\n"
          ],
          "name": "stdout"
        }
      ]
    },
    {
      "cell_type": "markdown",
      "metadata": {
        "colab_type": "text",
        "id": "v78fhG3Tdhx5"
      },
      "source": [
        "## Create a common function to predict and test"
      ]
    },
    {
      "cell_type": "code",
      "metadata": {
        "colab_type": "code",
        "id": "v6KDfM25dhZr",
        "colab": {}
      },
      "source": [
        "def predit_test(context, question, modeltoUse, params=params):\n",
        "  # get sequence for context and question\n",
        "  c_ = preprocess_text(context,stopword_removal=False)\n",
        "  q_ = preprocess_text(question,stopword_removal=False)\n",
        "  answer=[]\n",
        "  spans=[]\n",
        "\n",
        "  \n",
        "\n",
        "  c,q = generate_question_context_sequence(context=c_,\n",
        "                                           question=q_,\n",
        "                                           question_max_length=params['question_max_length'],\n",
        "                                           padding=params['question_pad_seq'],\n",
        "                                           context_max_length=params['context_max_length'])\n",
        "\n",
        "  context_token = []\n",
        "  print(c)\n",
        "  # tokenizer.word_docs\n",
        "  tokenizer.word_index['how']\n",
        "  print(list(tokenizer.word_index.keys())[list(tokenizer.word_index.values()).index(39)])\n",
        "  for ci in c:    \n",
        "    tokens = {}\n",
        "    for i in ci:\n",
        "      if(i != 0):\n",
        "        print(tokenizer.word_docs[i])\n",
        "        # tokens[tokenizer.word_index[i]] = i\n",
        "    # context_token.append(ci)\n",
        "  # print(context_token)\n",
        "\n",
        "\n",
        "  y_ = modeltoUse.predict([q,c])    \n",
        "  # print(y_)\n",
        "  pred_token = {}\n",
        "  for i in range(len(context)):    \n",
        "    s = np.argmax(y_[i,:params['context_max_length']])\n",
        "    e = np.argmax(y_[i,params['context_max_length']:])\n",
        "    answer.append(span_to_answer((s,e),c_[i]))\n",
        "    spans.append([s,e])\n",
        "    # pred_token[]\n",
        "  \n",
        "  # print(c.shape,q.shape,y_.shape,s,e,answer)  \n",
        "  # print(s, e)\n",
        "  return c_,q_,spans,y_,answer"
      ],
      "execution_count": 11,
      "outputs": []
    },
    {
      "cell_type": "markdown",
      "metadata": {
        "id": "wIjvBaQ4WFZQ",
        "colab_type": "text"
      },
      "source": [
        "## Load Test Data with Ground Truth Known"
      ]
    },
    {
      "cell_type": "code",
      "metadata": {
        "id": "QYkWpLxxWFii",
        "colab_type": "code",
        "colab": {}
      },
      "source": [
        "from sklearn.utils import resample,shuffle\n",
        "\n",
        "def load_data_withoutstopwords():\n",
        "  #### NOTE THE 2 data frames's\n",
        "  df_nostopwords = 'test_squad_data_final_context_withoutstopwords.csv'\n",
        "  # df_withstopwords = 'squad_data_final_withstopword_withpunctuation.csv'\n",
        "  test_squad_df = pd.read_csv(project_path+df_nostopwords)\n",
        "  test_squad_df.drop('Unnamed: 0',axis=1,inplace=True)\n",
        "\n",
        "\n",
        "  test_squad_df[\"answer_word_span\"] = test_squad_df[\"answer_word_span\"].apply(lambda x :eval(x))\n",
        "  print(test_squad_df.info())\n",
        "  return test_squad_df"
      ],
      "execution_count": 12,
      "outputs": []
    },
    {
      "cell_type": "markdown",
      "metadata": {
        "id": "eH025QzmyMAJ",
        "colab_type": "text"
      },
      "source": [
        "## Loss function"
      ]
    },
    {
      "cell_type": "code",
      "metadata": {
        "id": "fDX397bcyMZI",
        "colab_type": "code",
        "colab": {}
      },
      "source": [
        "def logits_loss(y_true,logits):\n",
        "    \"\"\"\n",
        "    Custom loss function which minimises log_loss.\n",
        "    Referance https://stackoverflow.com/questions/50063613/add-loss-function-in-keras\n",
        "    \"\"\"\n",
        "    \n",
        "    #y_true = tf.cast(y_true,dtype=tf.int32)\n",
        "    #logits = tf.cast(logits,dtype=tf.float32)\n",
        "    \n",
        "    # breaking the tensor into two half's to get start and end label.\n",
        "    start_label = y_true[:,:params['context_max_length']]\n",
        "    end_label = y_true[:,params['context_max_length']:]\n",
        "    \n",
        "    # braking the logits tensor into start and end part for loss calcultion.\n",
        "    start_logit = logits[:,:params['context_max_length']]\n",
        "    end_logit = logits[:,params['context_max_length']:]\n",
        "    \n",
        "    start_loss = tf.keras.backend.categorical_crossentropy(start_label,start_logit)\n",
        "    end_loss = tf.keras.backend.categorical_crossentropy(end_label,end_logit)\n",
        "    \n",
        "#     start_loss = tf.losses.sparse_softmax_cross_entropy(labels=start_label, logits=start_logit)\n",
        "#     end_loss = tf.losses.sparse_softmax_cross_entropy(labels=end_label, logits=end_logit)\n",
        "    \n",
        "    # as per paer\n",
        "    \n",
        "    loss = start_loss + end_loss\n",
        "    \n",
        "    return loss"
      ],
      "execution_count": 13,
      "outputs": []
    },
    {
      "cell_type": "markdown",
      "metadata": {
        "id": "OP43qWYkewja",
        "colab_type": "text"
      },
      "source": [
        "## Load Model"
      ]
    },
    {
      "cell_type": "code",
      "metadata": {
        "id": "-pSzIAlTe07P",
        "colab_type": "code",
        "colab": {}
      },
      "source": [
        "from tensorflow import keras\n",
        "def load_mrc_model(model_path):\n",
        "  print('Loading model from', model_path)\n",
        "  custom_objects = {\"logits_loss\": logits_loss}\n",
        "  new_model = keras.models.load_model(model_path,custom_objects=custom_objects)\n",
        "  ### Check its architecture\n",
        "  # new_model.summary()  \n",
        "  return new_model"
      ],
      "execution_count": 14,
      "outputs": []
    },
    {
      "cell_type": "code",
      "metadata": {
        "id": "M2fUNm7uPWSm",
        "colab_type": "code",
        "colab": {}
      },
      "source": [
        "# strategy = tf.distribute.MirroredStrategy()\n",
        "# with strategy.scope():\n",
        "#   model = load_mrc_model('/content/drive/My Drive/AIML-MRC-Capstone/models/bilstm/full_context_withoutstopwords_model_epoch_25_bilstm_glove_nomask_gpu.h5')\n",
        "  \n",
        "# model.summary()\n",
        "# # list_of_models['bilstm-glove-q2c-c2q-attention']['loc'].replace('https://storage.cloud.google.com/aiml-capstone/','gbucket/')"
      ],
      "execution_count": 15,
      "outputs": []
    },
    {
      "cell_type": "markdown",
      "metadata": {
        "id": "DURR8zGyUpy6",
        "colab_type": "text"
      },
      "source": [
        "## Load Test Data"
      ]
    },
    {
      "cell_type": "code",
      "metadata": {
        "id": "OWgeXhRLUrj4",
        "colab_type": "code",
        "colab": {}
      },
      "source": [
        "def load_test_data(name='test-withoutstopwords.csv'):\n",
        "  test = pd.read_csv(model_path +name)\n",
        "  test.drop('Unnamed: 0',axis=1,inplace=True)\n",
        "  test[\"answer_word_span\"] = test[\"answer_word_span\"].apply(lambda x :eval(x))\n",
        "  test.loc[test['answer'].isna(), 'answer'] = ''\n",
        "  test.loc[test['plausible_answer'].isna(), 'plausible_answer'] = ''\n",
        "  print(test.shape)\n",
        "  return test"
      ],
      "execution_count": 16,
      "outputs": []
    },
    {
      "cell_type": "markdown",
      "metadata": {
        "id": "a2P1tCiIn3a3",
        "colab_type": "text"
      },
      "source": [
        "## Load CNN dataset"
      ]
    },
    {
      "cell_type": "code",
      "metadata": {
        "id": "fdQS49J4n4D8",
        "colab_type": "code",
        "colab": {}
      },
      "source": [
        "# cnndf = pd.read_csv(dataset_path + 'CNN/TrainingDatasets/cnnTrainingData.csv')"
      ],
      "execution_count": 17,
      "outputs": []
    },
    {
      "cell_type": "code",
      "metadata": {
        "id": "uFKbElDgn35o",
        "colab_type": "code",
        "colab": {}
      },
      "source": [
        "# cnndf.head(5)"
      ],
      "execution_count": 18,
      "outputs": []
    },
    {
      "cell_type": "code",
      "metadata": {
        "id": "i-EuIRXxPFZ5",
        "colab_type": "code",
        "colab": {}
      },
      "source": [
        "# del cnndf"
      ],
      "execution_count": 19,
      "outputs": []
    },
    {
      "cell_type": "code",
      "metadata": {
        "id": "I2iBIhFlpE_V",
        "colab_type": "code",
        "colab": {}
      },
      "source": [
        "# import textwrap\n",
        "# wrapper = textwrap.TextWrapper(width=80) \n",
        "# print(wrapper.fill(cnndf['context'].iloc[0]))\n",
        "# print()\n",
        "# print(wrapper.fill(cnndf['question'].iloc[4]))"
      ],
      "execution_count": 20,
      "outputs": []
    },
    {
      "cell_type": "markdown",
      "metadata": {
        "id": "KoXsJRF_Vah4",
        "colab_type": "text"
      },
      "source": [
        "## Create Answer Sequence for test"
      ]
    },
    {
      "cell_type": "code",
      "metadata": {
        "id": "rregOZyRS_Da",
        "colab_type": "code",
        "colab": {}
      },
      "source": [
        "def create_answer_sequence(test, context_length):\n",
        "  # for test data\n",
        "  y_test = []\n",
        "  for i in range(len(test)):    \n",
        "      s = np.zeros(context_length,dtype = \"int\")\n",
        "      e = np.zeros(context_length,dtype = \"int\")        \n",
        "      start,end = test[\"answer_word_span\"].iloc[i]    \n",
        "      s[start] = 1\n",
        "      e[end] = 1\n",
        "      y_test.append(np.concatenate((s,e)))\n",
        "  return y_test\n"
      ],
      "execution_count": 21,
      "outputs": []
    },
    {
      "cell_type": "markdown",
      "metadata": {
        "id": "iDeMi7IWeb6_",
        "colab_type": "text"
      },
      "source": [
        "## Create a combined y_test array having both start and end vectors in OHE"
      ]
    },
    {
      "cell_type": "code",
      "metadata": {
        "id": "r3S3SB2cfFR4",
        "colab_type": "code",
        "colab": {}
      },
      "source": [
        "def combine_y(y, test_sample_size):\n",
        "  # argmax is used to get the index where the max value in a list appears, and hence \n",
        "  # for every index i, we can get the place of start and end token of the max probab\n",
        "  start = []\n",
        "  end = []\n",
        "  for i in range(test_sample_size):\n",
        "      start.append(np.argmax(y[i,:params['context_max_length']]))\n",
        "      end.append(np.argmax(y[i,params['context_max_length']:]))\n",
        "      \n",
        "  y_new = np.zeros((test_sample_size,params['context_max_length']))\n",
        "  for i in range(test_sample_size):\n",
        "      y_new[i,start[i]:end[i]+1] = 1\n",
        "  return y_new,start,end"
      ],
      "execution_count": 22,
      "outputs": []
    },
    {
      "cell_type": "markdown",
      "metadata": {
        "id": "gUd9-eqtioBM",
        "colab_type": "text"
      },
      "source": [
        "## Accuracy Metrics"
      ]
    },
    {
      "cell_type": "code",
      "metadata": {
        "id": "m0e-TuininW8",
        "colab_type": "code",
        "colab": {}
      },
      "source": [
        "def accuracy_metrics(y_true,y_pred):\n",
        "  acc_score = accuracy_score(y_true,y_pred)\n",
        "  macro_f1_score = f1_score(y_true,y_pred,average=\"macro\")\n",
        "  micro_f1_score = f1_score(y_true,y_pred,average=\"micro\")\n",
        "  return acc_score,macro_f1_score,micro_f1_score\n",
        "  "
      ],
      "execution_count": 23,
      "outputs": []
    },
    {
      "cell_type": "code",
      "metadata": {
        "id": "Wqs4OxyjszkY",
        "colab_type": "code",
        "colab": {
          "base_uri": "https://localhost:8080/",
          "height": 34
        },
        "outputId": "60aadf7d-1f5c-486d-b0ec-cfb090618151"
      },
      "source": [
        "accuracy_metrics([1,1,1],[0,1,1])"
      ],
      "execution_count": 24,
      "outputs": [
        {
          "output_type": "execute_result",
          "data": {
            "text/plain": [
              "(0.6666666666666666, 0.4, 0.6666666666666666)"
            ]
          },
          "metadata": {
            "tags": []
          },
          "execution_count": 24
        }
      ]
    },
    {
      "cell_type": "markdown",
      "metadata": {
        "id": "AnoYgva4_iEI",
        "colab_type": "text"
      },
      "source": [
        "## Exact Match Count per Model"
      ]
    },
    {
      "cell_type": "code",
      "metadata": {
        "id": "jf3h0HWD_iyk",
        "colab_type": "code",
        "colab": {}
      },
      "source": [
        "def checkEMMatch(test, start, end):\n",
        "  field_names = [\"True Answer\",\n",
        "                \"True AS and AE\",\n",
        "                \"Predict Answer\",\n",
        "                \"Predict AS and AE\"]\n",
        "  result_df = pd.DataFrame(columns=field_names)\n",
        "  print('Checking for equality match percentage')\n",
        "  for i in tqdm(range(test.shape[0])):  \n",
        "    values = [test['clean_answer'].iloc[i], \n",
        "              test['answer_word_span'].iloc[i],\n",
        "              span_to_answer([start_pred[i],end_pred[i]],test['clean_context'].iloc[i]),\n",
        "              (start_pred[i],end_pred[i])]\n",
        "    zipped = zip(field_names, values)\n",
        "    a_dictionary = dict(zipped)\n",
        "    result_df = result_df.append(a_dictionary,ignore_index=True)\n",
        "\n",
        "  ematch = result_df[result_df['Predict Answer'] == result_df['True Answer']].shape[0]  / test.shape[0]\n",
        "  del result_df\n",
        "\n",
        "  return ematch\n"
      ],
      "execution_count": 25,
      "outputs": []
    },
    {
      "cell_type": "markdown",
      "metadata": {
        "id": "YvVeDCNqX5pr",
        "colab_type": "text"
      },
      "source": [
        "## Generate y_preds in text from predicted start and end span"
      ]
    },
    {
      "cell_type": "code",
      "metadata": {
        "id": "1eDXknqOX5Cq",
        "colab_type": "code",
        "colab": {}
      },
      "source": [
        "def generate_y_preds_text(test, start, end):\n",
        "  y_preds = []\n",
        "  for i in tqdm(range(test.shape[0])):\n",
        "    y_preds.append(span_to_answer([start_pred[i],end_pred[i]],test['context'].iloc[i]))\n",
        "  return y_preds"
      ],
      "execution_count": 26,
      "outputs": []
    },
    {
      "cell_type": "markdown",
      "metadata": {
        "id": "wvA32P7IjPSZ",
        "colab_type": "text"
      },
      "source": [
        "## Load all model"
      ]
    },
    {
      "cell_type": "code",
      "metadata": {
        "id": "4xDin7-igafk",
        "colab_type": "code",
        "colab": {}
      },
      "source": [
        "def load_all_models():\n",
        "  loaded_models = {}\n",
        "  for model in list_of_models:\n",
        "    print('Loading model ',model['name'],' from ', model['loc'])  \n",
        "    if(model['type'] == 'BERT'):\n",
        "      print('BERT is WIP !!')\n",
        "      continue    \n",
        "    tfmodel = load_mrc_model(model['loc'])\n",
        "    loaded_models[model['name']] = tfmodel\n",
        "  return loaded_models"
      ],
      "execution_count": 27,
      "outputs": []
    },
    {
      "cell_type": "markdown",
      "metadata": {
        "id": "p87BPm-enj0t",
        "colab_type": "text"
      },
      "source": [
        "## SQuAD Official Evaluation Script\n",
        "\n",
        "Refer to https://worksheets.codalab.org/rest/bundles/0x6b567e1cf2e041ec80d7098f031c5c9e/contents/blob/\n"
      ]
    },
    {
      "cell_type": "code",
      "metadata": {
        "id": "lsd_6KDXtTOp",
        "colab_type": "code",
        "colab": {}
      },
      "source": [
        "import argparse\n",
        "import collections\n",
        "import json\n",
        "import numpy as np\n",
        "import os\n",
        "import re\n",
        "import string\n",
        "import sys"
      ],
      "execution_count": 28,
      "outputs": []
    },
    {
      "cell_type": "code",
      "metadata": {
        "id": "-AJyEUWDzIrK",
        "colab_type": "code",
        "colab": {}
      },
      "source": [
        "def getpred(test, y_predict):\n",
        "  pred = {}\n",
        "  for i in range(test.shape[0]):\n",
        "    pred[test['id'].iloc[i]] = y_predict[i]\n",
        "\n",
        "  return pred  "
      ],
      "execution_count": 29,
      "outputs": []
    },
    {
      "cell_type": "code",
      "metadata": {
        "id": "OGn2mA7atJEu",
        "colab_type": "code",
        "colab": {}
      },
      "source": [
        "def normalize_answer(s):\n",
        "  \"\"\"Lower text and remove punctuation, articles and extra whitespace.\"\"\"\n",
        "  def remove_articles(text):\n",
        "    regex = re.compile(r'\\b(a|an|the)\\b', re.UNICODE)\n",
        "    return re.sub(regex, ' ', text)\n",
        "  def white_space_fix(text):\n",
        "    if(text != text):\n",
        "      return ''\n",
        "    return ' '.join(text.split())\n",
        "  def remove_punc(text):\n",
        "    exclude = set(string.punctuation)\n",
        "    return ''.join(ch for ch in text if ch not in exclude)\n",
        "  def lower(text):\n",
        "    return text.lower()\n",
        "  return white_space_fix(remove_articles(remove_punc(lower(s))))"
      ],
      "execution_count": 30,
      "outputs": []
    },
    {
      "cell_type": "code",
      "metadata": {
        "id": "QKsIlANKnvuJ",
        "colab_type": "code",
        "colab": {}
      },
      "source": [
        "def make_qid_to_has_ans(test):\n",
        "  qid_to_has_ans = {}\n",
        "  for i in range(test.shape[0]):\n",
        "    qid_to_has_ans[test['id'].iloc[i]] = bool(test['answer'].iloc[i])\n",
        "  return qid_to_has_ans"
      ],
      "execution_count": 31,
      "outputs": []
    },
    {
      "cell_type": "code",
      "metadata": {
        "id": "EHL-JtnCx70o",
        "colab_type": "code",
        "colab": {}
      },
      "source": [
        "def get_tokens(s):\n",
        "  if not s: return []\n",
        "  return normalize_answer(s).split()"
      ],
      "execution_count": 32,
      "outputs": []
    },
    {
      "cell_type": "code",
      "metadata": {
        "id": "IWjFQTjLx51X",
        "colab_type": "code",
        "colab": {
          "base_uri": "https://localhost:8080/",
          "height": 153
        },
        "outputId": "d08ffbc5-179c-4efe-c84e-1ceb88aba621"
      },
      "source": [
        "def compute_exact(a_gold, a_pred, type='a'):\n",
        "  if(type=='a'):\n",
        "    return int(normalize_answer(a_gold) == normalize_answer(a_pred))\n",
        "  else:\n",
        "    return int((normalize_answer(a_gold) != '') and (normalize_answer(a_gold) == normalize_answer(a_pred)))\n",
        "\n",
        "def compute_f1(a_gold, a_pred,  type='a'):\n",
        "  gold_toks = get_tokens(a_gold)\n",
        "  pred_toks = get_tokens(a_pred)\n",
        "  # find number of common tokens\n",
        "  common = collections.Counter(gold_toks) & collections.Counter(pred_toks)\n",
        "  # count the common tokens\n",
        "  num_same = sum(common.values())\n",
        "  if (len(gold_toks) == 0 or len(pred_toks) == 0) and type == 'a':\n",
        "    # If either is no-answer, then F1 is 1 if they agree, 0 otherwise\n",
        "    return int(gold_toks == pred_toks)\n",
        "  if num_same == 0:\n",
        "    return 0\n",
        "  # precision is always to y_pred - 1 * (ratio of common token / total tokens in y_pred)\n",
        "  precision = 1.0 * num_same / len(pred_toks)\n",
        "  # recal is always to y_true - 1 * (ratio of common token / total tokens in y_true)\n",
        "  recall = 1.0 * num_same / len(gold_toks)\n",
        "  # F1 score formulais as below - 2*((precision*recall)/(precision+recall))\n",
        "  f1 = (2 * precision * recall) / (precision + recall)\n",
        "  return f1\n",
        "\n",
        "# Test the sklearn f1 versus SQuAD F1 metrics func\n",
        "print('scklearn F1 =',f1_score(['by marriage through coburgs'],['by marriage through the Coburgs'],average=\"macro\"))\n",
        "print('custom F1 =',compute_f1('by marriage through coburgs','by marriage through the Coburgs')) \n",
        "\n",
        "print('scklearn F1 =',f1_score(['1990 new cases'],['1990'],average=\"macro\"))\n",
        "print('custom F1 =',compute_f1('1990 new cases','1990')) \n",
        "\n",
        "# equals\n",
        "print('custom exact =',compute_exact('by marriage through coburgs','by marriage through the Coburgs'))  \n",
        "print('exact exact =',int('by marriage through coburgs' == 'by marriage through the Coburgs'))  \n",
        "\n",
        "print('custom exact =',compute_exact('1990 new cases','1990'))\n",
        "print('exact exact =',int('Dr Balaram Bhargava' == 'Balaram Bhargava')) \n",
        "\n",
        "## Clearly the custom f1 and exact makes so much sense "
      ],
      "execution_count": 33,
      "outputs": [
        {
          "output_type": "stream",
          "text": [
            "scklearn F1 = 0.0\n",
            "custom F1 = 1.0\n",
            "scklearn F1 = 0.0\n",
            "custom F1 = 0.5\n",
            "custom exact = 1\n",
            "exact exact = 0\n",
            "custom exact = 0\n",
            "exact exact = 0\n"
          ],
          "name": "stdout"
        }
      ]
    },
    {
      "cell_type": "code",
      "metadata": {
        "id": "IHykDpVjUQz1",
        "colab_type": "code",
        "colab": {}
      },
      "source": [
        "def make_eval_dict(exact_scores, f1_scores,exact_scores_pa,f1_scores_pa, qid_list=None):\n",
        "  total = len(exact_scores)\n",
        "  # return collections.OrderedDict([\n",
        "  #     ('exact', 100.0 * sum(exact_scores.values()) / total),\n",
        "  #     ('f1', 100.0 * sum(f1_scores.values()) / total),\n",
        "  #     ('total', total),\n",
        "  # ])\n",
        "  exact = 100.0 * sum(exact_scores.values()) / total\n",
        "  f1 = 100.0 * sum(f1_scores.values()) / total\n",
        "  exact_pa = 100.0 * sum(exact_scores_pa.values()) / total\n",
        "  f1_pa = 100.0 * sum(f1_scores_pa.values()) / total\n",
        "  return exact, f1, exact_pa, f1_pa, total"
      ],
      "execution_count": 34,
      "outputs": []
    },
    {
      "cell_type": "code",
      "metadata": {
        "id": "kpGEMJJasDap",
        "colab_type": "code",
        "colab": {}
      },
      "source": [
        "#  preds = {\n",
        "#     \"id\" : 'predicted answer'    \n",
        "#      }\n",
        "def get_raw_scores(test, preds):\n",
        "    exact_scores = {}\n",
        "    f1_scores = {}    \n",
        "    exact_scores_pa = {}\n",
        "    f1_scores_pa = {}        \n",
        "    for i in range(test.shape[0]):\n",
        "      if 'id' in test.columns:\n",
        "        qid = test['id'].iloc[i]\n",
        "      else:\n",
        "        qid = i\n",
        "      gold_a = normalize_answer(test['answer'].iloc[i])\n",
        "      gold_pa = normalize_answer(test['plausible_answer'].iloc[i])\n",
        "      if not gold_a:\n",
        "        # For unanswerable questions, only correct answer is empty string\n",
        "        gold_a = ''\n",
        "\n",
        "      exact_scores[qid] = compute_exact(gold_a, preds[i])\n",
        "      f1_scores[qid] = compute_f1(gold_a, preds[i])\n",
        "      exact_scores_pa[qid] = compute_exact(gold_pa, preds[i], type='pa')\n",
        "      f1_scores_pa[qid] = compute_f1(gold_pa, preds[i], type='pa')      \n",
        "\n",
        "    return exact_scores, f1_scores,exact_scores_pa,f1_scores_pa"
      ],
      "execution_count": 35,
      "outputs": []
    },
    {
      "cell_type": "code",
      "metadata": {
        "id": "C42zkDJ-o4JF",
        "colab_type": "code",
        "colab": {
          "base_uri": "https://localhost:8080/",
          "height": 34
        },
        "outputId": "a5cf1094-b990-4b17-84f9-bfe9d1248c73"
      },
      "source": [
        "test = load_test_data()"
      ],
      "execution_count": 36,
      "outputs": [
        {
          "output_type": "stream",
          "text": [
            "(26062, 16)\n"
          ],
          "name": "stdout"
        }
      ]
    },
    {
      "cell_type": "code",
      "metadata": {
        "id": "Z_XZUPY400oC",
        "colab_type": "code",
        "colab": {
          "base_uri": "https://localhost:8080/",
          "height": 496
        },
        "outputId": "d2d6fbec-05b0-4f73-92ab-1fce8324409c"
      },
      "source": [
        "test = test.head(5)\n",
        "test"
      ],
      "execution_count": null,
      "outputs": [
        {
          "output_type": "execute_result",
          "data": {
            "text/html": [
              "<div>\n",
              "<style scoped>\n",
              "    .dataframe tbody tr th:only-of-type {\n",
              "        vertical-align: middle;\n",
              "    }\n",
              "\n",
              "    .dataframe tbody tr th {\n",
              "        vertical-align: top;\n",
              "    }\n",
              "\n",
              "    .dataframe thead th {\n",
              "        text-align: right;\n",
              "    }\n",
              "</style>\n",
              "<table border=\"1\" class=\"dataframe\">\n",
              "  <thead>\n",
              "    <tr style=\"text-align: right;\">\n",
              "      <th></th>\n",
              "      <th>title</th>\n",
              "      <th>context</th>\n",
              "      <th>question</th>\n",
              "      <th>id</th>\n",
              "      <th>answer_start</th>\n",
              "      <th>answer</th>\n",
              "      <th>plausible_answer_start</th>\n",
              "      <th>plausible_answer</th>\n",
              "      <th>is_impossible</th>\n",
              "      <th>clean_context</th>\n",
              "      <th>clean_question</th>\n",
              "      <th>clean_answer</th>\n",
              "      <th>answer_len</th>\n",
              "      <th>answer_end</th>\n",
              "      <th>answer_span</th>\n",
              "      <th>answer_word_span</th>\n",
              "    </tr>\n",
              "  </thead>\n",
              "  <tbody>\n",
              "    <tr>\n",
              "      <th>0</th>\n",
              "      <td>Queen_Victoria</td>\n",
              "      <td>Internationally, Victoria took a keen interest...</td>\n",
              "      <td>How was the House of Orleans and the British R...</td>\n",
              "      <td>5722d1770dadf01500fa1f04</td>\n",
              "      <td>218</td>\n",
              "      <td>by marriage through the Coburgs</td>\n",
              "      <td>NaN</td>\n",
              "      <td></td>\n",
              "      <td>False</td>\n",
              "      <td>internationally victoria took keen interest im...</td>\n",
              "      <td>how was the house of orleans and the british r...</td>\n",
              "      <td>by marriage through the coburgs</td>\n",
              "      <td>31</td>\n",
              "      <td>249</td>\n",
              "      <td>(218, 249)</td>\n",
              "      <td>(-1, -1)</td>\n",
              "    </tr>\n",
              "    <tr>\n",
              "      <th>1</th>\n",
              "      <td>Southampton</td>\n",
              "      <td>Southampton's largest retail centre, and 35th ...</td>\n",
              "      <td>What's the largest retail center in Southampton?</td>\n",
              "      <td>56f8afe39e9bad19000a031d</td>\n",
              "      <td>72</td>\n",
              "      <td>WestQuay Shopping Centre</td>\n",
              "      <td>NaN</td>\n",
              "      <td></td>\n",
              "      <td>False</td>\n",
              "      <td>southamptons largest retail centre 35th larges...</td>\n",
              "      <td>whats the largest retail center in southampton</td>\n",
              "      <td>westquay shopping centre</td>\n",
              "      <td>24</td>\n",
              "      <td>96</td>\n",
              "      <td>(72, 96)</td>\n",
              "      <td>(7, 9)</td>\n",
              "    </tr>\n",
              "    <tr>\n",
              "      <th>2</th>\n",
              "      <td>Immunology</td>\n",
              "      <td>Other immune system disorders include various ...</td>\n",
              "      <td>What characterizes a hypersensitivity?</td>\n",
              "      <td>5706aa0a75f01819005e7ce8</td>\n",
              "      <td>110</td>\n",
              "      <td>respond inappropriately to otherwise harmless ...</td>\n",
              "      <td>NaN</td>\n",
              "      <td></td>\n",
              "      <td>False</td>\n",
              "      <td>immune system disorders include various hypers...</td>\n",
              "      <td>what characterizes a hypersensitivity</td>\n",
              "      <td>respond inappropriately to otherwise harmless ...</td>\n",
              "      <td>56</td>\n",
              "      <td>166</td>\n",
              "      <td>(110, 166)</td>\n",
              "      <td>(8, 13)</td>\n",
              "    </tr>\n",
              "    <tr>\n",
              "      <th>3</th>\n",
              "      <td>Steven_Spielberg</td>\n",
              "      <td>Spielberg won the Academy Award for Best Direc...</td>\n",
              "      <td>When was Jaws released?</td>\n",
              "      <td>57318afba5e9cc1400cdc01f</td>\n",
              "      <td>143</td>\n",
              "      <td>1975</td>\n",
              "      <td>NaN</td>\n",
              "      <td></td>\n",
              "      <td>False</td>\n",
              "      <td>spielberg academy award best director schindle...</td>\n",
              "      <td>when was jaws released</td>\n",
              "      <td>1975</td>\n",
              "      <td>4</td>\n",
              "      <td>147</td>\n",
              "      <td>(143, 147)</td>\n",
              "      <td>(15, 15)</td>\n",
              "    </tr>\n",
              "    <tr>\n",
              "      <th>4</th>\n",
              "      <td>Electric_motor</td>\n",
              "      <td>Because the rotor is much lighter in weight (m...</td>\n",
              "      <td>What advantage doesn't a coreless rotor have o...</td>\n",
              "      <td>5ad168ad645df0001a2d1a12</td>\n",
              "      <td>-1</td>\n",
              "      <td></td>\n",
              "      <td>141.0</td>\n",
              "      <td>accelerate much more rapidly</td>\n",
              "      <td>True</td>\n",
              "      <td>rotor much lighter weight mass conventional ro...</td>\n",
              "      <td>what advantage doesnt a coreless rotor have ov...</td>\n",
              "      <td>IMPOSSIBLE</td>\n",
              "      <td>0</td>\n",
              "      <td>-1</td>\n",
              "      <td>(-1, -1)</td>\n",
              "      <td>(-1, -1)</td>\n",
              "    </tr>\n",
              "  </tbody>\n",
              "</table>\n",
              "</div>"
            ],
            "text/plain": [
              "              title  ... answer_word_span\n",
              "0    Queen_Victoria  ...         (-1, -1)\n",
              "1       Southampton  ...           (7, 9)\n",
              "2        Immunology  ...          (8, 13)\n",
              "3  Steven_Spielberg  ...         (15, 15)\n",
              "4    Electric_motor  ...         (-1, -1)\n",
              "\n",
              "[5 rows x 16 columns]"
            ]
          },
          "metadata": {
            "tags": []
          },
          "execution_count": 36
        }
      ]
    },
    {
      "cell_type": "markdown",
      "metadata": {
        "id": "nIYtmXgrQ9i_",
        "colab_type": "text"
      },
      "source": [
        "<font color='red'>**DO NOT EXECUTE THIS**</font>"
      ]
    },
    {
      "cell_type": "code",
      "metadata": {
        "id": "57EsT35XyxGV",
        "colab_type": "code",
        "colab": {}
      },
      "source": [
        "y_pred = ['',\n",
        "          'WestQuay Shopping Centre',\n",
        "          'inappropriately to otherwise harmless compounds.',\n",
        "          '1975',\n",
        "          'accelerate much more rapidly']\n",
        "# preds = getpred(test,y_pred)\n",
        "# preds"
      ],
      "execution_count": null,
      "outputs": []
    },
    {
      "cell_type": "code",
      "metadata": {
        "id": "k6ahjxlWq03p",
        "colab_type": "code",
        "colab": {
          "base_uri": "https://localhost:8080/",
          "height": 202
        },
        "outputId": "051eec57-0841-489f-e1d8-87d63f4e62a4"
      },
      "source": [
        "test[test['id']=='5a56d7bd6349e2001acdcf92']"
      ],
      "execution_count": null,
      "outputs": [
        {
          "output_type": "execute_result",
          "data": {
            "text/html": [
              "<div>\n",
              "<style scoped>\n",
              "    .dataframe tbody tr th:only-of-type {\n",
              "        vertical-align: middle;\n",
              "    }\n",
              "\n",
              "    .dataframe tbody tr th {\n",
              "        vertical-align: top;\n",
              "    }\n",
              "\n",
              "    .dataframe thead th {\n",
              "        text-align: right;\n",
              "    }\n",
              "</style>\n",
              "<table border=\"1\" class=\"dataframe\">\n",
              "  <thead>\n",
              "    <tr style=\"text-align: right;\">\n",
              "      <th></th>\n",
              "      <th>title</th>\n",
              "      <th>context</th>\n",
              "      <th>question</th>\n",
              "      <th>id</th>\n",
              "      <th>answer_start</th>\n",
              "      <th>answer</th>\n",
              "      <th>plausible_answer_start</th>\n",
              "      <th>plausible_answer</th>\n",
              "      <th>is_impossible</th>\n",
              "      <th>clean_context</th>\n",
              "      <th>clean_question</th>\n",
              "      <th>clean_answer</th>\n",
              "      <th>answer_len</th>\n",
              "      <th>answer_end</th>\n",
              "      <th>answer_span</th>\n",
              "      <th>answer_word_span</th>\n",
              "    </tr>\n",
              "  </thead>\n",
              "  <tbody>\n",
              "    <tr>\n",
              "      <th>611</th>\n",
              "      <td>Ministry_of_Defence_(United_Kingdom)</td>\n",
              "      <td>Henry VIII's wine cellar at the Palace of Whit...</td>\n",
              "      <td>What was the Palace of Whitehall built with in...</td>\n",
              "      <td>5a56d7bd6349e2001acdcf92</td>\n",
              "      <td>-1</td>\n",
              "      <td></td>\n",
              "      <td>225.0</td>\n",
              "      <td>steel and concrete</td>\n",
              "      <td>True</td>\n",
              "      <td>henry viiis wine cellar palace whitehall built...</td>\n",
              "      <td>what was the palace of whitehall built with in...</td>\n",
              "      <td>IMPOSSIBLE</td>\n",
              "      <td>0</td>\n",
              "      <td>-1</td>\n",
              "      <td>(-1, -1)</td>\n",
              "      <td>(-1, -1)</td>\n",
              "    </tr>\n",
              "  </tbody>\n",
              "</table>\n",
              "</div>"
            ],
            "text/plain": [
              "                                    title  ... answer_word_span\n",
              "611  Ministry_of_Defence_(United_Kingdom)  ...         (-1, -1)\n",
              "\n",
              "[1 rows x 16 columns]"
            ]
          },
          "metadata": {
            "tags": []
          },
          "execution_count": 51
        }
      ]
    },
    {
      "cell_type": "code",
      "metadata": {
        "id": "PHK2TaOho-9j",
        "colab_type": "code",
        "colab": {
          "base_uri": "https://localhost:8080/",
          "height": 374
        },
        "outputId": "16d1f6cc-b7cb-4861-d519-9152905168cf"
      },
      "source": [
        "# preds = getpred(test,y_pred)\n",
        "# qid_to_has_ans = make_qid_to_has_ans(test)  # maps qid to True/False\n",
        "# has_ans_qids = [k for k, v in qid_to_has_ans.items() if v]\n",
        "# no_ans_qids = [k for k, v in qid_to_has_ans.items() if not v]\n",
        "exact_raw, f1_raw,exact_scores_pa,f1_scores_pa = get_raw_scores(test, y_pred)\n",
        "pprint.pprint(exact_raw)\n",
        "pprint.pprint(f1_raw)\n",
        "pprint.pprint(exact_scores_pa)\n",
        "pprint.pprint(f1_scores_pa)\n",
        "exact, f1,exact_pa, f1_pa, total = make_eval_dict(exact_raw,f1_raw,exact_scores_pa,f1_scores_pa)\n",
        "\n",
        "print(exact, f1,exact_pa, f1_pa, total)\n",
        "\n",
        "# print(test['id'].iloc[2] + ' = ', compute_f1(test['answer'].iloc[2],y_pred[2]))\n",
        "# print(test['id'].iloc[0] + ' = ', compute_f1(test['answer'].iloc[0],y_pred[2]))"
      ],
      "execution_count": null,
      "outputs": [
        {
          "output_type": "stream",
          "text": [
            "{'56f8afe39e9bad19000a031d': 1,\n",
            " '5706aa0a75f01819005e7ce8': 0,\n",
            " '5722d1770dadf01500fa1f04': 0,\n",
            " '57318afba5e9cc1400cdc01f': 1,\n",
            " '5ad168ad645df0001a2d1a12': 0}\n",
            "{'56f8afe39e9bad19000a031d': 1.0,\n",
            " '5706aa0a75f01819005e7ce8': 0.9090909090909091,\n",
            " '5722d1770dadf01500fa1f04': 0,\n",
            " '57318afba5e9cc1400cdc01f': 1.0,\n",
            " '5ad168ad645df0001a2d1a12': 0}\n",
            "{'56f8afe39e9bad19000a031d': 0,\n",
            " '5706aa0a75f01819005e7ce8': 0,\n",
            " '5722d1770dadf01500fa1f04': 0,\n",
            " '57318afba5e9cc1400cdc01f': 0,\n",
            " '5ad168ad645df0001a2d1a12': 1}\n",
            "{'56f8afe39e9bad19000a031d': 0,\n",
            " '5706aa0a75f01819005e7ce8': 0,\n",
            " '5722d1770dadf01500fa1f04': 0,\n",
            " '57318afba5e9cc1400cdc01f': 0,\n",
            " '5ad168ad645df0001a2d1a12': 1.0}\n",
            "40.0 58.18181818181819 20.0 20.0 5\n"
          ],
          "name": "stdout"
        }
      ]
    },
    {
      "cell_type": "markdown",
      "metadata": {
        "id": "BVPxnPRWWJ1V",
        "colab_type": "text"
      },
      "source": [
        "# Evaluations"
      ]
    },
    {
      "cell_type": "markdown",
      "metadata": {
        "id": "AIVrjx6YNTsi",
        "colab_type": "text"
      },
      "source": [
        "## Import BERT pretrained from Hugging Face for QnA whole word masking"
      ]
    },
    {
      "cell_type": "code",
      "metadata": {
        "id": "OeJNCZS9NSif",
        "colab_type": "code",
        "colab": {
          "base_uri": "https://localhost:8080/",
          "height": 360
        },
        "outputId": "53e1ffaa-ed5c-423e-dcc6-13373b00d916"
      },
      "source": [
        "!pip install transformers"
      ],
      "execution_count": 43,
      "outputs": [
        {
          "output_type": "stream",
          "text": [
            "Requirement already satisfied: transformers in /usr/local/lib/python3.6/dist-packages (3.0.2)\n",
            "Requirement already satisfied: sentencepiece!=0.1.92 in /usr/local/lib/python3.6/dist-packages (from transformers) (0.1.91)\n",
            "Requirement already satisfied: packaging in /usr/local/lib/python3.6/dist-packages (from transformers) (20.4)\n",
            "Requirement already satisfied: sacremoses in /usr/local/lib/python3.6/dist-packages (from transformers) (0.0.43)\n",
            "Requirement already satisfied: tokenizers==0.8.1.rc1 in /usr/local/lib/python3.6/dist-packages (from transformers) (0.8.1rc1)\n",
            "Requirement already satisfied: tqdm>=4.27 in /usr/local/lib/python3.6/dist-packages (from transformers) (4.41.1)\n",
            "Requirement already satisfied: numpy in /usr/local/lib/python3.6/dist-packages (from transformers) (1.18.5)\n",
            "Requirement already satisfied: filelock in /usr/local/lib/python3.6/dist-packages (from transformers) (3.0.12)\n",
            "Requirement already satisfied: requests in /usr/local/lib/python3.6/dist-packages (from transformers) (2.23.0)\n",
            "Requirement already satisfied: dataclasses; python_version < \"3.7\" in /usr/local/lib/python3.6/dist-packages (from transformers) (0.7)\n",
            "Requirement already satisfied: regex!=2019.12.17 in /usr/local/lib/python3.6/dist-packages (from transformers) (2019.12.20)\n",
            "Requirement already satisfied: pyparsing>=2.0.2 in /usr/local/lib/python3.6/dist-packages (from packaging->transformers) (2.4.7)\n",
            "Requirement already satisfied: six in /usr/local/lib/python3.6/dist-packages (from packaging->transformers) (1.12.0)\n",
            "Requirement already satisfied: click in /usr/local/lib/python3.6/dist-packages (from sacremoses->transformers) (7.1.2)\n",
            "Requirement already satisfied: joblib in /usr/local/lib/python3.6/dist-packages (from sacremoses->transformers) (0.15.1)\n",
            "Requirement already satisfied: certifi>=2017.4.17 in /usr/local/lib/python3.6/dist-packages (from requests->transformers) (2020.6.20)\n",
            "Requirement already satisfied: urllib3!=1.25.0,!=1.25.1,<1.26,>=1.21.1 in /usr/local/lib/python3.6/dist-packages (from requests->transformers) (1.24.3)\n",
            "Requirement already satisfied: chardet<4,>=3.0.2 in /usr/local/lib/python3.6/dist-packages (from requests->transformers) (3.0.4)\n",
            "Requirement already satisfied: idna<3,>=2.5 in /usr/local/lib/python3.6/dist-packages (from requests->transformers) (2.9)\n"
          ],
          "name": "stdout"
        }
      ]
    },
    {
      "cell_type": "code",
      "metadata": {
        "id": "nlmI9YDNNxrd",
        "colab_type": "code",
        "colab": {
          "base_uri": "https://localhost:8080/",
          "height": 105
        },
        "outputId": "6fc509b8-05cc-4f30-f434-d179b6534d8a"
      },
      "source": [
        "from transformers import BertTokenizer, TFBertForQuestionAnswering\n",
        "\n",
        "berthugtokenizer = BertTokenizer.from_pretrained('bert-large-uncased-whole-word-masking-finetuned-squad')\n",
        "berthugmodel = TFBertForQuestionAnswering.from_pretrained(\"bert-large-uncased-whole-word-masking-finetuned-squad\")"
      ],
      "execution_count": 44,
      "outputs": [
        {
          "output_type": "stream",
          "text": [
            "All model checkpoint weights were used when initializing TFBertForQuestionAnswering.\n",
            "\n",
            "All the weights of TFBertForQuestionAnswering were initialized from the model checkpoint at bert-large-uncased-whole-word-masking-finetuned-squad.\n",
            "If your task is similar to the task the model of the ckeckpoint was trained on, you can already use TFBertForQuestionAnswering for predictions without further training.\n"
          ],
          "name": "stderr"
        }
      ]
    },
    {
      "cell_type": "code",
      "metadata": {
        "id": "FV04yElJPeze",
        "colab_type": "code",
        "colab": {
          "base_uri": "https://localhost:8080/",
          "height": 221
        },
        "outputId": "1f70b1b3-f2d4-4645-a318-7baf0801fe2e"
      },
      "source": [
        "berthugmodel.summary()"
      ],
      "execution_count": 45,
      "outputs": [
        {
          "output_type": "stream",
          "text": [
            "Model: \"tf_bert_for_question_answering\"\n",
            "_________________________________________________________________\n",
            "Layer (type)                 Output Shape              Param #   \n",
            "=================================================================\n",
            "bert (TFBertMainLayer)       multiple                  335141888 \n",
            "_________________________________________________________________\n",
            "qa_outputs (Dense)           multiple                  2050      \n",
            "=================================================================\n",
            "Total params: 335,143,938\n",
            "Trainable params: 335,143,938\n",
            "Non-trainable params: 0\n",
            "_________________________________________________________________\n"
          ],
          "name": "stdout"
        }
      ]
    },
    {
      "cell_type": "code",
      "metadata": {
        "id": "lI_FkpHkPKms",
        "colab_type": "code",
        "colab": {}
      },
      "source": [
        "def predBERTHuggingface(question, context):  \n",
        "  input_dict = berthugtokenizer(question, context, return_tensors='tf')\n",
        "  start_scores, end_scores = berthugmodel(input_dict)\n",
        "  all_tokens = berthugtokenizer.convert_ids_to_tokens(input_dict[\"input_ids\"].numpy()[0])\n",
        "  # print(all_tokens)\n",
        "  answer = ' '.join(all_tokens[tf.math.argmax(start_scores, 1)[0] : tf.math.argmax(end_scores, 1)[0]+1])\n",
        "  # print(answer)\n",
        "  # Find the tokens with the highest `start` and `end` scores.\n",
        "  answer_start = np.argmax(start_scores)\n",
        "  answer_end = np.argmax(end_scores)\n",
        "  # Combine the tokens in the answer and print it out.\n",
        "  answer = ' '.join(all_tokens[answer_start:answer_end+1])\n",
        "  # Start with the first token.\n",
        "  answer = all_tokens[answer_start]\n",
        "\n",
        "  # Select the remaining answer tokens and join them with whitespace.\n",
        "  for i in range(answer_start + 1, answer_end + 1):      \n",
        "      # If it's a subword token, then recombine it with the previous token.\n",
        "      if all_tokens[i][0:2] == '##':\n",
        "          answer += all_tokens[i][2:]    \n",
        "      # Otherwise, add a space then the token.\n",
        "      else:\n",
        "          answer += ' ' + all_tokens[i]\n",
        "\n",
        "  return answer "
      ],
      "execution_count": 46,
      "outputs": []
    },
    {
      "cell_type": "code",
      "metadata": {
        "id": "udQXeS9CPVa3",
        "colab_type": "code",
        "colab": {
          "base_uri": "https://localhost:8080/",
          "height": 34
        },
        "outputId": "80f0e450-ecb6-4537-8580-4f10deb3bf96"
      },
      "source": [
        "import textwrap\n",
        "wrapper = textwrap.TextWrapper(width=80) \n",
        "# print(wrapper.fill(cnndf['context'].iloc[0]))\n",
        "q1, c1  = \"what was the death toll\", \"With a record 15968 coronavirus cases reported in the past 24 hours,the total count in India crossed the 4.5 lakh mark. The death toll has gone up to 14476\"\n",
        "q2, c2 = 'how many cases in mumbai', 'Delhi, which already is the second worst hit state in terms of coronavirus caseload and fatalities, overtook Mumbai after the number of cases soared by 3788 to touch 70390. Mumbai has so far recorded 69625 cases, according to official figures.'\n",
        "\n",
        "# input_dict = berthugtokenizer(text=[q1,q2],text_pair =[c1,c2],is_pretokenized=True, return_tensors='tf')\n",
        "# print(input_dict)\n",
        "\n",
        "# input_dict_noar = berthugtokenizer(q2,c2, return_tensors='tf')\n",
        "# print(input_dict_noar)\n",
        "\n",
        "\n",
        "# all_tokens = berthugtokenizer.convert_ids_to_tokens(input_dict[\"input_ids\"][0])\n",
        "# print(all_tokens)\n",
        "\n",
        "# all_tokens = berthugtokenizer.convert_ids_to_tokens(input_dict_noar[\"input_ids\"][0])\n",
        "# print(all_tokens)\n",
        "\n",
        "print(predBERTHuggingface(q1,c1))\n"
      ],
      "execution_count": 47,
      "outputs": [
        {
          "output_type": "stream",
          "text": [
            "14476\n"
          ],
          "name": "stdout"
        }
      ]
    },
    {
      "cell_type": "code",
      "metadata": {
        "id": "Y3OYR2U5Tnhs",
        "colab_type": "code",
        "colab": {
          "base_uri": "https://localhost:8080/",
          "height": 1000
        },
        "outputId": "84088ed0-d8e4-474d-92ba-0db1a0cd8251"
      },
      "source": [
        "# bert_pred=pd.DataFrame(columns=['c','q','true','pred'])\n",
        "test = load_test_data(name='test-withstopwordspunct.csv')\n",
        "bert_h_pred = test[['id','context','question','answer','plausible_answer']].copy()\n",
        "preds = []\n",
        "strategy = tf.distribute.MirroredStrategy()\n",
        "# a better way is to batch its and tokenize \n",
        "# for a batch a record at a time and do inference \n",
        "# I was able to do for deeppavlov, for hugginface I felt lazy\n",
        "with strategy.scope():\n",
        "  for i in tqdm(range(test.shape[0])):\n",
        "    try:\n",
        "      p = ''\n",
        "      p = predBERTHuggingface(test['question'].iloc[i],test['context'].iloc[i])\n",
        "    except:\n",
        "      print('error in prediction')\n",
        "    preds = preds + [p]\n",
        "\n",
        "bert_h_pred['prediction'] = preds\n",
        "\n",
        "bert_h_pred.head()\n",
        "# remove na pls\n",
        "bert_h_pred.loc[bert_h_pred['prediction'].isna(), 'prediction'] = ''\n",
        "bert_h_pred.to_csv(model_path + 'bert/bert-huggingface-results.csv')"
      ],
      "execution_count": null,
      "outputs": [
        {
          "output_type": "stream",
          "text": [
            "(26062, 16)\n",
            "INFO:tensorflow:Using MirroredStrategy with devices ('/job:localhost/replica:0/task:0/device:GPU:0',)\n"
          ],
          "name": "stdout"
        },
        {
          "output_type": "stream",
          "text": [
            "  0%|          | 73/26062 [00:22<2:12:52,  3.26it/s]Token indices sequence length is longer than the specified maximum sequence length for this model (14 > 512). Running this sequence through the model will result in indexing errors\n"
          ],
          "name": "stderr"
        },
        {
          "output_type": "stream",
          "text": [
            "error in prediction\n"
          ],
          "name": "stdout"
        },
        {
          "output_type": "stream",
          "text": [
            "  0%|          | 119/26062 [00:36<2:15:50,  3.18it/s]Token indices sequence length is longer than the specified maximum sequence length for this model (11 > 512). Running this sequence through the model will result in indexing errors\n"
          ],
          "name": "stderr"
        },
        {
          "output_type": "stream",
          "text": [
            "error in prediction\n"
          ],
          "name": "stdout"
        },
        {
          "output_type": "stream",
          "text": [
            "  3%|▎         | 723/26062 [03:44<2:14:36,  3.14it/s]Token indices sequence length is longer than the specified maximum sequence length for this model (29 > 512). Running this sequence through the model will result in indexing errors\n"
          ],
          "name": "stderr"
        },
        {
          "output_type": "stream",
          "text": [
            "error in prediction\n"
          ],
          "name": "stdout"
        },
        {
          "output_type": "stream",
          "text": [
            "  3%|▎         | 732/26062 [03:47<2:10:45,  3.23it/s]Token indices sequence length is longer than the specified maximum sequence length for this model (10 > 512). Running this sequence through the model will result in indexing errors\n"
          ],
          "name": "stderr"
        },
        {
          "output_type": "stream",
          "text": [
            "error in prediction\n"
          ],
          "name": "stdout"
        },
        {
          "output_type": "stream",
          "text": [
            "  4%|▎         | 932/26062 [04:49<2:13:24,  3.14it/s]Token indices sequence length is longer than the specified maximum sequence length for this model (8 > 512). Running this sequence through the model will result in indexing errors\n"
          ],
          "name": "stderr"
        },
        {
          "output_type": "stream",
          "text": [
            "error in prediction\n"
          ],
          "name": "stdout"
        },
        {
          "output_type": "stream",
          "text": [
            "  4%|▍         | 1004/26062 [05:12<2:12:01,  3.16it/s]Token indices sequence length is longer than the specified maximum sequence length for this model (12 > 512). Running this sequence through the model will result in indexing errors\n"
          ],
          "name": "stderr"
        },
        {
          "output_type": "stream",
          "text": [
            "error in prediction\n"
          ],
          "name": "stdout"
        },
        {
          "output_type": "stream",
          "text": [
            "  6%|▌         | 1536/26062 [07:59<2:07:52,  3.20it/s]Token indices sequence length is longer than the specified maximum sequence length for this model (9 > 512). Running this sequence through the model will result in indexing errors\n"
          ],
          "name": "stderr"
        },
        {
          "output_type": "stream",
          "text": [
            "error in prediction\n"
          ],
          "name": "stdout"
        },
        {
          "output_type": "stream",
          "text": [
            " 12%|█▏        | 3185/26062 [16:36<2:00:35,  3.16it/s]Token indices sequence length is longer than the specified maximum sequence length for this model (17 > 512). Running this sequence through the model will result in indexing errors\n"
          ],
          "name": "stderr"
        },
        {
          "output_type": "stream",
          "text": [
            "error in prediction\n"
          ],
          "name": "stdout"
        },
        {
          "output_type": "stream",
          "text": [
            " 21%|██        | 5469/26062 [28:36<1:49:41,  3.13it/s]Token indices sequence length is longer than the specified maximum sequence length for this model (8 > 512). Running this sequence through the model will result in indexing errors\n"
          ],
          "name": "stderr"
        },
        {
          "output_type": "stream",
          "text": [
            "error in prediction\n"
          ],
          "name": "stdout"
        },
        {
          "output_type": "stream",
          "text": [
            " 21%|██▏       | 5580/26062 [29:11<1:46:09,  3.22it/s]Token indices sequence length is longer than the specified maximum sequence length for this model (13 > 512). Running this sequence through the model will result in indexing errors\n"
          ],
          "name": "stderr"
        },
        {
          "output_type": "stream",
          "text": [
            "error in prediction\n"
          ],
          "name": "stdout"
        },
        {
          "output_type": "stream",
          "text": [
            " 23%|██▎       | 5994/26062 [31:21<1:46:25,  3.14it/s]Token indices sequence length is longer than the specified maximum sequence length for this model (14 > 512). Running this sequence through the model will result in indexing errors\n",
            "Token indices sequence length is longer than the specified maximum sequence length for this model (16 > 512). Running this sequence through the model will result in indexing errors\n"
          ],
          "name": "stderr"
        },
        {
          "output_type": "stream",
          "text": [
            "error in prediction\n",
            "error in prediction\n"
          ],
          "name": "stdout"
        },
        {
          "output_type": "stream",
          "text": [
            " 28%|██▊       | 7218/26062 [37:46<1:38:18,  3.19it/s]Token indices sequence length is longer than the specified maximum sequence length for this model (10 > 512). Running this sequence through the model will result in indexing errors\n"
          ],
          "name": "stderr"
        },
        {
          "output_type": "stream",
          "text": [
            "error in prediction\n"
          ],
          "name": "stdout"
        },
        {
          "output_type": "stream",
          "text": [
            " 30%|███       | 7881/26062 [41:15<1:37:11,  3.12it/s]Token indices sequence length is longer than the specified maximum sequence length for this model (10 > 512). Running this sequence through the model will result in indexing errors\n"
          ],
          "name": "stderr"
        },
        {
          "output_type": "stream",
          "text": [
            "error in prediction\n"
          ],
          "name": "stdout"
        },
        {
          "output_type": "stream",
          "text": [
            " 35%|███▍      | 9047/26062 [47:24<1:27:16,  3.25it/s]Token indices sequence length is longer than the specified maximum sequence length for this model (12 > 512). Running this sequence through the model will result in indexing errors\n"
          ],
          "name": "stderr"
        },
        {
          "output_type": "stream",
          "text": [
            "error in prediction\n"
          ],
          "name": "stdout"
        },
        {
          "output_type": "stream",
          "text": [
            " 35%|███▍      | 9098/26062 [47:40<1:29:16,  3.17it/s]Token indices sequence length is longer than the specified maximum sequence length for this model (13 > 512). Running this sequence through the model will result in indexing errors\n"
          ],
          "name": "stderr"
        },
        {
          "output_type": "stream",
          "text": [
            "error in prediction\n"
          ],
          "name": "stdout"
        },
        {
          "output_type": "stream",
          "text": [
            " 36%|███▌      | 9254/26062 [48:28<1:28:01,  3.18it/s]Token indices sequence length is longer than the specified maximum sequence length for this model (11 > 512). Running this sequence through the model will result in indexing errors\n"
          ],
          "name": "stderr"
        },
        {
          "output_type": "stream",
          "text": [
            "error in prediction\n"
          ],
          "name": "stdout"
        },
        {
          "output_type": "stream",
          "text": [
            " 36%|███▌      | 9278/26062 [48:36<1:27:24,  3.20it/s]Token indices sequence length is longer than the specified maximum sequence length for this model (9 > 512). Running this sequence through the model will result in indexing errors\n"
          ],
          "name": "stderr"
        },
        {
          "output_type": "stream",
          "text": [
            "error in prediction\n"
          ],
          "name": "stdout"
        },
        {
          "output_type": "stream",
          "text": [
            " 38%|███▊      | 9914/26062 [51:56<1:24:25,  3.19it/s]Token indices sequence length is longer than the specified maximum sequence length for this model (11 > 512). Running this sequence through the model will result in indexing errors\n"
          ],
          "name": "stderr"
        },
        {
          "output_type": "stream",
          "text": [
            "error in prediction\n"
          ],
          "name": "stdout"
        },
        {
          "output_type": "stream",
          "text": [
            " 39%|███▉      | 10255/26062 [53:43<1:21:21,  3.24it/s]Token indices sequence length is longer than the specified maximum sequence length for this model (10 > 512). Running this sequence through the model will result in indexing errors\n"
          ],
          "name": "stderr"
        },
        {
          "output_type": "stream",
          "text": [
            "error in prediction\n"
          ],
          "name": "stdout"
        },
        {
          "output_type": "stream",
          "text": [
            " 43%|████▎     | 11095/26062 [58:08<1:19:14,  3.15it/s]Token indices sequence length is longer than the specified maximum sequence length for this model (8 > 512). Running this sequence through the model will result in indexing errors\n"
          ],
          "name": "stderr"
        },
        {
          "output_type": "stream",
          "text": [
            "error in prediction\n"
          ],
          "name": "stdout"
        },
        {
          "output_type": "stream",
          "text": [
            " 44%|████▍     | 11562/26062 [1:00:36<1:15:46,  3.19it/s]Token indices sequence length is longer than the specified maximum sequence length for this model (12 > 512). Running this sequence through the model will result in indexing errors\n"
          ],
          "name": "stderr"
        },
        {
          "output_type": "stream",
          "text": [
            "error in prediction\n"
          ],
          "name": "stdout"
        },
        {
          "output_type": "stream",
          "text": [
            " 45%|████▍     | 11679/26062 [1:01:12<1:15:38,  3.17it/s]Token indices sequence length is longer than the specified maximum sequence length for this model (13 > 512). Running this sequence through the model will result in indexing errors\n"
          ],
          "name": "stderr"
        },
        {
          "output_type": "stream",
          "text": [
            "error in prediction\n"
          ],
          "name": "stdout"
        },
        {
          "output_type": "stream",
          "text": [
            " 47%|████▋     | 12220/26062 [1:04:04<1:15:08,  3.07it/s]Token indices sequence length is longer than the specified maximum sequence length for this model (17 > 512). Running this sequence through the model will result in indexing errors\n"
          ],
          "name": "stderr"
        },
        {
          "output_type": "stream",
          "text": [
            "error in prediction\n"
          ],
          "name": "stdout"
        },
        {
          "output_type": "stream",
          "text": [
            " 47%|████▋     | 12287/26062 [1:04:25<1:13:52,  3.11it/s]Token indices sequence length is longer than the specified maximum sequence length for this model (11 > 512). Running this sequence through the model will result in indexing errors\n"
          ],
          "name": "stderr"
        },
        {
          "output_type": "stream",
          "text": [
            "error in prediction\n"
          ],
          "name": "stdout"
        },
        {
          "output_type": "stream",
          "text": [
            " 48%|████▊     | 12600/26062 [1:06:04<1:10:50,  3.17it/s]Token indices sequence length is longer than the specified maximum sequence length for this model (15 > 512). Running this sequence through the model will result in indexing errors\n"
          ],
          "name": "stderr"
        },
        {
          "output_type": "stream",
          "text": [
            "error in prediction\n"
          ],
          "name": "stdout"
        },
        {
          "output_type": "stream",
          "text": [
            " 49%|████▉     | 12831/26062 [1:07:17<1:10:13,  3.14it/s]Token indices sequence length is longer than the specified maximum sequence length for this model (10 > 512). Running this sequence through the model will result in indexing errors\n"
          ],
          "name": "stderr"
        },
        {
          "output_type": "stream",
          "text": [
            "error in prediction\n"
          ],
          "name": "stdout"
        },
        {
          "output_type": "stream",
          "text": [
            " 52%|█████▏    | 13671/26062 [1:11:45<1:05:41,  3.14it/s]Token indices sequence length is longer than the specified maximum sequence length for this model (7 > 512). Running this sequence through the model will result in indexing errors\n"
          ],
          "name": "stderr"
        },
        {
          "output_type": "stream",
          "text": [
            "error in prediction\n"
          ],
          "name": "stdout"
        },
        {
          "output_type": "stream",
          "text": [
            " 57%|█████▋    | 14771/26062 [1:17:33<1:00:43,  3.10it/s]Token indices sequence length is longer than the specified maximum sequence length for this model (14 > 512). Running this sequence through the model will result in indexing errors\n"
          ],
          "name": "stderr"
        },
        {
          "output_type": "stream",
          "text": [
            "error in prediction\n"
          ],
          "name": "stdout"
        },
        {
          "output_type": "stream",
          "text": [
            " 67%|██████▋   | 17403/26062 [1:31:31<45:49,  3.15it/s]Token indices sequence length is longer than the specified maximum sequence length for this model (7 > 512). Running this sequence through the model will result in indexing errors\n"
          ],
          "name": "stderr"
        },
        {
          "output_type": "stream",
          "text": [
            "error in prediction\n"
          ],
          "name": "stdout"
        },
        {
          "output_type": "stream",
          "text": [
            " 71%|███████   | 18395/26062 [1:36:46<40:15,  3.17it/s]Token indices sequence length is longer than the specified maximum sequence length for this model (24 > 512). Running this sequence through the model will result in indexing errors\n"
          ],
          "name": "stderr"
        },
        {
          "output_type": "stream",
          "text": [
            "error in prediction\n"
          ],
          "name": "stdout"
        },
        {
          "output_type": "stream",
          "text": [
            " 72%|███████▏  | 18670/26062 [1:38:13<39:11,  3.14it/s]Token indices sequence length is longer than the specified maximum sequence length for this model (8 > 512). Running this sequence through the model will result in indexing errors\n"
          ],
          "name": "stderr"
        },
        {
          "output_type": "stream",
          "text": [
            "error in prediction\n"
          ],
          "name": "stdout"
        },
        {
          "output_type": "stream",
          "text": [
            " 72%|███████▏  | 18715/26062 [1:38:27<38:29,  3.18it/s]Token indices sequence length is longer than the specified maximum sequence length for this model (12 > 512). Running this sequence through the model will result in indexing errors\n"
          ],
          "name": "stderr"
        },
        {
          "output_type": "stream",
          "text": [
            "error in prediction\n"
          ],
          "name": "stdout"
        },
        {
          "output_type": "stream",
          "text": [
            " 73%|███████▎  | 18950/26062 [1:39:42<38:23,  3.09it/s]Token indices sequence length is longer than the specified maximum sequence length for this model (9 > 512). Running this sequence through the model will result in indexing errors\n"
          ],
          "name": "stderr"
        },
        {
          "output_type": "stream",
          "text": [
            "error in prediction\n"
          ],
          "name": "stdout"
        },
        {
          "output_type": "stream",
          "text": [
            " 73%|███████▎  | 19134/26062 [1:40:40<36:43,  3.14it/s]Token indices sequence length is longer than the specified maximum sequence length for this model (12 > 512). Running this sequence through the model will result in indexing errors\n"
          ],
          "name": "stderr"
        },
        {
          "output_type": "stream",
          "text": [
            "error in prediction\n"
          ],
          "name": "stdout"
        },
        {
          "output_type": "stream",
          "text": [
            " 78%|███████▊  | 20266/26062 [1:46:38<30:31,  3.16it/s]Token indices sequence length is longer than the specified maximum sequence length for this model (6 > 512). Running this sequence through the model will result in indexing errors\n"
          ],
          "name": "stderr"
        },
        {
          "output_type": "stream",
          "text": [
            "error in prediction\n"
          ],
          "name": "stdout"
        },
        {
          "output_type": "stream",
          "text": [
            " 79%|███████▉  | 20624/26062 [1:48:31<28:44,  3.15it/s]Token indices sequence length is longer than the specified maximum sequence length for this model (10 > 512). Running this sequence through the model will result in indexing errors\n"
          ],
          "name": "stderr"
        },
        {
          "output_type": "stream",
          "text": [
            "error in prediction\n"
          ],
          "name": "stdout"
        },
        {
          "output_type": "stream",
          "text": [
            " 79%|███████▉  | 20714/26062 [1:49:00<28:14,  3.16it/s]Token indices sequence length is longer than the specified maximum sequence length for this model (11 > 512). Running this sequence through the model will result in indexing errors\n"
          ],
          "name": "stderr"
        },
        {
          "output_type": "stream",
          "text": [
            "error in prediction\n"
          ],
          "name": "stdout"
        },
        {
          "output_type": "stream",
          "text": [
            " 85%|████████▍ | 22055/26062 [1:56:05<21:22,  3.13it/s]Token indices sequence length is longer than the specified maximum sequence length for this model (11 > 512). Running this sequence through the model will result in indexing errors\n"
          ],
          "name": "stderr"
        },
        {
          "output_type": "stream",
          "text": [
            "error in prediction\n"
          ],
          "name": "stdout"
        },
        {
          "output_type": "stream",
          "text": [
            " 88%|████████▊ | 22932/26062 [2:00:44<16:13,  3.22it/s]Token indices sequence length is longer than the specified maximum sequence length for this model (10 > 512). Running this sequence through the model will result in indexing errors\n"
          ],
          "name": "stderr"
        },
        {
          "output_type": "stream",
          "text": [
            "error in prediction\n"
          ],
          "name": "stdout"
        },
        {
          "output_type": "stream",
          "text": [
            " 94%|█████████▍| 24594/26062 [2:09:35<07:40,  3.19it/s]Token indices sequence length is longer than the specified maximum sequence length for this model (10 > 512). Running this sequence through the model will result in indexing errors\n"
          ],
          "name": "stderr"
        },
        {
          "output_type": "stream",
          "text": [
            "error in prediction\n"
          ],
          "name": "stdout"
        },
        {
          "output_type": "stream",
          "text": [
            " 95%|█████████▍| 24642/26062 [2:09:50<07:31,  3.14it/s]Token indices sequence length is longer than the specified maximum sequence length for this model (6 > 512). Running this sequence through the model will result in indexing errors\n"
          ],
          "name": "stderr"
        },
        {
          "output_type": "stream",
          "text": [
            "error in prediction\n"
          ],
          "name": "stdout"
        },
        {
          "output_type": "stream",
          "text": [
            " 96%|█████████▌| 25079/26062 [2:12:08<05:08,  3.19it/s]Token indices sequence length is longer than the specified maximum sequence length for this model (10 > 512). Running this sequence through the model will result in indexing errors\n"
          ],
          "name": "stderr"
        },
        {
          "output_type": "stream",
          "text": [
            "error in prediction\n"
          ],
          "name": "stdout"
        },
        {
          "output_type": "stream",
          "text": [
            " 97%|█████████▋| 25340/26062 [2:13:31<03:45,  3.20it/s]Token indices sequence length is longer than the specified maximum sequence length for this model (8 > 512). Running this sequence through the model will result in indexing errors\n"
          ],
          "name": "stderr"
        },
        {
          "output_type": "stream",
          "text": [
            "error in prediction\n"
          ],
          "name": "stdout"
        },
        {
          "output_type": "stream",
          "text": [
            " 99%|█████████▉| 25840/26062 [2:16:10<01:10,  3.13it/s]Token indices sequence length is longer than the specified maximum sequence length for this model (9 > 512). Running this sequence through the model will result in indexing errors\n"
          ],
          "name": "stderr"
        },
        {
          "output_type": "stream",
          "text": [
            "error in prediction\n"
          ],
          "name": "stdout"
        },
        {
          "output_type": "stream",
          "text": [
            "100%|██████████| 26062/26062 [2:17:20<00:00,  3.16it/s]\n"
          ],
          "name": "stderr"
        },
        {
          "output_type": "execute_result",
          "data": {
            "text/html": [
              "<div>\n",
              "<style scoped>\n",
              "    .dataframe tbody tr th:only-of-type {\n",
              "        vertical-align: middle;\n",
              "    }\n",
              "\n",
              "    .dataframe tbody tr th {\n",
              "        vertical-align: top;\n",
              "    }\n",
              "\n",
              "    .dataframe thead th {\n",
              "        text-align: right;\n",
              "    }\n",
              "</style>\n",
              "<table border=\"1\" class=\"dataframe\">\n",
              "  <thead>\n",
              "    <tr style=\"text-align: right;\">\n",
              "      <th></th>\n",
              "      <th>id</th>\n",
              "      <th>context</th>\n",
              "      <th>question</th>\n",
              "      <th>answer</th>\n",
              "      <th>plausible_answer</th>\n",
              "      <th>prediction</th>\n",
              "    </tr>\n",
              "  </thead>\n",
              "  <tbody>\n",
              "    <tr>\n",
              "      <th>0</th>\n",
              "      <td>5722d1770dadf01500fa1f04</td>\n",
              "      <td>Internationally, Victoria took a keen interest...</td>\n",
              "      <td>How was the House of Orleans and the British R...</td>\n",
              "      <td>by marriage through the Coburgs</td>\n",
              "      <td></td>\n",
              "      <td>by marriage through the coburgs</td>\n",
              "    </tr>\n",
              "    <tr>\n",
              "      <th>1</th>\n",
              "      <td>56f8afe39e9bad19000a031d</td>\n",
              "      <td>Southampton's largest retail centre, and 35th ...</td>\n",
              "      <td>What's the largest retail center in Southampton?</td>\n",
              "      <td>WestQuay Shopping Centre</td>\n",
              "      <td></td>\n",
              "      <td>westquay shopping centre</td>\n",
              "    </tr>\n",
              "    <tr>\n",
              "      <th>2</th>\n",
              "      <td>5706aa0a75f01819005e7ce8</td>\n",
              "      <td>Other immune system disorders include various ...</td>\n",
              "      <td>What characterizes a hypersensitivity?</td>\n",
              "      <td>respond inappropriately to otherwise harmless ...</td>\n",
              "      <td></td>\n",
              "      <td>respond inappropriately to otherwise harmless ...</td>\n",
              "    </tr>\n",
              "    <tr>\n",
              "      <th>3</th>\n",
              "      <td>57318afba5e9cc1400cdc01f</td>\n",
              "      <td>Spielberg won the Academy Award for Best Direc...</td>\n",
              "      <td>When was Jaws released?</td>\n",
              "      <td>1975</td>\n",
              "      <td></td>\n",
              "      <td>1975</td>\n",
              "    </tr>\n",
              "    <tr>\n",
              "      <th>4</th>\n",
              "      <td>5ad168ad645df0001a2d1a12</td>\n",
              "      <td>Because the rotor is much lighter in weight (m...</td>\n",
              "      <td>What advantage doesn't a coreless rotor have o...</td>\n",
              "      <td></td>\n",
              "      <td>accelerate much more rapidly</td>\n",
              "      <td>accelerate much more rapidly</td>\n",
              "    </tr>\n",
              "  </tbody>\n",
              "</table>\n",
              "</div>"
            ],
            "text/plain": [
              "                         id  ...                                         prediction\n",
              "0  5722d1770dadf01500fa1f04  ...                    by marriage through the coburgs\n",
              "1  56f8afe39e9bad19000a031d  ...                           westquay shopping centre\n",
              "2  5706aa0a75f01819005e7ce8  ...  respond inappropriately to otherwise harmless ...\n",
              "3  57318afba5e9cc1400cdc01f  ...                                               1975\n",
              "4  5ad168ad645df0001a2d1a12  ...                       accelerate much more rapidly\n",
              "\n",
              "[5 rows x 6 columns]"
            ]
          },
          "metadata": {
            "tags": []
          },
          "execution_count": 44
        }
      ]
    },
    {
      "cell_type": "markdown",
      "metadata": {
        "id": "yP13NC14X47t",
        "colab_type": "text"
      },
      "source": [
        "## Eval on test data\n",
        "\n",
        "Metrics would be F1 score micro, EM, Accuracy Score"
      ]
    },
    {
      "cell_type": "code",
      "metadata": {
        "id": "uAUtNL4tkGut",
        "colab_type": "code",
        "colab": {
          "base_uri": "https://localhost:8080/",
          "height": 493
        },
        "outputId": "b3302580-c9d4-4ec9-b1f5-e05dd0e5aee1"
      },
      "source": [
        "# test = load_test_data(name='train-withstopwordspunct.csv')\n",
        "# params = loadparams(name='params_withoutstopwords.json')\n",
        "# tokenizer = load_tokenizer(name='use')\n",
        "# showparams(params)\n",
        "# print(test.shape[0])"
      ],
      "execution_count": null,
      "outputs": [
        {
          "output_type": "stream",
          "text": [
            "(26062, 16)\n",
            "Loading Universal Sentence Encoder\n",
            "Vocab Loaded -  82505\n",
            "{'context_length_99': 285,\n",
            " 'context_max_length': 426,\n",
            " 'context_pad_seq': 'pre',\n",
            " 'embedding_size': 300,\n",
            " 'prediction.accuracy.score': 0.3322461821809531,\n",
            " 'prediction.macrof1.score': 0.011907387665813255,\n",
            " 'prediction.microf1.score': 0.25672221926414995,\n",
            " 'question_length_99': 20,\n",
            " 'question_max_length': 40,\n",
            " 'question_pad_seq': 'pre',\n",
            " 'rnn_units': 256,\n",
            " 'test_shape': [26062, 16],\n",
            " 'test_span_outofrange': 0,\n",
            " 'train_shape': [78183, 16],\n",
            " 'train_span_outofrange': 0,\n",
            " 'training.batch_size': 64,\n",
            " 'training.epochs': 25,\n",
            " 'training.train_length': 78183,\n",
            " 'training.train_steps': 1221,\n",
            " 'training.val_length': 26061,\n",
            " 'training.val_steps': 814,\n",
            " 'val_shape': [26061, 16],\n",
            " 'val_span_outofrange': 0,\n",
            " 'vocab_size': 82505}\n",
            "26062\n"
          ],
          "name": "stdout"
        }
      ]
    },
    {
      "cell_type": "code",
      "metadata": {
        "id": "c4xL4rRSV5JW",
        "colab_type": "code",
        "colab": {}
      },
      "source": [
        "strategy = tf.distribute.MirroredStrategy()\n",
        "model_results = pd.DataFrame(columns=['Model Name','F1(Ans)','EM(Ans)','F1(Plau Ans)','EM(Plau Ans)'])\n",
        "with strategy.scope():\n",
        "\n",
        "  # y_test = create_answer_sequence(test,params['context_max_length'])\n",
        "  # y_test was a list changing to numpy array\n",
        "  # y_test_fixed = np.array(y_test)\n",
        "  # compute for y_test though in this case it the max of 0 and 1 for \n",
        "  # the frist half od array size for start, and rest for end\n",
        "  # y_test_new,_,_ = combine_y(y_test_fixed,test.shape[0])\n",
        "\n",
        "  test_map = {\n",
        "      'With stopwords': load_test_data(name='test-withstopwordspunct.csv'),\n",
        "      'Without stopwords': load_test_data(name='test-withoutstopwords.csv'),\n",
        "  }\n",
        "\n",
        "  test_seq_map = {\n",
        "      'With stopwords': [],\n",
        "      'Without stopwords': []\n",
        "  }\n",
        "\n",
        "  for model in list_of_models:\n",
        "    print('Loading model ',model['name'],' from ', model['loc'])\n",
        "    if((model['type']=='BERT')):\n",
        "      # print('BERT eval will be handled separately. Skipping')\n",
        "      bert_results = pd.read_csv(model['loc'])\n",
        "      bert_results.loc[bert_results['answer'].isna(), 'answer'] = '' \n",
        "      bert_results.loc[bert_results['plausible_answer'].isna(), 'plausible_answer'] = ''\n",
        "      bert_results.loc[bert_results['prediction'].isna(), 'prediction'] = ''\n",
        "      exact_raw, f1_raw, exact_scores_pa,f1_scores_pa = get_raw_scores(bert_results, bert_results['prediction'].values.tolist())\n",
        "      exact, f1,exact_pa, f1_pa, total = make_eval_dict(exact_raw,f1_raw, exact_scores_pa,f1_scores_pa)\n",
        "      values = [model['name'],              \n",
        "                f1,\n",
        "                exact,\n",
        "                f1_pa,\n",
        "                exact_pa]\n",
        "      zipped = zip(model_results.columns, values)\n",
        "      a_dictionary = dict(zipped)\n",
        "      model_results = model_results.append(a_dictionary,ignore_index=True)   \n",
        "      continue\n",
        "    \n",
        "    if(model['type']=='With stopwords'):\n",
        "      test = test_map['With stopwords']\n",
        "      params = loadparams(name='params_withstopwords_withuse.json')\n",
        "      tokenizer = load_tokenizer(name='use')\n",
        "      if not test_seq_map['With stopwords']:\n",
        "        print('Generating question sequnce for with stopwords ...')\n",
        "        test_context_sequence, test_question_sequence = generate_question_context_sequence(context=test[\"clean_context\"].values,\n",
        "                                      question=test[\"clean_question\"].values,\n",
        "                                      question_max_length=params['question_max_length'],\n",
        "                                      padding=params['question_pad_seq'],\n",
        "                                      context_max_length=params['context_max_length']\n",
        "                                      )      \n",
        "        test_seq_map['With stopwords'] = [test_context_sequence,test_question_sequence]\n",
        "      else:\n",
        "        print('Using question sequnce for with stopwords ...')\n",
        "        test_context_sequence = test_seq_map['With stopwords'][0]\n",
        "        test_question_sequence = test_seq_map['With stopwords'][1]\n",
        "    elif(model['type']=='Without stopwords'):\n",
        "      test = test_map['Without stopwords']\n",
        "      params = loadparams(name='params_withoutstopwords.json')\n",
        "      tokenizer = load_tokenizer(name='glove')\n",
        "      if not test_seq_map['Without stopwords']:\n",
        "        print('Generating question sequnce for without stopwords ...')\n",
        "        test_context_sequence, test_question_sequence = generate_question_context_sequence(context=test[\"clean_context\"].values,\n",
        "                                      question=test[\"clean_question\"].values,\n",
        "                                      question_max_length=params['question_max_length'],\n",
        "                                      padding=params['question_pad_seq'],\n",
        "                                      context_max_length=params['context_max_length']\n",
        "                                      )      \n",
        "        test_seq_map['Without stopwords'] = [test_context_sequence,test_question_sequence]\n",
        "      else:\n",
        "        print('Using question sequnce for without stopwords ...')\n",
        "        test_context_sequence = test_seq_map['Without stopwords'][0]\n",
        "        test_question_sequence = test_seq_map['Without stopwords'][1]      \n",
        "\n",
        "    tfmodel = load_mrc_model(model['loc'])\n",
        "    print(model['name'],' model successfuly. Starting eval')\n",
        "    # tfmodel.summary()  \n",
        "    y_prediction = tfmodel.predict([test_question_sequence,test_context_sequence])\n",
        "    y_prediction_new,start_pred,end_pred = combine_y(y_prediction,test.shape[0])\n",
        "    # acc_score,macro_f1_score,micro_f1_score = accuracy_metrics(y_test_new,y_prediction_new)\n",
        "    y_pred_text = generate_y_preds_text(test,start_pred,end_pred)\n",
        "    exact_raw, f1_raw, exact_scores_pa,f1_scores_pa = get_raw_scores(test, y_pred_text)\n",
        "    exact, f1,exact_pa, f1_pa, total = make_eval_dict(exact_raw,f1_raw, exact_scores_pa,f1_scores_pa)\n",
        "    values = [model['name'],              \n",
        "              f1,\n",
        "              exact,\n",
        "              f1_pa,\n",
        "              exact_pa]\n",
        "    zipped = zip(model_results.columns, values)\n",
        "    a_dictionary = dict(zipped)\n",
        "    model_results = model_results.append(a_dictionary,ignore_index=True)   \n",
        "    del tokenizer\n",
        "    del params      \n",
        "    del y_prediction\n",
        "    del y_pred_text  \n",
        "    del start_pred\n",
        "    del end_pred\n",
        "    del tfmodel\n",
        "\n",
        "model_results.head(10)   \n",
        "model_results.to_csv(model_path + \"model_results_\" + datetime.now().strftime(\"%d-%m-%Y_%I-%M-%S_%p\") + \".csv\")"
      ],
      "execution_count": null,
      "outputs": []
    },
    {
      "cell_type": "code",
      "metadata": {
        "id": "gHx9KbHZ8pNb",
        "colab_type": "code",
        "colab": {
          "base_uri": "https://localhost:8080/",
          "height": 359
        },
        "outputId": "c0efcb31-d47a-4adc-903d-9e211688b8de"
      },
      "source": [
        "model_results"
      ],
      "execution_count": null,
      "outputs": [
        {
          "output_type": "execute_result",
          "data": {
            "text/html": [
              "<div>\n",
              "<style scoped>\n",
              "    .dataframe tbody tr th:only-of-type {\n",
              "        vertical-align: middle;\n",
              "    }\n",
              "\n",
              "    .dataframe tbody tr th {\n",
              "        vertical-align: top;\n",
              "    }\n",
              "\n",
              "    .dataframe thead th {\n",
              "        text-align: right;\n",
              "    }\n",
              "</style>\n",
              "<table border=\"1\" class=\"dataframe\">\n",
              "  <thead>\n",
              "    <tr style=\"text-align: right;\">\n",
              "      <th></th>\n",
              "      <th>Model Name</th>\n",
              "      <th>F1(Ans)</th>\n",
              "      <th>EM(Ans)</th>\n",
              "      <th>F1(Plau Ans)</th>\n",
              "      <th>EM(Plau Ans)</th>\n",
              "    </tr>\n",
              "  </thead>\n",
              "  <tbody>\n",
              "    <tr>\n",
              "      <th>0</th>\n",
              "      <td>LSTM Baseline</td>\n",
              "      <td>29.001121</td>\n",
              "      <td>28.225002</td>\n",
              "      <td>0.214623</td>\n",
              "      <td>0.053718</td>\n",
              "    </tr>\n",
              "    <tr>\n",
              "      <th>1</th>\n",
              "      <td>Deep LSTM + GloVe</td>\n",
              "      <td>26.666439</td>\n",
              "      <td>26.030236</td>\n",
              "      <td>0.276301</td>\n",
              "      <td>0.069066</td>\n",
              "    </tr>\n",
              "    <tr>\n",
              "      <th>2</th>\n",
              "      <td>Bi-LSTM + GloVe</td>\n",
              "      <td>28.021961</td>\n",
              "      <td>27.526667</td>\n",
              "      <td>0.281106</td>\n",
              "      <td>0.126621</td>\n",
              "    </tr>\n",
              "    <tr>\n",
              "      <th>3</th>\n",
              "      <td>Bi-LSTM + GloVe + Q2C Attention</td>\n",
              "      <td>33.095119</td>\n",
              "      <td>33.094160</td>\n",
              "      <td>0.000000</td>\n",
              "      <td>0.000000</td>\n",
              "    </tr>\n",
              "    <tr>\n",
              "      <th>4</th>\n",
              "      <td>Bi-LSTM + GloVe + Q2C-C2Q Attention</td>\n",
              "      <td>29.622157</td>\n",
              "      <td>29.130535</td>\n",
              "      <td>0.200039</td>\n",
              "      <td>0.069066</td>\n",
              "    </tr>\n",
              "    <tr>\n",
              "      <th>5</th>\n",
              "      <td>LSTM Baseline + Universal Sentence Encode</td>\n",
              "      <td>24.545255</td>\n",
              "      <td>22.952958</td>\n",
              "      <td>0.618575</td>\n",
              "      <td>0.099762</td>\n",
              "    </tr>\n",
              "    <tr>\n",
              "      <th>6</th>\n",
              "      <td>Bi-LSTM + Universal Sentence Encode</td>\n",
              "      <td>32.025226</td>\n",
              "      <td>31.544010</td>\n",
              "      <td>0.068411</td>\n",
              "      <td>0.023022</td>\n",
              "    </tr>\n",
              "    <tr>\n",
              "      <th>7</th>\n",
              "      <td>Bi-LSTM + Q2C Attention + Universal Sentence E...</td>\n",
              "      <td>30.695975</td>\n",
              "      <td>30.120482</td>\n",
              "      <td>0.146946</td>\n",
              "      <td>0.042207</td>\n",
              "    </tr>\n",
              "    <tr>\n",
              "      <th>8</th>\n",
              "      <td>BERT + Cased_L-12_H-768_A-12 + DeepPavlov</td>\n",
              "      <td>59.096928</td>\n",
              "      <td>51.362136</td>\n",
              "      <td>22.539289</td>\n",
              "      <td>18.179725</td>\n",
              "    </tr>\n",
              "    <tr>\n",
              "      <th>9</th>\n",
              "      <td>BERT + Uncased_L-24_H-1024_A-24 + Huggingface</td>\n",
              "      <td>57.513153</td>\n",
              "      <td>49.769780</td>\n",
              "      <td>22.158168</td>\n",
              "      <td>17.753818</td>\n",
              "    </tr>\n",
              "  </tbody>\n",
              "</table>\n",
              "</div>"
            ],
            "text/plain": [
              "                                          Model Name  ...  EM(Plau Ans)\n",
              "0                                      LSTM Baseline  ...      0.053718\n",
              "1                                  Deep LSTM + GloVe  ...      0.069066\n",
              "2                                    Bi-LSTM + GloVe  ...      0.126621\n",
              "3                    Bi-LSTM + GloVe + Q2C Attention  ...      0.000000\n",
              "4                Bi-LSTM + GloVe + Q2C-C2Q Attention  ...      0.069066\n",
              "5          LSTM Baseline + Universal Sentence Encode  ...      0.099762\n",
              "6                Bi-LSTM + Universal Sentence Encode  ...      0.023022\n",
              "7  Bi-LSTM + Q2C Attention + Universal Sentence E...  ...      0.042207\n",
              "8          BERT + Cased_L-12_H-768_A-12 + DeepPavlov  ...     18.179725\n",
              "9      BERT + Uncased_L-24_H-1024_A-24 + Huggingface  ...     17.753818\n",
              "\n",
              "[10 rows x 5 columns]"
            ]
          },
          "metadata": {
            "tags": []
          },
          "execution_count": 82
        }
      ]
    },
    {
      "cell_type": "markdown",
      "metadata": {
        "id": "XCkMUNLEFYwG",
        "colab_type": "text"
      },
      "source": [
        "## Out of domain handing \n"
      ]
    },
    {
      "cell_type": "markdown",
      "metadata": {
        "id": "bppIF0J_Fews",
        "colab_type": "text"
      },
      "source": [
        "### Different language \n"
      ]
    },
    {
      "cell_type": "markdown",
      "metadata": {
        "id": "fmEXz0ORFhIw",
        "colab_type": "text"
      },
      "source": [
        "### Totally irrelevant question given a known context from train domain"
      ]
    },
    {
      "cell_type": "markdown",
      "metadata": {
        "id": "8OOCtgDAFj-X",
        "colab_type": "text"
      },
      "source": [
        "### Totally different context say from Medicine and ask answer from it"
      ]
    },
    {
      "cell_type": "code",
      "metadata": {
        "id": "HwvNDiQRFZql",
        "colab_type": "code",
        "colab": {}
      },
      "source": [
        ""
      ],
      "execution_count": null,
      "outputs": []
    },
    {
      "cell_type": "markdown",
      "metadata": {
        "id": "WulPny3Z00mm",
        "colab_type": "text"
      },
      "source": [
        "## Eval on manual input"
      ]
    },
    {
      "cell_type": "code",
      "metadata": {
        "id": "v33J0DrkgSh6",
        "colab_type": "code",
        "colab": {
          "base_uri": "https://localhost:8080/",
          "height": 207
        },
        "outputId": "19740284-575a-4bac-a955-7b1750783af5"
      },
      "source": [
        "all_models = load_all_models()\n",
        "all_models"
      ],
      "execution_count": null,
      "outputs": [
        {
          "output_type": "stream",
          "text": [
            "Loading model  LSTM Baseline  from  /content/drive/My Drive/AIML-MRC-Capstone/models/lstmbaseline-0/full_context_withoutstopwords_model_epoch_lstmbaseline0_nomask_gpu.h5\n",
            "Loading model  Deep LSTM + GloVe  from  /content/drive/My Drive/AIML-MRC-Capstone/models/deeplstm/full_context_withoutstopwords_model_epoch_25_deeplstm_glove_nomask_gpu.h5\n",
            "Loading model  Bi-LSTM + GloVe  from  /content/drive/My Drive/AIML-MRC-Capstone/models/bilstm/full_context_withoutstopwords_model_epoch_25_bilstm_glove_nomask_gpu.h5\n",
            "Loading model  Bi-LSTM + GloVe + Q2C Attention  from  /content/drive/My Drive/AIML-MRC-Capstone/models/bilstm-q2c-attention-glove/full_context_withoutstopwords_model_epoch_25_bilstm_q2c-attention_glove.h5\n",
            "Loading model  Bi-LSTM + GloVe + Q2C-C2Q Attention  from  /content/drive/My Drive/AIML-MRC-Capstone/models/bilstm-bidaf-glove/full_context_withoutstopwords_model_epoch_25_bilstm_bidaf_glove_nomask_gpu_after_fix.h5\n"
          ],
          "name": "stdout"
        },
        {
          "output_type": "execute_result",
          "data": {
            "text/plain": [
              "{'Bi-LSTM + GloVe': <tensorflow.python.keras.engine.training.Model at 0x7fcbe0ff4da0>,\n",
              " 'Bi-LSTM + GloVe + Q2C Attention': <tensorflow.python.keras.engine.training.Model at 0x7fcbe0c5c550>,\n",
              " 'Bi-LSTM + GloVe + Q2C-C2Q Attention': <tensorflow.python.keras.engine.training.Model at 0x7fcbe0812ac8>,\n",
              " 'Deep LSTM + GloVe': <tensorflow.python.keras.engine.training.Model at 0x7fcc8058fcf8>,\n",
              " 'LSTM Baseline': <tensorflow.python.keras.engine.training.Model at 0x7fcc8070bb70>}"
            ]
          },
          "metadata": {
            "tags": []
          },
          "execution_count": 45
        }
      ]
    },
    {
      "cell_type": "code",
      "metadata": {
        "id": "mcuhAMQNrgi7",
        "colab_type": "code",
        "colab": {}
      },
      "source": [
        "del all_models"
      ],
      "execution_count": null,
      "outputs": []
    },
    {
      "cell_type": "markdown",
      "metadata": {
        "id": "R03OP9TxDc6P",
        "colab_type": "text"
      },
      "source": [
        "### TEST1"
      ]
    },
    {
      "cell_type": "code",
      "metadata": {
        "id": "XPHnb86cJdZL",
        "colab_type": "code",
        "colab": {
          "base_uri": "https://localhost:8080/",
          "height": 275
        },
        "outputId": "84dc5759-b688-48dd-94d7-8a547c00e68e"
      },
      "source": [
        "all_params = {\n",
        "    \"params_withoutstopwords\": loadparams(name='params_withoutstopwords.json'),\n",
        "    \"params_withstopwords_withuse\": loadparams(name='params_withstopwords_withuse.json')\n",
        "}\n",
        "all_tokenizers = {\n",
        "    \"glove\": load_tokenizer(all_params['params_withoutstopwords']),\n",
        "    \"use\": load_tokenizer(all_params['params_withstopwords_withuse'],'use')\n",
        "}\n",
        "all_params\n",
        "all_models = load_all_models()\n",
        "params = all_params['params_withoutstopwords']\n",
        "tokenizer = all_tokenizers['glove']"
      ],
      "execution_count": null,
      "outputs": [
        {
          "output_type": "stream",
          "text": [
            "Loading GloVe 300D\n",
            "Vocab Loaded -  100850\n",
            "Loading Universal Sentence Encoder\n",
            "Vocab Loaded -  82505\n",
            "Loading model  LSTM Baseline  from  /content/drive/My Drive/AIML-MRC-Capstone/models/lstmbaseline-0/full_context_withoutstopwords_model_epoch_lstmbaseline0_nomask_gpu.h5\n",
            "Loading model  Deep LSTM + GloVe  from  /content/drive/My Drive/AIML-MRC-Capstone/models/deeplstm/full_context_withoutstopwords_model_epoch_25_deeplstm_glove_nomask_gpu.h5\n",
            "Loading model  Bi-LSTM + GloVe  from  /content/drive/My Drive/AIML-MRC-Capstone/models/bilstm/full_context_withoutstopwords_model_epoch_25_bilstm_glove_nomask_gpu.h5\n",
            "Loading model  Bi-LSTM + GloVe + Q2C Attention  from  /content/drive/My Drive/AIML-MRC-Capstone/models/bilstm-q2c-attention-glove/full_context_withoutstopwords_model_epoch_25_bilstm_q2c-attention_glove.h5\n",
            "Loading model  Bi-LSTM + GloVe + Q2C-C2Q Attention  from  /content/drive/My Drive/AIML-MRC-Capstone/models/bilstm-bidaf-glove/full_context_withoutstopwords_model_epoch_25_bilstm_bidaf_glove_nomask_gpu_after_fix.h5\n",
            "Loading model  LSTM Baseline + Universal Sentence Encode  from  /content/drive/My Drive/AIML-MRC-Capstone/models/lstmbaseline-use-withstop/full_context_withstopwords_model_epoch_25_lstmbaseline0_nomask_gpu.h5\n",
            "Loading model  Bi-LSTM + Universal Sentence Encode  from  /content/drive/My Drive/AIML-MRC-Capstone/models/bilstm-use-withstop/full_context_withstopwords_model_epoch_25_bilstm_use_nomask_gpu.h5\n",
            "Loading model  Bi-LSTM + Q2C Attention + Universal Sentence Encode  from  /content/drive/My Drive/AIML-MRC-Capstone/models/bilstm-q2c-attention-use-withstop/full_context_withstopwords_model_epoch_25_bilstm_q2c-attention_use.h5\n",
            "Loading model  BERT + Cased_L-12_H-768_A-12 + DeepPavlov  from  /content/drive/My Drive/AIML-MRC-Capstone/models/bert/bert-results.csv\n",
            "BERT is WIP !!\n"
          ],
          "name": "stdout"
        }
      ]
    },
    {
      "cell_type": "code",
      "metadata": {
        "id": "mSw9oBmEc_BR",
        "colab_type": "code",
        "colab": {
          "base_uri": "https://localhost:8080/",
          "height": 35
        },
        "outputId": "9817088c-1636-4a61-8ca0-43e371321aeb"
      },
      "source": [
        "test[test['id']=='57318afba5e9cc1400cdc01f']['question'].iloc[0]"
      ],
      "execution_count": null,
      "outputs": [
        {
          "output_type": "execute_result",
          "data": {
            "application/vnd.google.colaboratory.intrinsic": {
              "type": "string"
            },
            "text/plain": [
              "'When was Jaws released?'"
            ]
          },
          "metadata": {
            "tags": []
          },
          "execution_count": 49
        }
      ]
    },
    {
      "cell_type": "code",
      "metadata": {
        "id": "tTNhlpswRbMW",
        "colab_type": "code",
        "colab": {
          "base_uri": "https://localhost:8080/",
          "height": 963
        },
        "outputId": "59061f79-2aed-4538-9841-895f1ccc7e51"
      },
      "source": [
        "c1='Spielberg born on 1993. Three of Spielbergs films Jaws released on 1975, E.T. the Extra-Terrestrial (1982), and Jurassic Park (1993)—achieved box office records, originated and came to epitomize the blockbuster film. The unadjusted gross of all Spielberg-directed films exceeds $9 billion worldwide, making him the highest-grossing director in history. His personal net worth is estimated to be more than $3 billion. He has been associated with composer John Williams since 1974, who composed music for all save five of Spielbergs feature films.'\n",
        "q1='when was jaws released'\n",
        "\n",
        "cs = [c1]\n",
        "qs = [q1]\n",
        "# c_,q_,span,y_,answer = predit_test(test['context'].iloc[39],test['question'].iloc[39])\n",
        "df = pd.DataFrame(columns=[\"Model\",\"Context\", \"Question\",\"Predicted Ans\"])\n",
        "# for m in all_models:\n",
        "m = 'Bi-LSTM + GloVe + Q2C Attention'\n",
        "c_,q_,span,y_,answer = predit_test(cs,qs, all_models[m], params=params)\n",
        "print('Prediction for model - ', m)\n",
        "for i in range(len(cs)):    \n",
        "  values = [m,cs[i],qs[i],answer[i]]\n",
        "  zipped = zip(df.columns, values)\n",
        "  a_dictionary = dict(zipped)\n",
        "  df = df.append(a_dictionary,ignore_index=True)     \n",
        "\n",
        "df"
      ],
      "execution_count": null,
      "outputs": [
        {
          "output_type": "stream",
          "text": [
            "[[    0     0     0     0     0     0     0     0     0     0     0     0\n",
            "      0     0     0     0     0     0     0     0     0     0     0     0\n",
            "      0     0     0     0     0     0     0     0     0     0     0     0\n",
            "      0     0     0     0     0     0     0     0     0     0     0     0\n",
            "      0     0     0     0     0     0     0     0     0     0     0     0\n",
            "      0     0     0     0     0     0     0     0     0     0     0     0\n",
            "      0     0     0     0     0     0     0     0     0     0     0     0\n",
            "      0     0     0     0     0     0     0     0     0     0     0     0\n",
            "      0     0     0     0     0     0     0     0     0     0     0     0\n",
            "      0     0     0     0     0     0     0     0     0     0     0     0\n",
            "      0     0     0     0     0     0     0     0     0     0     0     0\n",
            "      0     0     0     0     0     0     0     0     0     0     0     0\n",
            "      0     0     0     0     0     0     0     0     0     0     0     0\n",
            "      0     0     0     0     0     0     0     0     0     0     0     0\n",
            "      0     0     0     0     0     0     0     0     0     0     0     0\n",
            "      0     0     0     0     0     0     0     0     0     0     0     0\n",
            "      0     0     0     0     0     0     0     0     0     0     0     0\n",
            "      0     0     0     0     0     0     0     0     0     0     0     0\n",
            "      0     0     0     0     0     0     0     0     0     0     0     0\n",
            "      0     0     0     0     0     0     0     0     0     0     0     0\n",
            "      0     0     0     0     0     0     0     0     0     0     0     0\n",
            "      0     0     0     0     0     0     0     0     0     0     0     0\n",
            "      0     0     0     0     0     0     0     0     0     0     0     0\n",
            "      0     0     0     0     0     0     0     0     0     0     0     0\n",
            "      0     0     0     0     0     0     0     0     0     0     0     0\n",
            "      0     0     0     0     0     0     0     0     0     0     0     0\n",
            "      0     0     0     0     0     0     0     0     0     0     0     0\n",
            "      0     0     0     0     0     0     0     0     0     0     0     0\n",
            "      0     0     0     0     0     0  1605   842   138  2155    51     3\n",
            "   4922   775  7170   238   138  2861   191 20474     1 11603  2687    66\n",
            "   4304   397  2155  1457  2499   384   418  1900    66   268    10 40435\n",
            "      1 12291   190     1 38358  4246     3  2119 37194   775  7027   403\n",
            "    406   834   410  8667     1 15716  1360     5   149  1100   737  3021\n",
            "   2715    14   646    10   300  1579  1705   111   406  2892   501  1262\n",
            "    427   172  4025   133  3627    42  2450    37  1230    57    59  2119\n",
            "   3097   242     3  4922   927   775]]\n"
          ],
          "name": "stdout"
        },
        {
          "output_type": "error",
          "ename": "KeyError",
          "evalue": "ignored",
          "traceback": [
            "\u001b[0;31m---------------------------------------------------------------------------\u001b[0m",
            "\u001b[0;31mKeyError\u001b[0m                                  Traceback (most recent call last)",
            "\u001b[0;32m<ipython-input-83-024aff593e61>\u001b[0m in \u001b[0;36m<module>\u001b[0;34m()\u001b[0m\n\u001b[1;32m      8\u001b[0m \u001b[0;31m# for m in all_models:\u001b[0m\u001b[0;34m\u001b[0m\u001b[0;34m\u001b[0m\u001b[0;34m\u001b[0m\u001b[0m\n\u001b[1;32m      9\u001b[0m \u001b[0mm\u001b[0m \u001b[0;34m=\u001b[0m \u001b[0;34m'Bi-LSTM + GloVe + Q2C Attention'\u001b[0m\u001b[0;34m\u001b[0m\u001b[0;34m\u001b[0m\u001b[0m\n\u001b[0;32m---> 10\u001b[0;31m \u001b[0mc_\u001b[0m\u001b[0;34m,\u001b[0m\u001b[0mq_\u001b[0m\u001b[0;34m,\u001b[0m\u001b[0mspan\u001b[0m\u001b[0;34m,\u001b[0m\u001b[0my_\u001b[0m\u001b[0;34m,\u001b[0m\u001b[0manswer\u001b[0m \u001b[0;34m=\u001b[0m \u001b[0mpredit_test\u001b[0m\u001b[0;34m(\u001b[0m\u001b[0mcs\u001b[0m\u001b[0;34m,\u001b[0m\u001b[0mqs\u001b[0m\u001b[0;34m,\u001b[0m \u001b[0mall_models\u001b[0m\u001b[0;34m[\u001b[0m\u001b[0mm\u001b[0m\u001b[0;34m]\u001b[0m\u001b[0;34m,\u001b[0m \u001b[0mparams\u001b[0m\u001b[0;34m=\u001b[0m\u001b[0mparams\u001b[0m\u001b[0;34m)\u001b[0m\u001b[0;34m\u001b[0m\u001b[0;34m\u001b[0m\u001b[0m\n\u001b[0m\u001b[1;32m     11\u001b[0m \u001b[0mprint\u001b[0m\u001b[0;34m(\u001b[0m\u001b[0;34m'Prediction for model - '\u001b[0m\u001b[0;34m,\u001b[0m \u001b[0mm\u001b[0m\u001b[0;34m)\u001b[0m\u001b[0;34m\u001b[0m\u001b[0;34m\u001b[0m\u001b[0m\n\u001b[1;32m     12\u001b[0m \u001b[0;32mfor\u001b[0m \u001b[0mi\u001b[0m \u001b[0;32min\u001b[0m \u001b[0mrange\u001b[0m\u001b[0;34m(\u001b[0m\u001b[0mlen\u001b[0m\u001b[0;34m(\u001b[0m\u001b[0mcs\u001b[0m\u001b[0;34m)\u001b[0m\u001b[0;34m)\u001b[0m\u001b[0;34m:\u001b[0m\u001b[0;34m\u001b[0m\u001b[0;34m\u001b[0m\u001b[0m\n",
            "\u001b[0;32m<ipython-input-82-1fb77f20c1c1>\u001b[0m in \u001b[0;36mpredit_test\u001b[0;34m(context, question, modeltoUse, params)\u001b[0m\n\u001b[1;32m     20\u001b[0m     \u001b[0;32mfor\u001b[0m \u001b[0mi\u001b[0m \u001b[0;32min\u001b[0m \u001b[0mci\u001b[0m\u001b[0;34m:\u001b[0m\u001b[0;34m\u001b[0m\u001b[0;34m\u001b[0m\u001b[0m\n\u001b[1;32m     21\u001b[0m       \u001b[0;32mif\u001b[0m\u001b[0;34m(\u001b[0m\u001b[0mi\u001b[0m \u001b[0;34m!=\u001b[0m \u001b[0;36m0\u001b[0m\u001b[0;34m)\u001b[0m\u001b[0;34m:\u001b[0m\u001b[0;34m\u001b[0m\u001b[0;34m\u001b[0m\u001b[0m\n\u001b[0;32m---> 22\u001b[0;31m         \u001b[0mprint\u001b[0m\u001b[0;34m(\u001b[0m\u001b[0mtokenizer\u001b[0m\u001b[0;34m.\u001b[0m\u001b[0mword_index\u001b[0m\u001b[0;34m[\u001b[0m\u001b[0mi\u001b[0m\u001b[0;34m]\u001b[0m\u001b[0;34m)\u001b[0m\u001b[0;34m\u001b[0m\u001b[0;34m\u001b[0m\u001b[0m\n\u001b[0m\u001b[1;32m     23\u001b[0m         \u001b[0;31m# tokens[tokenizer.word_index[i]] = i\u001b[0m\u001b[0;34m\u001b[0m\u001b[0;34m\u001b[0m\u001b[0;34m\u001b[0m\u001b[0m\n\u001b[1;32m     24\u001b[0m     \u001b[0;31m# context_token.append(ci)\u001b[0m\u001b[0;34m\u001b[0m\u001b[0;34m\u001b[0m\u001b[0;34m\u001b[0m\u001b[0m\n",
            "\u001b[0;31mKeyError\u001b[0m: 1605"
          ]
        }
      ]
    },
    {
      "cell_type": "code",
      "metadata": {
        "id": "LkyTSbDp1Jfw",
        "colab_type": "code",
        "colab": {}
      },
      "source": [
        ""
      ],
      "execution_count": null,
      "outputs": []
    },
    {
      "cell_type": "markdown",
      "metadata": {
        "id": "JkeEqGBKFbAo",
        "colab_type": "text"
      },
      "source": [
        "# Eval on News "
      ]
    },
    {
      "cell_type": "code",
      "metadata": {
        "id": "sQJzz9F3FfW8",
        "colab_type": "code",
        "colab": {}
      },
      "source": [
        "import requests\n",
        "from bs4 import BeautifulSoup\n",
        "import textwrap\n",
        "\n",
        "#Let's download the data from inshorts website.\n",
        "# Strictly inshort URL\n",
        "def load_news_from_url(url='https://inshorts.com/en/read/technology'):\n",
        "  # url = 'https://inshorts.com/en/read/technology'\n",
        "  news_category = url.split('/')[-1]\n",
        "  news_category\n",
        "  data = requests.get(url)\n",
        "  data.content\n",
        "  soup = BeautifulSoup(data.content, 'html.parser')\n",
        "  news_data = []\n",
        "  news_articles = [{'news_headline': headline.find('span', attrs={'itemprop': 'headline'}).string,\n",
        "                    'news_article': article.find('div', attrs={'itemprop': 'articleBody'}).string,\n",
        "                    'news_category': news_category} \n",
        "                  for headline, article in zip(soup.find_all('div', \n",
        "                                                              class_ = ['news-card-title news-right-box']), \n",
        "                                                soup.find_all('div', class_=['news-card-content news-right-box']))]\n",
        "  #Check news data\n",
        "  news_data.extend(news_articles)\n",
        "  news_data                    \n",
        "  #Building dataframe\n",
        "  df = pd.DataFrame(news_data, columns=['news_headline', 'news_article', 'news_category'])\n",
        "  df.info()  \n",
        "  return df"
      ],
      "execution_count": 8,
      "outputs": []
    },
    {
      "cell_type": "code",
      "metadata": {
        "id": "d2wTYX9wGpkN",
        "colab_type": "code",
        "colab": {
          "base_uri": "https://localhost:8080/",
          "height": 272
        },
        "outputId": "46d6f4e3-9bdf-4a4d-bc1f-d22307666902"
      },
      "source": [
        "df = load_news_from_url('https://inshorts.com/en/news/gileads-covid19-drug-remdesivir-to-cost-$2340-for-5day-treatment-1593438701842')\n",
        "wrapper = textwrap.TextWrapper(width=80) \n",
        "print(wrapper.fill(df['news_article'].iloc[0]))"
      ],
      "execution_count": 9,
      "outputs": [
        {
          "output_type": "stream",
          "text": [
            "<class 'pandas.core.frame.DataFrame'>\n",
            "RangeIndex: 1 entries, 0 to 0\n",
            "Data columns (total 3 columns):\n",
            " #   Column         Non-Null Count  Dtype \n",
            "---  ------         --------------  ----- \n",
            " 0   news_headline  1 non-null      object\n",
            " 1   news_article   1 non-null      object\n",
            " 2   news_category  1 non-null      object\n",
            "dtypes: object(3)\n",
            "memory usage: 152.0+ bytes\n",
            "American biopharmaceutical company Gilead has said that it will charge $390\n",
            "(₹29,450) per vial or about $2,340 (over ₹1.76 lakh) for a typical five-day\n",
            "course of treatment of its coronavirus-fighting drug remdesivir. The company on\n",
            "Monday said it would offer this price to the US government and other developed\n",
            "countries. The $390 per vial price is for government entities.\n"
          ],
          "name": "stdout"
        }
      ]
    },
    {
      "cell_type": "code",
      "metadata": {
        "id": "N0-v0tJkL86C",
        "colab_type": "code",
        "colab": {
          "base_uri": "https://localhost:8080/",
          "height": 34
        },
        "outputId": "80edb6eb-6848-42a9-c4ac-13ed5584ce6e"
      },
      "source": [
        "tfm = all_models['Bi-LSTM + GloVe + Q2C Attention']\n",
        "params = all_params['params_withoutstopwords']\n",
        "tokenizer = all_tokenizers['glove']\n",
        "c_,q_,span,y_,answer = predit_test([df['news_article'].iloc[0]],['what is per vial price'],tfm, params=params)                \n",
        "print(answer)         "
      ],
      "execution_count": null,
      "outputs": [
        {
          "output_type": "stream",
          "text": [
            "['']\n"
          ],
          "name": "stdout"
        }
      ]
    },
    {
      "cell_type": "code",
      "metadata": {
        "id": "2LH06OA9sFht",
        "colab_type": "code",
        "colab": {
          "base_uri": "https://localhost:8080/",
          "height": 85
        },
        "outputId": "566d336e-6ae3-4e90-c700-5500e04d3c78"
      },
      "source": [
        "print(predBERTHuggingface('what is per vial price',df['news_article'].iloc[0]))\n",
        "print(predBERTHuggingface('who is the company',df['news_article'].iloc[0]))\n",
        "print(predBERTHuggingface('what is the drug name',df['news_article'].iloc[0]))\n",
        "print(predBERTHuggingface('which government will the company offer',df['news_article'].iloc[0]))"
      ],
      "execution_count": 17,
      "outputs": [
        {
          "output_type": "stream",
          "text": [
            "$ 390\n",
            "gilead\n",
            "remdesivir\n",
            "us government\n"
          ],
          "name": "stdout"
        }
      ]
    },
    {
      "cell_type": "code",
      "metadata": {
        "id": "Ayh30ooSxTf-",
        "colab_type": "code",
        "colab": {
          "base_uri": "https://localhost:8080/",
          "height": 272
        },
        "outputId": "9eed4979-dfe8-426d-eea6-d1ebc6728f52"
      },
      "source": [
        "df = load_news_from_url('https://inshorts.com/en/news/worlds-secondlargest-data-centre-inaugurated-near-mumbai-1594205937864')\n",
        "wrapper = textwrap.TextWrapper(width=80) \n",
        "print(wrapper.fill(df['news_article'].iloc[0]))"
      ],
      "execution_count": 18,
      "outputs": [
        {
          "output_type": "stream",
          "text": [
            "<class 'pandas.core.frame.DataFrame'>\n",
            "RangeIndex: 1 entries, 0 to 0\n",
            "Data columns (total 3 columns):\n",
            " #   Column         Non-Null Count  Dtype \n",
            "---  ------         --------------  ----- \n",
            " 0   news_headline  1 non-null      object\n",
            " 1   news_article   1 non-null      object\n",
            " 2   news_category  1 non-null      object\n",
            "dtypes: object(3)\n",
            "memory usage: 152.0+ bytes\n",
            "Maharashtra CM Uddhav Thackeray virtually inaugurated the largest Tier IV Data\n",
            "Centre 'Yotta NM1' certified by Uptime Institute in Asia and second-largest in\n",
            "the world in Panvel near Mumbai. Built by Hiranandani Group subsidiary Yotta\n",
            "Infrastructure, 'Yotta NM1' is first of five data centre buildings. Once fully\n",
            "built, it'll have an overall capacity of 30,000 racks and 250 MW power.\n"
          ],
          "name": "stdout"
        }
      ]
    },
    {
      "cell_type": "code",
      "metadata": {
        "id": "wIX_ati5xaM7",
        "colab_type": "code",
        "colab": {
          "base_uri": "https://localhost:8080/",
          "height": 85
        },
        "outputId": "ea1fee20-ffcd-4f9d-83c6-2e5d16d1fed1"
      },
      "source": [
        "print(predBERTHuggingface('who is CM',df['news_article'].iloc[0]))\n",
        "print(predBERTHuggingface('who certified',df['news_article'].iloc[0]))\n",
        "print(predBERTHuggingface('where is panvel',df['news_article'].iloc[0]))\n",
        "print(predBERTHuggingface('who built',df['news_article'].iloc[0]))"
      ],
      "execution_count": 19,
      "outputs": [
        {
          "output_type": "stream",
          "text": [
            "maharashtra cm uddhav thackeray\n",
            "uptime institute\n",
            "mumbai\n",
            "hiranandani group subsidiary yotta infrastructure\n"
          ],
          "name": "stdout"
        }
      ]
    },
    {
      "cell_type": "markdown",
      "metadata": {
        "id": "ncB__cjC6T88",
        "colab_type": "text"
      },
      "source": [
        "# Serving API "
      ]
    },
    {
      "cell_type": "code",
      "metadata": {
        "id": "Li214BwR8PaI",
        "colab_type": "code",
        "colab": {
          "base_uri": "https://localhost:8080/",
          "height": 292
        },
        "outputId": "44e0fb6f-4ed4-4799-e0aa-930ea9cbf94e"
      },
      "source": [
        "# A nice and nifty way done by this fellow - https://medium.com/@kshitijvijay271199/flask-on-google-colab-f6525986797b\n",
        "# and of course ngrok saves the day !!\n",
        "!pip install flask-ngrok"
      ],
      "execution_count": null,
      "outputs": [
        {
          "output_type": "stream",
          "text": [
            "Collecting flask-ngrok\n",
            "  Downloading https://files.pythonhosted.org/packages/af/6c/f54cb686ad1129e27d125d182f90f52b32f284e6c8df58c1bae54fa1adbc/flask_ngrok-0.0.25-py3-none-any.whl\n",
            "Requirement already satisfied: Flask>=0.8 in /usr/local/lib/python3.6/dist-packages (from flask-ngrok) (1.1.2)\n",
            "Requirement already satisfied: requests in /usr/local/lib/python3.6/dist-packages (from flask-ngrok) (2.23.0)\n",
            "Requirement already satisfied: Jinja2>=2.10.1 in /usr/local/lib/python3.6/dist-packages (from Flask>=0.8->flask-ngrok) (2.11.2)\n",
            "Requirement already satisfied: itsdangerous>=0.24 in /usr/local/lib/python3.6/dist-packages (from Flask>=0.8->flask-ngrok) (1.1.0)\n",
            "Requirement already satisfied: Werkzeug>=0.15 in /usr/local/lib/python3.6/dist-packages (from Flask>=0.8->flask-ngrok) (1.0.1)\n",
            "Requirement already satisfied: click>=5.1 in /usr/local/lib/python3.6/dist-packages (from Flask>=0.8->flask-ngrok) (7.1.2)\n",
            "Requirement already satisfied: certifi>=2017.4.17 in /usr/local/lib/python3.6/dist-packages (from requests->flask-ngrok) (2020.6.20)\n",
            "Requirement already satisfied: chardet<4,>=3.0.2 in /usr/local/lib/python3.6/dist-packages (from requests->flask-ngrok) (3.0.4)\n",
            "Requirement already satisfied: idna<3,>=2.5 in /usr/local/lib/python3.6/dist-packages (from requests->flask-ngrok) (2.9)\n",
            "Requirement already satisfied: urllib3!=1.25.0,!=1.25.1,<1.26,>=1.21.1 in /usr/local/lib/python3.6/dist-packages (from requests->flask-ngrok) (1.24.3)\n",
            "Requirement already satisfied: MarkupSafe>=0.23 in /usr/local/lib/python3.6/dist-packages (from Jinja2>=2.10.1->Flask>=0.8->flask-ngrok) (1.1.1)\n",
            "Installing collected packages: flask-ngrok\n",
            "Successfully installed flask-ngrok-0.0.25\n"
          ],
          "name": "stdout"
        }
      ]
    },
    {
      "cell_type": "code",
      "metadata": {
        "id": "iMeXDG-y6WAC",
        "colab_type": "code",
        "colab": {
          "base_uri": "https://localhost:8080/",
          "height": 275
        },
        "outputId": "0a46a458-4202-4daf-9efa-2e6c42b72289"
      },
      "source": [
        "all_params = {\n",
        "    \"params_withoutstopwords\": loadparams(name='params_withoutstopwords.json'),\n",
        "    \"params_withstopwords_withuse\": loadparams(name='params_withstopwords_withuse.json')\n",
        "}\n",
        "all_tokenizers = {\n",
        "    \"glove\": load_tokenizer(all_params['params_withoutstopwords']),\n",
        "    \"use\": load_tokenizer(all_params['params_withstopwords_withuse'],'use')\n",
        "}\n",
        "all_params\n",
        "all_models = load_all_models()"
      ],
      "execution_count": null,
      "outputs": [
        {
          "output_type": "stream",
          "text": [
            "Loading GloVe 300D\n",
            "Vocab Loaded -  100850\n",
            "Loading Universal Sentence Encoder\n",
            "Vocab Loaded -  82505\n",
            "Loading model  LSTM Baseline  from  /content/drive/My Drive/AIML-MRC-Capstone/models/lstmbaseline-0/full_context_withoutstopwords_model_epoch_lstmbaseline0_nomask_gpu.h5\n",
            "Loading model  Deep LSTM + GloVe  from  /content/drive/My Drive/AIML-MRC-Capstone/models/deeplstm/full_context_withoutstopwords_model_epoch_25_deeplstm_glove_nomask_gpu.h5\n",
            "Loading model  Bi-LSTM + GloVe  from  /content/drive/My Drive/AIML-MRC-Capstone/models/bilstm/full_context_withoutstopwords_model_epoch_25_bilstm_glove_nomask_gpu.h5\n",
            "Loading model  Bi-LSTM + GloVe + Q2C Attention  from  /content/drive/My Drive/AIML-MRC-Capstone/models/bilstm-q2c-attention-glove/full_context_withoutstopwords_model_epoch_25_bilstm_q2c-attention_glove.h5\n",
            "Loading model  Bi-LSTM + GloVe + Q2C-C2Q Attention  from  /content/drive/My Drive/AIML-MRC-Capstone/models/bilstm-bidaf-glove/full_context_withoutstopwords_model_epoch_25_bilstm_bidaf_glove_nomask_gpu_after_fix.h5\n",
            "Loading model  LSTM Baseline + Universal Sentence Encode  from  /content/drive/My Drive/AIML-MRC-Capstone/models/lstmbaseline-use-withstop/full_context_withstopwords_model_epoch_25_lstmbaseline0_nomask_gpu.h5\n",
            "Loading model  Bi-LSTM + Universal Sentence Encode  from  /content/drive/My Drive/AIML-MRC-Capstone/models/bilstm-use-withstop/full_context_withstopwords_model_epoch_25_bilstm_use_nomask_gpu.h5\n",
            "Loading model  Bi-LSTM + Q2C Attention + Universal Sentence Encode  from  /content/drive/My Drive/AIML-MRC-Capstone/models/bilstm-q2c-attention-use-withstop/full_context_withstopwords_model_epoch_25_bilstm_q2c-attention_use.h5\n",
            "Loading model  BERT + Cased_L-12_H-768_A-12 + DeepPavlov  from  /content/drive/My Drive/AIML-MRC-Capstone/models/bert/bert-results.csv\n",
            "BERT is WIP !!\n"
          ],
          "name": "stdout"
        }
      ]
    },
    {
      "cell_type": "code",
      "metadata": {
        "id": "cepdwTqD8Syx",
        "colab_type": "code",
        "colab": {}
      },
      "source": [
        "from flask import Flask\n",
        "from flask import request\n",
        "from flask import jsonify\n",
        "from flask_ngrok import run_with_ngrok\n",
        "\n",
        "app = Flask(__name__)\n",
        "run_with_ngrok(app)  # Start ngrok when app is run\n",
        "\n",
        "# for / root, return Hello Word\n",
        "@app.route(\"/\")\n",
        "def root():\n",
        "    url = request.method\n",
        "    return f\"Welcome to the AIML Batch 4 - MRC Capstone\"\n",
        "\n",
        "@app.route(\"/models\")\n",
        "def listmodels():\n",
        "    url = request.method\n",
        "    return {'models':list_of_models}\n",
        "\n",
        "# for / root, return Hello Word\n",
        "@app.route(\"/predict\", methods=['POST'])\n",
        "def predict():\n",
        "    if request.method == 'POST':\n",
        "        try:\n",
        "            data = request.get_json()\n",
        "            modelid = data[\"model\"] \n",
        "            context = data[\"c\"]\n",
        "            question = data[\"q\"]\n",
        "\n",
        "            if(modelid == 'BERT'):\n",
        "              return jsonify(\"BERT is not yet supported\")            \n",
        "\n",
        "            thatmodel = [m for m in list_of_models if m['id']==modelid][0]\n",
        "            print('Running with model ',thatmodel['name'])\n",
        "            if(thatmodel['type']=='With stopwords'):\n",
        "              params = all_params['params_withstopwords_withuse']\n",
        "              tokenizer = all_tokenizers['use']\n",
        "            elif(thatmodel['type']=='Without stopwords'):\n",
        "              params = all_params['params_withoutstopwords']\n",
        "              tokenizer = all_tokenizers['glove']\n",
        "            \n",
        "            tfmodel = all_models[thatmodel['name']]            \n",
        "            c_,q_,span,y_,answer = predit_test([context],[question],tfmodel, params=params)                \n",
        "            print(context, question, answer)         \n",
        "            # lin_reg = joblib.load(\"./linear_regression_model.pkl\")\n",
        "        except err:\n",
        "            print(err)\n",
        "            return jsonify(\"Some thing is not right !!\")\n",
        "        finally:\n",
        "          del tfmodel\n",
        "\n",
        "        return jsonify({'context': context, 'question':question, 'answer': answer})\n",
        "\n",
        "# for / root, return Hello Word\n",
        "@app.route(\"/predict_from_url\", methods=['POST'])\n",
        "def predictfromnewurl():\n",
        "    if request.method == 'POST':\n",
        "        try:\n",
        "            data = request.get_json()\n",
        "            modelid = data[\"model\"] \n",
        "            url = data[\"url\"]\n",
        "            df = load_news_from_url(url)\n",
        "            context = df['news_article'].iloc[0]\n",
        "            question = data[\"q\"]\n",
        "\n",
        "            if(modelid == 'BERT'):\n",
        "              return jsonify(\"BERT is not yet supported\")            \n",
        "\n",
        "            thatmodel = [m for m in list_of_models if m['id']==modelid][0]\n",
        "            print('Running with model ',thatmodel['name'])\n",
        "            if(thatmodel['type']=='With stopwords'):\n",
        "              params = all_params['params_withstopwords_withuse']\n",
        "              tokenizer = all_tokenizers['use']\n",
        "            elif(thatmodel['type']=='Without stopwords'):\n",
        "              params = all_params['params_withoutstopwords']\n",
        "              tokenizer = all_tokenizers['glove']\n",
        "            \n",
        "            tfmodel = all_models[thatmodel['name']]            \n",
        "            c_,q_,span,y_,answer = predit_test([context],[question],tfmodel, params=params)                \n",
        "            print(context, question, answer)         \n",
        "            # lin_reg = joblib.load(\"./linear_regression_model.pkl\")\n",
        "        except err:\n",
        "            print(err)\n",
        "            return jsonify(\"Some thing is not right !!\")\n",
        "        finally:\n",
        "          del tfmodel\n",
        "\n",
        "        return jsonify({'context': context, 'question':question, 'answer': answer})\n",
        "\n",
        "app.run()"
      ],
      "execution_count": null,
      "outputs": []
    },
    {
      "cell_type": "code",
      "metadata": {
        "id": "Bqy24lzf_1yt",
        "colab_type": "code",
        "colab": {}
      },
      "source": [
        ""
      ],
      "execution_count": null,
      "outputs": []
    },
    {
      "cell_type": "markdown",
      "metadata": {
        "id": "xYpdBUf8bnFg",
        "colab_type": "text"
      },
      "source": [
        "# Test Data Analysis"
      ]
    },
    {
      "cell_type": "markdown",
      "metadata": {
        "id": "OmrQ9PkQtr57",
        "colab_type": "text"
      },
      "source": [
        "## Question Category "
      ]
    },
    {
      "cell_type": "code",
      "metadata": {
        "id": "-JkjxJ11bohR",
        "colab_type": "code",
        "colab": {
          "base_uri": "https://localhost:8080/",
          "height": 51
        },
        "outputId": "d6698bc2-a587-48ec-8ed6-2dfac3b5b3f5"
      },
      "source": [
        "test = load_test_data()\n",
        "train = load_test_data(name='train-withoutstopwords.csv')"
      ],
      "execution_count": 37,
      "outputs": [
        {
          "output_type": "stream",
          "text": [
            "(26062, 16)\n",
            "(78183, 16)\n"
          ],
          "name": "stdout"
        }
      ]
    },
    {
      "cell_type": "code",
      "metadata": {
        "id": "LRq7jpR7btGh",
        "colab_type": "code",
        "colab": {}
      },
      "source": [
        "def get_question_category_distri(data):\n",
        "  stpwrds_ques = ['when', 'what', 'which', 'who', 'how', 'where', 'whom', 'why']\n",
        "\n",
        "  def get_categ(token1,token2):\n",
        "      if token1 in stpwrds_ques:\n",
        "          return token1\n",
        "      elif token2 in stpwrds_ques:\n",
        "          return token2\n",
        "      else:\n",
        "          return \"Other\"\n",
        "\n",
        "  #stpwrds_ques = ['when', 'what', 'which', 'who', 'how', 'where', 'whom', 'why']\n",
        "  data['Token1'] = data.clean_question.str.split(' ').str[0]\n",
        "  data['Token2'] = data.clean_question.str.split(' ').str[1]\n",
        "  data['ques_category'] = data.apply(lambda x: get_categ(x['Token1'],x['Token2']),axis=1)\n",
        "  return data['ques_category'].value_counts(normalize=True)*100, data"
      ],
      "execution_count": 38,
      "outputs": []
    },
    {
      "cell_type": "markdown",
      "metadata": {
        "id": "0DeJ1mLRP9h3",
        "colab_type": "text"
      },
      "source": [
        "### Q-category for train test"
      ]
    },
    {
      "cell_type": "code",
      "metadata": {
        "id": "5kXMNsTDddzF",
        "colab_type": "code",
        "colab": {}
      },
      "source": [
        "ques_cat, test = get_question_category_distri(data=test)\n",
        "tques_cat, train = get_question_category_distri(data=train)"
      ],
      "execution_count": 39,
      "outputs": []
    },
    {
      "cell_type": "code",
      "metadata": {
        "id": "UmjHS2ZTotlP",
        "colab_type": "code",
        "colab": {
          "base_uri": "https://localhost:8080/",
          "height": 328
        },
        "outputId": "5640b98a-dd00-4275-a77b-aa26f357d06e"
      },
      "source": [
        "df = pd.DataFrame([tques_cat,ques_cat])\n",
        "df = df.transpose()\n",
        "df.columns = ['train','test']\n",
        "df"
      ],
      "execution_count": 41,
      "outputs": [
        {
          "output_type": "execute_result",
          "data": {
            "text/html": [
              "<div>\n",
              "<style scoped>\n",
              "    .dataframe tbody tr th:only-of-type {\n",
              "        vertical-align: middle;\n",
              "    }\n",
              "\n",
              "    .dataframe tbody tr th {\n",
              "        vertical-align: top;\n",
              "    }\n",
              "\n",
              "    .dataframe thead th {\n",
              "        text-align: right;\n",
              "    }\n",
              "</style>\n",
              "<table border=\"1\" class=\"dataframe\">\n",
              "  <thead>\n",
              "    <tr style=\"text-align: right;\">\n",
              "      <th></th>\n",
              "      <th>train</th>\n",
              "      <th>test</th>\n",
              "    </tr>\n",
              "  </thead>\n",
              "  <tbody>\n",
              "    <tr>\n",
              "      <th>what</th>\n",
              "      <td>50.439354</td>\n",
              "      <td>51.039828</td>\n",
              "    </tr>\n",
              "    <tr>\n",
              "      <th>Other</th>\n",
              "      <td>13.972347</td>\n",
              "      <td>13.732638</td>\n",
              "    </tr>\n",
              "    <tr>\n",
              "      <th>who</th>\n",
              "      <td>9.686249</td>\n",
              "      <td>9.749827</td>\n",
              "    </tr>\n",
              "    <tr>\n",
              "      <th>how</th>\n",
              "      <td>9.288464</td>\n",
              "      <td>9.120559</td>\n",
              "    </tr>\n",
              "    <tr>\n",
              "      <th>when</th>\n",
              "      <td>6.124093</td>\n",
              "      <td>6.100836</td>\n",
              "    </tr>\n",
              "    <tr>\n",
              "      <th>which</th>\n",
              "      <td>5.122597</td>\n",
              "      <td>5.149259</td>\n",
              "    </tr>\n",
              "    <tr>\n",
              "      <th>where</th>\n",
              "      <td>3.779594</td>\n",
              "      <td>3.491674</td>\n",
              "    </tr>\n",
              "    <tr>\n",
              "      <th>why</th>\n",
              "      <td>1.413351</td>\n",
              "      <td>1.477247</td>\n",
              "    </tr>\n",
              "    <tr>\n",
              "      <th>whom</th>\n",
              "      <td>0.173951</td>\n",
              "      <td>0.138132</td>\n",
              "    </tr>\n",
              "  </tbody>\n",
              "</table>\n",
              "</div>"
            ],
            "text/plain": [
              "           train       test\n",
              "what   50.439354  51.039828\n",
              "Other  13.972347  13.732638\n",
              "who     9.686249   9.749827\n",
              "how     9.288464   9.120559\n",
              "when    6.124093   6.100836\n",
              "which   5.122597   5.149259\n",
              "where   3.779594   3.491674\n",
              "why     1.413351   1.477247\n",
              "whom    0.173951   0.138132"
            ]
          },
          "metadata": {
            "tags": []
          },
          "execution_count": 41
        }
      ]
    },
    {
      "cell_type": "code",
      "metadata": {
        "id": "dV-0QIT7sAwZ",
        "colab_type": "code",
        "colab": {
          "base_uri": "https://localhost:8080/",
          "height": 328
        },
        "outputId": "bbbedff5-6677-46f3-e49c-d908e18b5824"
      },
      "source": [
        "df['ori'] = [55.908318,10.497034,10.184376,8.416479,5.726700,4.255368,3.411651,1.542600,0.057474]    \n",
        "df"
      ],
      "execution_count": 46,
      "outputs": [
        {
          "output_type": "execute_result",
          "data": {
            "text/html": [
              "<div>\n",
              "<style scoped>\n",
              "    .dataframe tbody tr th:only-of-type {\n",
              "        vertical-align: middle;\n",
              "    }\n",
              "\n",
              "    .dataframe tbody tr th {\n",
              "        vertical-align: top;\n",
              "    }\n",
              "\n",
              "    .dataframe thead th {\n",
              "        text-align: right;\n",
              "    }\n",
              "</style>\n",
              "<table border=\"1\" class=\"dataframe\">\n",
              "  <thead>\n",
              "    <tr style=\"text-align: right;\">\n",
              "      <th></th>\n",
              "      <th>train</th>\n",
              "      <th>test</th>\n",
              "      <th>ori</th>\n",
              "    </tr>\n",
              "  </thead>\n",
              "  <tbody>\n",
              "    <tr>\n",
              "      <th>what</th>\n",
              "      <td>50.439354</td>\n",
              "      <td>51.039828</td>\n",
              "      <td>55.908318</td>\n",
              "    </tr>\n",
              "    <tr>\n",
              "      <th>Other</th>\n",
              "      <td>13.972347</td>\n",
              "      <td>13.732638</td>\n",
              "      <td>10.497034</td>\n",
              "    </tr>\n",
              "    <tr>\n",
              "      <th>who</th>\n",
              "      <td>9.686249</td>\n",
              "      <td>9.749827</td>\n",
              "      <td>10.184376</td>\n",
              "    </tr>\n",
              "    <tr>\n",
              "      <th>how</th>\n",
              "      <td>9.288464</td>\n",
              "      <td>9.120559</td>\n",
              "      <td>8.416479</td>\n",
              "    </tr>\n",
              "    <tr>\n",
              "      <th>when</th>\n",
              "      <td>6.124093</td>\n",
              "      <td>6.100836</td>\n",
              "      <td>5.726700</td>\n",
              "    </tr>\n",
              "    <tr>\n",
              "      <th>which</th>\n",
              "      <td>5.122597</td>\n",
              "      <td>5.149259</td>\n",
              "      <td>4.255368</td>\n",
              "    </tr>\n",
              "    <tr>\n",
              "      <th>where</th>\n",
              "      <td>3.779594</td>\n",
              "      <td>3.491674</td>\n",
              "      <td>3.411651</td>\n",
              "    </tr>\n",
              "    <tr>\n",
              "      <th>why</th>\n",
              "      <td>1.413351</td>\n",
              "      <td>1.477247</td>\n",
              "      <td>1.542600</td>\n",
              "    </tr>\n",
              "    <tr>\n",
              "      <th>whom</th>\n",
              "      <td>0.173951</td>\n",
              "      <td>0.138132</td>\n",
              "      <td>0.057474</td>\n",
              "    </tr>\n",
              "  </tbody>\n",
              "</table>\n",
              "</div>"
            ],
            "text/plain": [
              "           train       test        ori\n",
              "what   50.439354  51.039828  55.908318\n",
              "Other  13.972347  13.732638  10.497034\n",
              "who     9.686249   9.749827  10.184376\n",
              "how     9.288464   9.120559   8.416479\n",
              "when    6.124093   6.100836   5.726700\n",
              "which   5.122597   5.149259   4.255368\n",
              "where   3.779594   3.491674   3.411651\n",
              "why     1.413351   1.477247   1.542600\n",
              "whom    0.173951   0.138132   0.057474"
            ]
          },
          "metadata": {
            "tags": []
          },
          "execution_count": 46
        }
      ]
    },
    {
      "cell_type": "code",
      "metadata": {
        "id": "JRE1Lg0coBeT",
        "colab_type": "code",
        "colab": {
          "base_uri": "https://localhost:8080/",
          "height": 282
        },
        "outputId": "9fba1018-2f74-468a-faad-b189936c5d77"
      },
      "source": [
        "sns.lineplot(data=df)"
      ],
      "execution_count": 47,
      "outputs": [
        {
          "output_type": "execute_result",
          "data": {
            "text/plain": [
              "<matplotlib.axes._subplots.AxesSubplot at 0x7fc90d5120f0>"
            ]
          },
          "metadata": {
            "tags": []
          },
          "execution_count": 47
        },
        {
          "output_type": "display_data",
          "data": {
            "image/png": "[encoded data removed]",
            "text/plain": [
              "<Figure size 432x288 with 1 Axes>"
            ]
          },
          "metadata": {
            "tags": [],
            "needs_background": "light"
          }
        }
      ]
    },
    {
      "cell_type": "markdown",
      "metadata": {
        "id": "FcZ11cdgRjpH",
        "colab_type": "text"
      },
      "source": [
        "### Update Answer Length in test"
      ]
    },
    {
      "cell_type": "code",
      "metadata": {
        "id": "BYRpTX3lRmY_",
        "colab_type": "code",
        "colab": {
          "base_uri": "https://localhost:8080/",
          "height": 496
        },
        "outputId": "38ab7ceb-d979-482f-9714-9a695a6993ca"
      },
      "source": [
        "def get_ans_token_length(ans):\n",
        "    if ans == 'IMPOSSIBLE':\n",
        "        return 0    \n",
        "    else:\n",
        "        return len(ans.split())\n",
        "\n",
        "test['ans_token_len'] = test.apply(lambda x: get_ans_token_length(x['clean_answer']),axis=1)\n",
        "test.head(5)"
      ],
      "execution_count": 40,
      "outputs": [
        {
          "output_type": "execute_result",
          "data": {
            "text/html": [
              "<div>\n",
              "<style scoped>\n",
              "    .dataframe tbody tr th:only-of-type {\n",
              "        vertical-align: middle;\n",
              "    }\n",
              "\n",
              "    .dataframe tbody tr th {\n",
              "        vertical-align: top;\n",
              "    }\n",
              "\n",
              "    .dataframe thead th {\n",
              "        text-align: right;\n",
              "    }\n",
              "</style>\n",
              "<table border=\"1\" class=\"dataframe\">\n",
              "  <thead>\n",
              "    <tr style=\"text-align: right;\">\n",
              "      <th></th>\n",
              "      <th>title</th>\n",
              "      <th>context</th>\n",
              "      <th>question</th>\n",
              "      <th>id</th>\n",
              "      <th>answer_start</th>\n",
              "      <th>answer</th>\n",
              "      <th>plausible_answer_start</th>\n",
              "      <th>plausible_answer</th>\n",
              "      <th>is_impossible</th>\n",
              "      <th>clean_context</th>\n",
              "      <th>clean_question</th>\n",
              "      <th>clean_answer</th>\n",
              "      <th>answer_len</th>\n",
              "      <th>answer_end</th>\n",
              "      <th>answer_span</th>\n",
              "      <th>answer_word_span</th>\n",
              "      <th>Token1</th>\n",
              "      <th>Token2</th>\n",
              "      <th>ques_category</th>\n",
              "      <th>ans_token_len</th>\n",
              "    </tr>\n",
              "  </thead>\n",
              "  <tbody>\n",
              "    <tr>\n",
              "      <th>0</th>\n",
              "      <td>Queen_Victoria</td>\n",
              "      <td>Internationally, Victoria took a keen interest...</td>\n",
              "      <td>How was the House of Orleans and the British R...</td>\n",
              "      <td>5722d1770dadf01500fa1f04</td>\n",
              "      <td>218</td>\n",
              "      <td>by marriage through the Coburgs</td>\n",
              "      <td>NaN</td>\n",
              "      <td></td>\n",
              "      <td>False</td>\n",
              "      <td>internationally victoria took keen interest im...</td>\n",
              "      <td>how was the house of orleans and the british r...</td>\n",
              "      <td>by marriage through the coburgs</td>\n",
              "      <td>31</td>\n",
              "      <td>249</td>\n",
              "      <td>(218, 249)</td>\n",
              "      <td>(-1, -1)</td>\n",
              "      <td>how</td>\n",
              "      <td>was</td>\n",
              "      <td>how</td>\n",
              "      <td>5</td>\n",
              "    </tr>\n",
              "    <tr>\n",
              "      <th>1</th>\n",
              "      <td>Southampton</td>\n",
              "      <td>Southampton's largest retail centre, and 35th ...</td>\n",
              "      <td>What's the largest retail center in Southampton?</td>\n",
              "      <td>56f8afe39e9bad19000a031d</td>\n",
              "      <td>72</td>\n",
              "      <td>WestQuay Shopping Centre</td>\n",
              "      <td>NaN</td>\n",
              "      <td></td>\n",
              "      <td>False</td>\n",
              "      <td>southamptons largest retail centre 35th larges...</td>\n",
              "      <td>whats the largest retail center in southampton</td>\n",
              "      <td>westquay shopping centre</td>\n",
              "      <td>24</td>\n",
              "      <td>96</td>\n",
              "      <td>(72, 96)</td>\n",
              "      <td>(7, 9)</td>\n",
              "      <td>whats</td>\n",
              "      <td>the</td>\n",
              "      <td>Other</td>\n",
              "      <td>3</td>\n",
              "    </tr>\n",
              "    <tr>\n",
              "      <th>2</th>\n",
              "      <td>Immunology</td>\n",
              "      <td>Other immune system disorders include various ...</td>\n",
              "      <td>What characterizes a hypersensitivity?</td>\n",
              "      <td>5706aa0a75f01819005e7ce8</td>\n",
              "      <td>110</td>\n",
              "      <td>respond inappropriately to otherwise harmless ...</td>\n",
              "      <td>NaN</td>\n",
              "      <td></td>\n",
              "      <td>False</td>\n",
              "      <td>immune system disorders include various hypers...</td>\n",
              "      <td>what characterizes a hypersensitivity</td>\n",
              "      <td>respond inappropriately to otherwise harmless ...</td>\n",
              "      <td>56</td>\n",
              "      <td>166</td>\n",
              "      <td>(110, 166)</td>\n",
              "      <td>(8, 13)</td>\n",
              "      <td>what</td>\n",
              "      <td>characterizes</td>\n",
              "      <td>what</td>\n",
              "      <td>6</td>\n",
              "    </tr>\n",
              "    <tr>\n",
              "      <th>3</th>\n",
              "      <td>Steven_Spielberg</td>\n",
              "      <td>Spielberg won the Academy Award for Best Direc...</td>\n",
              "      <td>When was Jaws released?</td>\n",
              "      <td>57318afba5e9cc1400cdc01f</td>\n",
              "      <td>143</td>\n",
              "      <td>1975</td>\n",
              "      <td>NaN</td>\n",
              "      <td></td>\n",
              "      <td>False</td>\n",
              "      <td>spielberg academy award best director schindle...</td>\n",
              "      <td>when was jaws released</td>\n",
              "      <td>1975</td>\n",
              "      <td>4</td>\n",
              "      <td>147</td>\n",
              "      <td>(143, 147)</td>\n",
              "      <td>(15, 15)</td>\n",
              "      <td>when</td>\n",
              "      <td>was</td>\n",
              "      <td>when</td>\n",
              "      <td>1</td>\n",
              "    </tr>\n",
              "    <tr>\n",
              "      <th>4</th>\n",
              "      <td>Electric_motor</td>\n",
              "      <td>Because the rotor is much lighter in weight (m...</td>\n",
              "      <td>What advantage doesn't a coreless rotor have o...</td>\n",
              "      <td>5ad168ad645df0001a2d1a12</td>\n",
              "      <td>-1</td>\n",
              "      <td></td>\n",
              "      <td>141.0</td>\n",
              "      <td>accelerate much more rapidly</td>\n",
              "      <td>True</td>\n",
              "      <td>rotor much lighter weight mass conventional ro...</td>\n",
              "      <td>what advantage doesnt a coreless rotor have ov...</td>\n",
              "      <td>IMPOSSIBLE</td>\n",
              "      <td>0</td>\n",
              "      <td>-1</td>\n",
              "      <td>(-1, -1)</td>\n",
              "      <td>(-1, -1)</td>\n",
              "      <td>what</td>\n",
              "      <td>advantage</td>\n",
              "      <td>what</td>\n",
              "      <td>0</td>\n",
              "    </tr>\n",
              "  </tbody>\n",
              "</table>\n",
              "</div>"
            ],
            "text/plain": [
              "              title  ... ans_token_len\n",
              "0    Queen_Victoria  ...             5\n",
              "1       Southampton  ...             3\n",
              "2        Immunology  ...             6\n",
              "3  Steven_Spielberg  ...             1\n",
              "4    Electric_motor  ...             0\n",
              "\n",
              "[5 rows x 20 columns]"
            ]
          },
          "metadata": {
            "tags": []
          },
          "execution_count": 40
        }
      ]
    },
    {
      "cell_type": "markdown",
      "metadata": {
        "id": "Id3jfolLQLEq",
        "colab_type": "text"
      },
      "source": [
        "### Model perf per question category for BERT and bilstm-glove-q2c-attention"
      ]
    },
    {
      "cell_type": "code",
      "metadata": {
        "id": "4tmwDQ_rQUP1",
        "colab_type": "code",
        "colab": {
          "base_uri": "https://localhost:8080/",
          "height": 88
        },
        "outputId": "b85c4bcb-c741-4f87-bc79-d48c3f0da93b"
      },
      "source": [
        "loc = [m for m in list_of_models if m['id']=='bilstm-glove-q2c-attention'][0]['loc']\n",
        "loc\n",
        "bilstm_glove_q2c_attention = load_mrc_model(loc)\n",
        "params = loadparams(name='params_withoutstopwords.json')\n",
        "tokenizer = load_tokenizer(name='glove')"
      ],
      "execution_count": 41,
      "outputs": [
        {
          "output_type": "stream",
          "text": [
            "Loading model from /content/drive/My Drive/AIML-MRC-Capstone/models/bilstm-q2c-attention-glove/full_context_withoutstopwords_model_epoch_25_bilstm_q2c-attention_glove.h5\n",
            "Loading GloVe 300D\n",
            "Vocab Loaded -  100850\n"
          ],
          "name": "stdout"
        }
      ]
    },
    {
      "cell_type": "code",
      "metadata": {
        "id": "lucI52zRQ399",
        "colab_type": "code",
        "colab": {
          "base_uri": "https://localhost:8080/",
          "height": 51
        },
        "outputId": "7e15bf0c-4a43-4b05-a0b0-6e852e4f465d"
      },
      "source": [
        "# Ensure that BERT is loaded from above cell\n",
        "print(bilstm_glove_q2c_attention)\n",
        "print(berthugmodel)"
      ],
      "execution_count": 48,
      "outputs": [
        {
          "output_type": "stream",
          "text": [
            "<tensorflow.python.keras.engine.training.Model object at 0x7f759ab29128>\n",
            "<transformers.modeling_tf_bert.TFBertForQuestionAnswering object at 0x7f759f7194a8>\n"
          ],
          "name": "stdout"
        }
      ]
    },
    {
      "cell_type": "code",
      "metadata": {
        "id": "CDqJ_16WTJQv",
        "colab_type": "code",
        "colab": {
          "base_uri": "https://localhost:8080/",
          "height": 51
        },
        "outputId": "0e87eb15-57a3-4337-9e9d-edb0eb8b9066"
      },
      "source": [
        "strategy = tf.distribute.MirroredStrategy()\n",
        "with strategy.scope():\n",
        "  test_context_sequence, test_question_sequence = generate_question_context_sequence(context=test[\"clean_context\"].values,\n",
        "                                question=test[\"clean_question\"].values,\n",
        "                                question_max_length=params['question_max_length'],\n",
        "                                padding=params['question_pad_seq'],\n",
        "                                context_max_length=params['context_max_length']\n",
        "                                )  \n",
        "  y_prediction = bilstm_glove_q2c_attention.predict([test_question_sequence,test_context_sequence])\n",
        "  y_prediction_new,start_pred,end_pred = combine_y(y_prediction,test.shape[0])\n",
        "  # acc_score,macro_f1_score,micro_f1_score = accuracy_metrics(y_test_new,y_prediction_new)\n",
        "  y_pred_text = generate_y_preds_text(test,start_pred,end_pred)\n",
        "  test['predictions'] = y_pred_text"
      ],
      "execution_count": 49,
      "outputs": [
        {
          "output_type": "stream",
          "text": [
            "INFO:tensorflow:Using MirroredStrategy with devices ('/job:localhost/replica:0/task:0/device:GPU:0',)\n"
          ],
          "name": "stdout"
        },
        {
          "output_type": "stream",
          "text": [
            "100%|██████████| 26062/26062 [00:29<00:00, 875.43it/s]\n"
          ],
          "name": "stderr"
        }
      ]
    },
    {
      "cell_type": "code",
      "metadata": {
        "id": "awNcA46oTfz9",
        "colab_type": "code",
        "colab": {
          "base_uri": "https://localhost:8080/",
          "height": 34
        },
        "outputId": "0e9faccc-ce77-4211-edc7-980036ce8a16"
      },
      "source": [
        "exact_raw, f1_raw, exact_scores_pa,f1_scores_pa = get_raw_scores(test, y_pred_text)\n",
        "exact, f1,exact_pa, f1_pa, total = make_eval_dict(exact_raw,f1_raw, exact_scores_pa,f1_scores_pa)\n",
        "\n",
        "print(exact, f1,exact_pa, f1_pa, total)"
      ],
      "execution_count": 105,
      "outputs": [
        {
          "output_type": "stream",
          "text": [
            "33.09416007980968 33.09511933082649 0.0 0.0 26062\n"
          ],
          "name": "stdout"
        }
      ]
    },
    {
      "cell_type": "code",
      "metadata": {
        "id": "2di9kbONaxhj",
        "colab_type": "code",
        "colab": {
          "base_uri": "https://localhost:8080/",
          "height": 80
        },
        "outputId": "f12998b4-b845-4c5a-ffe5-526ed08782fa"
      },
      "source": [
        "qc = test['ques_category'].value_counts(normalize=True)*100\n",
        "qcdf = pd.DataFrame().append(qc)\n",
        "# qcdf.columns = ['Data Distri']\n",
        "qcdf\n",
        "# ','F1(Ans)','EM(Ans)','F1(Plau Ans)','EM(Plau Ans)']"
      ],
      "execution_count": 51,
      "outputs": [
        {
          "output_type": "execute_result",
          "data": {
            "text/html": [
              "<div>\n",
              "<style scoped>\n",
              "    .dataframe tbody tr th:only-of-type {\n",
              "        vertical-align: middle;\n",
              "    }\n",
              "\n",
              "    .dataframe tbody tr th {\n",
              "        vertical-align: top;\n",
              "    }\n",
              "\n",
              "    .dataframe thead th {\n",
              "        text-align: right;\n",
              "    }\n",
              "</style>\n",
              "<table border=\"1\" class=\"dataframe\">\n",
              "  <thead>\n",
              "    <tr style=\"text-align: right;\">\n",
              "      <th></th>\n",
              "      <th>Other</th>\n",
              "      <th>how</th>\n",
              "      <th>what</th>\n",
              "      <th>when</th>\n",
              "      <th>where</th>\n",
              "      <th>which</th>\n",
              "      <th>who</th>\n",
              "      <th>whom</th>\n",
              "      <th>why</th>\n",
              "    </tr>\n",
              "  </thead>\n",
              "  <tbody>\n",
              "    <tr>\n",
              "      <th>ques_category</th>\n",
              "      <td>13.732638</td>\n",
              "      <td>9.120559</td>\n",
              "      <td>51.039828</td>\n",
              "      <td>6.100836</td>\n",
              "      <td>3.491674</td>\n",
              "      <td>5.149259</td>\n",
              "      <td>9.749827</td>\n",
              "      <td>0.138132</td>\n",
              "      <td>1.477247</td>\n",
              "    </tr>\n",
              "  </tbody>\n",
              "</table>\n",
              "</div>"
            ],
            "text/plain": [
              "                   Other       how       what  ...       who      whom       why\n",
              "ques_category  13.732638  9.120559  51.039828  ...  9.749827  0.138132  1.477247\n",
              "\n",
              "[1 rows x 9 columns]"
            ]
          },
          "metadata": {
            "tags": []
          },
          "execution_count": 51
        }
      ]
    },
    {
      "cell_type": "code",
      "metadata": {
        "id": "DENVk4eyh4g4",
        "colab_type": "code",
        "colab": {
          "base_uri": "https://localhost:8080/",
          "height": 51
        },
        "outputId": "708328cb-f421-4715-9c04-5d8549ccfbc2"
      },
      "source": [
        "gcdf_idx = list(qcdf.columns)\n",
        "print(gcdf_idx)\n",
        "gcdf_idx.index('Other')"
      ],
      "execution_count": 122,
      "outputs": [
        {
          "output_type": "stream",
          "text": [
            "['Other', 'how', 'what', 'when', 'where', 'which', 'who', 'whom', 'why']\n"
          ],
          "name": "stdout"
        },
        {
          "output_type": "execute_result",
          "data": {
            "text/plain": [
              "0"
            ]
          },
          "metadata": {
            "tags": []
          },
          "execution_count": 122
        }
      ]
    },
    {
      "cell_type": "code",
      "metadata": {
        "id": "9b1VnKXYkvBb",
        "colab_type": "code",
        "colab": {}
      },
      "source": [
        "test.to_pickle(model_path + 'test_with_q-cate_a_lenth.pkl')"
      ],
      "execution_count": 146,
      "outputs": []
    },
    {
      "cell_type": "code",
      "metadata": {
        "id": "EslzVbHkZw8v",
        "colab_type": "code",
        "colab": {}
      },
      "source": [
        "def qc_results():\n",
        "  gcdf_idx = list(qcdf.columns)\n",
        "  qc_results = {'F1(Ans)': [0,0,0,0,0,0,0,0,0],\n",
        "                'EM(Ans)':[0,0,0,0,0,0,0,0,0],\n",
        "                'F1(Plau Ans)':[0,0,0,0,0,0,0,0,0],\n",
        "                'EM(Plau Ans)':[0,0,0,0,0,0,0,0,0]\n",
        "                }\n",
        "  for id in exact_raw:\n",
        "    # print(id)\n",
        "    ques_category = test[test['id'] == id]['ques_category'].iloc[0]\n",
        "    # print(ques_category)  \n",
        "    q_in = gcdf_idx.index(ques_category)\n",
        "    # print(q_in)  \n",
        "    # exact on ans\n",
        "    # print(exact_raw[id], f1_raw[id])\n",
        "    if(exact_raw[id] == 1):\n",
        "      qc_results['EM(Ans)'][q_in] = qc_results['EM(Ans)'][q_in] + 1\n",
        "    if(f1_raw[id] == 1):\n",
        "      qc_results['F1(Ans)'][q_in] = qc_results['F1(Ans)'][q_in] + 1\n",
        "    if(exact_scores_pa[id] == 1):\n",
        "      qc_results['EM(Plau Ans)'][q_in] = qc_results['EM(Plau Ans)'][q_in] + 1\n",
        "    if(f1_scores_pa[id] == 1):\n",
        "      qc_results['F1(Plau Ans)'][q_in] = qc_results['F1(Plau Ans)'][q_in] + 1\n",
        "\n",
        "    # if(np.isnan(qc_results[ques_category])):\n",
        "\n",
        "    # print(qc_results[ques_category])\n",
        "    # break\n",
        "  \n",
        "  return qc_results"
      ],
      "execution_count": 52,
      "outputs": []
    },
    {
      "cell_type": "code",
      "metadata": {
        "id": "4fPyekYXuo3L",
        "colab_type": "code",
        "colab": {
          "base_uri": "https://localhost:8080/",
          "height": 85
        },
        "outputId": "adc3d704-2b46-4295-a511-3f77c5dcdf16"
      },
      "source": [
        "bilstm_qc_results = qc_results()\n",
        "bilstm_qc_results"
      ],
      "execution_count": 53,
      "outputs": [
        {
          "output_type": "execute_result",
          "data": {
            "text/plain": [
              "{'EM(Ans)': [872, 726, 4837, 516, 280, 356, 894, 9, 135],\n",
              " 'EM(Plau Ans)': [0, 0, 0, 0, 0, 0, 0, 0, 0],\n",
              " 'F1(Ans)': [872, 726, 4837, 516, 280, 356, 894, 9, 135],\n",
              " 'F1(Plau Ans)': [0, 0, 0, 0, 0, 0, 0, 0, 0]}"
            ]
          },
          "metadata": {
            "tags": []
          },
          "execution_count": 53
        }
      ]
    },
    {
      "cell_type": "code",
      "metadata": {
        "id": "ql5YuvqhuZCw",
        "colab_type": "code",
        "colab": {
          "base_uri": "https://localhost:8080/",
          "height": 34
        },
        "outputId": "ec94b69d-b270-49d8-961e-169347348c69"
      },
      "source": [
        "loc = [m for m in list_of_models if m['id']=='bert-huggingface'][0]['loc']\n",
        "bert_results = pd.read_csv(loc)\n",
        "bert_results.loc[bert_results['answer'].isna(), 'answer'] = '' \n",
        "bert_results.loc[bert_results['plausible_answer'].isna(), 'plausible_answer'] = ''\n",
        "bert_results.loc[bert_results['prediction'].isna(), 'prediction'] = ''\n",
        "exact_raw, f1_raw, exact_scores_pa,f1_scores_pa = get_raw_scores(bert_results, bert_results['prediction'].values.tolist())\n",
        "exact, f1,exact_pa, f1_pa, total = make_eval_dict(exact_raw,f1_raw, exact_scores_pa,f1_scores_pa)  \n",
        "\n",
        "print(exact, f1,exact_pa, f1_pa, total)"
      ],
      "execution_count": 56,
      "outputs": [
        {
          "output_type": "stream",
          "text": [
            "49.76977975596654 57.513153394439584 17.753817819046887 22.158168097512167 26062\n"
          ],
          "name": "stdout"
        }
      ]
    },
    {
      "cell_type": "code",
      "metadata": {
        "id": "gv9uInScxqnf",
        "colab_type": "code",
        "colab": {
          "base_uri": "https://localhost:8080/",
          "height": 85
        },
        "outputId": "fd2d5b29-6502-4d62-c214-6fab11943ef3"
      },
      "source": [
        "bert_qc_results = qc_results()\n",
        "bert_qc_results"
      ],
      "execution_count": 58,
      "outputs": [
        {
          "output_type": "execute_result",
          "data": {
            "text/plain": [
              "{'EM(Ans)': [2015, 923, 6264, 918, 478, 837, 1384, 25, 127],\n",
              " 'EM(Plau Ans)': [524, 294, 2465, 331, 157, 220, 586, 9, 41],\n",
              " 'F1(Ans)': [2015, 923, 6264, 918, 478, 837, 1384, 25, 127],\n",
              " 'F1(Plau Ans)': [524, 294, 2465, 331, 157, 220, 586, 9, 41]}"
            ]
          },
          "metadata": {
            "tags": []
          },
          "execution_count": 58
        }
      ]
    },
    {
      "cell_type": "code",
      "metadata": {
        "id": "kUOUnFyq0BHH",
        "colab_type": "code",
        "colab": {
          "base_uri": "https://localhost:8080/",
          "height": 34
        },
        "outputId": "d21d5baa-9f60-4f1e-a704-7d420056fd20"
      },
      "source": [
        "list(qcdf.columns)"
      ],
      "execution_count": 71,
      "outputs": [
        {
          "output_type": "execute_result",
          "data": {
            "text/plain": [
              "['Other', 'how', 'what', 'when', 'where', 'which', 'who', 'whom', 'why']"
            ]
          },
          "metadata": {
            "tags": []
          },
          "execution_count": 71
        }
      ]
    },
    {
      "cell_type": "code",
      "metadata": {
        "id": "ObPWH3LPzXlF",
        "colab_type": "code",
        "colab": {
          "base_uri": "https://localhost:8080/",
          "height": 359
        },
        "outputId": "9b2fff1a-c767-4bab-d3a8-62192c4184cc"
      },
      "source": [
        "q = pd.DataFrame(data=bert_qc_results)\n",
        "q.drop(['EM(Ans)','EM(Plau Ans)'],axis=1, inplace=True)\n",
        "q.columns = ['BERT-Hugginface- F1(Ans)','BERT-Hugginface- F1(Pl Ans)']\n",
        "q['Question Category'] = qcdf.columns\n",
        "q.set_index('Question Category',inplace=True)\n",
        "q['BiLSTM-Q2C-F1(Ans)'] = bilstm_qc_results['F1(Ans)'] \n",
        "q['BiLSTM-Q2C-F1(Ans)'] = bilstm_qc_results['F1(Ans)']\n",
        "q['Question Category'] = test['ques_category'].value_counts()\n",
        "q"
      ],
      "execution_count": 101,
      "outputs": [
        {
          "output_type": "execute_result",
          "data": {
            "text/html": [
              "<div>\n",
              "<style scoped>\n",
              "    .dataframe tbody tr th:only-of-type {\n",
              "        vertical-align: middle;\n",
              "    }\n",
              "\n",
              "    .dataframe tbody tr th {\n",
              "        vertical-align: top;\n",
              "    }\n",
              "\n",
              "    .dataframe thead th {\n",
              "        text-align: right;\n",
              "    }\n",
              "</style>\n",
              "<table border=\"1\" class=\"dataframe\">\n",
              "  <thead>\n",
              "    <tr style=\"text-align: right;\">\n",
              "      <th></th>\n",
              "      <th>BERT-Hugginface- F1(Ans)</th>\n",
              "      <th>BERT-Hugginface- F1(Pl Ans)</th>\n",
              "      <th>BiLSTM-Q2C-F1(Ans)</th>\n",
              "      <th>Question Category</th>\n",
              "    </tr>\n",
              "    <tr>\n",
              "      <th>Question Category</th>\n",
              "      <th></th>\n",
              "      <th></th>\n",
              "      <th></th>\n",
              "      <th></th>\n",
              "    </tr>\n",
              "  </thead>\n",
              "  <tbody>\n",
              "    <tr>\n",
              "      <th>Other</th>\n",
              "      <td>2015</td>\n",
              "      <td>524</td>\n",
              "      <td>872</td>\n",
              "      <td>3579</td>\n",
              "    </tr>\n",
              "    <tr>\n",
              "      <th>how</th>\n",
              "      <td>923</td>\n",
              "      <td>294</td>\n",
              "      <td>726</td>\n",
              "      <td>2377</td>\n",
              "    </tr>\n",
              "    <tr>\n",
              "      <th>what</th>\n",
              "      <td>6264</td>\n",
              "      <td>2465</td>\n",
              "      <td>4837</td>\n",
              "      <td>13302</td>\n",
              "    </tr>\n",
              "    <tr>\n",
              "      <th>when</th>\n",
              "      <td>918</td>\n",
              "      <td>331</td>\n",
              "      <td>516</td>\n",
              "      <td>1590</td>\n",
              "    </tr>\n",
              "    <tr>\n",
              "      <th>where</th>\n",
              "      <td>478</td>\n",
              "      <td>157</td>\n",
              "      <td>280</td>\n",
              "      <td>910</td>\n",
              "    </tr>\n",
              "    <tr>\n",
              "      <th>which</th>\n",
              "      <td>837</td>\n",
              "      <td>220</td>\n",
              "      <td>356</td>\n",
              "      <td>1342</td>\n",
              "    </tr>\n",
              "    <tr>\n",
              "      <th>who</th>\n",
              "      <td>1384</td>\n",
              "      <td>586</td>\n",
              "      <td>894</td>\n",
              "      <td>2541</td>\n",
              "    </tr>\n",
              "    <tr>\n",
              "      <th>whom</th>\n",
              "      <td>25</td>\n",
              "      <td>9</td>\n",
              "      <td>9</td>\n",
              "      <td>36</td>\n",
              "    </tr>\n",
              "    <tr>\n",
              "      <th>why</th>\n",
              "      <td>127</td>\n",
              "      <td>41</td>\n",
              "      <td>135</td>\n",
              "      <td>385</td>\n",
              "    </tr>\n",
              "  </tbody>\n",
              "</table>\n",
              "</div>"
            ],
            "text/plain": [
              "                   BERT-Hugginface- F1(Ans)  ...  Question Category\n",
              "Question Category                            ...                   \n",
              "Other                                  2015  ...               3579\n",
              "how                                     923  ...               2377\n",
              "what                                   6264  ...              13302\n",
              "when                                    918  ...               1590\n",
              "where                                   478  ...                910\n",
              "which                                   837  ...               1342\n",
              "who                                    1384  ...               2541\n",
              "whom                                     25  ...                 36\n",
              "why                                     127  ...                385\n",
              "\n",
              "[9 rows x 4 columns]"
            ]
          },
          "metadata": {
            "tags": []
          },
          "execution_count": 101
        }
      ]
    },
    {
      "cell_type": "code",
      "metadata": {
        "id": "Ywe6NIAv32Vp",
        "colab_type": "code",
        "colab": {
          "base_uri": "https://localhost:8080/",
          "height": 337
        },
        "outputId": "bdb3b263-2357-4169-a954-413ddf2e252d"
      },
      "source": [
        "q.plot(kind='barh',figsize=(5,5))"
      ],
      "execution_count": 104,
      "outputs": [
        {
          "output_type": "execute_result",
          "data": {
            "text/plain": [
              "<matplotlib.axes._subplots.AxesSubplot at 0x7f759f1e6588>"
            ]
          },
          "metadata": {
            "tags": []
          },
          "execution_count": 104
        },
        {
          "output_type": "display_data",
          "data": {
            "image/png": "[encoded data removed]",
            "text/plain": [
              "<Figure size 360x360 with 1 Axes>"
            ]
          },
          "metadata": {
            "tags": [],
            "needs_background": "light"
          }
        }
      ]
    },
    {
      "cell_type": "code",
      "metadata": {
        "id": "ymfnh9JZG1Oi",
        "colab_type": "code",
        "colab": {}
      },
      "source": [
        "_, f1_raw_bert, _,f1_scores_pa_bert = get_raw_scores(bert_results, bert_results['prediction'].values.tolist())"
      ],
      "execution_count": 107,
      "outputs": []
    },
    {
      "cell_type": "code",
      "metadata": {
        "id": "CWIZjC93M2HK",
        "colab_type": "code",
        "colab": {}
      },
      "source": [
        "f1_raw"
      ],
      "execution_count": null,
      "outputs": []
    },
    {
      "cell_type": "code",
      "metadata": {
        "id": "5aUN_E1446YW",
        "colab_type": "code",
        "colab": {
          "base_uri": "https://localhost:8080/",
          "height": 68
        },
        "outputId": "cc690595-7508-48ad-c61b-aee1b77ded41"
      },
      "source": [
        "# 1,2,3,4, >5\n",
        "ans_length_results = {'BERT-Hugginface-F1(Ans)': [0,0,0,0,0],\n",
        "                'BERT-Hugginface-F1(Plau Ans)':[0,0,0,0,0],\n",
        "                'BiLSTM-Q2C-F1(Ans)':[0,0,0,0,0]\n",
        "                }\n",
        "for id in exact_raw:\n",
        "  # print(id)\n",
        "  ans_token_len = test[test['id'] == id]['ans_token_len'].iloc[0]  \n",
        "\n",
        "  if(f1_scores_pa_bert[id] == 1):\n",
        "    pl_ans_token_len = get_ans_token_length(test[test['id'] == id]['plausible_answer'].iloc[0])\n",
        "    if(pl_ans_token_len == 1):\n",
        "      ans_length_results['BERT-Hugginface-F1(Plau Ans)'][0] = ans_length_results['BERT-Hugginface-F1(Plau Ans)'][0] + 1       \n",
        "    elif(pl_ans_token_len == 2):\n",
        "      ans_length_results['BERT-Hugginface-F1(Plau Ans)'][1] = ans_length_results['BERT-Hugginface-F1(Plau Ans)'][1] + 1       \n",
        "    elif(pl_ans_token_len == 3):      \n",
        "      ans_length_results['BERT-Hugginface-F1(Plau Ans)'][2] = ans_length_results['BERT-Hugginface-F1(Plau Ans)'][2] + 1                \n",
        "    elif(pl_ans_token_len == 4):      \n",
        "        ans_length_results['BERT-Hugginface-F1(Plau Ans)'][3] = ans_length_results['BERT-Hugginface-F1(Plau Ans)'][3] + 1           \n",
        "    elif(pl_ans_token_len > 4):      \n",
        "        ans_length_results['BERT-Hugginface-F1(Plau Ans)'][4] = ans_length_results['BERT-Hugginface-F1(Plau Ans)'][4] + 1      \n",
        "\n",
        "  # print(ques_category)  \n",
        "  if(ans_token_len == 1):      \n",
        "    if(f1_raw[id] == 1):\n",
        "      ans_length_results['BiLSTM-Q2C-F1(Ans)'][0] = ans_length_results['BiLSTM-Q2C-F1(Ans)'][0] + 1\n",
        "    if(f1_raw_bert[id] == 1):\n",
        "      ans_length_results['BERT-Hugginface-F1(Ans)'][0] = ans_length_results['BERT-Hugginface-F1(Ans)'][0] + 1      \n",
        "  elif(ans_token_len == 2):\n",
        "    if(f1_raw[id] == 1):\n",
        "      ans_length_results['BiLSTM-Q2C-F1(Ans)'][1] = ans_length_results['BiLSTM-Q2C-F1(Ans)'][1] + 1\n",
        "    if(f1_raw_bert[id] == 1):\n",
        "      ans_length_results['BERT-Hugginface-F1(Ans)'][1] = ans_length_results['BERT-Hugginface-F1(Ans)'][1] + 1\n",
        "  elif(ans_token_len == 3): \n",
        "    if(f1_raw[id] == 1):\n",
        "      ans_length_results['BiLSTM-Q2C-F1(Ans)'][2] = ans_length_results['BiLSTM-Q2C-F1(Ans)'][2] + 1\n",
        "    if(f1_raw_bert[id] == 1):\n",
        "      ans_length_results['BERT-Hugginface-F1(Ans)'][2] = ans_length_results['BERT-Hugginface-F1(Ans)'][2] + 1\n",
        "  elif(ans_token_len == 4):\n",
        "      if(f1_raw[id] == 1):\n",
        "        ans_length_results['BiLSTM-Q2C-F1(Ans)'][3] = ans_length_results['BiLSTM-Q2C-F1(Ans)'][3] + 1\n",
        "      if(f1_raw_bert[id] == 1):\n",
        "        ans_length_results['BERT-Hugginface-F1(Ans)'][3] = ans_length_results['BERT-Hugginface-F1(Ans)'][3] + 1\n",
        "  elif(ans_token_len > 4):  \n",
        "      if(f1_raw[id] == 1):\n",
        "        ans_length_results['BiLSTM-Q2C-F1(Ans)'][4] = ans_length_results['BiLSTM-Q2C-F1(Ans)'][4] + 1\n",
        "      if(f1_raw_bert[id] == 1):\n",
        "        ans_length_results['BERT-Hugginface-F1(Ans)'][4] = ans_length_results['BERT-Hugginface-F1(Ans)'][4] + 1\n",
        "\n",
        "\n",
        "ans_length_results                "
      ],
      "execution_count": 120,
      "outputs": [
        {
          "output_type": "execute_result",
          "data": {
            "text/plain": [
              "{'BERT-Hugginface-F1(Ans)': [4883, 3527, 2031, 876, 1615],\n",
              " 'BERT-Hugginface-F1(Plau Ans)': [1758, 1187, 730, 342, 610],\n",
              " 'BiLSTM-Q2C-F1(Ans)': [3500, 0, 0, 0, 0]}"
            ]
          },
          "metadata": {
            "tags": []
          },
          "execution_count": 120
        }
      ]
    },
    {
      "cell_type": "code",
      "metadata": {
        "id": "VNCI2AJqNIEt",
        "colab_type": "code",
        "colab": {
          "base_uri": "https://localhost:8080/",
          "height": 235
        },
        "outputId": "59bbd16b-9947-4ebf-ee4e-ba809f2dec30"
      },
      "source": [
        "w = pd.DataFrame(ans_length_results)\n",
        "w['Answer length'] = ['Len 1', 'Len 2', 'Len 3', 'Len 4', 'Len > 4']\n",
        "w.set_index('Answer length',inplace=True)\n",
        "# w.drop(['BiLSTM-Q2C-F1(Ans)'],axis=1,inplace=True)\n",
        "w"
      ],
      "execution_count": 121,
      "outputs": [
        {
          "output_type": "execute_result",
          "data": {
            "text/html": [
              "<div>\n",
              "<style scoped>\n",
              "    .dataframe tbody tr th:only-of-type {\n",
              "        vertical-align: middle;\n",
              "    }\n",
              "\n",
              "    .dataframe tbody tr th {\n",
              "        vertical-align: top;\n",
              "    }\n",
              "\n",
              "    .dataframe thead th {\n",
              "        text-align: right;\n",
              "    }\n",
              "</style>\n",
              "<table border=\"1\" class=\"dataframe\">\n",
              "  <thead>\n",
              "    <tr style=\"text-align: right;\">\n",
              "      <th></th>\n",
              "      <th>BERT-Hugginface-F1(Ans)</th>\n",
              "      <th>BERT-Hugginface-F1(Plau Ans)</th>\n",
              "      <th>BiLSTM-Q2C-F1(Ans)</th>\n",
              "    </tr>\n",
              "    <tr>\n",
              "      <th>Answer length</th>\n",
              "      <th></th>\n",
              "      <th></th>\n",
              "      <th></th>\n",
              "    </tr>\n",
              "  </thead>\n",
              "  <tbody>\n",
              "    <tr>\n",
              "      <th>Len 1</th>\n",
              "      <td>4883</td>\n",
              "      <td>1758</td>\n",
              "      <td>3500</td>\n",
              "    </tr>\n",
              "    <tr>\n",
              "      <th>Len 2</th>\n",
              "      <td>3527</td>\n",
              "      <td>1187</td>\n",
              "      <td>0</td>\n",
              "    </tr>\n",
              "    <tr>\n",
              "      <th>Len 3</th>\n",
              "      <td>2031</td>\n",
              "      <td>730</td>\n",
              "      <td>0</td>\n",
              "    </tr>\n",
              "    <tr>\n",
              "      <th>Len 4</th>\n",
              "      <td>876</td>\n",
              "      <td>342</td>\n",
              "      <td>0</td>\n",
              "    </tr>\n",
              "    <tr>\n",
              "      <th>Len &gt; 4</th>\n",
              "      <td>1615</td>\n",
              "      <td>610</td>\n",
              "      <td>0</td>\n",
              "    </tr>\n",
              "  </tbody>\n",
              "</table>\n",
              "</div>"
            ],
            "text/plain": [
              "               BERT-Hugginface-F1(Ans)  ...  BiLSTM-Q2C-F1(Ans)\n",
              "Answer length                           ...                    \n",
              "Len 1                             4883  ...                3500\n",
              "Len 2                             3527  ...                   0\n",
              "Len 3                             2031  ...                   0\n",
              "Len 4                              876  ...                   0\n",
              "Len > 4                           1615  ...                   0\n",
              "\n",
              "[5 rows x 3 columns]"
            ]
          },
          "metadata": {
            "tags": []
          },
          "execution_count": 121
        }
      ]
    },
    {
      "cell_type": "code",
      "metadata": {
        "id": "kOqsKtfjOwmM",
        "colab_type": "code",
        "colab": {
          "base_uri": "https://localhost:8080/",
          "height": 337
        },
        "outputId": "faf08410-7be4-4131-f170-36c0582f35b6"
      },
      "source": [
        "w.plot(kind='barh',figsize=(8,5))"
      ],
      "execution_count": 124,
      "outputs": [
        {
          "output_type": "execute_result",
          "data": {
            "text/plain": [
              "<matplotlib.axes._subplots.AxesSubplot at 0x7f759f18cbe0>"
            ]
          },
          "metadata": {
            "tags": []
          },
          "execution_count": 124
        },
        {
          "output_type": "display_data",
          "data": {
            "image/png": "[encoded data removed]",
            "text/plain": [
              "<Figure size 576x360 with 1 Axes>"
            ]
          },
          "metadata": {
            "tags": [],
            "needs_background": "light"
          }
        }
      ]
    },
    {
      "cell_type": "markdown",
      "metadata": {
        "id": "EbehpUGXtzM-",
        "colab_type": "text"
      },
      "source": [
        "## Bar plot for model perf"
      ]
    },
    {
      "cell_type": "code",
      "metadata": {
        "id": "iPYhq9jGoNpa",
        "colab_type": "code",
        "colab": {
          "base_uri": "https://localhost:8080/",
          "height": 390
        },
        "outputId": "ceeae258-9784-4cc2-b15c-399ade944ae0"
      },
      "source": [
        "results = pd.read_csv(model_path + 'final-model_eval.csv')\n",
        "results.drop('Unnamed: 0',axis=1,inplace=True)\n",
        "results.set_index('Model Name',inplace=True)\n",
        "results"
      ],
      "execution_count": 22,
      "outputs": [
        {
          "output_type": "execute_result",
          "data": {
            "text/html": [
              "<div>\n",
              "<style scoped>\n",
              "    .dataframe tbody tr th:only-of-type {\n",
              "        vertical-align: middle;\n",
              "    }\n",
              "\n",
              "    .dataframe tbody tr th {\n",
              "        vertical-align: top;\n",
              "    }\n",
              "\n",
              "    .dataframe thead th {\n",
              "        text-align: right;\n",
              "    }\n",
              "</style>\n",
              "<table border=\"1\" class=\"dataframe\">\n",
              "  <thead>\n",
              "    <tr style=\"text-align: right;\">\n",
              "      <th></th>\n",
              "      <th>F1(Ans)</th>\n",
              "      <th>EM(Ans)</th>\n",
              "      <th>F1(Plau Ans)</th>\n",
              "      <th>EM(Plau Ans)</th>\n",
              "    </tr>\n",
              "    <tr>\n",
              "      <th>Model Name</th>\n",
              "      <th></th>\n",
              "      <th></th>\n",
              "      <th></th>\n",
              "      <th></th>\n",
              "    </tr>\n",
              "  </thead>\n",
              "  <tbody>\n",
              "    <tr>\n",
              "      <th>LSTM Baseline</th>\n",
              "      <td>29.001121</td>\n",
              "      <td>28.225002</td>\n",
              "      <td>0.214623</td>\n",
              "      <td>0.053718</td>\n",
              "    </tr>\n",
              "    <tr>\n",
              "      <th>Deep LSTM + GloVe</th>\n",
              "      <td>26.666439</td>\n",
              "      <td>26.030236</td>\n",
              "      <td>0.276301</td>\n",
              "      <td>0.069066</td>\n",
              "    </tr>\n",
              "    <tr>\n",
              "      <th>Bi-LSTM + GloVe</th>\n",
              "      <td>28.021961</td>\n",
              "      <td>27.526667</td>\n",
              "      <td>0.281106</td>\n",
              "      <td>0.126621</td>\n",
              "    </tr>\n",
              "    <tr>\n",
              "      <th>Bi-LSTM + GloVe + Q2C Attention</th>\n",
              "      <td>33.095119</td>\n",
              "      <td>33.094160</td>\n",
              "      <td>0.000000</td>\n",
              "      <td>0.000000</td>\n",
              "    </tr>\n",
              "    <tr>\n",
              "      <th>Bi-LSTM + GloVe + Q2C-C2Q Attention</th>\n",
              "      <td>29.622157</td>\n",
              "      <td>29.130535</td>\n",
              "      <td>0.200039</td>\n",
              "      <td>0.069066</td>\n",
              "    </tr>\n",
              "    <tr>\n",
              "      <th>LSTM Baseline + Universal Sentence Encode</th>\n",
              "      <td>24.545255</td>\n",
              "      <td>22.952958</td>\n",
              "      <td>0.618575</td>\n",
              "      <td>0.099762</td>\n",
              "    </tr>\n",
              "    <tr>\n",
              "      <th>Bi-LSTM + Universal Sentence Encode</th>\n",
              "      <td>32.025226</td>\n",
              "      <td>31.544010</td>\n",
              "      <td>0.068411</td>\n",
              "      <td>0.023022</td>\n",
              "    </tr>\n",
              "    <tr>\n",
              "      <th>Bi-LSTM + Q2C Attention + Universal Sentence Encode</th>\n",
              "      <td>30.695975</td>\n",
              "      <td>30.120482</td>\n",
              "      <td>0.146946</td>\n",
              "      <td>0.042207</td>\n",
              "    </tr>\n",
              "    <tr>\n",
              "      <th>BERT + Cased_L-12_H-768_A-12 + DeepPavlov</th>\n",
              "      <td>59.096928</td>\n",
              "      <td>51.362136</td>\n",
              "      <td>22.539289</td>\n",
              "      <td>18.179725</td>\n",
              "    </tr>\n",
              "    <tr>\n",
              "      <th>BERT + Uncased_L-24_H-1024_A-24 + Huggingface</th>\n",
              "      <td>57.513153</td>\n",
              "      <td>49.769780</td>\n",
              "      <td>22.158168</td>\n",
              "      <td>17.753818</td>\n",
              "    </tr>\n",
              "  </tbody>\n",
              "</table>\n",
              "</div>"
            ],
            "text/plain": [
              "                                                      F1(Ans)  ...  EM(Plau Ans)\n",
              "Model Name                                                     ...              \n",
              "LSTM Baseline                                       29.001121  ...      0.053718\n",
              "Deep LSTM + GloVe                                   26.666439  ...      0.069066\n",
              "Bi-LSTM + GloVe                                     28.021961  ...      0.126621\n",
              "Bi-LSTM + GloVe + Q2C Attention                     33.095119  ...      0.000000\n",
              "Bi-LSTM + GloVe + Q2C-C2Q Attention                 29.622157  ...      0.069066\n",
              "LSTM Baseline + Universal Sentence Encode           24.545255  ...      0.099762\n",
              "Bi-LSTM + Universal Sentence Encode                 32.025226  ...      0.023022\n",
              "Bi-LSTM + Q2C Attention + Universal Sentence En...  30.695975  ...      0.042207\n",
              "BERT + Cased_L-12_H-768_A-12 + DeepPavlov           59.096928  ...     18.179725\n",
              "BERT + Uncased_L-24_H-1024_A-24 + Huggingface       57.513153  ...     17.753818\n",
              "\n",
              "[10 rows x 4 columns]"
            ]
          },
          "metadata": {
            "tags": []
          },
          "execution_count": 22
        }
      ]
    },
    {
      "cell_type": "code",
      "metadata": {
        "id": "71Mqeqf3m3uf",
        "colab_type": "code",
        "colab": {
          "base_uri": "https://localhost:8080/",
          "height": 609
        },
        "outputId": "1d42f84e-d728-4b08-b207-6fe36fc10d50"
      },
      "source": [
        "results.plot(kind='barh',figsize=(10,10))"
      ],
      "execution_count": 17,
      "outputs": [
        {
          "output_type": "execute_result",
          "data": {
            "text/plain": [
              "<matplotlib.axes._subplots.AxesSubplot at 0x7f442f9af470>"
            ]
          },
          "metadata": {
            "tags": []
          },
          "execution_count": 17
        },
        {
          "output_type": "display_data",
          "data": {
            "image/png": "[encoded data removed]",
            "text/plain": [
              "<Figure size 720x720 with 1 Axes>"
            ]
          },
          "metadata": {
            "tags": [],
            "needs_background": "light"
          }
        }
      ]
    },
    {
      "cell_type": "code",
      "metadata": {
        "id": "OHv8BXzlnJfm",
        "colab_type": "code",
        "colab": {}
      },
      "source": [
        ""
      ],
      "execution_count": null,
      "outputs": []
    },
    {
      "cell_type": "markdown",
      "metadata": {
        "id": "pUSShzdet2sN",
        "colab_type": "text"
      },
      "source": [
        "## bAbI data evals"
      ]
    },
    {
      "cell_type": "code",
      "metadata": {
        "id": "XO4wkVFs5kwW",
        "colab_type": "code",
        "colab": {}
      },
      "source": [
        "# we will test babi for 2 models, BERT-huggingface and bilstm-glove-q2c\n"
      ],
      "execution_count": null,
      "outputs": []
    },
    {
      "cell_type": "code",
      "metadata": {
        "id": "gm0MJ2N7G_FE",
        "colab_type": "code",
        "colab": {}
      },
      "source": [
        "# load\n",
        "loc = [m for m in list_of_models if m['id']=='bilstm-glove-q2c-attention'][0]['loc']\n",
        "loc\n",
        "bilstm_glove_q2c_attention = load_mrc_model(loc)\n",
        "params = loadparams(name='params_withoutstopwords.json')\n",
        "tokenizer = load_tokenizer(name='glove')"
      ],
      "execution_count": null,
      "outputs": []
    },
    {
      "cell_type": "code",
      "metadata": {
        "id": "U99_IE30NXwB",
        "colab_type": "code",
        "colab": {}
      },
      "source": [
        "print(bilstm_glove_q2c_attention)\n",
        "print(berthugmodel)"
      ],
      "execution_count": null,
      "outputs": []
    },
    {
      "cell_type": "code",
      "metadata": {
        "id": "SGGe7pykt5lo",
        "colab_type": "code",
        "colab": {}
      },
      "source": [
        "import glob\n",
        "listofiles = glob.glob(model_path + \"bAbI-evals/*.*\")\n",
        "\n",
        "def loadBabi(f):\n",
        "  babi_1 = pd.read_csv(f,sep='\\t',names=['a','b','c','d'])\n",
        "  # print(babi_1)  \n",
        "  df = pd.DataFrame(columns=['context','question','answer','plausible_answer','prediction'])\n",
        "  c = []\n",
        "  for i in range(len(babi_1)):\n",
        "    a = babi_1['a'].iloc[i]\n",
        "    li = a.split(' ')[0]    \n",
        "    # is NaN check\n",
        "    if(babi_1['b'].iloc[i] != babi_1['b'].iloc[i]):\n",
        "      c.append(a.replace(li,'').strip())    \n",
        "\n",
        "    if(babi_1['b'].iloc[i] == babi_1['b'].iloc[i]):\n",
        "      # this is answer row\n",
        "      c_ = \"\".join(c)\n",
        "      q = babi_1['a'].iloc[i].replace(li,'').strip()\n",
        "      ans = babi_1['b'].iloc[i]\n",
        "      values = [\"\".join(c),\n",
        "                babi_1['a'].iloc[i].replace(li,'').strip(),\n",
        "                babi_1['b'].iloc[i],'']\n",
        "      zipped = zip(df.columns, values)\n",
        "      a_dictionary = dict(zipped)\n",
        "      df = df.append(a_dictionary,ignore_index=True) \n",
        "            \n",
        "    if(li == '15'):\n",
        "      c = []\n",
        "  return df "
      ],
      "execution_count": 144,
      "outputs": []
    },
    {
      "cell_type": "code",
      "metadata": {
        "id": "pmXCGXBWAy5a",
        "colab_type": "code",
        "colab": {
          "base_uri": "https://localhost:8080/",
          "height": 34
        },
        "outputId": "4bd2a641-5fad-4daa-fec9-cc8e656bbc7b"
      },
      "source": [
        "len(listofiles)"
      ],
      "execution_count": 146,
      "outputs": [
        {
          "output_type": "execute_result",
          "data": {
            "text/plain": [
              "20"
            ]
          },
          "metadata": {
            "tags": []
          },
          "execution_count": 146
        }
      ]
    },
    {
      "cell_type": "code",
      "metadata": {
        "id": "Y5lnmKlDuOlx",
        "colab_type": "code",
        "colab": {
          "base_uri": "https://localhost:8080/",
          "height": 357
        },
        "outputId": "4ce4ce4b-0903-485d-bda1-3f81f1f290d8"
      },
      "source": [
        "dfs = {}\n",
        "for file in listofiles:\n",
        "  bt = file.replace(model_path + \"bAbI-evals/\",\"\")\n",
        "  print(bt)\n",
        "  dfs[bt] = loadBabi(file)  "
      ],
      "execution_count": 158,
      "outputs": [
        {
          "output_type": "stream",
          "text": [
            "qa3_three-supporting-facts_test.txt\n",
            "qa2_two-supporting-facts_test.txt\n",
            "qa1_single-supporting-fact_test.txt\n",
            "qa19_path-finding_test.txt\n",
            "qa20_agents-motivations_test.txt\n",
            "qa18_size-reasoning_test.txt\n",
            "qa17_positional-reasoning_test.txt\n",
            "qa16_basic-induction_test.txt\n",
            "qa15_basic-deduction_test.txt\n",
            "qa13_compound-coreference_test.txt\n",
            "qa6_yes-no-questions_test.txt\n",
            "qa14_time-reasoning_test.txt\n",
            "qa12_conjunction_test.txt\n",
            "qa10_indefinite-knowledge_test.txt\n",
            "qa8_lists-sets_test.txt\n",
            "qa11_basic-coreference_test.txt\n",
            "qa9_simple-negation_test.txt\n",
            "qa7_counting_test.txt\n",
            "qa5_three-arg-relations_test.txt\n",
            "qa4_two-arg-relations_test.txt\n"
          ],
          "name": "stdout"
        }
      ]
    },
    {
      "cell_type": "code",
      "metadata": {
        "id": "S_zvySCBUo73",
        "colab_type": "code",
        "colab": {
          "base_uri": "https://localhost:8080/",
          "height": 34
        },
        "outputId": "aa4a11ed-79bb-4f85-c487-2a55fc918db6"
      },
      "source": [
        "len(dfs)"
      ],
      "execution_count": 159,
      "outputs": [
        {
          "output_type": "execute_result",
          "data": {
            "text/plain": [
              "20"
            ]
          },
          "metadata": {
            "tags": []
          },
          "execution_count": 159
        }
      ]
    },
    {
      "cell_type": "code",
      "metadata": {
        "id": "44_evqnYOMMF",
        "colab_type": "code",
        "colab": {
          "base_uri": "https://localhost:8080/",
          "height": 697
        },
        "outputId": "3f1a7b8e-a833-4dd8-da56-5d04846ae2eb"
      },
      "source": [
        "babi_model_results_bilstm = pd.DataFrame(columns=['bAbI task','F1(Ans)','EM(Ans)','F1(Plau Ans)','EM(Plau Ans)'])\n",
        "babi_model_results_bert = pd.DataFrame(columns=['bAbI task','F1(Ans)','EM(Ans)','F1(Plau Ans)','EM(Plau Ans)'])\n",
        "\n",
        "for bt in dfs:\n",
        "  test = dfs[bt]\n",
        "  # topkenizer and params is already loaded above \n",
        "  print('bAbI Evaluation for ', bt.replace('_test.txt',\"\"))\n",
        "  test_context_sequence, test_question_sequence = generate_question_context_sequence(context=test[\"context\"].values,\n",
        "                                question=test[\"question\"].values,\n",
        "                                question_max_length=params['question_max_length'],\n",
        "                                padding=params['question_pad_seq'],\n",
        "                                context_max_length=params['context_max_length']\n",
        "                                )  \n",
        "  y_prediction = bilstm_glove_q2c_attention.predict([test_question_sequence,test_context_sequence])\n",
        "  y_prediction_new,start_pred,end_pred = combine_y(y_prediction,test.shape[0])\n",
        "  # acc_score,macro_f1_score,micro_f1_score = accuracy_metrics(y_test_new,y_prediction_new)\n",
        "  y_pred_text = generate_y_preds_text(test,start_pred,end_pred)\n",
        "  exact_raw, f1_raw, exact_scores_pa,f1_scores_pa = get_raw_scores(test, y_pred_text)\n",
        "  exact, f1,exact_pa, f1_pa, total = make_eval_dict(exact_raw,f1_raw, exact_scores_pa,f1_scores_pa)\n",
        "  values = [bt.replace('_test.txt',\"\"),              \n",
        "            f1,\n",
        "            exact,\n",
        "            f1_pa,\n",
        "            exact_pa]\n",
        "  zipped = zip(babi_model_results_bilstm.columns, values)\n",
        "  a_dictionary = dict(zipped)\n",
        "  babi_model_results_bilstm = babi_model_results_bilstm.append(a_dictionary,ignore_index=True) \n",
        "  "
      ],
      "execution_count": 164,
      "outputs": [
        {
          "output_type": "stream",
          "text": [
            "bAbI Evaluation for  qa3_three-supporting-facts\n"
          ],
          "name": "stdout"
        },
        {
          "output_type": "stream",
          "text": [
            "100%|██████████| 1000/1000 [00:01<00:00, 956.66it/s]\n"
          ],
          "name": "stderr"
        },
        {
          "output_type": "stream",
          "text": [
            "bAbI Evaluation for  qa2_two-supporting-facts\n"
          ],
          "name": "stdout"
        },
        {
          "output_type": "stream",
          "text": [
            "100%|██████████| 1000/1000 [00:00<00:00, 2395.66it/s]\n"
          ],
          "name": "stderr"
        },
        {
          "output_type": "stream",
          "text": [
            "bAbI Evaluation for  qa1_single-supporting-fact\n"
          ],
          "name": "stdout"
        },
        {
          "output_type": "stream",
          "text": [
            "100%|██████████| 1000/1000 [00:00<00:00, 3259.55it/s]\n"
          ],
          "name": "stderr"
        },
        {
          "output_type": "stream",
          "text": [
            "bAbI Evaluation for  qa19_path-finding\n"
          ],
          "name": "stdout"
        },
        {
          "output_type": "stream",
          "text": [
            "100%|██████████| 1000/1000 [01:04<00:00, 15.50it/s]\n"
          ],
          "name": "stderr"
        },
        {
          "output_type": "stream",
          "text": [
            "bAbI Evaluation for  qa20_agents-motivations\n"
          ],
          "name": "stdout"
        },
        {
          "output_type": "stream",
          "text": [
            "100%|██████████| 1000/1000 [00:00<00:00, 3929.58it/s]\n"
          ],
          "name": "stderr"
        },
        {
          "output_type": "stream",
          "text": [
            "bAbI Evaluation for  qa18_size-reasoning\n"
          ],
          "name": "stdout"
        },
        {
          "output_type": "stream",
          "text": [
            "100%|██████████| 1000/1000 [00:00<00:00, 1254.50it/s]\n"
          ],
          "name": "stderr"
        },
        {
          "output_type": "stream",
          "text": [
            "bAbI Evaluation for  qa17_positional-reasoning\n"
          ],
          "name": "stdout"
        },
        {
          "output_type": "stream",
          "text": [
            "100%|██████████| 1000/1000 [00:04<00:00, 230.26it/s]\n"
          ],
          "name": "stderr"
        },
        {
          "output_type": "stream",
          "text": [
            "bAbI Evaluation for  qa16_basic-induction\n"
          ],
          "name": "stdout"
        },
        {
          "output_type": "stream",
          "text": [
            "100%|██████████| 1000/1000 [00:55<00:00, 18.11it/s]\n"
          ],
          "name": "stderr"
        },
        {
          "output_type": "stream",
          "text": [
            "bAbI Evaluation for  qa15_basic-deduction\n"
          ],
          "name": "stdout"
        },
        {
          "output_type": "stream",
          "text": [
            "100%|██████████| 1000/1000 [00:16<00:00, 61.50it/s]\n"
          ],
          "name": "stderr"
        },
        {
          "output_type": "stream",
          "text": [
            "bAbI Evaluation for  qa13_compound-coreference\n"
          ],
          "name": "stdout"
        },
        {
          "output_type": "stream",
          "text": [
            "100%|██████████| 1000/1000 [00:00<00:00, 2942.16it/s]\n"
          ],
          "name": "stderr"
        },
        {
          "output_type": "stream",
          "text": [
            "bAbI Evaluation for  qa6_yes-no-questions\n"
          ],
          "name": "stdout"
        },
        {
          "output_type": "stream",
          "text": [
            "100%|██████████| 1000/1000 [00:00<00:00, 3446.47it/s]\n"
          ],
          "name": "stderr"
        },
        {
          "output_type": "stream",
          "text": [
            "bAbI Evaluation for  qa14_time-reasoning\n"
          ],
          "name": "stdout"
        },
        {
          "output_type": "stream",
          "text": [
            "100%|██████████| 1000/1000 [00:00<00:00, 2746.33it/s]\n"
          ],
          "name": "stderr"
        },
        {
          "output_type": "stream",
          "text": [
            "bAbI Evaluation for  qa12_conjunction\n"
          ],
          "name": "stdout"
        },
        {
          "output_type": "stream",
          "text": [
            "100%|██████████| 1000/1000 [00:00<00:00, 2796.36it/s]\n"
          ],
          "name": "stderr"
        },
        {
          "output_type": "stream",
          "text": [
            "bAbI Evaluation for  qa10_indefinite-knowledge\n"
          ],
          "name": "stdout"
        },
        {
          "output_type": "stream",
          "text": [
            "100%|██████████| 1000/1000 [00:00<00:00, 3206.66it/s]\n"
          ],
          "name": "stderr"
        },
        {
          "output_type": "stream",
          "text": [
            "bAbI Evaluation for  qa8_lists-sets\n"
          ],
          "name": "stdout"
        },
        {
          "output_type": "stream",
          "text": [
            "100%|██████████| 1000/1000 [00:00<00:00, 2908.72it/s]\n"
          ],
          "name": "stderr"
        },
        {
          "output_type": "stream",
          "text": [
            "bAbI Evaluation for  qa11_basic-coreference\n"
          ],
          "name": "stdout"
        },
        {
          "output_type": "stream",
          "text": [
            "100%|██████████| 1000/1000 [00:00<00:00, 3158.40it/s]\n"
          ],
          "name": "stderr"
        },
        {
          "output_type": "stream",
          "text": [
            "bAbI Evaluation for  qa9_simple-negation\n"
          ],
          "name": "stdout"
        },
        {
          "output_type": "stream",
          "text": [
            "100%|██████████| 1000/1000 [00:00<00:00, 3527.46it/s]\n"
          ],
          "name": "stderr"
        },
        {
          "output_type": "stream",
          "text": [
            "bAbI Evaluation for  qa7_counting\n"
          ],
          "name": "stdout"
        },
        {
          "output_type": "stream",
          "text": [
            "100%|██████████| 1000/1000 [00:00<00:00, 3062.60it/s]\n"
          ],
          "name": "stderr"
        },
        {
          "output_type": "stream",
          "text": [
            "bAbI Evaluation for  qa5_three-arg-relations\n"
          ],
          "name": "stdout"
        },
        {
          "output_type": "stream",
          "text": [
            "100%|██████████| 1000/1000 [00:00<00:00, 2081.31it/s]\n"
          ],
          "name": "stderr"
        },
        {
          "output_type": "stream",
          "text": [
            "bAbI Evaluation for  qa4_two-arg-relations\n"
          ],
          "name": "stdout"
        },
        {
          "output_type": "stream",
          "text": [
            "100%|██████████| 1000/1000 [00:24<00:00, 40.01it/s]\n"
          ],
          "name": "stderr"
        }
      ]
    },
    {
      "cell_type": "code",
      "metadata": {
        "id": "bBNXvif8VlPC",
        "colab_type": "code",
        "colab": {
          "base_uri": "https://localhost:8080/",
          "height": 669
        },
        "outputId": "503bae3c-8d87-478d-fd62-405ed65daa04"
      },
      "source": [
        "babi_model_results_bilstm"
      ],
      "execution_count": 165,
      "outputs": [
        {
          "output_type": "execute_result",
          "data": {
            "text/html": [
              "<div>\n",
              "<style scoped>\n",
              "    .dataframe tbody tr th:only-of-type {\n",
              "        vertical-align: middle;\n",
              "    }\n",
              "\n",
              "    .dataframe tbody tr th {\n",
              "        vertical-align: top;\n",
              "    }\n",
              "\n",
              "    .dataframe thead th {\n",
              "        text-align: right;\n",
              "    }\n",
              "</style>\n",
              "<table border=\"1\" class=\"dataframe\">\n",
              "  <thead>\n",
              "    <tr style=\"text-align: right;\">\n",
              "      <th></th>\n",
              "      <th>bAbI task</th>\n",
              "      <th>F1(Ans)</th>\n",
              "      <th>EM(Ans)</th>\n",
              "      <th>F1(Plau Ans)</th>\n",
              "      <th>EM(Plau Ans)</th>\n",
              "    </tr>\n",
              "  </thead>\n",
              "  <tbody>\n",
              "    <tr>\n",
              "      <th>0</th>\n",
              "      <td>qa3_three-supporting-facts</td>\n",
              "      <td>0.0</td>\n",
              "      <td>0.0</td>\n",
              "      <td>0.0</td>\n",
              "      <td>0.0</td>\n",
              "    </tr>\n",
              "    <tr>\n",
              "      <th>1</th>\n",
              "      <td>qa2_two-supporting-facts</td>\n",
              "      <td>0.0</td>\n",
              "      <td>0.0</td>\n",
              "      <td>0.0</td>\n",
              "      <td>0.0</td>\n",
              "    </tr>\n",
              "    <tr>\n",
              "      <th>2</th>\n",
              "      <td>qa1_single-supporting-fact</td>\n",
              "      <td>0.0</td>\n",
              "      <td>0.0</td>\n",
              "      <td>0.0</td>\n",
              "      <td>0.0</td>\n",
              "    </tr>\n",
              "    <tr>\n",
              "      <th>3</th>\n",
              "      <td>qa19_path-finding</td>\n",
              "      <td>0.0</td>\n",
              "      <td>0.0</td>\n",
              "      <td>0.0</td>\n",
              "      <td>0.0</td>\n",
              "    </tr>\n",
              "    <tr>\n",
              "      <th>4</th>\n",
              "      <td>qa20_agents-motivations</td>\n",
              "      <td>0.0</td>\n",
              "      <td>0.0</td>\n",
              "      <td>0.0</td>\n",
              "      <td>0.0</td>\n",
              "    </tr>\n",
              "    <tr>\n",
              "      <th>5</th>\n",
              "      <td>qa18_size-reasoning</td>\n",
              "      <td>0.0</td>\n",
              "      <td>0.0</td>\n",
              "      <td>0.0</td>\n",
              "      <td>0.0</td>\n",
              "    </tr>\n",
              "    <tr>\n",
              "      <th>6</th>\n",
              "      <td>qa17_positional-reasoning</td>\n",
              "      <td>0.0</td>\n",
              "      <td>0.0</td>\n",
              "      <td>0.0</td>\n",
              "      <td>0.0</td>\n",
              "    </tr>\n",
              "    <tr>\n",
              "      <th>7</th>\n",
              "      <td>qa16_basic-induction</td>\n",
              "      <td>0.0</td>\n",
              "      <td>0.0</td>\n",
              "      <td>0.0</td>\n",
              "      <td>0.0</td>\n",
              "    </tr>\n",
              "    <tr>\n",
              "      <th>8</th>\n",
              "      <td>qa15_basic-deduction</td>\n",
              "      <td>0.0</td>\n",
              "      <td>0.0</td>\n",
              "      <td>0.0</td>\n",
              "      <td>0.0</td>\n",
              "    </tr>\n",
              "    <tr>\n",
              "      <th>9</th>\n",
              "      <td>qa13_compound-coreference</td>\n",
              "      <td>0.0</td>\n",
              "      <td>0.0</td>\n",
              "      <td>0.0</td>\n",
              "      <td>0.0</td>\n",
              "    </tr>\n",
              "    <tr>\n",
              "      <th>10</th>\n",
              "      <td>qa6_yes-no-questions</td>\n",
              "      <td>0.0</td>\n",
              "      <td>0.0</td>\n",
              "      <td>0.0</td>\n",
              "      <td>0.0</td>\n",
              "    </tr>\n",
              "    <tr>\n",
              "      <th>11</th>\n",
              "      <td>qa14_time-reasoning</td>\n",
              "      <td>0.0</td>\n",
              "      <td>0.0</td>\n",
              "      <td>0.0</td>\n",
              "      <td>0.0</td>\n",
              "    </tr>\n",
              "    <tr>\n",
              "      <th>12</th>\n",
              "      <td>qa12_conjunction</td>\n",
              "      <td>0.0</td>\n",
              "      <td>0.0</td>\n",
              "      <td>0.0</td>\n",
              "      <td>0.0</td>\n",
              "    </tr>\n",
              "    <tr>\n",
              "      <th>13</th>\n",
              "      <td>qa10_indefinite-knowledge</td>\n",
              "      <td>0.0</td>\n",
              "      <td>0.0</td>\n",
              "      <td>0.0</td>\n",
              "      <td>0.0</td>\n",
              "    </tr>\n",
              "    <tr>\n",
              "      <th>14</th>\n",
              "      <td>qa8_lists-sets</td>\n",
              "      <td>0.0</td>\n",
              "      <td>0.0</td>\n",
              "      <td>0.0</td>\n",
              "      <td>0.0</td>\n",
              "    </tr>\n",
              "    <tr>\n",
              "      <th>15</th>\n",
              "      <td>qa11_basic-coreference</td>\n",
              "      <td>0.0</td>\n",
              "      <td>0.0</td>\n",
              "      <td>0.0</td>\n",
              "      <td>0.0</td>\n",
              "    </tr>\n",
              "    <tr>\n",
              "      <th>16</th>\n",
              "      <td>qa9_simple-negation</td>\n",
              "      <td>0.0</td>\n",
              "      <td>0.0</td>\n",
              "      <td>0.0</td>\n",
              "      <td>0.0</td>\n",
              "    </tr>\n",
              "    <tr>\n",
              "      <th>17</th>\n",
              "      <td>qa7_counting</td>\n",
              "      <td>0.0</td>\n",
              "      <td>0.0</td>\n",
              "      <td>0.0</td>\n",
              "      <td>0.0</td>\n",
              "    </tr>\n",
              "    <tr>\n",
              "      <th>18</th>\n",
              "      <td>qa5_three-arg-relations</td>\n",
              "      <td>0.0</td>\n",
              "      <td>0.0</td>\n",
              "      <td>0.0</td>\n",
              "      <td>0.0</td>\n",
              "    </tr>\n",
              "    <tr>\n",
              "      <th>19</th>\n",
              "      <td>qa4_two-arg-relations</td>\n",
              "      <td>0.0</td>\n",
              "      <td>0.0</td>\n",
              "      <td>0.0</td>\n",
              "      <td>0.0</td>\n",
              "    </tr>\n",
              "  </tbody>\n",
              "</table>\n",
              "</div>"
            ],
            "text/plain": [
              "                     bAbI task  F1(Ans)  EM(Ans)  F1(Plau Ans)  EM(Plau Ans)\n",
              "0   qa3_three-supporting-facts      0.0      0.0           0.0           0.0\n",
              "1     qa2_two-supporting-facts      0.0      0.0           0.0           0.0\n",
              "2   qa1_single-supporting-fact      0.0      0.0           0.0           0.0\n",
              "3            qa19_path-finding      0.0      0.0           0.0           0.0\n",
              "4      qa20_agents-motivations      0.0      0.0           0.0           0.0\n",
              "5          qa18_size-reasoning      0.0      0.0           0.0           0.0\n",
              "6    qa17_positional-reasoning      0.0      0.0           0.0           0.0\n",
              "7         qa16_basic-induction      0.0      0.0           0.0           0.0\n",
              "8         qa15_basic-deduction      0.0      0.0           0.0           0.0\n",
              "9    qa13_compound-coreference      0.0      0.0           0.0           0.0\n",
              "10        qa6_yes-no-questions      0.0      0.0           0.0           0.0\n",
              "11         qa14_time-reasoning      0.0      0.0           0.0           0.0\n",
              "12            qa12_conjunction      0.0      0.0           0.0           0.0\n",
              "13   qa10_indefinite-knowledge      0.0      0.0           0.0           0.0\n",
              "14              qa8_lists-sets      0.0      0.0           0.0           0.0\n",
              "15      qa11_basic-coreference      0.0      0.0           0.0           0.0\n",
              "16         qa9_simple-negation      0.0      0.0           0.0           0.0\n",
              "17                qa7_counting      0.0      0.0           0.0           0.0\n",
              "18     qa5_three-arg-relations      0.0      0.0           0.0           0.0\n",
              "19       qa4_two-arg-relations      0.0      0.0           0.0           0.0"
            ]
          },
          "metadata": {
            "tags": []
          },
          "execution_count": 165
        }
      ]
    },
    {
      "cell_type": "code",
      "metadata": {
        "id": "B7jaCYRMZDzU",
        "colab_type": "code",
        "colab": {}
      },
      "source": [
        "babi_model_results_bert = pd.DataFrame(columns=['bAbI task','F1(Ans)','EM(Ans)','F1(Plau Ans)','EM(Plau Ans)'])\n",
        "\n",
        "for bt in dfs:\n",
        "  test = dfs[bt]\n",
        "  # topkenizer and params is already loaded above \n",
        "  print('bAbI Evaluation for ', bt.replace('_test.txt',\"\"))\n",
        "  preds = []\n",
        "  for i in tqdm(range(test.shape[0])):\n",
        "    try:\n",
        "      p = ''\n",
        "      p = predBERTHuggingface(test['question'].iloc[i],test['context'].iloc[i])\n",
        "    except:\n",
        "      print('error in prediction')\n",
        "    preds = preds + [p]\n",
        "  test['prediction'] = preds\n",
        "  exact_raw, f1_raw, exact_scores_pa,f1_scores_pa = get_raw_scores(test, test['prediction'].values.tolist())\n",
        "  exact, f1,exact_pa, f1_pa, total = make_eval_dict(exact_raw,f1_raw, exact_scores_pa,f1_scores_pa)      \n",
        "  values = [bt.replace('_test.txt',\"\"),              \n",
        "            f1,\n",
        "            exact,\n",
        "            f1_pa,\n",
        "            exact_pa]\n",
        "  zipped = zip(babi_model_results_bert.columns, values)\n",
        "  a_dictionary = dict(zipped)\n",
        "  babi_model_results_bert = babi_model_results_bert.append(a_dictionary,ignore_index=True) \n",
        "  break"
      ],
      "execution_count": null,
      "outputs": []
    },
    {
      "cell_type": "code",
      "metadata": {
        "id": "qBjmDKb9bQVG",
        "colab_type": "code",
        "colab": {
          "base_uri": "https://localhost:8080/",
          "height": 555
        },
        "outputId": "82f10089-261f-431b-8398-68d498076208"
      },
      "source": [
        "test"
      ],
      "execution_count": 170,
      "outputs": [
        {
          "output_type": "execute_result",
          "data": {
            "text/html": [
              "<div>\n",
              "<style scoped>\n",
              "    .dataframe tbody tr th:only-of-type {\n",
              "        vertical-align: middle;\n",
              "    }\n",
              "\n",
              "    .dataframe tbody tr th {\n",
              "        vertical-align: top;\n",
              "    }\n",
              "\n",
              "    .dataframe thead th {\n",
              "        text-align: right;\n",
              "    }\n",
              "</style>\n",
              "<table border=\"1\" class=\"dataframe\">\n",
              "  <thead>\n",
              "    <tr style=\"text-align: right;\">\n",
              "      <th></th>\n",
              "      <th>context</th>\n",
              "      <th>question</th>\n",
              "      <th>answer</th>\n",
              "      <th>plausible_answer</th>\n",
              "      <th>prediction</th>\n",
              "    </tr>\n",
              "  </thead>\n",
              "  <tbody>\n",
              "    <tr>\n",
              "      <th>0</th>\n",
              "      <td>Daniel left the football there.Daniel took the...</td>\n",
              "      <td>Where was the apple before the bathroom?</td>\n",
              "      <td>office</td>\n",
              "      <td></td>\n",
              "      <td></td>\n",
              "    </tr>\n",
              "    <tr>\n",
              "      <th>1</th>\n",
              "      <td>Daniel left the football there.Daniel took the...</td>\n",
              "      <td>Where was the apple before the hallway?</td>\n",
              "      <td>office</td>\n",
              "      <td></td>\n",
              "      <td></td>\n",
              "    </tr>\n",
              "    <tr>\n",
              "      <th>2</th>\n",
              "      <td>Daniel left the football there.Daniel took the...</td>\n",
              "      <td>Where was the apple before the hallway?</td>\n",
              "      <td>office</td>\n",
              "      <td></td>\n",
              "      <td></td>\n",
              "    </tr>\n",
              "    <tr>\n",
              "      <th>3</th>\n",
              "      <td>Daniel left the football there.Daniel took the...</td>\n",
              "      <td>Where was the football before the garden?</td>\n",
              "      <td>bathroom</td>\n",
              "      <td></td>\n",
              "      <td></td>\n",
              "    </tr>\n",
              "    <tr>\n",
              "      <th>4</th>\n",
              "      <td>Daniel left the football there.Daniel took the...</td>\n",
              "      <td>Where was the football before the garden?</td>\n",
              "      <td>bathroom</td>\n",
              "      <td></td>\n",
              "      <td></td>\n",
              "    </tr>\n",
              "    <tr>\n",
              "      <th>...</th>\n",
              "      <td>...</td>\n",
              "      <td>...</td>\n",
              "      <td>...</td>\n",
              "      <td>...</td>\n",
              "      <td>...</td>\n",
              "    </tr>\n",
              "    <tr>\n",
              "      <th>995</th>\n",
              "      <td>Daniel went to the bedroom.John grabbed the mi...</td>\n",
              "      <td>Where was the apple before the office?</td>\n",
              "      <td>hallway</td>\n",
              "      <td></td>\n",
              "      <td></td>\n",
              "    </tr>\n",
              "    <tr>\n",
              "      <th>996</th>\n",
              "      <td>Daniel went to the bedroom.John grabbed the mi...</td>\n",
              "      <td>Where was the apple before the office?</td>\n",
              "      <td>hallway</td>\n",
              "      <td></td>\n",
              "      <td></td>\n",
              "    </tr>\n",
              "    <tr>\n",
              "      <th>997</th>\n",
              "      <td>Daniel went to the bedroom.John grabbed the mi...</td>\n",
              "      <td>Where was the milk before the kitchen?</td>\n",
              "      <td>bedroom</td>\n",
              "      <td></td>\n",
              "      <td></td>\n",
              "    </tr>\n",
              "    <tr>\n",
              "      <th>998</th>\n",
              "      <td>Daniel went to the bedroom.John grabbed the mi...</td>\n",
              "      <td>Where was the football before the garden?</td>\n",
              "      <td>bathroom</td>\n",
              "      <td></td>\n",
              "      <td></td>\n",
              "    </tr>\n",
              "    <tr>\n",
              "      <th>999</th>\n",
              "      <td>Daniel went to the bedroom.John grabbed the mi...</td>\n",
              "      <td>Where was the football before the garden?</td>\n",
              "      <td>bathroom</td>\n",
              "      <td></td>\n",
              "      <td></td>\n",
              "    </tr>\n",
              "  </tbody>\n",
              "</table>\n",
              "<p>1000 rows × 5 columns</p>\n",
              "</div>"
            ],
            "text/plain": [
              "                                               context  ... prediction\n",
              "0    Daniel left the football there.Daniel took the...  ...           \n",
              "1    Daniel left the football there.Daniel took the...  ...           \n",
              "2    Daniel left the football there.Daniel took the...  ...           \n",
              "3    Daniel left the football there.Daniel took the...  ...           \n",
              "4    Daniel left the football there.Daniel took the...  ...           \n",
              "..                                                 ...  ...        ...\n",
              "995  Daniel went to the bedroom.John grabbed the mi...  ...           \n",
              "996  Daniel went to the bedroom.John grabbed the mi...  ...           \n",
              "997  Daniel went to the bedroom.John grabbed the mi...  ...           \n",
              "998  Daniel went to the bedroom.John grabbed the mi...  ...           \n",
              "999  Daniel went to the bedroom.John grabbed the mi...  ...           \n",
              "\n",
              "[1000 rows x 5 columns]"
            ]
          },
          "metadata": {
            "tags": []
          },
          "execution_count": 170
        }
      ]
    },
    {
      "cell_type": "code",
      "metadata": {
        "id": "5iU1dtOQbhQz",
        "colab_type": "code",
        "colab": {}
      },
      "source": [
        ""
      ],
      "execution_count": null,
      "outputs": []
    }
  ]
}